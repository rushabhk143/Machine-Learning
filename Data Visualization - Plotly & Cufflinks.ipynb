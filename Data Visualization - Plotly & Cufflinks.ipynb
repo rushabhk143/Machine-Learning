{
 "cells": [
  {
   "cell_type": "code",
   "execution_count": 1,
   "id": "cc59eeb6",
   "metadata": {},
   "outputs": [],
   "source": [
    "import pandas as pd"
   ]
  },
  {
   "cell_type": "code",
   "execution_count": 2,
   "id": "6550521e",
   "metadata": {},
   "outputs": [],
   "source": [
    "import numpy as np\n",
    "%matplotlib inline"
   ]
  },
  {
   "cell_type": "code",
   "execution_count": 3,
   "id": "8a46abfe",
   "metadata": {},
   "outputs": [],
   "source": [
    "from plotly import __version__"
   ]
  },
  {
   "cell_type": "code",
   "execution_count": 4,
   "id": "e738ba17",
   "metadata": {},
   "outputs": [],
   "source": [
    "import cufflinks as cf"
   ]
  },
  {
   "cell_type": "code",
   "execution_count": 5,
   "id": "b58808a6",
   "metadata": {},
   "outputs": [],
   "source": [
    "from plotly.offline import download_plotlyjs,init_notebook_mode,plot,iplot"
   ]
  },
  {
   "cell_type": "code",
   "execution_count": 6,
   "id": "68d3034a",
   "metadata": {},
   "outputs": [
    {
     "data": {
      "text/html": [
       "        <script type=\"text/javascript\">\n",
       "        window.PlotlyConfig = {MathJaxConfig: 'local'};\n",
       "        if (window.MathJax && window.MathJax.Hub && window.MathJax.Hub.Config) {window.MathJax.Hub.Config({SVG: {font: \"STIX-Web\"}});}\n",
       "        if (typeof require !== 'undefined') {\n",
       "        require.undef(\"plotly\");\n",
       "        requirejs.config({\n",
       "            paths: {\n",
       "                'plotly': ['https://cdn.plot.ly/plotly-2.12.1.min']\n",
       "            }\n",
       "        });\n",
       "        require(['plotly'], function(Plotly) {\n",
       "            window._Plotly = Plotly;\n",
       "        });\n",
       "        }\n",
       "        </script>\n",
       "        "
      ]
     },
     "metadata": {},
     "output_type": "display_data"
    }
   ],
   "source": [
    "#For Notebooks\n",
    "\n",
    "init_notebook_mode(connected=True)"
   ]
  },
  {
   "cell_type": "code",
   "execution_count": 7,
   "id": "1aab95c5",
   "metadata": {},
   "outputs": [
    {
     "data": {
      "text/html": [
       "        <script type=\"text/javascript\">\n",
       "        window.PlotlyConfig = {MathJaxConfig: 'local'};\n",
       "        if (window.MathJax && window.MathJax.Hub && window.MathJax.Hub.Config) {window.MathJax.Hub.Config({SVG: {font: \"STIX-Web\"}});}\n",
       "        if (typeof require !== 'undefined') {\n",
       "        require.undef(\"plotly\");\n",
       "        requirejs.config({\n",
       "            paths: {\n",
       "                'plotly': ['https://cdn.plot.ly/plotly-2.12.1.min']\n",
       "            }\n",
       "        });\n",
       "        require(['plotly'], function(Plotly) {\n",
       "            window._Plotly = Plotly;\n",
       "        });\n",
       "        }\n",
       "        </script>\n",
       "        "
      ]
     },
     "metadata": {},
     "output_type": "display_data"
    }
   ],
   "source": [
    "#For Offline Use\n",
    "\n",
    "cf.go_offline()"
   ]
  },
  {
   "cell_type": "code",
   "execution_count": 8,
   "id": "4577f1bb",
   "metadata": {},
   "outputs": [],
   "source": [
    "df = pd.DataFrame(np.random.randn(100,4),columns='A B C D'.split())"
   ]
  },
  {
   "cell_type": "code",
   "execution_count": 9,
   "id": "7145ba58",
   "metadata": {},
   "outputs": [
    {
     "data": {
      "text/html": [
       "<div>\n",
       "<style scoped>\n",
       "    .dataframe tbody tr th:only-of-type {\n",
       "        vertical-align: middle;\n",
       "    }\n",
       "\n",
       "    .dataframe tbody tr th {\n",
       "        vertical-align: top;\n",
       "    }\n",
       "\n",
       "    .dataframe thead th {\n",
       "        text-align: right;\n",
       "    }\n",
       "</style>\n",
       "<table border=\"1\" class=\"dataframe\">\n",
       "  <thead>\n",
       "    <tr style=\"text-align: right;\">\n",
       "      <th></th>\n",
       "      <th>A</th>\n",
       "      <th>B</th>\n",
       "      <th>C</th>\n",
       "      <th>D</th>\n",
       "    </tr>\n",
       "  </thead>\n",
       "  <tbody>\n",
       "    <tr>\n",
       "      <th>0</th>\n",
       "      <td>0.150179</td>\n",
       "      <td>0.329246</td>\n",
       "      <td>0.890916</td>\n",
       "      <td>1.223870</td>\n",
       "    </tr>\n",
       "    <tr>\n",
       "      <th>1</th>\n",
       "      <td>-0.175691</td>\n",
       "      <td>-0.141139</td>\n",
       "      <td>-1.558527</td>\n",
       "      <td>0.265902</td>\n",
       "    </tr>\n",
       "    <tr>\n",
       "      <th>2</th>\n",
       "      <td>0.138567</td>\n",
       "      <td>1.069083</td>\n",
       "      <td>-1.848893</td>\n",
       "      <td>0.534878</td>\n",
       "    </tr>\n",
       "    <tr>\n",
       "      <th>3</th>\n",
       "      <td>0.721958</td>\n",
       "      <td>-0.567001</td>\n",
       "      <td>-0.649458</td>\n",
       "      <td>-0.515242</td>\n",
       "    </tr>\n",
       "    <tr>\n",
       "      <th>4</th>\n",
       "      <td>0.021030</td>\n",
       "      <td>1.591858</td>\n",
       "      <td>1.128087</td>\n",
       "      <td>0.795782</td>\n",
       "    </tr>\n",
       "  </tbody>\n",
       "</table>\n",
       "</div>"
      ],
      "text/plain": [
       "          A         B         C         D\n",
       "0  0.150179  0.329246  0.890916  1.223870\n",
       "1 -0.175691 -0.141139 -1.558527  0.265902\n",
       "2  0.138567  1.069083 -1.848893  0.534878\n",
       "3  0.721958 -0.567001 -0.649458 -0.515242\n",
       "4  0.021030  1.591858  1.128087  0.795782"
      ]
     },
     "execution_count": 9,
     "metadata": {},
     "output_type": "execute_result"
    }
   ],
   "source": [
    "df.head()"
   ]
  },
  {
   "cell_type": "code",
   "execution_count": 10,
   "id": "4f5cbb0a",
   "metadata": {},
   "outputs": [],
   "source": [
    "df2 = pd.DataFrame({'Category':['A','B','C'],'Values':[32,43,50]})"
   ]
  },
  {
   "cell_type": "code",
   "execution_count": 11,
   "id": "ff31f1df",
   "metadata": {},
   "outputs": [
    {
     "data": {
      "text/html": [
       "<div>\n",
       "<style scoped>\n",
       "    .dataframe tbody tr th:only-of-type {\n",
       "        vertical-align: middle;\n",
       "    }\n",
       "\n",
       "    .dataframe tbody tr th {\n",
       "        vertical-align: top;\n",
       "    }\n",
       "\n",
       "    .dataframe thead th {\n",
       "        text-align: right;\n",
       "    }\n",
       "</style>\n",
       "<table border=\"1\" class=\"dataframe\">\n",
       "  <thead>\n",
       "    <tr style=\"text-align: right;\">\n",
       "      <th></th>\n",
       "      <th>Category</th>\n",
       "      <th>Values</th>\n",
       "    </tr>\n",
       "  </thead>\n",
       "  <tbody>\n",
       "    <tr>\n",
       "      <th>0</th>\n",
       "      <td>A</td>\n",
       "      <td>32</td>\n",
       "    </tr>\n",
       "    <tr>\n",
       "      <th>1</th>\n",
       "      <td>B</td>\n",
       "      <td>43</td>\n",
       "    </tr>\n",
       "    <tr>\n",
       "      <th>2</th>\n",
       "      <td>C</td>\n",
       "      <td>50</td>\n",
       "    </tr>\n",
       "  </tbody>\n",
       "</table>\n",
       "</div>"
      ],
      "text/plain": [
       "  Category  Values\n",
       "0        A      32\n",
       "1        B      43\n",
       "2        C      50"
      ]
     },
     "execution_count": 11,
     "metadata": {},
     "output_type": "execute_result"
    }
   ],
   "source": [
    "df2.head()"
   ]
  },
  {
   "cell_type": "code",
   "execution_count": 12,
   "id": "2ec4aa17",
   "metadata": {},
   "outputs": [
    {
     "data": {
      "application/vnd.plotly.v1+json": {
       "config": {
        "linkText": "Export to plot.ly",
        "plotlyServerURL": "https://plot.ly",
        "showLink": true
       },
       "data": [
        {
         "line": {
          "color": "rgba(255, 153, 51, 1.0)",
          "dash": "solid",
          "shape": "linear",
          "width": 1.3
         },
         "marker": {
          "size": 10,
          "symbol": "circle"
         },
         "mode": "markers",
         "name": "B",
         "text": "",
         "type": "scatter",
         "x": [
          0.1501788668840338,
          -0.1756913710375011,
          0.13856736719365398,
          0.7219578807852828,
          0.02103035712203404,
          0.05372994782000095,
          -0.8597786699749488,
          -1.436764515074958,
          0.09773770467735642,
          -0.5090109468773343,
          0.058444993463366686,
          0.1528818965232011,
          -0.054374732419699146,
          -0.5195914547970374,
          -1.6451919722324309,
          -0.4078752816447025,
          1.7196902722861414,
          1.1277768696275943,
          -0.16700661819317372,
          0.4344680307743496,
          -0.4533598135068671,
          -0.17821655659170996,
          -0.5483023401387696,
          1.0642240577556783,
          0.15666741152753014,
          -2.296016560442535,
          1.6924661296080639,
          0.6072904612083375,
          0.6583268747437102,
          0.0232092808315366,
          0.25505441923380395,
          -1.7884002052880084,
          -1.0271998449996689,
          -1.3800108277280776,
          -0.3196999975289513,
          1.212423910875223,
          -0.8631824306196343,
          0.14045007863442893,
          0.03772705519209731,
          0.8741708927574366,
          -0.8956255423448548,
          0.5595218806674672,
          -0.13978226703197763,
          -1.3522532012187982,
          -0.11901794011161884,
          1.4943615882517902,
          -0.9021970825018301,
          -0.4943366411747155,
          0.5487766844925248,
          -0.2844232877660867,
          0.8340903018578912,
          -1.702365901238491,
          -0.7100490330331606,
          0.6674682457214097,
          -0.14091751691325238,
          -2.6175899502714532,
          -1.602147770857257,
          -0.7486305439753811,
          -0.6238082510908618,
          -0.9765058142343359,
          0.8819257132329856,
          -0.8444708401609161,
          1.3290859983817334,
          -0.33125058588237893,
          -2.4943073578839736,
          -0.09846938938603009,
          1.6319181413388584,
          0.2877837487161706,
          0.05661978916823122,
          0.19196078383633894,
          0.45447543421148245,
          -0.7471721117926763,
          0.5768918461100573,
          -0.42479111088633664,
          -2.6587930187849484,
          -0.879206416879864,
          -1.584685197756789,
          0.9913181768573425,
          0.6935908952151667,
          0.6174070873913775,
          -0.6594441738825568,
          -0.9226163312478916,
          0.9072689218965913,
          -3.4618100598071324,
          -2.8996735525378363,
          0.14764029916770435,
          -0.9304743038902059,
          -0.09148425443751493,
          -0.6947510262830392,
          0.48761583192883556,
          -0.8300069322754731,
          0.9919919641210598,
          -1.3828189356306078,
          -0.0436640865499939,
          -0.2851681411662788,
          1.6435752977827398,
          0.05788619121298352,
          0.5726843717948871,
          -0.8708498105504946,
          1.0442243483732725
         ],
         "y": [
          0.3292464980445286,
          -0.1411389303037044,
          1.0690826737668286,
          -0.5670008289594736,
          1.5918584383121732,
          -0.49735820558161664,
          0.853020526947463,
          1.094407718690676,
          0.32727080169252115,
          -1.2226688074822474,
          2.686372841230928,
          -0.7662833800546549,
          -1.672436568832668,
          -0.3932022977635248,
          0.03263859066046469,
          -1.6761171971533155,
          -1.564322177542407,
          0.8727530667077585,
          2.8459920842255357,
          0.041262651325481056,
          0.6020364391158644,
          -1.274285368129067,
          0.37739388783722166,
          1.785008130491707,
          -1.0332839242660679,
          2.4939486777155886,
          0.981165538761148,
          0.9876494450648611,
          -1.392722155984482,
          -0.23872920769288078,
          1.4825111094062309,
          -0.8719477402420855,
          -0.8640186070736904,
          1.7498728402472519,
          0.5725682033786544,
          0.49847970058576085,
          0.4628575656278747,
          -0.06871206586372626,
          -0.14184373613844153,
          0.43328186425755827,
          -0.10749451342931048,
          -0.9398187865832206,
          -0.5251347550124181,
          1.635891869597316,
          -0.8844918823837958,
          -0.9090407559913615,
          0.519238719064138,
          -0.7090769497362426,
          0.8398486786419308,
          -0.2876594525112121,
          -0.882125919272093,
          0.04716098700964254,
          0.7473021164945799,
          -0.6205957612381642,
          0.07659494095782203,
          0.3029419326610615,
          -0.1457543020500506,
          -1.0147955229958847,
          -0.5348542967183831,
          -0.8781239565468124,
          -2.1411910267869123,
          -1.1388955510062049,
          -0.8087615847592627,
          -0.2994886393800132,
          -1.550632994942883,
          -0.07855287087348586,
          -0.09139415769032651,
          -0.3900148067474229,
          0.7748252201143693,
          -1.5355808667892057,
          -2.1694692520872296,
          -0.8250853605787378,
          0.3846735791487371,
          0.17890267605846233,
          -1.4735750220184796,
          0.07437116478387093,
          0.9218685071691737,
          -0.8205867482611652,
          0.5115358062357684,
          -1.2857938547393777,
          0.31221253198721455,
          -0.08234276520286833,
          0.4526207498721831,
          -0.4473360992885767,
          0.5766023641817422,
          -1.550026086832909,
          -0.7197254653986882,
          -0.2890094987331318,
          -0.9484949964302272,
          1.4749208841491077,
          0.8279588679944496,
          -0.2497528713488217,
          -0.7188559976596786,
          0.3947502727196581,
          -0.852203625860959,
          -0.4713126121808178,
          0.4880404775087967,
          -1.5681301594317518,
          -1.4119016649251277,
          0.0676585355782195
         ]
        }
       ],
       "layout": {
        "legend": {
         "bgcolor": "#F5F6F9",
         "font": {
          "color": "#4D5663"
         }
        },
        "paper_bgcolor": "#F5F6F9",
        "plot_bgcolor": "#F5F6F9",
        "template": {
         "data": {
          "bar": [
           {
            "error_x": {
             "color": "#2a3f5f"
            },
            "error_y": {
             "color": "#2a3f5f"
            },
            "marker": {
             "line": {
              "color": "#E5ECF6",
              "width": 0.5
             },
             "pattern": {
              "fillmode": "overlay",
              "size": 10,
              "solidity": 0.2
             }
            },
            "type": "bar"
           }
          ],
          "barpolar": [
           {
            "marker": {
             "line": {
              "color": "#E5ECF6",
              "width": 0.5
             },
             "pattern": {
              "fillmode": "overlay",
              "size": 10,
              "solidity": 0.2
             }
            },
            "type": "barpolar"
           }
          ],
          "carpet": [
           {
            "aaxis": {
             "endlinecolor": "#2a3f5f",
             "gridcolor": "white",
             "linecolor": "white",
             "minorgridcolor": "white",
             "startlinecolor": "#2a3f5f"
            },
            "baxis": {
             "endlinecolor": "#2a3f5f",
             "gridcolor": "white",
             "linecolor": "white",
             "minorgridcolor": "white",
             "startlinecolor": "#2a3f5f"
            },
            "type": "carpet"
           }
          ],
          "choropleth": [
           {
            "colorbar": {
             "outlinewidth": 0,
             "ticks": ""
            },
            "type": "choropleth"
           }
          ],
          "contour": [
           {
            "colorbar": {
             "outlinewidth": 0,
             "ticks": ""
            },
            "colorscale": [
             [
              0,
              "#0d0887"
             ],
             [
              0.1111111111111111,
              "#46039f"
             ],
             [
              0.2222222222222222,
              "#7201a8"
             ],
             [
              0.3333333333333333,
              "#9c179e"
             ],
             [
              0.4444444444444444,
              "#bd3786"
             ],
             [
              0.5555555555555556,
              "#d8576b"
             ],
             [
              0.6666666666666666,
              "#ed7953"
             ],
             [
              0.7777777777777778,
              "#fb9f3a"
             ],
             [
              0.8888888888888888,
              "#fdca26"
             ],
             [
              1,
              "#f0f921"
             ]
            ],
            "type": "contour"
           }
          ],
          "contourcarpet": [
           {
            "colorbar": {
             "outlinewidth": 0,
             "ticks": ""
            },
            "type": "contourcarpet"
           }
          ],
          "heatmap": [
           {
            "colorbar": {
             "outlinewidth": 0,
             "ticks": ""
            },
            "colorscale": [
             [
              0,
              "#0d0887"
             ],
             [
              0.1111111111111111,
              "#46039f"
             ],
             [
              0.2222222222222222,
              "#7201a8"
             ],
             [
              0.3333333333333333,
              "#9c179e"
             ],
             [
              0.4444444444444444,
              "#bd3786"
             ],
             [
              0.5555555555555556,
              "#d8576b"
             ],
             [
              0.6666666666666666,
              "#ed7953"
             ],
             [
              0.7777777777777778,
              "#fb9f3a"
             ],
             [
              0.8888888888888888,
              "#fdca26"
             ],
             [
              1,
              "#f0f921"
             ]
            ],
            "type": "heatmap"
           }
          ],
          "heatmapgl": [
           {
            "colorbar": {
             "outlinewidth": 0,
             "ticks": ""
            },
            "colorscale": [
             [
              0,
              "#0d0887"
             ],
             [
              0.1111111111111111,
              "#46039f"
             ],
             [
              0.2222222222222222,
              "#7201a8"
             ],
             [
              0.3333333333333333,
              "#9c179e"
             ],
             [
              0.4444444444444444,
              "#bd3786"
             ],
             [
              0.5555555555555556,
              "#d8576b"
             ],
             [
              0.6666666666666666,
              "#ed7953"
             ],
             [
              0.7777777777777778,
              "#fb9f3a"
             ],
             [
              0.8888888888888888,
              "#fdca26"
             ],
             [
              1,
              "#f0f921"
             ]
            ],
            "type": "heatmapgl"
           }
          ],
          "histogram": [
           {
            "marker": {
             "pattern": {
              "fillmode": "overlay",
              "size": 10,
              "solidity": 0.2
             }
            },
            "type": "histogram"
           }
          ],
          "histogram2d": [
           {
            "colorbar": {
             "outlinewidth": 0,
             "ticks": ""
            },
            "colorscale": [
             [
              0,
              "#0d0887"
             ],
             [
              0.1111111111111111,
              "#46039f"
             ],
             [
              0.2222222222222222,
              "#7201a8"
             ],
             [
              0.3333333333333333,
              "#9c179e"
             ],
             [
              0.4444444444444444,
              "#bd3786"
             ],
             [
              0.5555555555555556,
              "#d8576b"
             ],
             [
              0.6666666666666666,
              "#ed7953"
             ],
             [
              0.7777777777777778,
              "#fb9f3a"
             ],
             [
              0.8888888888888888,
              "#fdca26"
             ],
             [
              1,
              "#f0f921"
             ]
            ],
            "type": "histogram2d"
           }
          ],
          "histogram2dcontour": [
           {
            "colorbar": {
             "outlinewidth": 0,
             "ticks": ""
            },
            "colorscale": [
             [
              0,
              "#0d0887"
             ],
             [
              0.1111111111111111,
              "#46039f"
             ],
             [
              0.2222222222222222,
              "#7201a8"
             ],
             [
              0.3333333333333333,
              "#9c179e"
             ],
             [
              0.4444444444444444,
              "#bd3786"
             ],
             [
              0.5555555555555556,
              "#d8576b"
             ],
             [
              0.6666666666666666,
              "#ed7953"
             ],
             [
              0.7777777777777778,
              "#fb9f3a"
             ],
             [
              0.8888888888888888,
              "#fdca26"
             ],
             [
              1,
              "#f0f921"
             ]
            ],
            "type": "histogram2dcontour"
           }
          ],
          "mesh3d": [
           {
            "colorbar": {
             "outlinewidth": 0,
             "ticks": ""
            },
            "type": "mesh3d"
           }
          ],
          "parcoords": [
           {
            "line": {
             "colorbar": {
              "outlinewidth": 0,
              "ticks": ""
             }
            },
            "type": "parcoords"
           }
          ],
          "pie": [
           {
            "automargin": true,
            "type": "pie"
           }
          ],
          "scatter": [
           {
            "fillpattern": {
             "fillmode": "overlay",
             "size": 10,
             "solidity": 0.2
            },
            "type": "scatter"
           }
          ],
          "scatter3d": [
           {
            "line": {
             "colorbar": {
              "outlinewidth": 0,
              "ticks": ""
             }
            },
            "marker": {
             "colorbar": {
              "outlinewidth": 0,
              "ticks": ""
             }
            },
            "type": "scatter3d"
           }
          ],
          "scattercarpet": [
           {
            "marker": {
             "colorbar": {
              "outlinewidth": 0,
              "ticks": ""
             }
            },
            "type": "scattercarpet"
           }
          ],
          "scattergeo": [
           {
            "marker": {
             "colorbar": {
              "outlinewidth": 0,
              "ticks": ""
             }
            },
            "type": "scattergeo"
           }
          ],
          "scattergl": [
           {
            "marker": {
             "colorbar": {
              "outlinewidth": 0,
              "ticks": ""
             }
            },
            "type": "scattergl"
           }
          ],
          "scattermapbox": [
           {
            "marker": {
             "colorbar": {
              "outlinewidth": 0,
              "ticks": ""
             }
            },
            "type": "scattermapbox"
           }
          ],
          "scatterpolar": [
           {
            "marker": {
             "colorbar": {
              "outlinewidth": 0,
              "ticks": ""
             }
            },
            "type": "scatterpolar"
           }
          ],
          "scatterpolargl": [
           {
            "marker": {
             "colorbar": {
              "outlinewidth": 0,
              "ticks": ""
             }
            },
            "type": "scatterpolargl"
           }
          ],
          "scatterternary": [
           {
            "marker": {
             "colorbar": {
              "outlinewidth": 0,
              "ticks": ""
             }
            },
            "type": "scatterternary"
           }
          ],
          "surface": [
           {
            "colorbar": {
             "outlinewidth": 0,
             "ticks": ""
            },
            "colorscale": [
             [
              0,
              "#0d0887"
             ],
             [
              0.1111111111111111,
              "#46039f"
             ],
             [
              0.2222222222222222,
              "#7201a8"
             ],
             [
              0.3333333333333333,
              "#9c179e"
             ],
             [
              0.4444444444444444,
              "#bd3786"
             ],
             [
              0.5555555555555556,
              "#d8576b"
             ],
             [
              0.6666666666666666,
              "#ed7953"
             ],
             [
              0.7777777777777778,
              "#fb9f3a"
             ],
             [
              0.8888888888888888,
              "#fdca26"
             ],
             [
              1,
              "#f0f921"
             ]
            ],
            "type": "surface"
           }
          ],
          "table": [
           {
            "cells": {
             "fill": {
              "color": "#EBF0F8"
             },
             "line": {
              "color": "white"
             }
            },
            "header": {
             "fill": {
              "color": "#C8D4E3"
             },
             "line": {
              "color": "white"
             }
            },
            "type": "table"
           }
          ]
         },
         "layout": {
          "annotationdefaults": {
           "arrowcolor": "#2a3f5f",
           "arrowhead": 0,
           "arrowwidth": 1
          },
          "autotypenumbers": "strict",
          "coloraxis": {
           "colorbar": {
            "outlinewidth": 0,
            "ticks": ""
           }
          },
          "colorscale": {
           "diverging": [
            [
             0,
             "#8e0152"
            ],
            [
             0.1,
             "#c51b7d"
            ],
            [
             0.2,
             "#de77ae"
            ],
            [
             0.3,
             "#f1b6da"
            ],
            [
             0.4,
             "#fde0ef"
            ],
            [
             0.5,
             "#f7f7f7"
            ],
            [
             0.6,
             "#e6f5d0"
            ],
            [
             0.7,
             "#b8e186"
            ],
            [
             0.8,
             "#7fbc41"
            ],
            [
             0.9,
             "#4d9221"
            ],
            [
             1,
             "#276419"
            ]
           ],
           "sequential": [
            [
             0,
             "#0d0887"
            ],
            [
             0.1111111111111111,
             "#46039f"
            ],
            [
             0.2222222222222222,
             "#7201a8"
            ],
            [
             0.3333333333333333,
             "#9c179e"
            ],
            [
             0.4444444444444444,
             "#bd3786"
            ],
            [
             0.5555555555555556,
             "#d8576b"
            ],
            [
             0.6666666666666666,
             "#ed7953"
            ],
            [
             0.7777777777777778,
             "#fb9f3a"
            ],
            [
             0.8888888888888888,
             "#fdca26"
            ],
            [
             1,
             "#f0f921"
            ]
           ],
           "sequentialminus": [
            [
             0,
             "#0d0887"
            ],
            [
             0.1111111111111111,
             "#46039f"
            ],
            [
             0.2222222222222222,
             "#7201a8"
            ],
            [
             0.3333333333333333,
             "#9c179e"
            ],
            [
             0.4444444444444444,
             "#bd3786"
            ],
            [
             0.5555555555555556,
             "#d8576b"
            ],
            [
             0.6666666666666666,
             "#ed7953"
            ],
            [
             0.7777777777777778,
             "#fb9f3a"
            ],
            [
             0.8888888888888888,
             "#fdca26"
            ],
            [
             1,
             "#f0f921"
            ]
           ]
          },
          "colorway": [
           "#636efa",
           "#EF553B",
           "#00cc96",
           "#ab63fa",
           "#FFA15A",
           "#19d3f3",
           "#FF6692",
           "#B6E880",
           "#FF97FF",
           "#FECB52"
          ],
          "font": {
           "color": "#2a3f5f"
          },
          "geo": {
           "bgcolor": "white",
           "lakecolor": "white",
           "landcolor": "#E5ECF6",
           "showlakes": true,
           "showland": true,
           "subunitcolor": "white"
          },
          "hoverlabel": {
           "align": "left"
          },
          "hovermode": "closest",
          "mapbox": {
           "style": "light"
          },
          "paper_bgcolor": "white",
          "plot_bgcolor": "#E5ECF6",
          "polar": {
           "angularaxis": {
            "gridcolor": "white",
            "linecolor": "white",
            "ticks": ""
           },
           "bgcolor": "#E5ECF6",
           "radialaxis": {
            "gridcolor": "white",
            "linecolor": "white",
            "ticks": ""
           }
          },
          "scene": {
           "xaxis": {
            "backgroundcolor": "#E5ECF6",
            "gridcolor": "white",
            "gridwidth": 2,
            "linecolor": "white",
            "showbackground": true,
            "ticks": "",
            "zerolinecolor": "white"
           },
           "yaxis": {
            "backgroundcolor": "#E5ECF6",
            "gridcolor": "white",
            "gridwidth": 2,
            "linecolor": "white",
            "showbackground": true,
            "ticks": "",
            "zerolinecolor": "white"
           },
           "zaxis": {
            "backgroundcolor": "#E5ECF6",
            "gridcolor": "white",
            "gridwidth": 2,
            "linecolor": "white",
            "showbackground": true,
            "ticks": "",
            "zerolinecolor": "white"
           }
          },
          "shapedefaults": {
           "line": {
            "color": "#2a3f5f"
           }
          },
          "ternary": {
           "aaxis": {
            "gridcolor": "white",
            "linecolor": "white",
            "ticks": ""
           },
           "baxis": {
            "gridcolor": "white",
            "linecolor": "white",
            "ticks": ""
           },
           "bgcolor": "#E5ECF6",
           "caxis": {
            "gridcolor": "white",
            "linecolor": "white",
            "ticks": ""
           }
          },
          "title": {
           "x": 0.05
          },
          "xaxis": {
           "automargin": true,
           "gridcolor": "white",
           "linecolor": "white",
           "ticks": "",
           "title": {
            "standoff": 15
           },
           "zerolinecolor": "white",
           "zerolinewidth": 2
          },
          "yaxis": {
           "automargin": true,
           "gridcolor": "white",
           "linecolor": "white",
           "ticks": "",
           "title": {
            "standoff": 15
           },
           "zerolinecolor": "white",
           "zerolinewidth": 2
          }
         }
        },
        "title": {
         "font": {
          "color": "#4D5663"
         }
        },
        "xaxis": {
         "gridcolor": "#E1E5ED",
         "showgrid": true,
         "tickfont": {
          "color": "#4D5663"
         },
         "title": {
          "font": {
           "color": "#4D5663"
          },
          "text": ""
         },
         "zerolinecolor": "#E1E5ED"
        },
        "yaxis": {
         "gridcolor": "#E1E5ED",
         "showgrid": true,
         "tickfont": {
          "color": "#4D5663"
         },
         "title": {
          "font": {
           "color": "#4D5663"
          },
          "text": ""
         },
         "zerolinecolor": "#E1E5ED"
        }
       }
      },
      "text/html": [
       "<div>                            <div id=\"a8350d4c-a7c5-4038-b9a2-4ab8c63a20f4\" class=\"plotly-graph-div\" style=\"height:525px; width:100%;\"></div>            <script type=\"text/javascript\">                require([\"plotly\"], function(Plotly) {                    window.PLOTLYENV=window.PLOTLYENV || {};\n",
       "                    window.PLOTLYENV.BASE_URL='https://plot.ly';                                    if (document.getElementById(\"a8350d4c-a7c5-4038-b9a2-4ab8c63a20f4\")) {                    Plotly.newPlot(                        \"a8350d4c-a7c5-4038-b9a2-4ab8c63a20f4\",                        [{\"line\":{\"color\":\"rgba(255, 153, 51, 1.0)\",\"dash\":\"solid\",\"shape\":\"linear\",\"width\":1.3},\"marker\":{\"size\":10,\"symbol\":\"circle\"},\"mode\":\"markers\",\"name\":\"B\",\"text\":\"\",\"x\":[0.1501788668840338,-0.1756913710375011,0.13856736719365398,0.7219578807852828,0.02103035712203404,0.05372994782000095,-0.8597786699749488,-1.436764515074958,0.09773770467735642,-0.5090109468773343,0.058444993463366686,0.1528818965232011,-0.054374732419699146,-0.5195914547970374,-1.6451919722324309,-0.4078752816447025,1.7196902722861414,1.1277768696275943,-0.16700661819317372,0.4344680307743496,-0.4533598135068671,-0.17821655659170996,-0.5483023401387696,1.0642240577556783,0.15666741152753014,-2.296016560442535,1.6924661296080639,0.6072904612083375,0.6583268747437102,0.0232092808315366,0.25505441923380395,-1.7884002052880084,-1.0271998449996689,-1.3800108277280776,-0.3196999975289513,1.212423910875223,-0.8631824306196343,0.14045007863442893,0.03772705519209731,0.8741708927574366,-0.8956255423448548,0.5595218806674672,-0.13978226703197763,-1.3522532012187982,-0.11901794011161884,1.4943615882517902,-0.9021970825018301,-0.4943366411747155,0.5487766844925248,-0.2844232877660867,0.8340903018578912,-1.702365901238491,-0.7100490330331606,0.6674682457214097,-0.14091751691325238,-2.6175899502714532,-1.602147770857257,-0.7486305439753811,-0.6238082510908618,-0.9765058142343359,0.8819257132329856,-0.8444708401609161,1.3290859983817334,-0.33125058588237893,-2.4943073578839736,-0.09846938938603009,1.6319181413388584,0.2877837487161706,0.05661978916823122,0.19196078383633894,0.45447543421148245,-0.7471721117926763,0.5768918461100573,-0.42479111088633664,-2.6587930187849484,-0.879206416879864,-1.584685197756789,0.9913181768573425,0.6935908952151667,0.6174070873913775,-0.6594441738825568,-0.9226163312478916,0.9072689218965913,-3.4618100598071324,-2.8996735525378363,0.14764029916770435,-0.9304743038902059,-0.09148425443751493,-0.6947510262830392,0.48761583192883556,-0.8300069322754731,0.9919919641210598,-1.3828189356306078,-0.0436640865499939,-0.2851681411662788,1.6435752977827398,0.05788619121298352,0.5726843717948871,-0.8708498105504946,1.0442243483732725],\"y\":[0.3292464980445286,-0.1411389303037044,1.0690826737668286,-0.5670008289594736,1.5918584383121732,-0.49735820558161664,0.853020526947463,1.094407718690676,0.32727080169252115,-1.2226688074822474,2.686372841230928,-0.7662833800546549,-1.672436568832668,-0.3932022977635248,0.03263859066046469,-1.6761171971533155,-1.564322177542407,0.8727530667077585,2.8459920842255357,0.041262651325481056,0.6020364391158644,-1.274285368129067,0.37739388783722166,1.785008130491707,-1.0332839242660679,2.4939486777155886,0.981165538761148,0.9876494450648611,-1.392722155984482,-0.23872920769288078,1.4825111094062309,-0.8719477402420855,-0.8640186070736904,1.7498728402472519,0.5725682033786544,0.49847970058576085,0.4628575656278747,-0.06871206586372626,-0.14184373613844153,0.43328186425755827,-0.10749451342931048,-0.9398187865832206,-0.5251347550124181,1.635891869597316,-0.8844918823837958,-0.9090407559913615,0.519238719064138,-0.7090769497362426,0.8398486786419308,-0.2876594525112121,-0.882125919272093,0.04716098700964254,0.7473021164945799,-0.6205957612381642,0.07659494095782203,0.3029419326610615,-0.1457543020500506,-1.0147955229958847,-0.5348542967183831,-0.8781239565468124,-2.1411910267869123,-1.1388955510062049,-0.8087615847592627,-0.2994886393800132,-1.550632994942883,-0.07855287087348586,-0.09139415769032651,-0.3900148067474229,0.7748252201143693,-1.5355808667892057,-2.1694692520872296,-0.8250853605787378,0.3846735791487371,0.17890267605846233,-1.4735750220184796,0.07437116478387093,0.9218685071691737,-0.8205867482611652,0.5115358062357684,-1.2857938547393777,0.31221253198721455,-0.08234276520286833,0.4526207498721831,-0.4473360992885767,0.5766023641817422,-1.550026086832909,-0.7197254653986882,-0.2890094987331318,-0.9484949964302272,1.4749208841491077,0.8279588679944496,-0.2497528713488217,-0.7188559976596786,0.3947502727196581,-0.852203625860959,-0.4713126121808178,0.4880404775087967,-1.5681301594317518,-1.4119016649251277,0.0676585355782195],\"type\":\"scatter\"}],                        {\"legend\":{\"bgcolor\":\"#F5F6F9\",\"font\":{\"color\":\"#4D5663\"}},\"paper_bgcolor\":\"#F5F6F9\",\"plot_bgcolor\":\"#F5F6F9\",\"template\":{\"data\":{\"barpolar\":[{\"marker\":{\"line\":{\"color\":\"#E5ECF6\",\"width\":0.5},\"pattern\":{\"fillmode\":\"overlay\",\"size\":10,\"solidity\":0.2}},\"type\":\"barpolar\"}],\"bar\":[{\"error_x\":{\"color\":\"#2a3f5f\"},\"error_y\":{\"color\":\"#2a3f5f\"},\"marker\":{\"line\":{\"color\":\"#E5ECF6\",\"width\":0.5},\"pattern\":{\"fillmode\":\"overlay\",\"size\":10,\"solidity\":0.2}},\"type\":\"bar\"}],\"carpet\":[{\"aaxis\":{\"endlinecolor\":\"#2a3f5f\",\"gridcolor\":\"white\",\"linecolor\":\"white\",\"minorgridcolor\":\"white\",\"startlinecolor\":\"#2a3f5f\"},\"baxis\":{\"endlinecolor\":\"#2a3f5f\",\"gridcolor\":\"white\",\"linecolor\":\"white\",\"minorgridcolor\":\"white\",\"startlinecolor\":\"#2a3f5f\"},\"type\":\"carpet\"}],\"choropleth\":[{\"colorbar\":{\"outlinewidth\":0,\"ticks\":\"\"},\"type\":\"choropleth\"}],\"contourcarpet\":[{\"colorbar\":{\"outlinewidth\":0,\"ticks\":\"\"},\"type\":\"contourcarpet\"}],\"contour\":[{\"colorbar\":{\"outlinewidth\":0,\"ticks\":\"\"},\"colorscale\":[[0.0,\"#0d0887\"],[0.1111111111111111,\"#46039f\"],[0.2222222222222222,\"#7201a8\"],[0.3333333333333333,\"#9c179e\"],[0.4444444444444444,\"#bd3786\"],[0.5555555555555556,\"#d8576b\"],[0.6666666666666666,\"#ed7953\"],[0.7777777777777778,\"#fb9f3a\"],[0.8888888888888888,\"#fdca26\"],[1.0,\"#f0f921\"]],\"type\":\"contour\"}],\"heatmapgl\":[{\"colorbar\":{\"outlinewidth\":0,\"ticks\":\"\"},\"colorscale\":[[0.0,\"#0d0887\"],[0.1111111111111111,\"#46039f\"],[0.2222222222222222,\"#7201a8\"],[0.3333333333333333,\"#9c179e\"],[0.4444444444444444,\"#bd3786\"],[0.5555555555555556,\"#d8576b\"],[0.6666666666666666,\"#ed7953\"],[0.7777777777777778,\"#fb9f3a\"],[0.8888888888888888,\"#fdca26\"],[1.0,\"#f0f921\"]],\"type\":\"heatmapgl\"}],\"heatmap\":[{\"colorbar\":{\"outlinewidth\":0,\"ticks\":\"\"},\"colorscale\":[[0.0,\"#0d0887\"],[0.1111111111111111,\"#46039f\"],[0.2222222222222222,\"#7201a8\"],[0.3333333333333333,\"#9c179e\"],[0.4444444444444444,\"#bd3786\"],[0.5555555555555556,\"#d8576b\"],[0.6666666666666666,\"#ed7953\"],[0.7777777777777778,\"#fb9f3a\"],[0.8888888888888888,\"#fdca26\"],[1.0,\"#f0f921\"]],\"type\":\"heatmap\"}],\"histogram2dcontour\":[{\"colorbar\":{\"outlinewidth\":0,\"ticks\":\"\"},\"colorscale\":[[0.0,\"#0d0887\"],[0.1111111111111111,\"#46039f\"],[0.2222222222222222,\"#7201a8\"],[0.3333333333333333,\"#9c179e\"],[0.4444444444444444,\"#bd3786\"],[0.5555555555555556,\"#d8576b\"],[0.6666666666666666,\"#ed7953\"],[0.7777777777777778,\"#fb9f3a\"],[0.8888888888888888,\"#fdca26\"],[1.0,\"#f0f921\"]],\"type\":\"histogram2dcontour\"}],\"histogram2d\":[{\"colorbar\":{\"outlinewidth\":0,\"ticks\":\"\"},\"colorscale\":[[0.0,\"#0d0887\"],[0.1111111111111111,\"#46039f\"],[0.2222222222222222,\"#7201a8\"],[0.3333333333333333,\"#9c179e\"],[0.4444444444444444,\"#bd3786\"],[0.5555555555555556,\"#d8576b\"],[0.6666666666666666,\"#ed7953\"],[0.7777777777777778,\"#fb9f3a\"],[0.8888888888888888,\"#fdca26\"],[1.0,\"#f0f921\"]],\"type\":\"histogram2d\"}],\"histogram\":[{\"marker\":{\"pattern\":{\"fillmode\":\"overlay\",\"size\":10,\"solidity\":0.2}},\"type\":\"histogram\"}],\"mesh3d\":[{\"colorbar\":{\"outlinewidth\":0,\"ticks\":\"\"},\"type\":\"mesh3d\"}],\"parcoords\":[{\"line\":{\"colorbar\":{\"outlinewidth\":0,\"ticks\":\"\"}},\"type\":\"parcoords\"}],\"pie\":[{\"automargin\":true,\"type\":\"pie\"}],\"scatter3d\":[{\"line\":{\"colorbar\":{\"outlinewidth\":0,\"ticks\":\"\"}},\"marker\":{\"colorbar\":{\"outlinewidth\":0,\"ticks\":\"\"}},\"type\":\"scatter3d\"}],\"scattercarpet\":[{\"marker\":{\"colorbar\":{\"outlinewidth\":0,\"ticks\":\"\"}},\"type\":\"scattercarpet\"}],\"scattergeo\":[{\"marker\":{\"colorbar\":{\"outlinewidth\":0,\"ticks\":\"\"}},\"type\":\"scattergeo\"}],\"scattergl\":[{\"marker\":{\"colorbar\":{\"outlinewidth\":0,\"ticks\":\"\"}},\"type\":\"scattergl\"}],\"scattermapbox\":[{\"marker\":{\"colorbar\":{\"outlinewidth\":0,\"ticks\":\"\"}},\"type\":\"scattermapbox\"}],\"scatterpolargl\":[{\"marker\":{\"colorbar\":{\"outlinewidth\":0,\"ticks\":\"\"}},\"type\":\"scatterpolargl\"}],\"scatterpolar\":[{\"marker\":{\"colorbar\":{\"outlinewidth\":0,\"ticks\":\"\"}},\"type\":\"scatterpolar\"}],\"scatter\":[{\"fillpattern\":{\"fillmode\":\"overlay\",\"size\":10,\"solidity\":0.2},\"type\":\"scatter\"}],\"scatterternary\":[{\"marker\":{\"colorbar\":{\"outlinewidth\":0,\"ticks\":\"\"}},\"type\":\"scatterternary\"}],\"surface\":[{\"colorbar\":{\"outlinewidth\":0,\"ticks\":\"\"},\"colorscale\":[[0.0,\"#0d0887\"],[0.1111111111111111,\"#46039f\"],[0.2222222222222222,\"#7201a8\"],[0.3333333333333333,\"#9c179e\"],[0.4444444444444444,\"#bd3786\"],[0.5555555555555556,\"#d8576b\"],[0.6666666666666666,\"#ed7953\"],[0.7777777777777778,\"#fb9f3a\"],[0.8888888888888888,\"#fdca26\"],[1.0,\"#f0f921\"]],\"type\":\"surface\"}],\"table\":[{\"cells\":{\"fill\":{\"color\":\"#EBF0F8\"},\"line\":{\"color\":\"white\"}},\"header\":{\"fill\":{\"color\":\"#C8D4E3\"},\"line\":{\"color\":\"white\"}},\"type\":\"table\"}]},\"layout\":{\"annotationdefaults\":{\"arrowcolor\":\"#2a3f5f\",\"arrowhead\":0,\"arrowwidth\":1},\"autotypenumbers\":\"strict\",\"coloraxis\":{\"colorbar\":{\"outlinewidth\":0,\"ticks\":\"\"}},\"colorscale\":{\"diverging\":[[0,\"#8e0152\"],[0.1,\"#c51b7d\"],[0.2,\"#de77ae\"],[0.3,\"#f1b6da\"],[0.4,\"#fde0ef\"],[0.5,\"#f7f7f7\"],[0.6,\"#e6f5d0\"],[0.7,\"#b8e186\"],[0.8,\"#7fbc41\"],[0.9,\"#4d9221\"],[1,\"#276419\"]],\"sequential\":[[0.0,\"#0d0887\"],[0.1111111111111111,\"#46039f\"],[0.2222222222222222,\"#7201a8\"],[0.3333333333333333,\"#9c179e\"],[0.4444444444444444,\"#bd3786\"],[0.5555555555555556,\"#d8576b\"],[0.6666666666666666,\"#ed7953\"],[0.7777777777777778,\"#fb9f3a\"],[0.8888888888888888,\"#fdca26\"],[1.0,\"#f0f921\"]],\"sequentialminus\":[[0.0,\"#0d0887\"],[0.1111111111111111,\"#46039f\"],[0.2222222222222222,\"#7201a8\"],[0.3333333333333333,\"#9c179e\"],[0.4444444444444444,\"#bd3786\"],[0.5555555555555556,\"#d8576b\"],[0.6666666666666666,\"#ed7953\"],[0.7777777777777778,\"#fb9f3a\"],[0.8888888888888888,\"#fdca26\"],[1.0,\"#f0f921\"]]},\"colorway\":[\"#636efa\",\"#EF553B\",\"#00cc96\",\"#ab63fa\",\"#FFA15A\",\"#19d3f3\",\"#FF6692\",\"#B6E880\",\"#FF97FF\",\"#FECB52\"],\"font\":{\"color\":\"#2a3f5f\"},\"geo\":{\"bgcolor\":\"white\",\"lakecolor\":\"white\",\"landcolor\":\"#E5ECF6\",\"showlakes\":true,\"showland\":true,\"subunitcolor\":\"white\"},\"hoverlabel\":{\"align\":\"left\"},\"hovermode\":\"closest\",\"mapbox\":{\"style\":\"light\"},\"paper_bgcolor\":\"white\",\"plot_bgcolor\":\"#E5ECF6\",\"polar\":{\"angularaxis\":{\"gridcolor\":\"white\",\"linecolor\":\"white\",\"ticks\":\"\"},\"bgcolor\":\"#E5ECF6\",\"radialaxis\":{\"gridcolor\":\"white\",\"linecolor\":\"white\",\"ticks\":\"\"}},\"scene\":{\"xaxis\":{\"backgroundcolor\":\"#E5ECF6\",\"gridcolor\":\"white\",\"gridwidth\":2,\"linecolor\":\"white\",\"showbackground\":true,\"ticks\":\"\",\"zerolinecolor\":\"white\"},\"yaxis\":{\"backgroundcolor\":\"#E5ECF6\",\"gridcolor\":\"white\",\"gridwidth\":2,\"linecolor\":\"white\",\"showbackground\":true,\"ticks\":\"\",\"zerolinecolor\":\"white\"},\"zaxis\":{\"backgroundcolor\":\"#E5ECF6\",\"gridcolor\":\"white\",\"gridwidth\":2,\"linecolor\":\"white\",\"showbackground\":true,\"ticks\":\"\",\"zerolinecolor\":\"white\"}},\"shapedefaults\":{\"line\":{\"color\":\"#2a3f5f\"}},\"ternary\":{\"aaxis\":{\"gridcolor\":\"white\",\"linecolor\":\"white\",\"ticks\":\"\"},\"baxis\":{\"gridcolor\":\"white\",\"linecolor\":\"white\",\"ticks\":\"\"},\"bgcolor\":\"#E5ECF6\",\"caxis\":{\"gridcolor\":\"white\",\"linecolor\":\"white\",\"ticks\":\"\"}},\"title\":{\"x\":0.05},\"xaxis\":{\"automargin\":true,\"gridcolor\":\"white\",\"linecolor\":\"white\",\"ticks\":\"\",\"title\":{\"standoff\":15},\"zerolinecolor\":\"white\",\"zerolinewidth\":2},\"yaxis\":{\"automargin\":true,\"gridcolor\":\"white\",\"linecolor\":\"white\",\"ticks\":\"\",\"title\":{\"standoff\":15},\"zerolinecolor\":\"white\",\"zerolinewidth\":2}}},\"title\":{\"font\":{\"color\":\"#4D5663\"}},\"xaxis\":{\"gridcolor\":\"#E1E5ED\",\"showgrid\":true,\"tickfont\":{\"color\":\"#4D5663\"},\"title\":{\"font\":{\"color\":\"#4D5663\"},\"text\":\"\"},\"zerolinecolor\":\"#E1E5ED\"},\"yaxis\":{\"gridcolor\":\"#E1E5ED\",\"showgrid\":true,\"tickfont\":{\"color\":\"#4D5663\"},\"title\":{\"font\":{\"color\":\"#4D5663\"},\"text\":\"\"},\"zerolinecolor\":\"#E1E5ED\"}},                        {\"showLink\": true, \"linkText\": \"Export to plot.ly\", \"plotlyServerURL\": \"https://plot.ly\", \"responsive\": true}                    ).then(function(){\n",
       "                            \n",
       "var gd = document.getElementById('a8350d4c-a7c5-4038-b9a2-4ab8c63a20f4');\n",
       "var x = new MutationObserver(function (mutations, observer) {{\n",
       "        var display = window.getComputedStyle(gd).display;\n",
       "        if (!display || display === 'none') {{\n",
       "            console.log([gd, 'removed!']);\n",
       "            Plotly.purge(gd);\n",
       "            observer.disconnect();\n",
       "        }}\n",
       "}});\n",
       "\n",
       "// Listen for the removal of the full notebook cells\n",
       "var notebookContainer = gd.closest('#notebook-container');\n",
       "if (notebookContainer) {{\n",
       "    x.observe(notebookContainer, {childList: true});\n",
       "}}\n",
       "\n",
       "// Listen for the clearing of the current output cell\n",
       "var outputEl = gd.closest('.output');\n",
       "if (outputEl) {{\n",
       "    x.observe(outputEl, {childList: true});\n",
       "}}\n",
       "\n",
       "                        })                };                });            </script>        </div>"
      ]
     },
     "metadata": {},
     "output_type": "display_data"
    }
   ],
   "source": [
    "#Scatter\n",
    "\n",
    "df.iplot(kind='scatter',x='A',y='B',mode='markers',size=10)"
   ]
  },
  {
   "cell_type": "code",
   "execution_count": 13,
   "id": "948eaacc",
   "metadata": {},
   "outputs": [
    {
     "data": {
      "application/vnd.plotly.v1+json": {
       "config": {
        "linkText": "Export to plot.ly",
        "plotlyServerURL": "https://plot.ly",
        "showLink": true
       },
       "data": [
        {
         "line": {
          "color": "rgba(255, 153, 51, 1.0)",
          "dash": "solid",
          "shape": "linear",
          "width": 1.3
         },
         "mode": "lines",
         "name": "A",
         "text": "",
         "type": "scatter",
         "x": [
          0,
          1,
          2,
          3,
          4,
          5,
          6,
          7,
          8,
          9,
          10,
          11,
          12,
          13,
          14,
          15,
          16,
          17,
          18,
          19,
          20,
          21,
          22,
          23,
          24,
          25,
          26,
          27,
          28,
          29,
          30,
          31,
          32,
          33,
          34,
          35,
          36,
          37,
          38,
          39,
          40,
          41,
          42,
          43,
          44,
          45,
          46,
          47,
          48,
          49,
          50,
          51,
          52,
          53,
          54,
          55,
          56,
          57,
          58,
          59,
          60,
          61,
          62,
          63,
          64,
          65,
          66,
          67,
          68,
          69,
          70,
          71,
          72,
          73,
          74,
          75,
          76,
          77,
          78,
          79,
          80,
          81,
          82,
          83,
          84,
          85,
          86,
          87,
          88,
          89,
          90,
          91,
          92,
          93,
          94,
          95,
          96,
          97,
          98,
          99
         ],
         "y": [
          0.1501788668840338,
          -0.1756913710375011,
          0.13856736719365398,
          0.7219578807852828,
          0.02103035712203404,
          0.05372994782000095,
          -0.8597786699749488,
          -1.436764515074958,
          0.09773770467735642,
          -0.5090109468773343,
          0.058444993463366686,
          0.1528818965232011,
          -0.054374732419699146,
          -0.5195914547970374,
          -1.6451919722324309,
          -0.4078752816447025,
          1.7196902722861414,
          1.1277768696275943,
          -0.16700661819317372,
          0.4344680307743496,
          -0.4533598135068671,
          -0.17821655659170996,
          -0.5483023401387696,
          1.0642240577556783,
          0.15666741152753014,
          -2.296016560442535,
          1.6924661296080639,
          0.6072904612083375,
          0.6583268747437102,
          0.0232092808315366,
          0.25505441923380395,
          -1.7884002052880084,
          -1.0271998449996689,
          -1.3800108277280776,
          -0.3196999975289513,
          1.212423910875223,
          -0.8631824306196343,
          0.14045007863442893,
          0.03772705519209731,
          0.8741708927574366,
          -0.8956255423448548,
          0.5595218806674672,
          -0.13978226703197763,
          -1.3522532012187982,
          -0.11901794011161884,
          1.4943615882517902,
          -0.9021970825018301,
          -0.4943366411747155,
          0.5487766844925248,
          -0.2844232877660867,
          0.8340903018578912,
          -1.702365901238491,
          -0.7100490330331606,
          0.6674682457214097,
          -0.14091751691325238,
          -2.6175899502714532,
          -1.602147770857257,
          -0.7486305439753811,
          -0.6238082510908618,
          -0.9765058142343359,
          0.8819257132329856,
          -0.8444708401609161,
          1.3290859983817334,
          -0.33125058588237893,
          -2.4943073578839736,
          -0.09846938938603009,
          1.6319181413388584,
          0.2877837487161706,
          0.05661978916823122,
          0.19196078383633894,
          0.45447543421148245,
          -0.7471721117926763,
          0.5768918461100573,
          -0.42479111088633664,
          -2.6587930187849484,
          -0.879206416879864,
          -1.584685197756789,
          0.9913181768573425,
          0.6935908952151667,
          0.6174070873913775,
          -0.6594441738825568,
          -0.9226163312478916,
          0.9072689218965913,
          -3.4618100598071324,
          -2.8996735525378363,
          0.14764029916770435,
          -0.9304743038902059,
          -0.09148425443751493,
          -0.6947510262830392,
          0.48761583192883556,
          -0.8300069322754731,
          0.9919919641210598,
          -1.3828189356306078,
          -0.0436640865499939,
          -0.2851681411662788,
          1.6435752977827398,
          0.05788619121298352,
          0.5726843717948871,
          -0.8708498105504946,
          1.0442243483732725
         ]
        },
        {
         "line": {
          "color": "rgba(55, 128, 191, 1.0)",
          "dash": "solid",
          "shape": "linear",
          "width": 1.3
         },
         "mode": "lines",
         "name": "B",
         "text": "",
         "type": "scatter",
         "x": [
          0,
          1,
          2,
          3,
          4,
          5,
          6,
          7,
          8,
          9,
          10,
          11,
          12,
          13,
          14,
          15,
          16,
          17,
          18,
          19,
          20,
          21,
          22,
          23,
          24,
          25,
          26,
          27,
          28,
          29,
          30,
          31,
          32,
          33,
          34,
          35,
          36,
          37,
          38,
          39,
          40,
          41,
          42,
          43,
          44,
          45,
          46,
          47,
          48,
          49,
          50,
          51,
          52,
          53,
          54,
          55,
          56,
          57,
          58,
          59,
          60,
          61,
          62,
          63,
          64,
          65,
          66,
          67,
          68,
          69,
          70,
          71,
          72,
          73,
          74,
          75,
          76,
          77,
          78,
          79,
          80,
          81,
          82,
          83,
          84,
          85,
          86,
          87,
          88,
          89,
          90,
          91,
          92,
          93,
          94,
          95,
          96,
          97,
          98,
          99
         ],
         "y": [
          0.3292464980445286,
          -0.1411389303037044,
          1.0690826737668286,
          -0.5670008289594736,
          1.5918584383121732,
          -0.49735820558161664,
          0.853020526947463,
          1.094407718690676,
          0.32727080169252115,
          -1.2226688074822474,
          2.686372841230928,
          -0.7662833800546549,
          -1.672436568832668,
          -0.3932022977635248,
          0.03263859066046469,
          -1.6761171971533155,
          -1.564322177542407,
          0.8727530667077585,
          2.8459920842255357,
          0.041262651325481056,
          0.6020364391158644,
          -1.274285368129067,
          0.37739388783722166,
          1.785008130491707,
          -1.0332839242660679,
          2.4939486777155886,
          0.981165538761148,
          0.9876494450648611,
          -1.392722155984482,
          -0.23872920769288078,
          1.4825111094062309,
          -0.8719477402420855,
          -0.8640186070736904,
          1.7498728402472519,
          0.5725682033786544,
          0.49847970058576085,
          0.4628575656278747,
          -0.06871206586372626,
          -0.14184373613844153,
          0.43328186425755827,
          -0.10749451342931048,
          -0.9398187865832206,
          -0.5251347550124181,
          1.635891869597316,
          -0.8844918823837958,
          -0.9090407559913615,
          0.519238719064138,
          -0.7090769497362426,
          0.8398486786419308,
          -0.2876594525112121,
          -0.882125919272093,
          0.04716098700964254,
          0.7473021164945799,
          -0.6205957612381642,
          0.07659494095782203,
          0.3029419326610615,
          -0.1457543020500506,
          -1.0147955229958847,
          -0.5348542967183831,
          -0.8781239565468124,
          -2.1411910267869123,
          -1.1388955510062049,
          -0.8087615847592627,
          -0.2994886393800132,
          -1.550632994942883,
          -0.07855287087348586,
          -0.09139415769032651,
          -0.3900148067474229,
          0.7748252201143693,
          -1.5355808667892057,
          -2.1694692520872296,
          -0.8250853605787378,
          0.3846735791487371,
          0.17890267605846233,
          -1.4735750220184796,
          0.07437116478387093,
          0.9218685071691737,
          -0.8205867482611652,
          0.5115358062357684,
          -1.2857938547393777,
          0.31221253198721455,
          -0.08234276520286833,
          0.4526207498721831,
          -0.4473360992885767,
          0.5766023641817422,
          -1.550026086832909,
          -0.7197254653986882,
          -0.2890094987331318,
          -0.9484949964302272,
          1.4749208841491077,
          0.8279588679944496,
          -0.2497528713488217,
          -0.7188559976596786,
          0.3947502727196581,
          -0.852203625860959,
          -0.4713126121808178,
          0.4880404775087967,
          -1.5681301594317518,
          -1.4119016649251277,
          0.0676585355782195
         ]
        },
        {
         "line": {
          "color": "rgba(50, 171, 96, 1.0)",
          "dash": "solid",
          "shape": "linear",
          "width": 1.3
         },
         "mode": "lines",
         "name": "C",
         "text": "",
         "type": "scatter",
         "x": [
          0,
          1,
          2,
          3,
          4,
          5,
          6,
          7,
          8,
          9,
          10,
          11,
          12,
          13,
          14,
          15,
          16,
          17,
          18,
          19,
          20,
          21,
          22,
          23,
          24,
          25,
          26,
          27,
          28,
          29,
          30,
          31,
          32,
          33,
          34,
          35,
          36,
          37,
          38,
          39,
          40,
          41,
          42,
          43,
          44,
          45,
          46,
          47,
          48,
          49,
          50,
          51,
          52,
          53,
          54,
          55,
          56,
          57,
          58,
          59,
          60,
          61,
          62,
          63,
          64,
          65,
          66,
          67,
          68,
          69,
          70,
          71,
          72,
          73,
          74,
          75,
          76,
          77,
          78,
          79,
          80,
          81,
          82,
          83,
          84,
          85,
          86,
          87,
          88,
          89,
          90,
          91,
          92,
          93,
          94,
          95,
          96,
          97,
          98,
          99
         ],
         "y": [
          0.890916480844037,
          -1.558527107511487,
          -1.8488925502815907,
          -0.6494576645259102,
          1.1280869396031745,
          -0.17952894882184547,
          -0.33810857909289344,
          -0.48878290989005213,
          -0.11938293447879825,
          -0.2989751410946798,
          0.4965499375088627,
          0.21636453352319893,
          0.2840717850111058,
          0.20735875936817524,
          -0.22565690187486223,
          1.1164757506873288,
          -0.6707234049274312,
          0.9424716687268028,
          1.6515063039689564,
          1.992774545960232,
          -0.5812924968657552,
          0.22810610570053838,
          -0.20849458732619003,
          1.1661466927440949,
          -0.28056452596092063,
          -0.049917163399387045,
          2.195637903300989,
          0.116948203171959,
          1.401933580717518,
          -2.0117372351060685,
          0.21559254965129362,
          -0.042744727939135044,
          -1.3345088876565672,
          0.5875791622511894,
          -1.0051348169849186,
          -0.44694599729049334,
          -0.9032149034697351,
          -0.9498465409084119,
          -0.7124254084325481,
          0.17135327657766145,
          -0.49806229420490383,
          -0.8328725348029663,
          -1.8732396301295586,
          0.28930476551203765,
          0.7510647311729514,
          1.3362719752061962,
          -0.1646996370888109,
          0.5644111124218038,
          -0.5944675628535963,
          1.1269513423335507,
          0.3178070052923227,
          -1.1988012057295312,
          0.9873656236415521,
          1.2476067769280317,
          0.5506614471733887,
          0.000814001257611384,
          1.4130552819529212,
          -0.22092645802391894,
          1.3288750160497649,
          0.1282526773031756,
          0.05123370962394723,
          0.537892346190286,
          0.8780740358004305,
          2.3230733411681275,
          -0.3702023676130841,
          -0.5213525592026007,
          1.3944034723368863,
          0.2966259186302385,
          1.1136273398847076,
          -0.05299962419798843,
          -1.01965507512544,
          -0.7704726221159278,
          0.24646521622835293,
          1.0811824290711995,
          -0.29499818540873474,
          1.6148381953265067,
          2.5014835838918628,
          0.552463771797649,
          -2.2293007713638215,
          0.6413036999649206,
          -1.645307584944108,
          0.6300421981899462,
          -0.45450498610227286,
          -0.3390119693617331,
          0.47305360720198797,
          0.2456761390603077,
          -0.9836097767809264,
          0.9871269020530777,
          0.09834186509548075,
          0.7208876227420822,
          -1.1877689956169983,
          1.5192828005896106,
          -1.381594152153304,
          -0.7197746248014946,
          0.011550420103289123,
          0.10147027582360378,
          -0.6872369274921748,
          1.650674227068161,
          0.9032065367878431,
          0.8130991610718596
         ]
        },
        {
         "line": {
          "color": "rgba(128, 0, 128, 1.0)",
          "dash": "solid",
          "shape": "linear",
          "width": 1.3
         },
         "mode": "lines",
         "name": "D",
         "text": "",
         "type": "scatter",
         "x": [
          0,
          1,
          2,
          3,
          4,
          5,
          6,
          7,
          8,
          9,
          10,
          11,
          12,
          13,
          14,
          15,
          16,
          17,
          18,
          19,
          20,
          21,
          22,
          23,
          24,
          25,
          26,
          27,
          28,
          29,
          30,
          31,
          32,
          33,
          34,
          35,
          36,
          37,
          38,
          39,
          40,
          41,
          42,
          43,
          44,
          45,
          46,
          47,
          48,
          49,
          50,
          51,
          52,
          53,
          54,
          55,
          56,
          57,
          58,
          59,
          60,
          61,
          62,
          63,
          64,
          65,
          66,
          67,
          68,
          69,
          70,
          71,
          72,
          73,
          74,
          75,
          76,
          77,
          78,
          79,
          80,
          81,
          82,
          83,
          84,
          85,
          86,
          87,
          88,
          89,
          90,
          91,
          92,
          93,
          94,
          95,
          96,
          97,
          98,
          99
         ],
         "y": [
          1.2238696611006687,
          0.2659016037253465,
          0.5348783333601433,
          -0.5152424203192356,
          0.7957817937572748,
          0.4316924718678004,
          0.13452532570970305,
          -1.1609585252578314,
          1.109688781111511,
          -0.25237472399053945,
          -0.4205306809125667,
          -0.13090388071271383,
          -0.12537996532960222,
          -0.10182788988671564,
          1.7665855788900615,
          0.28287032317227917,
          0.10235451464604306,
          1.729565277267111,
          -0.11314043958280795,
          1.0354429224865613,
          -0.34024824271522836,
          0.8210779437076364,
          0.4118759981850916,
          0.431616592821346,
          1.466797156861794,
          0.6557165096961052,
          -0.5858758532518111,
          0.433845796517269,
          0.5218602483278069,
          -0.36664316690916726,
          -1.0880539147526773,
          0.22471008032895676,
          -0.970253474769151,
          -0.8141627851447617,
          0.2751096487173175,
          0.5475880158403673,
          0.5959525301521521,
          -0.1930623768638768,
          0.9522162211248725,
          0.24710194516308667,
          0.2098533608444933,
          -0.4177347350882414,
          -0.5378864350268977,
          1.356240901552392,
          -1.4358885908500325,
          -0.6150524345433597,
          0.5644000226091584,
          -1.7728965912212569,
          0.7478907531147889,
          -0.847680137605328,
          0.5243094753242314,
          -0.5629466077738976,
          0.7308720665035708,
          -0.5631609456231326,
          -0.5480544163023164,
          1.3806825978333803,
          -0.8168571159408491,
          -0.07071285909209492,
          0.42756541165848566,
          0.6239789663027165,
          1.5937867923838385,
          -0.15566204467470132,
          0.9617306773021843,
          -0.060748484458576946,
          1.7421582679490866,
          0.13032168838390243,
          0.3644249457854377,
          0.44826916791078275,
          0.5520991045312008,
          -1.4535333914643893,
          -1.6037467056567496,
          -0.2069767719603601,
          -0.5788263866043485,
          0.3991456611757954,
          -0.025966973025777936,
          0.6122427822789827,
          -1.2896420826915858,
          1.9841678768446551,
          0.5224878892863754,
          0.8353665562482017,
          0.12747466466086263,
          1.817142494989653,
          0.8376095471647783,
          0.5564802783508699,
          0.9063079284923069,
          1.168407555051154,
          -0.696805989983867,
          1.4977939685254351,
          0.8808587328159376,
          0.4155772726557158,
          0.4375653565107603,
          0.7133247647267615,
          0.8933324173851137,
          -1.6492894319540068,
          -0.33213880818894287,
          -1.6560909794244025,
          -1.009918484762426,
          -0.4687963402846757,
          0.6401161967456103,
          0.21746994993596683
         ]
        }
       ],
       "layout": {
        "legend": {
         "bgcolor": "#F5F6F9",
         "font": {
          "color": "#4D5663"
         }
        },
        "paper_bgcolor": "#F5F6F9",
        "plot_bgcolor": "#F5F6F9",
        "template": {
         "data": {
          "bar": [
           {
            "error_x": {
             "color": "#2a3f5f"
            },
            "error_y": {
             "color": "#2a3f5f"
            },
            "marker": {
             "line": {
              "color": "#E5ECF6",
              "width": 0.5
             },
             "pattern": {
              "fillmode": "overlay",
              "size": 10,
              "solidity": 0.2
             }
            },
            "type": "bar"
           }
          ],
          "barpolar": [
           {
            "marker": {
             "line": {
              "color": "#E5ECF6",
              "width": 0.5
             },
             "pattern": {
              "fillmode": "overlay",
              "size": 10,
              "solidity": 0.2
             }
            },
            "type": "barpolar"
           }
          ],
          "carpet": [
           {
            "aaxis": {
             "endlinecolor": "#2a3f5f",
             "gridcolor": "white",
             "linecolor": "white",
             "minorgridcolor": "white",
             "startlinecolor": "#2a3f5f"
            },
            "baxis": {
             "endlinecolor": "#2a3f5f",
             "gridcolor": "white",
             "linecolor": "white",
             "minorgridcolor": "white",
             "startlinecolor": "#2a3f5f"
            },
            "type": "carpet"
           }
          ],
          "choropleth": [
           {
            "colorbar": {
             "outlinewidth": 0,
             "ticks": ""
            },
            "type": "choropleth"
           }
          ],
          "contour": [
           {
            "colorbar": {
             "outlinewidth": 0,
             "ticks": ""
            },
            "colorscale": [
             [
              0,
              "#0d0887"
             ],
             [
              0.1111111111111111,
              "#46039f"
             ],
             [
              0.2222222222222222,
              "#7201a8"
             ],
             [
              0.3333333333333333,
              "#9c179e"
             ],
             [
              0.4444444444444444,
              "#bd3786"
             ],
             [
              0.5555555555555556,
              "#d8576b"
             ],
             [
              0.6666666666666666,
              "#ed7953"
             ],
             [
              0.7777777777777778,
              "#fb9f3a"
             ],
             [
              0.8888888888888888,
              "#fdca26"
             ],
             [
              1,
              "#f0f921"
             ]
            ],
            "type": "contour"
           }
          ],
          "contourcarpet": [
           {
            "colorbar": {
             "outlinewidth": 0,
             "ticks": ""
            },
            "type": "contourcarpet"
           }
          ],
          "heatmap": [
           {
            "colorbar": {
             "outlinewidth": 0,
             "ticks": ""
            },
            "colorscale": [
             [
              0,
              "#0d0887"
             ],
             [
              0.1111111111111111,
              "#46039f"
             ],
             [
              0.2222222222222222,
              "#7201a8"
             ],
             [
              0.3333333333333333,
              "#9c179e"
             ],
             [
              0.4444444444444444,
              "#bd3786"
             ],
             [
              0.5555555555555556,
              "#d8576b"
             ],
             [
              0.6666666666666666,
              "#ed7953"
             ],
             [
              0.7777777777777778,
              "#fb9f3a"
             ],
             [
              0.8888888888888888,
              "#fdca26"
             ],
             [
              1,
              "#f0f921"
             ]
            ],
            "type": "heatmap"
           }
          ],
          "heatmapgl": [
           {
            "colorbar": {
             "outlinewidth": 0,
             "ticks": ""
            },
            "colorscale": [
             [
              0,
              "#0d0887"
             ],
             [
              0.1111111111111111,
              "#46039f"
             ],
             [
              0.2222222222222222,
              "#7201a8"
             ],
             [
              0.3333333333333333,
              "#9c179e"
             ],
             [
              0.4444444444444444,
              "#bd3786"
             ],
             [
              0.5555555555555556,
              "#d8576b"
             ],
             [
              0.6666666666666666,
              "#ed7953"
             ],
             [
              0.7777777777777778,
              "#fb9f3a"
             ],
             [
              0.8888888888888888,
              "#fdca26"
             ],
             [
              1,
              "#f0f921"
             ]
            ],
            "type": "heatmapgl"
           }
          ],
          "histogram": [
           {
            "marker": {
             "pattern": {
              "fillmode": "overlay",
              "size": 10,
              "solidity": 0.2
             }
            },
            "type": "histogram"
           }
          ],
          "histogram2d": [
           {
            "colorbar": {
             "outlinewidth": 0,
             "ticks": ""
            },
            "colorscale": [
             [
              0,
              "#0d0887"
             ],
             [
              0.1111111111111111,
              "#46039f"
             ],
             [
              0.2222222222222222,
              "#7201a8"
             ],
             [
              0.3333333333333333,
              "#9c179e"
             ],
             [
              0.4444444444444444,
              "#bd3786"
             ],
             [
              0.5555555555555556,
              "#d8576b"
             ],
             [
              0.6666666666666666,
              "#ed7953"
             ],
             [
              0.7777777777777778,
              "#fb9f3a"
             ],
             [
              0.8888888888888888,
              "#fdca26"
             ],
             [
              1,
              "#f0f921"
             ]
            ],
            "type": "histogram2d"
           }
          ],
          "histogram2dcontour": [
           {
            "colorbar": {
             "outlinewidth": 0,
             "ticks": ""
            },
            "colorscale": [
             [
              0,
              "#0d0887"
             ],
             [
              0.1111111111111111,
              "#46039f"
             ],
             [
              0.2222222222222222,
              "#7201a8"
             ],
             [
              0.3333333333333333,
              "#9c179e"
             ],
             [
              0.4444444444444444,
              "#bd3786"
             ],
             [
              0.5555555555555556,
              "#d8576b"
             ],
             [
              0.6666666666666666,
              "#ed7953"
             ],
             [
              0.7777777777777778,
              "#fb9f3a"
             ],
             [
              0.8888888888888888,
              "#fdca26"
             ],
             [
              1,
              "#f0f921"
             ]
            ],
            "type": "histogram2dcontour"
           }
          ],
          "mesh3d": [
           {
            "colorbar": {
             "outlinewidth": 0,
             "ticks": ""
            },
            "type": "mesh3d"
           }
          ],
          "parcoords": [
           {
            "line": {
             "colorbar": {
              "outlinewidth": 0,
              "ticks": ""
             }
            },
            "type": "parcoords"
           }
          ],
          "pie": [
           {
            "automargin": true,
            "type": "pie"
           }
          ],
          "scatter": [
           {
            "fillpattern": {
             "fillmode": "overlay",
             "size": 10,
             "solidity": 0.2
            },
            "type": "scatter"
           }
          ],
          "scatter3d": [
           {
            "line": {
             "colorbar": {
              "outlinewidth": 0,
              "ticks": ""
             }
            },
            "marker": {
             "colorbar": {
              "outlinewidth": 0,
              "ticks": ""
             }
            },
            "type": "scatter3d"
           }
          ],
          "scattercarpet": [
           {
            "marker": {
             "colorbar": {
              "outlinewidth": 0,
              "ticks": ""
             }
            },
            "type": "scattercarpet"
           }
          ],
          "scattergeo": [
           {
            "marker": {
             "colorbar": {
              "outlinewidth": 0,
              "ticks": ""
             }
            },
            "type": "scattergeo"
           }
          ],
          "scattergl": [
           {
            "marker": {
             "colorbar": {
              "outlinewidth": 0,
              "ticks": ""
             }
            },
            "type": "scattergl"
           }
          ],
          "scattermapbox": [
           {
            "marker": {
             "colorbar": {
              "outlinewidth": 0,
              "ticks": ""
             }
            },
            "type": "scattermapbox"
           }
          ],
          "scatterpolar": [
           {
            "marker": {
             "colorbar": {
              "outlinewidth": 0,
              "ticks": ""
             }
            },
            "type": "scatterpolar"
           }
          ],
          "scatterpolargl": [
           {
            "marker": {
             "colorbar": {
              "outlinewidth": 0,
              "ticks": ""
             }
            },
            "type": "scatterpolargl"
           }
          ],
          "scatterternary": [
           {
            "marker": {
             "colorbar": {
              "outlinewidth": 0,
              "ticks": ""
             }
            },
            "type": "scatterternary"
           }
          ],
          "surface": [
           {
            "colorbar": {
             "outlinewidth": 0,
             "ticks": ""
            },
            "colorscale": [
             [
              0,
              "#0d0887"
             ],
             [
              0.1111111111111111,
              "#46039f"
             ],
             [
              0.2222222222222222,
              "#7201a8"
             ],
             [
              0.3333333333333333,
              "#9c179e"
             ],
             [
              0.4444444444444444,
              "#bd3786"
             ],
             [
              0.5555555555555556,
              "#d8576b"
             ],
             [
              0.6666666666666666,
              "#ed7953"
             ],
             [
              0.7777777777777778,
              "#fb9f3a"
             ],
             [
              0.8888888888888888,
              "#fdca26"
             ],
             [
              1,
              "#f0f921"
             ]
            ],
            "type": "surface"
           }
          ],
          "table": [
           {
            "cells": {
             "fill": {
              "color": "#EBF0F8"
             },
             "line": {
              "color": "white"
             }
            },
            "header": {
             "fill": {
              "color": "#C8D4E3"
             },
             "line": {
              "color": "white"
             }
            },
            "type": "table"
           }
          ]
         },
         "layout": {
          "annotationdefaults": {
           "arrowcolor": "#2a3f5f",
           "arrowhead": 0,
           "arrowwidth": 1
          },
          "autotypenumbers": "strict",
          "coloraxis": {
           "colorbar": {
            "outlinewidth": 0,
            "ticks": ""
           }
          },
          "colorscale": {
           "diverging": [
            [
             0,
             "#8e0152"
            ],
            [
             0.1,
             "#c51b7d"
            ],
            [
             0.2,
             "#de77ae"
            ],
            [
             0.3,
             "#f1b6da"
            ],
            [
             0.4,
             "#fde0ef"
            ],
            [
             0.5,
             "#f7f7f7"
            ],
            [
             0.6,
             "#e6f5d0"
            ],
            [
             0.7,
             "#b8e186"
            ],
            [
             0.8,
             "#7fbc41"
            ],
            [
             0.9,
             "#4d9221"
            ],
            [
             1,
             "#276419"
            ]
           ],
           "sequential": [
            [
             0,
             "#0d0887"
            ],
            [
             0.1111111111111111,
             "#46039f"
            ],
            [
             0.2222222222222222,
             "#7201a8"
            ],
            [
             0.3333333333333333,
             "#9c179e"
            ],
            [
             0.4444444444444444,
             "#bd3786"
            ],
            [
             0.5555555555555556,
             "#d8576b"
            ],
            [
             0.6666666666666666,
             "#ed7953"
            ],
            [
             0.7777777777777778,
             "#fb9f3a"
            ],
            [
             0.8888888888888888,
             "#fdca26"
            ],
            [
             1,
             "#f0f921"
            ]
           ],
           "sequentialminus": [
            [
             0,
             "#0d0887"
            ],
            [
             0.1111111111111111,
             "#46039f"
            ],
            [
             0.2222222222222222,
             "#7201a8"
            ],
            [
             0.3333333333333333,
             "#9c179e"
            ],
            [
             0.4444444444444444,
             "#bd3786"
            ],
            [
             0.5555555555555556,
             "#d8576b"
            ],
            [
             0.6666666666666666,
             "#ed7953"
            ],
            [
             0.7777777777777778,
             "#fb9f3a"
            ],
            [
             0.8888888888888888,
             "#fdca26"
            ],
            [
             1,
             "#f0f921"
            ]
           ]
          },
          "colorway": [
           "#636efa",
           "#EF553B",
           "#00cc96",
           "#ab63fa",
           "#FFA15A",
           "#19d3f3",
           "#FF6692",
           "#B6E880",
           "#FF97FF",
           "#FECB52"
          ],
          "font": {
           "color": "#2a3f5f"
          },
          "geo": {
           "bgcolor": "white",
           "lakecolor": "white",
           "landcolor": "#E5ECF6",
           "showlakes": true,
           "showland": true,
           "subunitcolor": "white"
          },
          "hoverlabel": {
           "align": "left"
          },
          "hovermode": "closest",
          "mapbox": {
           "style": "light"
          },
          "paper_bgcolor": "white",
          "plot_bgcolor": "#E5ECF6",
          "polar": {
           "angularaxis": {
            "gridcolor": "white",
            "linecolor": "white",
            "ticks": ""
           },
           "bgcolor": "#E5ECF6",
           "radialaxis": {
            "gridcolor": "white",
            "linecolor": "white",
            "ticks": ""
           }
          },
          "scene": {
           "xaxis": {
            "backgroundcolor": "#E5ECF6",
            "gridcolor": "white",
            "gridwidth": 2,
            "linecolor": "white",
            "showbackground": true,
            "ticks": "",
            "zerolinecolor": "white"
           },
           "yaxis": {
            "backgroundcolor": "#E5ECF6",
            "gridcolor": "white",
            "gridwidth": 2,
            "linecolor": "white",
            "showbackground": true,
            "ticks": "",
            "zerolinecolor": "white"
           },
           "zaxis": {
            "backgroundcolor": "#E5ECF6",
            "gridcolor": "white",
            "gridwidth": 2,
            "linecolor": "white",
            "showbackground": true,
            "ticks": "",
            "zerolinecolor": "white"
           }
          },
          "shapedefaults": {
           "line": {
            "color": "#2a3f5f"
           }
          },
          "ternary": {
           "aaxis": {
            "gridcolor": "white",
            "linecolor": "white",
            "ticks": ""
           },
           "baxis": {
            "gridcolor": "white",
            "linecolor": "white",
            "ticks": ""
           },
           "bgcolor": "#E5ECF6",
           "caxis": {
            "gridcolor": "white",
            "linecolor": "white",
            "ticks": ""
           }
          },
          "title": {
           "x": 0.05
          },
          "xaxis": {
           "automargin": true,
           "gridcolor": "white",
           "linecolor": "white",
           "ticks": "",
           "title": {
            "standoff": 15
           },
           "zerolinecolor": "white",
           "zerolinewidth": 2
          },
          "yaxis": {
           "automargin": true,
           "gridcolor": "white",
           "linecolor": "white",
           "ticks": "",
           "title": {
            "standoff": 15
           },
           "zerolinecolor": "white",
           "zerolinewidth": 2
          }
         }
        },
        "title": {
         "font": {
          "color": "#4D5663"
         }
        },
        "xaxis": {
         "gridcolor": "#E1E5ED",
         "showgrid": true,
         "tickfont": {
          "color": "#4D5663"
         },
         "title": {
          "font": {
           "color": "#4D5663"
          },
          "text": ""
         },
         "zerolinecolor": "#E1E5ED"
        },
        "yaxis": {
         "gridcolor": "#E1E5ED",
         "showgrid": true,
         "tickfont": {
          "color": "#4D5663"
         },
         "title": {
          "font": {
           "color": "#4D5663"
          },
          "text": ""
         },
         "zerolinecolor": "#E1E5ED"
        }
       }
      },
      "text/html": [
       "<div>                            <div id=\"4c373a36-c46f-4c1e-bcaf-ae1d343180e4\" class=\"plotly-graph-div\" style=\"height:525px; width:100%;\"></div>            <script type=\"text/javascript\">                require([\"plotly\"], function(Plotly) {                    window.PLOTLYENV=window.PLOTLYENV || {};\n",
       "                    window.PLOTLYENV.BASE_URL='https://plot.ly';                                    if (document.getElementById(\"4c373a36-c46f-4c1e-bcaf-ae1d343180e4\")) {                    Plotly.newPlot(                        \"4c373a36-c46f-4c1e-bcaf-ae1d343180e4\",                        [{\"line\":{\"color\":\"rgba(255, 153, 51, 1.0)\",\"dash\":\"solid\",\"shape\":\"linear\",\"width\":1.3},\"mode\":\"lines\",\"name\":\"A\",\"text\":\"\",\"x\":[0,1,2,3,4,5,6,7,8,9,10,11,12,13,14,15,16,17,18,19,20,21,22,23,24,25,26,27,28,29,30,31,32,33,34,35,36,37,38,39,40,41,42,43,44,45,46,47,48,49,50,51,52,53,54,55,56,57,58,59,60,61,62,63,64,65,66,67,68,69,70,71,72,73,74,75,76,77,78,79,80,81,82,83,84,85,86,87,88,89,90,91,92,93,94,95,96,97,98,99],\"y\":[0.1501788668840338,-0.1756913710375011,0.13856736719365398,0.7219578807852828,0.02103035712203404,0.05372994782000095,-0.8597786699749488,-1.436764515074958,0.09773770467735642,-0.5090109468773343,0.058444993463366686,0.1528818965232011,-0.054374732419699146,-0.5195914547970374,-1.6451919722324309,-0.4078752816447025,1.7196902722861414,1.1277768696275943,-0.16700661819317372,0.4344680307743496,-0.4533598135068671,-0.17821655659170996,-0.5483023401387696,1.0642240577556783,0.15666741152753014,-2.296016560442535,1.6924661296080639,0.6072904612083375,0.6583268747437102,0.0232092808315366,0.25505441923380395,-1.7884002052880084,-1.0271998449996689,-1.3800108277280776,-0.3196999975289513,1.212423910875223,-0.8631824306196343,0.14045007863442893,0.03772705519209731,0.8741708927574366,-0.8956255423448548,0.5595218806674672,-0.13978226703197763,-1.3522532012187982,-0.11901794011161884,1.4943615882517902,-0.9021970825018301,-0.4943366411747155,0.5487766844925248,-0.2844232877660867,0.8340903018578912,-1.702365901238491,-0.7100490330331606,0.6674682457214097,-0.14091751691325238,-2.6175899502714532,-1.602147770857257,-0.7486305439753811,-0.6238082510908618,-0.9765058142343359,0.8819257132329856,-0.8444708401609161,1.3290859983817334,-0.33125058588237893,-2.4943073578839736,-0.09846938938603009,1.6319181413388584,0.2877837487161706,0.05661978916823122,0.19196078383633894,0.45447543421148245,-0.7471721117926763,0.5768918461100573,-0.42479111088633664,-2.6587930187849484,-0.879206416879864,-1.584685197756789,0.9913181768573425,0.6935908952151667,0.6174070873913775,-0.6594441738825568,-0.9226163312478916,0.9072689218965913,-3.4618100598071324,-2.8996735525378363,0.14764029916770435,-0.9304743038902059,-0.09148425443751493,-0.6947510262830392,0.48761583192883556,-0.8300069322754731,0.9919919641210598,-1.3828189356306078,-0.0436640865499939,-0.2851681411662788,1.6435752977827398,0.05788619121298352,0.5726843717948871,-0.8708498105504946,1.0442243483732725],\"type\":\"scatter\"},{\"line\":{\"color\":\"rgba(55, 128, 191, 1.0)\",\"dash\":\"solid\",\"shape\":\"linear\",\"width\":1.3},\"mode\":\"lines\",\"name\":\"B\",\"text\":\"\",\"x\":[0,1,2,3,4,5,6,7,8,9,10,11,12,13,14,15,16,17,18,19,20,21,22,23,24,25,26,27,28,29,30,31,32,33,34,35,36,37,38,39,40,41,42,43,44,45,46,47,48,49,50,51,52,53,54,55,56,57,58,59,60,61,62,63,64,65,66,67,68,69,70,71,72,73,74,75,76,77,78,79,80,81,82,83,84,85,86,87,88,89,90,91,92,93,94,95,96,97,98,99],\"y\":[0.3292464980445286,-0.1411389303037044,1.0690826737668286,-0.5670008289594736,1.5918584383121732,-0.49735820558161664,0.853020526947463,1.094407718690676,0.32727080169252115,-1.2226688074822474,2.686372841230928,-0.7662833800546549,-1.672436568832668,-0.3932022977635248,0.03263859066046469,-1.6761171971533155,-1.564322177542407,0.8727530667077585,2.8459920842255357,0.041262651325481056,0.6020364391158644,-1.274285368129067,0.37739388783722166,1.785008130491707,-1.0332839242660679,2.4939486777155886,0.981165538761148,0.9876494450648611,-1.392722155984482,-0.23872920769288078,1.4825111094062309,-0.8719477402420855,-0.8640186070736904,1.7498728402472519,0.5725682033786544,0.49847970058576085,0.4628575656278747,-0.06871206586372626,-0.14184373613844153,0.43328186425755827,-0.10749451342931048,-0.9398187865832206,-0.5251347550124181,1.635891869597316,-0.8844918823837958,-0.9090407559913615,0.519238719064138,-0.7090769497362426,0.8398486786419308,-0.2876594525112121,-0.882125919272093,0.04716098700964254,0.7473021164945799,-0.6205957612381642,0.07659494095782203,0.3029419326610615,-0.1457543020500506,-1.0147955229958847,-0.5348542967183831,-0.8781239565468124,-2.1411910267869123,-1.1388955510062049,-0.8087615847592627,-0.2994886393800132,-1.550632994942883,-0.07855287087348586,-0.09139415769032651,-0.3900148067474229,0.7748252201143693,-1.5355808667892057,-2.1694692520872296,-0.8250853605787378,0.3846735791487371,0.17890267605846233,-1.4735750220184796,0.07437116478387093,0.9218685071691737,-0.8205867482611652,0.5115358062357684,-1.2857938547393777,0.31221253198721455,-0.08234276520286833,0.4526207498721831,-0.4473360992885767,0.5766023641817422,-1.550026086832909,-0.7197254653986882,-0.2890094987331318,-0.9484949964302272,1.4749208841491077,0.8279588679944496,-0.2497528713488217,-0.7188559976596786,0.3947502727196581,-0.852203625860959,-0.4713126121808178,0.4880404775087967,-1.5681301594317518,-1.4119016649251277,0.0676585355782195],\"type\":\"scatter\"},{\"line\":{\"color\":\"rgba(50, 171, 96, 1.0)\",\"dash\":\"solid\",\"shape\":\"linear\",\"width\":1.3},\"mode\":\"lines\",\"name\":\"C\",\"text\":\"\",\"x\":[0,1,2,3,4,5,6,7,8,9,10,11,12,13,14,15,16,17,18,19,20,21,22,23,24,25,26,27,28,29,30,31,32,33,34,35,36,37,38,39,40,41,42,43,44,45,46,47,48,49,50,51,52,53,54,55,56,57,58,59,60,61,62,63,64,65,66,67,68,69,70,71,72,73,74,75,76,77,78,79,80,81,82,83,84,85,86,87,88,89,90,91,92,93,94,95,96,97,98,99],\"y\":[0.890916480844037,-1.558527107511487,-1.8488925502815907,-0.6494576645259102,1.1280869396031745,-0.17952894882184547,-0.33810857909289344,-0.48878290989005213,-0.11938293447879825,-0.2989751410946798,0.4965499375088627,0.21636453352319893,0.2840717850111058,0.20735875936817524,-0.22565690187486223,1.1164757506873288,-0.6707234049274312,0.9424716687268028,1.6515063039689564,1.992774545960232,-0.5812924968657552,0.22810610570053838,-0.20849458732619003,1.1661466927440949,-0.28056452596092063,-0.049917163399387045,2.195637903300989,0.116948203171959,1.401933580717518,-2.0117372351060685,0.21559254965129362,-0.042744727939135044,-1.3345088876565672,0.5875791622511894,-1.0051348169849186,-0.44694599729049334,-0.9032149034697351,-0.9498465409084119,-0.7124254084325481,0.17135327657766145,-0.49806229420490383,-0.8328725348029663,-1.8732396301295586,0.28930476551203765,0.7510647311729514,1.3362719752061962,-0.1646996370888109,0.5644111124218038,-0.5944675628535963,1.1269513423335507,0.3178070052923227,-1.1988012057295312,0.9873656236415521,1.2476067769280317,0.5506614471733887,0.000814001257611384,1.4130552819529212,-0.22092645802391894,1.3288750160497649,0.1282526773031756,0.05123370962394723,0.537892346190286,0.8780740358004305,2.3230733411681275,-0.3702023676130841,-0.5213525592026007,1.3944034723368863,0.2966259186302385,1.1136273398847076,-0.05299962419798843,-1.01965507512544,-0.7704726221159278,0.24646521622835293,1.0811824290711995,-0.29499818540873474,1.6148381953265067,2.5014835838918628,0.552463771797649,-2.2293007713638215,0.6413036999649206,-1.645307584944108,0.6300421981899462,-0.45450498610227286,-0.3390119693617331,0.47305360720198797,0.2456761390603077,-0.9836097767809264,0.9871269020530777,0.09834186509548075,0.7208876227420822,-1.1877689956169983,1.5192828005896106,-1.381594152153304,-0.7197746248014946,0.011550420103289123,0.10147027582360378,-0.6872369274921748,1.650674227068161,0.9032065367878431,0.8130991610718596],\"type\":\"scatter\"},{\"line\":{\"color\":\"rgba(128, 0, 128, 1.0)\",\"dash\":\"solid\",\"shape\":\"linear\",\"width\":1.3},\"mode\":\"lines\",\"name\":\"D\",\"text\":\"\",\"x\":[0,1,2,3,4,5,6,7,8,9,10,11,12,13,14,15,16,17,18,19,20,21,22,23,24,25,26,27,28,29,30,31,32,33,34,35,36,37,38,39,40,41,42,43,44,45,46,47,48,49,50,51,52,53,54,55,56,57,58,59,60,61,62,63,64,65,66,67,68,69,70,71,72,73,74,75,76,77,78,79,80,81,82,83,84,85,86,87,88,89,90,91,92,93,94,95,96,97,98,99],\"y\":[1.2238696611006687,0.2659016037253465,0.5348783333601433,-0.5152424203192356,0.7957817937572748,0.4316924718678004,0.13452532570970305,-1.1609585252578314,1.109688781111511,-0.25237472399053945,-0.4205306809125667,-0.13090388071271383,-0.12537996532960222,-0.10182788988671564,1.7665855788900615,0.28287032317227917,0.10235451464604306,1.729565277267111,-0.11314043958280795,1.0354429224865613,-0.34024824271522836,0.8210779437076364,0.4118759981850916,0.431616592821346,1.466797156861794,0.6557165096961052,-0.5858758532518111,0.433845796517269,0.5218602483278069,-0.36664316690916726,-1.0880539147526773,0.22471008032895676,-0.970253474769151,-0.8141627851447617,0.2751096487173175,0.5475880158403673,0.5959525301521521,-0.1930623768638768,0.9522162211248725,0.24710194516308667,0.2098533608444933,-0.4177347350882414,-0.5378864350268977,1.356240901552392,-1.4358885908500325,-0.6150524345433597,0.5644000226091584,-1.7728965912212569,0.7478907531147889,-0.847680137605328,0.5243094753242314,-0.5629466077738976,0.7308720665035708,-0.5631609456231326,-0.5480544163023164,1.3806825978333803,-0.8168571159408491,-0.07071285909209492,0.42756541165848566,0.6239789663027165,1.5937867923838385,-0.15566204467470132,0.9617306773021843,-0.060748484458576946,1.7421582679490866,0.13032168838390243,0.3644249457854377,0.44826916791078275,0.5520991045312008,-1.4535333914643893,-1.6037467056567496,-0.2069767719603601,-0.5788263866043485,0.3991456611757954,-0.025966973025777936,0.6122427822789827,-1.2896420826915858,1.9841678768446551,0.5224878892863754,0.8353665562482017,0.12747466466086263,1.817142494989653,0.8376095471647783,0.5564802783508699,0.9063079284923069,1.168407555051154,-0.696805989983867,1.4977939685254351,0.8808587328159376,0.4155772726557158,0.4375653565107603,0.7133247647267615,0.8933324173851137,-1.6492894319540068,-0.33213880818894287,-1.6560909794244025,-1.009918484762426,-0.4687963402846757,0.6401161967456103,0.21746994993596683],\"type\":\"scatter\"}],                        {\"legend\":{\"bgcolor\":\"#F5F6F9\",\"font\":{\"color\":\"#4D5663\"}},\"paper_bgcolor\":\"#F5F6F9\",\"plot_bgcolor\":\"#F5F6F9\",\"template\":{\"data\":{\"barpolar\":[{\"marker\":{\"line\":{\"color\":\"#E5ECF6\",\"width\":0.5},\"pattern\":{\"fillmode\":\"overlay\",\"size\":10,\"solidity\":0.2}},\"type\":\"barpolar\"}],\"bar\":[{\"error_x\":{\"color\":\"#2a3f5f\"},\"error_y\":{\"color\":\"#2a3f5f\"},\"marker\":{\"line\":{\"color\":\"#E5ECF6\",\"width\":0.5},\"pattern\":{\"fillmode\":\"overlay\",\"size\":10,\"solidity\":0.2}},\"type\":\"bar\"}],\"carpet\":[{\"aaxis\":{\"endlinecolor\":\"#2a3f5f\",\"gridcolor\":\"white\",\"linecolor\":\"white\",\"minorgridcolor\":\"white\",\"startlinecolor\":\"#2a3f5f\"},\"baxis\":{\"endlinecolor\":\"#2a3f5f\",\"gridcolor\":\"white\",\"linecolor\":\"white\",\"minorgridcolor\":\"white\",\"startlinecolor\":\"#2a3f5f\"},\"type\":\"carpet\"}],\"choropleth\":[{\"colorbar\":{\"outlinewidth\":0,\"ticks\":\"\"},\"type\":\"choropleth\"}],\"contourcarpet\":[{\"colorbar\":{\"outlinewidth\":0,\"ticks\":\"\"},\"type\":\"contourcarpet\"}],\"contour\":[{\"colorbar\":{\"outlinewidth\":0,\"ticks\":\"\"},\"colorscale\":[[0.0,\"#0d0887\"],[0.1111111111111111,\"#46039f\"],[0.2222222222222222,\"#7201a8\"],[0.3333333333333333,\"#9c179e\"],[0.4444444444444444,\"#bd3786\"],[0.5555555555555556,\"#d8576b\"],[0.6666666666666666,\"#ed7953\"],[0.7777777777777778,\"#fb9f3a\"],[0.8888888888888888,\"#fdca26\"],[1.0,\"#f0f921\"]],\"type\":\"contour\"}],\"heatmapgl\":[{\"colorbar\":{\"outlinewidth\":0,\"ticks\":\"\"},\"colorscale\":[[0.0,\"#0d0887\"],[0.1111111111111111,\"#46039f\"],[0.2222222222222222,\"#7201a8\"],[0.3333333333333333,\"#9c179e\"],[0.4444444444444444,\"#bd3786\"],[0.5555555555555556,\"#d8576b\"],[0.6666666666666666,\"#ed7953\"],[0.7777777777777778,\"#fb9f3a\"],[0.8888888888888888,\"#fdca26\"],[1.0,\"#f0f921\"]],\"type\":\"heatmapgl\"}],\"heatmap\":[{\"colorbar\":{\"outlinewidth\":0,\"ticks\":\"\"},\"colorscale\":[[0.0,\"#0d0887\"],[0.1111111111111111,\"#46039f\"],[0.2222222222222222,\"#7201a8\"],[0.3333333333333333,\"#9c179e\"],[0.4444444444444444,\"#bd3786\"],[0.5555555555555556,\"#d8576b\"],[0.6666666666666666,\"#ed7953\"],[0.7777777777777778,\"#fb9f3a\"],[0.8888888888888888,\"#fdca26\"],[1.0,\"#f0f921\"]],\"type\":\"heatmap\"}],\"histogram2dcontour\":[{\"colorbar\":{\"outlinewidth\":0,\"ticks\":\"\"},\"colorscale\":[[0.0,\"#0d0887\"],[0.1111111111111111,\"#46039f\"],[0.2222222222222222,\"#7201a8\"],[0.3333333333333333,\"#9c179e\"],[0.4444444444444444,\"#bd3786\"],[0.5555555555555556,\"#d8576b\"],[0.6666666666666666,\"#ed7953\"],[0.7777777777777778,\"#fb9f3a\"],[0.8888888888888888,\"#fdca26\"],[1.0,\"#f0f921\"]],\"type\":\"histogram2dcontour\"}],\"histogram2d\":[{\"colorbar\":{\"outlinewidth\":0,\"ticks\":\"\"},\"colorscale\":[[0.0,\"#0d0887\"],[0.1111111111111111,\"#46039f\"],[0.2222222222222222,\"#7201a8\"],[0.3333333333333333,\"#9c179e\"],[0.4444444444444444,\"#bd3786\"],[0.5555555555555556,\"#d8576b\"],[0.6666666666666666,\"#ed7953\"],[0.7777777777777778,\"#fb9f3a\"],[0.8888888888888888,\"#fdca26\"],[1.0,\"#f0f921\"]],\"type\":\"histogram2d\"}],\"histogram\":[{\"marker\":{\"pattern\":{\"fillmode\":\"overlay\",\"size\":10,\"solidity\":0.2}},\"type\":\"histogram\"}],\"mesh3d\":[{\"colorbar\":{\"outlinewidth\":0,\"ticks\":\"\"},\"type\":\"mesh3d\"}],\"parcoords\":[{\"line\":{\"colorbar\":{\"outlinewidth\":0,\"ticks\":\"\"}},\"type\":\"parcoords\"}],\"pie\":[{\"automargin\":true,\"type\":\"pie\"}],\"scatter3d\":[{\"line\":{\"colorbar\":{\"outlinewidth\":0,\"ticks\":\"\"}},\"marker\":{\"colorbar\":{\"outlinewidth\":0,\"ticks\":\"\"}},\"type\":\"scatter3d\"}],\"scattercarpet\":[{\"marker\":{\"colorbar\":{\"outlinewidth\":0,\"ticks\":\"\"}},\"type\":\"scattercarpet\"}],\"scattergeo\":[{\"marker\":{\"colorbar\":{\"outlinewidth\":0,\"ticks\":\"\"}},\"type\":\"scattergeo\"}],\"scattergl\":[{\"marker\":{\"colorbar\":{\"outlinewidth\":0,\"ticks\":\"\"}},\"type\":\"scattergl\"}],\"scattermapbox\":[{\"marker\":{\"colorbar\":{\"outlinewidth\":0,\"ticks\":\"\"}},\"type\":\"scattermapbox\"}],\"scatterpolargl\":[{\"marker\":{\"colorbar\":{\"outlinewidth\":0,\"ticks\":\"\"}},\"type\":\"scatterpolargl\"}],\"scatterpolar\":[{\"marker\":{\"colorbar\":{\"outlinewidth\":0,\"ticks\":\"\"}},\"type\":\"scatterpolar\"}],\"scatter\":[{\"fillpattern\":{\"fillmode\":\"overlay\",\"size\":10,\"solidity\":0.2},\"type\":\"scatter\"}],\"scatterternary\":[{\"marker\":{\"colorbar\":{\"outlinewidth\":0,\"ticks\":\"\"}},\"type\":\"scatterternary\"}],\"surface\":[{\"colorbar\":{\"outlinewidth\":0,\"ticks\":\"\"},\"colorscale\":[[0.0,\"#0d0887\"],[0.1111111111111111,\"#46039f\"],[0.2222222222222222,\"#7201a8\"],[0.3333333333333333,\"#9c179e\"],[0.4444444444444444,\"#bd3786\"],[0.5555555555555556,\"#d8576b\"],[0.6666666666666666,\"#ed7953\"],[0.7777777777777778,\"#fb9f3a\"],[0.8888888888888888,\"#fdca26\"],[1.0,\"#f0f921\"]],\"type\":\"surface\"}],\"table\":[{\"cells\":{\"fill\":{\"color\":\"#EBF0F8\"},\"line\":{\"color\":\"white\"}},\"header\":{\"fill\":{\"color\":\"#C8D4E3\"},\"line\":{\"color\":\"white\"}},\"type\":\"table\"}]},\"layout\":{\"annotationdefaults\":{\"arrowcolor\":\"#2a3f5f\",\"arrowhead\":0,\"arrowwidth\":1},\"autotypenumbers\":\"strict\",\"coloraxis\":{\"colorbar\":{\"outlinewidth\":0,\"ticks\":\"\"}},\"colorscale\":{\"diverging\":[[0,\"#8e0152\"],[0.1,\"#c51b7d\"],[0.2,\"#de77ae\"],[0.3,\"#f1b6da\"],[0.4,\"#fde0ef\"],[0.5,\"#f7f7f7\"],[0.6,\"#e6f5d0\"],[0.7,\"#b8e186\"],[0.8,\"#7fbc41\"],[0.9,\"#4d9221\"],[1,\"#276419\"]],\"sequential\":[[0.0,\"#0d0887\"],[0.1111111111111111,\"#46039f\"],[0.2222222222222222,\"#7201a8\"],[0.3333333333333333,\"#9c179e\"],[0.4444444444444444,\"#bd3786\"],[0.5555555555555556,\"#d8576b\"],[0.6666666666666666,\"#ed7953\"],[0.7777777777777778,\"#fb9f3a\"],[0.8888888888888888,\"#fdca26\"],[1.0,\"#f0f921\"]],\"sequentialminus\":[[0.0,\"#0d0887\"],[0.1111111111111111,\"#46039f\"],[0.2222222222222222,\"#7201a8\"],[0.3333333333333333,\"#9c179e\"],[0.4444444444444444,\"#bd3786\"],[0.5555555555555556,\"#d8576b\"],[0.6666666666666666,\"#ed7953\"],[0.7777777777777778,\"#fb9f3a\"],[0.8888888888888888,\"#fdca26\"],[1.0,\"#f0f921\"]]},\"colorway\":[\"#636efa\",\"#EF553B\",\"#00cc96\",\"#ab63fa\",\"#FFA15A\",\"#19d3f3\",\"#FF6692\",\"#B6E880\",\"#FF97FF\",\"#FECB52\"],\"font\":{\"color\":\"#2a3f5f\"},\"geo\":{\"bgcolor\":\"white\",\"lakecolor\":\"white\",\"landcolor\":\"#E5ECF6\",\"showlakes\":true,\"showland\":true,\"subunitcolor\":\"white\"},\"hoverlabel\":{\"align\":\"left\"},\"hovermode\":\"closest\",\"mapbox\":{\"style\":\"light\"},\"paper_bgcolor\":\"white\",\"plot_bgcolor\":\"#E5ECF6\",\"polar\":{\"angularaxis\":{\"gridcolor\":\"white\",\"linecolor\":\"white\",\"ticks\":\"\"},\"bgcolor\":\"#E5ECF6\",\"radialaxis\":{\"gridcolor\":\"white\",\"linecolor\":\"white\",\"ticks\":\"\"}},\"scene\":{\"xaxis\":{\"backgroundcolor\":\"#E5ECF6\",\"gridcolor\":\"white\",\"gridwidth\":2,\"linecolor\":\"white\",\"showbackground\":true,\"ticks\":\"\",\"zerolinecolor\":\"white\"},\"yaxis\":{\"backgroundcolor\":\"#E5ECF6\",\"gridcolor\":\"white\",\"gridwidth\":2,\"linecolor\":\"white\",\"showbackground\":true,\"ticks\":\"\",\"zerolinecolor\":\"white\"},\"zaxis\":{\"backgroundcolor\":\"#E5ECF6\",\"gridcolor\":\"white\",\"gridwidth\":2,\"linecolor\":\"white\",\"showbackground\":true,\"ticks\":\"\",\"zerolinecolor\":\"white\"}},\"shapedefaults\":{\"line\":{\"color\":\"#2a3f5f\"}},\"ternary\":{\"aaxis\":{\"gridcolor\":\"white\",\"linecolor\":\"white\",\"ticks\":\"\"},\"baxis\":{\"gridcolor\":\"white\",\"linecolor\":\"white\",\"ticks\":\"\"},\"bgcolor\":\"#E5ECF6\",\"caxis\":{\"gridcolor\":\"white\",\"linecolor\":\"white\",\"ticks\":\"\"}},\"title\":{\"x\":0.05},\"xaxis\":{\"automargin\":true,\"gridcolor\":\"white\",\"linecolor\":\"white\",\"ticks\":\"\",\"title\":{\"standoff\":15},\"zerolinecolor\":\"white\",\"zerolinewidth\":2},\"yaxis\":{\"automargin\":true,\"gridcolor\":\"white\",\"linecolor\":\"white\",\"ticks\":\"\",\"title\":{\"standoff\":15},\"zerolinecolor\":\"white\",\"zerolinewidth\":2}}},\"title\":{\"font\":{\"color\":\"#4D5663\"}},\"xaxis\":{\"gridcolor\":\"#E1E5ED\",\"showgrid\":true,\"tickfont\":{\"color\":\"#4D5663\"},\"title\":{\"font\":{\"color\":\"#4D5663\"},\"text\":\"\"},\"zerolinecolor\":\"#E1E5ED\"},\"yaxis\":{\"gridcolor\":\"#E1E5ED\",\"showgrid\":true,\"tickfont\":{\"color\":\"#4D5663\"},\"title\":{\"font\":{\"color\":\"#4D5663\"},\"text\":\"\"},\"zerolinecolor\":\"#E1E5ED\"}},                        {\"showLink\": true, \"linkText\": \"Export to plot.ly\", \"plotlyServerURL\": \"https://plot.ly\", \"responsive\": true}                    ).then(function(){\n",
       "                            \n",
       "var gd = document.getElementById('4c373a36-c46f-4c1e-bcaf-ae1d343180e4');\n",
       "var x = new MutationObserver(function (mutations, observer) {{\n",
       "        var display = window.getComputedStyle(gd).display;\n",
       "        if (!display || display === 'none') {{\n",
       "            console.log([gd, 'removed!']);\n",
       "            Plotly.purge(gd);\n",
       "            observer.disconnect();\n",
       "        }}\n",
       "}});\n",
       "\n",
       "// Listen for the removal of the full notebook cells\n",
       "var notebookContainer = gd.closest('#notebook-container');\n",
       "if (notebookContainer) {{\n",
       "    x.observe(notebookContainer, {childList: true});\n",
       "}}\n",
       "\n",
       "// Listen for the clearing of the current output cell\n",
       "var outputEl = gd.closest('.output');\n",
       "if (outputEl) {{\n",
       "    x.observe(outputEl, {childList: true});\n",
       "}}\n",
       "\n",
       "                        })                };                });            </script>        </div>"
      ]
     },
     "metadata": {},
     "output_type": "display_data"
    }
   ],
   "source": [
    "df.iplot()"
   ]
  },
  {
   "cell_type": "code",
   "execution_count": 14,
   "id": "0b6061d2",
   "metadata": {},
   "outputs": [
    {
     "data": {
      "application/vnd.plotly.v1+json": {
       "config": {
        "linkText": "Export to plot.ly",
        "plotlyServerURL": "https://plot.ly",
        "showLink": true
       },
       "data": [
        {
         "marker": {
          "color": "rgba(255, 153, 51, 0.6)",
          "line": {
           "color": "rgba(255, 153, 51, 1.0)",
           "width": 1
          }
         },
         "name": "Values",
         "orientation": "v",
         "text": "",
         "type": "bar",
         "x": [
          "A",
          "B",
          "C"
         ],
         "y": [
          32,
          43,
          50
         ]
        }
       ],
       "layout": {
        "legend": {
         "bgcolor": "#F5F6F9",
         "font": {
          "color": "#4D5663"
         }
        },
        "paper_bgcolor": "#F5F6F9",
        "plot_bgcolor": "#F5F6F9",
        "template": {
         "data": {
          "bar": [
           {
            "error_x": {
             "color": "#2a3f5f"
            },
            "error_y": {
             "color": "#2a3f5f"
            },
            "marker": {
             "line": {
              "color": "#E5ECF6",
              "width": 0.5
             },
             "pattern": {
              "fillmode": "overlay",
              "size": 10,
              "solidity": 0.2
             }
            },
            "type": "bar"
           }
          ],
          "barpolar": [
           {
            "marker": {
             "line": {
              "color": "#E5ECF6",
              "width": 0.5
             },
             "pattern": {
              "fillmode": "overlay",
              "size": 10,
              "solidity": 0.2
             }
            },
            "type": "barpolar"
           }
          ],
          "carpet": [
           {
            "aaxis": {
             "endlinecolor": "#2a3f5f",
             "gridcolor": "white",
             "linecolor": "white",
             "minorgridcolor": "white",
             "startlinecolor": "#2a3f5f"
            },
            "baxis": {
             "endlinecolor": "#2a3f5f",
             "gridcolor": "white",
             "linecolor": "white",
             "minorgridcolor": "white",
             "startlinecolor": "#2a3f5f"
            },
            "type": "carpet"
           }
          ],
          "choropleth": [
           {
            "colorbar": {
             "outlinewidth": 0,
             "ticks": ""
            },
            "type": "choropleth"
           }
          ],
          "contour": [
           {
            "colorbar": {
             "outlinewidth": 0,
             "ticks": ""
            },
            "colorscale": [
             [
              0,
              "#0d0887"
             ],
             [
              0.1111111111111111,
              "#46039f"
             ],
             [
              0.2222222222222222,
              "#7201a8"
             ],
             [
              0.3333333333333333,
              "#9c179e"
             ],
             [
              0.4444444444444444,
              "#bd3786"
             ],
             [
              0.5555555555555556,
              "#d8576b"
             ],
             [
              0.6666666666666666,
              "#ed7953"
             ],
             [
              0.7777777777777778,
              "#fb9f3a"
             ],
             [
              0.8888888888888888,
              "#fdca26"
             ],
             [
              1,
              "#f0f921"
             ]
            ],
            "type": "contour"
           }
          ],
          "contourcarpet": [
           {
            "colorbar": {
             "outlinewidth": 0,
             "ticks": ""
            },
            "type": "contourcarpet"
           }
          ],
          "heatmap": [
           {
            "colorbar": {
             "outlinewidth": 0,
             "ticks": ""
            },
            "colorscale": [
             [
              0,
              "#0d0887"
             ],
             [
              0.1111111111111111,
              "#46039f"
             ],
             [
              0.2222222222222222,
              "#7201a8"
             ],
             [
              0.3333333333333333,
              "#9c179e"
             ],
             [
              0.4444444444444444,
              "#bd3786"
             ],
             [
              0.5555555555555556,
              "#d8576b"
             ],
             [
              0.6666666666666666,
              "#ed7953"
             ],
             [
              0.7777777777777778,
              "#fb9f3a"
             ],
             [
              0.8888888888888888,
              "#fdca26"
             ],
             [
              1,
              "#f0f921"
             ]
            ],
            "type": "heatmap"
           }
          ],
          "heatmapgl": [
           {
            "colorbar": {
             "outlinewidth": 0,
             "ticks": ""
            },
            "colorscale": [
             [
              0,
              "#0d0887"
             ],
             [
              0.1111111111111111,
              "#46039f"
             ],
             [
              0.2222222222222222,
              "#7201a8"
             ],
             [
              0.3333333333333333,
              "#9c179e"
             ],
             [
              0.4444444444444444,
              "#bd3786"
             ],
             [
              0.5555555555555556,
              "#d8576b"
             ],
             [
              0.6666666666666666,
              "#ed7953"
             ],
             [
              0.7777777777777778,
              "#fb9f3a"
             ],
             [
              0.8888888888888888,
              "#fdca26"
             ],
             [
              1,
              "#f0f921"
             ]
            ],
            "type": "heatmapgl"
           }
          ],
          "histogram": [
           {
            "marker": {
             "pattern": {
              "fillmode": "overlay",
              "size": 10,
              "solidity": 0.2
             }
            },
            "type": "histogram"
           }
          ],
          "histogram2d": [
           {
            "colorbar": {
             "outlinewidth": 0,
             "ticks": ""
            },
            "colorscale": [
             [
              0,
              "#0d0887"
             ],
             [
              0.1111111111111111,
              "#46039f"
             ],
             [
              0.2222222222222222,
              "#7201a8"
             ],
             [
              0.3333333333333333,
              "#9c179e"
             ],
             [
              0.4444444444444444,
              "#bd3786"
             ],
             [
              0.5555555555555556,
              "#d8576b"
             ],
             [
              0.6666666666666666,
              "#ed7953"
             ],
             [
              0.7777777777777778,
              "#fb9f3a"
             ],
             [
              0.8888888888888888,
              "#fdca26"
             ],
             [
              1,
              "#f0f921"
             ]
            ],
            "type": "histogram2d"
           }
          ],
          "histogram2dcontour": [
           {
            "colorbar": {
             "outlinewidth": 0,
             "ticks": ""
            },
            "colorscale": [
             [
              0,
              "#0d0887"
             ],
             [
              0.1111111111111111,
              "#46039f"
             ],
             [
              0.2222222222222222,
              "#7201a8"
             ],
             [
              0.3333333333333333,
              "#9c179e"
             ],
             [
              0.4444444444444444,
              "#bd3786"
             ],
             [
              0.5555555555555556,
              "#d8576b"
             ],
             [
              0.6666666666666666,
              "#ed7953"
             ],
             [
              0.7777777777777778,
              "#fb9f3a"
             ],
             [
              0.8888888888888888,
              "#fdca26"
             ],
             [
              1,
              "#f0f921"
             ]
            ],
            "type": "histogram2dcontour"
           }
          ],
          "mesh3d": [
           {
            "colorbar": {
             "outlinewidth": 0,
             "ticks": ""
            },
            "type": "mesh3d"
           }
          ],
          "parcoords": [
           {
            "line": {
             "colorbar": {
              "outlinewidth": 0,
              "ticks": ""
             }
            },
            "type": "parcoords"
           }
          ],
          "pie": [
           {
            "automargin": true,
            "type": "pie"
           }
          ],
          "scatter": [
           {
            "fillpattern": {
             "fillmode": "overlay",
             "size": 10,
             "solidity": 0.2
            },
            "type": "scatter"
           }
          ],
          "scatter3d": [
           {
            "line": {
             "colorbar": {
              "outlinewidth": 0,
              "ticks": ""
             }
            },
            "marker": {
             "colorbar": {
              "outlinewidth": 0,
              "ticks": ""
             }
            },
            "type": "scatter3d"
           }
          ],
          "scattercarpet": [
           {
            "marker": {
             "colorbar": {
              "outlinewidth": 0,
              "ticks": ""
             }
            },
            "type": "scattercarpet"
           }
          ],
          "scattergeo": [
           {
            "marker": {
             "colorbar": {
              "outlinewidth": 0,
              "ticks": ""
             }
            },
            "type": "scattergeo"
           }
          ],
          "scattergl": [
           {
            "marker": {
             "colorbar": {
              "outlinewidth": 0,
              "ticks": ""
             }
            },
            "type": "scattergl"
           }
          ],
          "scattermapbox": [
           {
            "marker": {
             "colorbar": {
              "outlinewidth": 0,
              "ticks": ""
             }
            },
            "type": "scattermapbox"
           }
          ],
          "scatterpolar": [
           {
            "marker": {
             "colorbar": {
              "outlinewidth": 0,
              "ticks": ""
             }
            },
            "type": "scatterpolar"
           }
          ],
          "scatterpolargl": [
           {
            "marker": {
             "colorbar": {
              "outlinewidth": 0,
              "ticks": ""
             }
            },
            "type": "scatterpolargl"
           }
          ],
          "scatterternary": [
           {
            "marker": {
             "colorbar": {
              "outlinewidth": 0,
              "ticks": ""
             }
            },
            "type": "scatterternary"
           }
          ],
          "surface": [
           {
            "colorbar": {
             "outlinewidth": 0,
             "ticks": ""
            },
            "colorscale": [
             [
              0,
              "#0d0887"
             ],
             [
              0.1111111111111111,
              "#46039f"
             ],
             [
              0.2222222222222222,
              "#7201a8"
             ],
             [
              0.3333333333333333,
              "#9c179e"
             ],
             [
              0.4444444444444444,
              "#bd3786"
             ],
             [
              0.5555555555555556,
              "#d8576b"
             ],
             [
              0.6666666666666666,
              "#ed7953"
             ],
             [
              0.7777777777777778,
              "#fb9f3a"
             ],
             [
              0.8888888888888888,
              "#fdca26"
             ],
             [
              1,
              "#f0f921"
             ]
            ],
            "type": "surface"
           }
          ],
          "table": [
           {
            "cells": {
             "fill": {
              "color": "#EBF0F8"
             },
             "line": {
              "color": "white"
             }
            },
            "header": {
             "fill": {
              "color": "#C8D4E3"
             },
             "line": {
              "color": "white"
             }
            },
            "type": "table"
           }
          ]
         },
         "layout": {
          "annotationdefaults": {
           "arrowcolor": "#2a3f5f",
           "arrowhead": 0,
           "arrowwidth": 1
          },
          "autotypenumbers": "strict",
          "coloraxis": {
           "colorbar": {
            "outlinewidth": 0,
            "ticks": ""
           }
          },
          "colorscale": {
           "diverging": [
            [
             0,
             "#8e0152"
            ],
            [
             0.1,
             "#c51b7d"
            ],
            [
             0.2,
             "#de77ae"
            ],
            [
             0.3,
             "#f1b6da"
            ],
            [
             0.4,
             "#fde0ef"
            ],
            [
             0.5,
             "#f7f7f7"
            ],
            [
             0.6,
             "#e6f5d0"
            ],
            [
             0.7,
             "#b8e186"
            ],
            [
             0.8,
             "#7fbc41"
            ],
            [
             0.9,
             "#4d9221"
            ],
            [
             1,
             "#276419"
            ]
           ],
           "sequential": [
            [
             0,
             "#0d0887"
            ],
            [
             0.1111111111111111,
             "#46039f"
            ],
            [
             0.2222222222222222,
             "#7201a8"
            ],
            [
             0.3333333333333333,
             "#9c179e"
            ],
            [
             0.4444444444444444,
             "#bd3786"
            ],
            [
             0.5555555555555556,
             "#d8576b"
            ],
            [
             0.6666666666666666,
             "#ed7953"
            ],
            [
             0.7777777777777778,
             "#fb9f3a"
            ],
            [
             0.8888888888888888,
             "#fdca26"
            ],
            [
             1,
             "#f0f921"
            ]
           ],
           "sequentialminus": [
            [
             0,
             "#0d0887"
            ],
            [
             0.1111111111111111,
             "#46039f"
            ],
            [
             0.2222222222222222,
             "#7201a8"
            ],
            [
             0.3333333333333333,
             "#9c179e"
            ],
            [
             0.4444444444444444,
             "#bd3786"
            ],
            [
             0.5555555555555556,
             "#d8576b"
            ],
            [
             0.6666666666666666,
             "#ed7953"
            ],
            [
             0.7777777777777778,
             "#fb9f3a"
            ],
            [
             0.8888888888888888,
             "#fdca26"
            ],
            [
             1,
             "#f0f921"
            ]
           ]
          },
          "colorway": [
           "#636efa",
           "#EF553B",
           "#00cc96",
           "#ab63fa",
           "#FFA15A",
           "#19d3f3",
           "#FF6692",
           "#B6E880",
           "#FF97FF",
           "#FECB52"
          ],
          "font": {
           "color": "#2a3f5f"
          },
          "geo": {
           "bgcolor": "white",
           "lakecolor": "white",
           "landcolor": "#E5ECF6",
           "showlakes": true,
           "showland": true,
           "subunitcolor": "white"
          },
          "hoverlabel": {
           "align": "left"
          },
          "hovermode": "closest",
          "mapbox": {
           "style": "light"
          },
          "paper_bgcolor": "white",
          "plot_bgcolor": "#E5ECF6",
          "polar": {
           "angularaxis": {
            "gridcolor": "white",
            "linecolor": "white",
            "ticks": ""
           },
           "bgcolor": "#E5ECF6",
           "radialaxis": {
            "gridcolor": "white",
            "linecolor": "white",
            "ticks": ""
           }
          },
          "scene": {
           "xaxis": {
            "backgroundcolor": "#E5ECF6",
            "gridcolor": "white",
            "gridwidth": 2,
            "linecolor": "white",
            "showbackground": true,
            "ticks": "",
            "zerolinecolor": "white"
           },
           "yaxis": {
            "backgroundcolor": "#E5ECF6",
            "gridcolor": "white",
            "gridwidth": 2,
            "linecolor": "white",
            "showbackground": true,
            "ticks": "",
            "zerolinecolor": "white"
           },
           "zaxis": {
            "backgroundcolor": "#E5ECF6",
            "gridcolor": "white",
            "gridwidth": 2,
            "linecolor": "white",
            "showbackground": true,
            "ticks": "",
            "zerolinecolor": "white"
           }
          },
          "shapedefaults": {
           "line": {
            "color": "#2a3f5f"
           }
          },
          "ternary": {
           "aaxis": {
            "gridcolor": "white",
            "linecolor": "white",
            "ticks": ""
           },
           "baxis": {
            "gridcolor": "white",
            "linecolor": "white",
            "ticks": ""
           },
           "bgcolor": "#E5ECF6",
           "caxis": {
            "gridcolor": "white",
            "linecolor": "white",
            "ticks": ""
           }
          },
          "title": {
           "x": 0.05
          },
          "xaxis": {
           "automargin": true,
           "gridcolor": "white",
           "linecolor": "white",
           "ticks": "",
           "title": {
            "standoff": 15
           },
           "zerolinecolor": "white",
           "zerolinewidth": 2
          },
          "yaxis": {
           "automargin": true,
           "gridcolor": "white",
           "linecolor": "white",
           "ticks": "",
           "title": {
            "standoff": 15
           },
           "zerolinecolor": "white",
           "zerolinewidth": 2
          }
         }
        },
        "title": {
         "font": {
          "color": "#4D5663"
         }
        },
        "xaxis": {
         "gridcolor": "#E1E5ED",
         "showgrid": true,
         "tickfont": {
          "color": "#4D5663"
         },
         "title": {
          "font": {
           "color": "#4D5663"
          },
          "text": ""
         },
         "zerolinecolor": "#E1E5ED"
        },
        "yaxis": {
         "gridcolor": "#E1E5ED",
         "showgrid": true,
         "tickfont": {
          "color": "#4D5663"
         },
         "title": {
          "font": {
           "color": "#4D5663"
          },
          "text": ""
         },
         "zerolinecolor": "#E1E5ED"
        }
       }
      },
      "text/html": [
       "<div>                            <div id=\"fceae184-5fa5-479f-99cd-dd8df15e9bb1\" class=\"plotly-graph-div\" style=\"height:525px; width:100%;\"></div>            <script type=\"text/javascript\">                require([\"plotly\"], function(Plotly) {                    window.PLOTLYENV=window.PLOTLYENV || {};\n",
       "                    window.PLOTLYENV.BASE_URL='https://plot.ly';                                    if (document.getElementById(\"fceae184-5fa5-479f-99cd-dd8df15e9bb1\")) {                    Plotly.newPlot(                        \"fceae184-5fa5-479f-99cd-dd8df15e9bb1\",                        [{\"marker\":{\"color\":\"rgba(255, 153, 51, 0.6)\",\"line\":{\"color\":\"rgba(255, 153, 51, 1.0)\",\"width\":1}},\"name\":\"Values\",\"orientation\":\"v\",\"text\":\"\",\"x\":[\"A\",\"B\",\"C\"],\"y\":[32,43,50],\"type\":\"bar\"}],                        {\"legend\":{\"bgcolor\":\"#F5F6F9\",\"font\":{\"color\":\"#4D5663\"}},\"paper_bgcolor\":\"#F5F6F9\",\"plot_bgcolor\":\"#F5F6F9\",\"template\":{\"data\":{\"barpolar\":[{\"marker\":{\"line\":{\"color\":\"#E5ECF6\",\"width\":0.5},\"pattern\":{\"fillmode\":\"overlay\",\"size\":10,\"solidity\":0.2}},\"type\":\"barpolar\"}],\"bar\":[{\"error_x\":{\"color\":\"#2a3f5f\"},\"error_y\":{\"color\":\"#2a3f5f\"},\"marker\":{\"line\":{\"color\":\"#E5ECF6\",\"width\":0.5},\"pattern\":{\"fillmode\":\"overlay\",\"size\":10,\"solidity\":0.2}},\"type\":\"bar\"}],\"carpet\":[{\"aaxis\":{\"endlinecolor\":\"#2a3f5f\",\"gridcolor\":\"white\",\"linecolor\":\"white\",\"minorgridcolor\":\"white\",\"startlinecolor\":\"#2a3f5f\"},\"baxis\":{\"endlinecolor\":\"#2a3f5f\",\"gridcolor\":\"white\",\"linecolor\":\"white\",\"minorgridcolor\":\"white\",\"startlinecolor\":\"#2a3f5f\"},\"type\":\"carpet\"}],\"choropleth\":[{\"colorbar\":{\"outlinewidth\":0,\"ticks\":\"\"},\"type\":\"choropleth\"}],\"contourcarpet\":[{\"colorbar\":{\"outlinewidth\":0,\"ticks\":\"\"},\"type\":\"contourcarpet\"}],\"contour\":[{\"colorbar\":{\"outlinewidth\":0,\"ticks\":\"\"},\"colorscale\":[[0.0,\"#0d0887\"],[0.1111111111111111,\"#46039f\"],[0.2222222222222222,\"#7201a8\"],[0.3333333333333333,\"#9c179e\"],[0.4444444444444444,\"#bd3786\"],[0.5555555555555556,\"#d8576b\"],[0.6666666666666666,\"#ed7953\"],[0.7777777777777778,\"#fb9f3a\"],[0.8888888888888888,\"#fdca26\"],[1.0,\"#f0f921\"]],\"type\":\"contour\"}],\"heatmapgl\":[{\"colorbar\":{\"outlinewidth\":0,\"ticks\":\"\"},\"colorscale\":[[0.0,\"#0d0887\"],[0.1111111111111111,\"#46039f\"],[0.2222222222222222,\"#7201a8\"],[0.3333333333333333,\"#9c179e\"],[0.4444444444444444,\"#bd3786\"],[0.5555555555555556,\"#d8576b\"],[0.6666666666666666,\"#ed7953\"],[0.7777777777777778,\"#fb9f3a\"],[0.8888888888888888,\"#fdca26\"],[1.0,\"#f0f921\"]],\"type\":\"heatmapgl\"}],\"heatmap\":[{\"colorbar\":{\"outlinewidth\":0,\"ticks\":\"\"},\"colorscale\":[[0.0,\"#0d0887\"],[0.1111111111111111,\"#46039f\"],[0.2222222222222222,\"#7201a8\"],[0.3333333333333333,\"#9c179e\"],[0.4444444444444444,\"#bd3786\"],[0.5555555555555556,\"#d8576b\"],[0.6666666666666666,\"#ed7953\"],[0.7777777777777778,\"#fb9f3a\"],[0.8888888888888888,\"#fdca26\"],[1.0,\"#f0f921\"]],\"type\":\"heatmap\"}],\"histogram2dcontour\":[{\"colorbar\":{\"outlinewidth\":0,\"ticks\":\"\"},\"colorscale\":[[0.0,\"#0d0887\"],[0.1111111111111111,\"#46039f\"],[0.2222222222222222,\"#7201a8\"],[0.3333333333333333,\"#9c179e\"],[0.4444444444444444,\"#bd3786\"],[0.5555555555555556,\"#d8576b\"],[0.6666666666666666,\"#ed7953\"],[0.7777777777777778,\"#fb9f3a\"],[0.8888888888888888,\"#fdca26\"],[1.0,\"#f0f921\"]],\"type\":\"histogram2dcontour\"}],\"histogram2d\":[{\"colorbar\":{\"outlinewidth\":0,\"ticks\":\"\"},\"colorscale\":[[0.0,\"#0d0887\"],[0.1111111111111111,\"#46039f\"],[0.2222222222222222,\"#7201a8\"],[0.3333333333333333,\"#9c179e\"],[0.4444444444444444,\"#bd3786\"],[0.5555555555555556,\"#d8576b\"],[0.6666666666666666,\"#ed7953\"],[0.7777777777777778,\"#fb9f3a\"],[0.8888888888888888,\"#fdca26\"],[1.0,\"#f0f921\"]],\"type\":\"histogram2d\"}],\"histogram\":[{\"marker\":{\"pattern\":{\"fillmode\":\"overlay\",\"size\":10,\"solidity\":0.2}},\"type\":\"histogram\"}],\"mesh3d\":[{\"colorbar\":{\"outlinewidth\":0,\"ticks\":\"\"},\"type\":\"mesh3d\"}],\"parcoords\":[{\"line\":{\"colorbar\":{\"outlinewidth\":0,\"ticks\":\"\"}},\"type\":\"parcoords\"}],\"pie\":[{\"automargin\":true,\"type\":\"pie\"}],\"scatter3d\":[{\"line\":{\"colorbar\":{\"outlinewidth\":0,\"ticks\":\"\"}},\"marker\":{\"colorbar\":{\"outlinewidth\":0,\"ticks\":\"\"}},\"type\":\"scatter3d\"}],\"scattercarpet\":[{\"marker\":{\"colorbar\":{\"outlinewidth\":0,\"ticks\":\"\"}},\"type\":\"scattercarpet\"}],\"scattergeo\":[{\"marker\":{\"colorbar\":{\"outlinewidth\":0,\"ticks\":\"\"}},\"type\":\"scattergeo\"}],\"scattergl\":[{\"marker\":{\"colorbar\":{\"outlinewidth\":0,\"ticks\":\"\"}},\"type\":\"scattergl\"}],\"scattermapbox\":[{\"marker\":{\"colorbar\":{\"outlinewidth\":0,\"ticks\":\"\"}},\"type\":\"scattermapbox\"}],\"scatterpolargl\":[{\"marker\":{\"colorbar\":{\"outlinewidth\":0,\"ticks\":\"\"}},\"type\":\"scatterpolargl\"}],\"scatterpolar\":[{\"marker\":{\"colorbar\":{\"outlinewidth\":0,\"ticks\":\"\"}},\"type\":\"scatterpolar\"}],\"scatter\":[{\"fillpattern\":{\"fillmode\":\"overlay\",\"size\":10,\"solidity\":0.2},\"type\":\"scatter\"}],\"scatterternary\":[{\"marker\":{\"colorbar\":{\"outlinewidth\":0,\"ticks\":\"\"}},\"type\":\"scatterternary\"}],\"surface\":[{\"colorbar\":{\"outlinewidth\":0,\"ticks\":\"\"},\"colorscale\":[[0.0,\"#0d0887\"],[0.1111111111111111,\"#46039f\"],[0.2222222222222222,\"#7201a8\"],[0.3333333333333333,\"#9c179e\"],[0.4444444444444444,\"#bd3786\"],[0.5555555555555556,\"#d8576b\"],[0.6666666666666666,\"#ed7953\"],[0.7777777777777778,\"#fb9f3a\"],[0.8888888888888888,\"#fdca26\"],[1.0,\"#f0f921\"]],\"type\":\"surface\"}],\"table\":[{\"cells\":{\"fill\":{\"color\":\"#EBF0F8\"},\"line\":{\"color\":\"white\"}},\"header\":{\"fill\":{\"color\":\"#C8D4E3\"},\"line\":{\"color\":\"white\"}},\"type\":\"table\"}]},\"layout\":{\"annotationdefaults\":{\"arrowcolor\":\"#2a3f5f\",\"arrowhead\":0,\"arrowwidth\":1},\"autotypenumbers\":\"strict\",\"coloraxis\":{\"colorbar\":{\"outlinewidth\":0,\"ticks\":\"\"}},\"colorscale\":{\"diverging\":[[0,\"#8e0152\"],[0.1,\"#c51b7d\"],[0.2,\"#de77ae\"],[0.3,\"#f1b6da\"],[0.4,\"#fde0ef\"],[0.5,\"#f7f7f7\"],[0.6,\"#e6f5d0\"],[0.7,\"#b8e186\"],[0.8,\"#7fbc41\"],[0.9,\"#4d9221\"],[1,\"#276419\"]],\"sequential\":[[0.0,\"#0d0887\"],[0.1111111111111111,\"#46039f\"],[0.2222222222222222,\"#7201a8\"],[0.3333333333333333,\"#9c179e\"],[0.4444444444444444,\"#bd3786\"],[0.5555555555555556,\"#d8576b\"],[0.6666666666666666,\"#ed7953\"],[0.7777777777777778,\"#fb9f3a\"],[0.8888888888888888,\"#fdca26\"],[1.0,\"#f0f921\"]],\"sequentialminus\":[[0.0,\"#0d0887\"],[0.1111111111111111,\"#46039f\"],[0.2222222222222222,\"#7201a8\"],[0.3333333333333333,\"#9c179e\"],[0.4444444444444444,\"#bd3786\"],[0.5555555555555556,\"#d8576b\"],[0.6666666666666666,\"#ed7953\"],[0.7777777777777778,\"#fb9f3a\"],[0.8888888888888888,\"#fdca26\"],[1.0,\"#f0f921\"]]},\"colorway\":[\"#636efa\",\"#EF553B\",\"#00cc96\",\"#ab63fa\",\"#FFA15A\",\"#19d3f3\",\"#FF6692\",\"#B6E880\",\"#FF97FF\",\"#FECB52\"],\"font\":{\"color\":\"#2a3f5f\"},\"geo\":{\"bgcolor\":\"white\",\"lakecolor\":\"white\",\"landcolor\":\"#E5ECF6\",\"showlakes\":true,\"showland\":true,\"subunitcolor\":\"white\"},\"hoverlabel\":{\"align\":\"left\"},\"hovermode\":\"closest\",\"mapbox\":{\"style\":\"light\"},\"paper_bgcolor\":\"white\",\"plot_bgcolor\":\"#E5ECF6\",\"polar\":{\"angularaxis\":{\"gridcolor\":\"white\",\"linecolor\":\"white\",\"ticks\":\"\"},\"bgcolor\":\"#E5ECF6\",\"radialaxis\":{\"gridcolor\":\"white\",\"linecolor\":\"white\",\"ticks\":\"\"}},\"scene\":{\"xaxis\":{\"backgroundcolor\":\"#E5ECF6\",\"gridcolor\":\"white\",\"gridwidth\":2,\"linecolor\":\"white\",\"showbackground\":true,\"ticks\":\"\",\"zerolinecolor\":\"white\"},\"yaxis\":{\"backgroundcolor\":\"#E5ECF6\",\"gridcolor\":\"white\",\"gridwidth\":2,\"linecolor\":\"white\",\"showbackground\":true,\"ticks\":\"\",\"zerolinecolor\":\"white\"},\"zaxis\":{\"backgroundcolor\":\"#E5ECF6\",\"gridcolor\":\"white\",\"gridwidth\":2,\"linecolor\":\"white\",\"showbackground\":true,\"ticks\":\"\",\"zerolinecolor\":\"white\"}},\"shapedefaults\":{\"line\":{\"color\":\"#2a3f5f\"}},\"ternary\":{\"aaxis\":{\"gridcolor\":\"white\",\"linecolor\":\"white\",\"ticks\":\"\"},\"baxis\":{\"gridcolor\":\"white\",\"linecolor\":\"white\",\"ticks\":\"\"},\"bgcolor\":\"#E5ECF6\",\"caxis\":{\"gridcolor\":\"white\",\"linecolor\":\"white\",\"ticks\":\"\"}},\"title\":{\"x\":0.05},\"xaxis\":{\"automargin\":true,\"gridcolor\":\"white\",\"linecolor\":\"white\",\"ticks\":\"\",\"title\":{\"standoff\":15},\"zerolinecolor\":\"white\",\"zerolinewidth\":2},\"yaxis\":{\"automargin\":true,\"gridcolor\":\"white\",\"linecolor\":\"white\",\"ticks\":\"\",\"title\":{\"standoff\":15},\"zerolinecolor\":\"white\",\"zerolinewidth\":2}}},\"title\":{\"font\":{\"color\":\"#4D5663\"}},\"xaxis\":{\"gridcolor\":\"#E1E5ED\",\"showgrid\":true,\"tickfont\":{\"color\":\"#4D5663\"},\"title\":{\"font\":{\"color\":\"#4D5663\"},\"text\":\"\"},\"zerolinecolor\":\"#E1E5ED\"},\"yaxis\":{\"gridcolor\":\"#E1E5ED\",\"showgrid\":true,\"tickfont\":{\"color\":\"#4D5663\"},\"title\":{\"font\":{\"color\":\"#4D5663\"},\"text\":\"\"},\"zerolinecolor\":\"#E1E5ED\"}},                        {\"showLink\": true, \"linkText\": \"Export to plot.ly\", \"plotlyServerURL\": \"https://plot.ly\", \"responsive\": true}                    ).then(function(){\n",
       "                            \n",
       "var gd = document.getElementById('fceae184-5fa5-479f-99cd-dd8df15e9bb1');\n",
       "var x = new MutationObserver(function (mutations, observer) {{\n",
       "        var display = window.getComputedStyle(gd).display;\n",
       "        if (!display || display === 'none') {{\n",
       "            console.log([gd, 'removed!']);\n",
       "            Plotly.purge(gd);\n",
       "            observer.disconnect();\n",
       "        }}\n",
       "}});\n",
       "\n",
       "// Listen for the removal of the full notebook cells\n",
       "var notebookContainer = gd.closest('#notebook-container');\n",
       "if (notebookContainer) {{\n",
       "    x.observe(notebookContainer, {childList: true});\n",
       "}}\n",
       "\n",
       "// Listen for the clearing of the current output cell\n",
       "var outputEl = gd.closest('.output');\n",
       "if (outputEl) {{\n",
       "    x.observe(outputEl, {childList: true});\n",
       "}}\n",
       "\n",
       "                        })                };                });            </script>        </div>"
      ]
     },
     "metadata": {},
     "output_type": "display_data"
    }
   ],
   "source": [
    "#Bar Plots\n",
    "\n",
    "df2.iplot(kind='bar',x='Category',y='Values')"
   ]
  },
  {
   "cell_type": "code",
   "execution_count": 15,
   "id": "d8ba0691",
   "metadata": {},
   "outputs": [
    {
     "data": {
      "application/vnd.plotly.v1+json": {
       "config": {
        "linkText": "Export to plot.ly",
        "plotlyServerURL": "https://plot.ly",
        "showLink": true
       },
       "data": [
        {
         "marker": {
          "color": "rgba(255, 153, 51, 0.6)",
          "line": {
           "color": "rgba(255, 153, 51, 1.0)",
           "width": 1
          }
         },
         "name": "None",
         "orientation": "v",
         "text": "",
         "type": "bar",
         "x": [
          "A",
          "B",
          "C",
          "D"
         ],
         "y": [
          100,
          100,
          100,
          100
         ]
        }
       ],
       "layout": {
        "legend": {
         "bgcolor": "#F5F6F9",
         "font": {
          "color": "#4D5663"
         }
        },
        "paper_bgcolor": "#F5F6F9",
        "plot_bgcolor": "#F5F6F9",
        "template": {
         "data": {
          "bar": [
           {
            "error_x": {
             "color": "#2a3f5f"
            },
            "error_y": {
             "color": "#2a3f5f"
            },
            "marker": {
             "line": {
              "color": "#E5ECF6",
              "width": 0.5
             },
             "pattern": {
              "fillmode": "overlay",
              "size": 10,
              "solidity": 0.2
             }
            },
            "type": "bar"
           }
          ],
          "barpolar": [
           {
            "marker": {
             "line": {
              "color": "#E5ECF6",
              "width": 0.5
             },
             "pattern": {
              "fillmode": "overlay",
              "size": 10,
              "solidity": 0.2
             }
            },
            "type": "barpolar"
           }
          ],
          "carpet": [
           {
            "aaxis": {
             "endlinecolor": "#2a3f5f",
             "gridcolor": "white",
             "linecolor": "white",
             "minorgridcolor": "white",
             "startlinecolor": "#2a3f5f"
            },
            "baxis": {
             "endlinecolor": "#2a3f5f",
             "gridcolor": "white",
             "linecolor": "white",
             "minorgridcolor": "white",
             "startlinecolor": "#2a3f5f"
            },
            "type": "carpet"
           }
          ],
          "choropleth": [
           {
            "colorbar": {
             "outlinewidth": 0,
             "ticks": ""
            },
            "type": "choropleth"
           }
          ],
          "contour": [
           {
            "colorbar": {
             "outlinewidth": 0,
             "ticks": ""
            },
            "colorscale": [
             [
              0,
              "#0d0887"
             ],
             [
              0.1111111111111111,
              "#46039f"
             ],
             [
              0.2222222222222222,
              "#7201a8"
             ],
             [
              0.3333333333333333,
              "#9c179e"
             ],
             [
              0.4444444444444444,
              "#bd3786"
             ],
             [
              0.5555555555555556,
              "#d8576b"
             ],
             [
              0.6666666666666666,
              "#ed7953"
             ],
             [
              0.7777777777777778,
              "#fb9f3a"
             ],
             [
              0.8888888888888888,
              "#fdca26"
             ],
             [
              1,
              "#f0f921"
             ]
            ],
            "type": "contour"
           }
          ],
          "contourcarpet": [
           {
            "colorbar": {
             "outlinewidth": 0,
             "ticks": ""
            },
            "type": "contourcarpet"
           }
          ],
          "heatmap": [
           {
            "colorbar": {
             "outlinewidth": 0,
             "ticks": ""
            },
            "colorscale": [
             [
              0,
              "#0d0887"
             ],
             [
              0.1111111111111111,
              "#46039f"
             ],
             [
              0.2222222222222222,
              "#7201a8"
             ],
             [
              0.3333333333333333,
              "#9c179e"
             ],
             [
              0.4444444444444444,
              "#bd3786"
             ],
             [
              0.5555555555555556,
              "#d8576b"
             ],
             [
              0.6666666666666666,
              "#ed7953"
             ],
             [
              0.7777777777777778,
              "#fb9f3a"
             ],
             [
              0.8888888888888888,
              "#fdca26"
             ],
             [
              1,
              "#f0f921"
             ]
            ],
            "type": "heatmap"
           }
          ],
          "heatmapgl": [
           {
            "colorbar": {
             "outlinewidth": 0,
             "ticks": ""
            },
            "colorscale": [
             [
              0,
              "#0d0887"
             ],
             [
              0.1111111111111111,
              "#46039f"
             ],
             [
              0.2222222222222222,
              "#7201a8"
             ],
             [
              0.3333333333333333,
              "#9c179e"
             ],
             [
              0.4444444444444444,
              "#bd3786"
             ],
             [
              0.5555555555555556,
              "#d8576b"
             ],
             [
              0.6666666666666666,
              "#ed7953"
             ],
             [
              0.7777777777777778,
              "#fb9f3a"
             ],
             [
              0.8888888888888888,
              "#fdca26"
             ],
             [
              1,
              "#f0f921"
             ]
            ],
            "type": "heatmapgl"
           }
          ],
          "histogram": [
           {
            "marker": {
             "pattern": {
              "fillmode": "overlay",
              "size": 10,
              "solidity": 0.2
             }
            },
            "type": "histogram"
           }
          ],
          "histogram2d": [
           {
            "colorbar": {
             "outlinewidth": 0,
             "ticks": ""
            },
            "colorscale": [
             [
              0,
              "#0d0887"
             ],
             [
              0.1111111111111111,
              "#46039f"
             ],
             [
              0.2222222222222222,
              "#7201a8"
             ],
             [
              0.3333333333333333,
              "#9c179e"
             ],
             [
              0.4444444444444444,
              "#bd3786"
             ],
             [
              0.5555555555555556,
              "#d8576b"
             ],
             [
              0.6666666666666666,
              "#ed7953"
             ],
             [
              0.7777777777777778,
              "#fb9f3a"
             ],
             [
              0.8888888888888888,
              "#fdca26"
             ],
             [
              1,
              "#f0f921"
             ]
            ],
            "type": "histogram2d"
           }
          ],
          "histogram2dcontour": [
           {
            "colorbar": {
             "outlinewidth": 0,
             "ticks": ""
            },
            "colorscale": [
             [
              0,
              "#0d0887"
             ],
             [
              0.1111111111111111,
              "#46039f"
             ],
             [
              0.2222222222222222,
              "#7201a8"
             ],
             [
              0.3333333333333333,
              "#9c179e"
             ],
             [
              0.4444444444444444,
              "#bd3786"
             ],
             [
              0.5555555555555556,
              "#d8576b"
             ],
             [
              0.6666666666666666,
              "#ed7953"
             ],
             [
              0.7777777777777778,
              "#fb9f3a"
             ],
             [
              0.8888888888888888,
              "#fdca26"
             ],
             [
              1,
              "#f0f921"
             ]
            ],
            "type": "histogram2dcontour"
           }
          ],
          "mesh3d": [
           {
            "colorbar": {
             "outlinewidth": 0,
             "ticks": ""
            },
            "type": "mesh3d"
           }
          ],
          "parcoords": [
           {
            "line": {
             "colorbar": {
              "outlinewidth": 0,
              "ticks": ""
             }
            },
            "type": "parcoords"
           }
          ],
          "pie": [
           {
            "automargin": true,
            "type": "pie"
           }
          ],
          "scatter": [
           {
            "fillpattern": {
             "fillmode": "overlay",
             "size": 10,
             "solidity": 0.2
            },
            "type": "scatter"
           }
          ],
          "scatter3d": [
           {
            "line": {
             "colorbar": {
              "outlinewidth": 0,
              "ticks": ""
             }
            },
            "marker": {
             "colorbar": {
              "outlinewidth": 0,
              "ticks": ""
             }
            },
            "type": "scatter3d"
           }
          ],
          "scattercarpet": [
           {
            "marker": {
             "colorbar": {
              "outlinewidth": 0,
              "ticks": ""
             }
            },
            "type": "scattercarpet"
           }
          ],
          "scattergeo": [
           {
            "marker": {
             "colorbar": {
              "outlinewidth": 0,
              "ticks": ""
             }
            },
            "type": "scattergeo"
           }
          ],
          "scattergl": [
           {
            "marker": {
             "colorbar": {
              "outlinewidth": 0,
              "ticks": ""
             }
            },
            "type": "scattergl"
           }
          ],
          "scattermapbox": [
           {
            "marker": {
             "colorbar": {
              "outlinewidth": 0,
              "ticks": ""
             }
            },
            "type": "scattermapbox"
           }
          ],
          "scatterpolar": [
           {
            "marker": {
             "colorbar": {
              "outlinewidth": 0,
              "ticks": ""
             }
            },
            "type": "scatterpolar"
           }
          ],
          "scatterpolargl": [
           {
            "marker": {
             "colorbar": {
              "outlinewidth": 0,
              "ticks": ""
             }
            },
            "type": "scatterpolargl"
           }
          ],
          "scatterternary": [
           {
            "marker": {
             "colorbar": {
              "outlinewidth": 0,
              "ticks": ""
             }
            },
            "type": "scatterternary"
           }
          ],
          "surface": [
           {
            "colorbar": {
             "outlinewidth": 0,
             "ticks": ""
            },
            "colorscale": [
             [
              0,
              "#0d0887"
             ],
             [
              0.1111111111111111,
              "#46039f"
             ],
             [
              0.2222222222222222,
              "#7201a8"
             ],
             [
              0.3333333333333333,
              "#9c179e"
             ],
             [
              0.4444444444444444,
              "#bd3786"
             ],
             [
              0.5555555555555556,
              "#d8576b"
             ],
             [
              0.6666666666666666,
              "#ed7953"
             ],
             [
              0.7777777777777778,
              "#fb9f3a"
             ],
             [
              0.8888888888888888,
              "#fdca26"
             ],
             [
              1,
              "#f0f921"
             ]
            ],
            "type": "surface"
           }
          ],
          "table": [
           {
            "cells": {
             "fill": {
              "color": "#EBF0F8"
             },
             "line": {
              "color": "white"
             }
            },
            "header": {
             "fill": {
              "color": "#C8D4E3"
             },
             "line": {
              "color": "white"
             }
            },
            "type": "table"
           }
          ]
         },
         "layout": {
          "annotationdefaults": {
           "arrowcolor": "#2a3f5f",
           "arrowhead": 0,
           "arrowwidth": 1
          },
          "autotypenumbers": "strict",
          "coloraxis": {
           "colorbar": {
            "outlinewidth": 0,
            "ticks": ""
           }
          },
          "colorscale": {
           "diverging": [
            [
             0,
             "#8e0152"
            ],
            [
             0.1,
             "#c51b7d"
            ],
            [
             0.2,
             "#de77ae"
            ],
            [
             0.3,
             "#f1b6da"
            ],
            [
             0.4,
             "#fde0ef"
            ],
            [
             0.5,
             "#f7f7f7"
            ],
            [
             0.6,
             "#e6f5d0"
            ],
            [
             0.7,
             "#b8e186"
            ],
            [
             0.8,
             "#7fbc41"
            ],
            [
             0.9,
             "#4d9221"
            ],
            [
             1,
             "#276419"
            ]
           ],
           "sequential": [
            [
             0,
             "#0d0887"
            ],
            [
             0.1111111111111111,
             "#46039f"
            ],
            [
             0.2222222222222222,
             "#7201a8"
            ],
            [
             0.3333333333333333,
             "#9c179e"
            ],
            [
             0.4444444444444444,
             "#bd3786"
            ],
            [
             0.5555555555555556,
             "#d8576b"
            ],
            [
             0.6666666666666666,
             "#ed7953"
            ],
            [
             0.7777777777777778,
             "#fb9f3a"
            ],
            [
             0.8888888888888888,
             "#fdca26"
            ],
            [
             1,
             "#f0f921"
            ]
           ],
           "sequentialminus": [
            [
             0,
             "#0d0887"
            ],
            [
             0.1111111111111111,
             "#46039f"
            ],
            [
             0.2222222222222222,
             "#7201a8"
            ],
            [
             0.3333333333333333,
             "#9c179e"
            ],
            [
             0.4444444444444444,
             "#bd3786"
            ],
            [
             0.5555555555555556,
             "#d8576b"
            ],
            [
             0.6666666666666666,
             "#ed7953"
            ],
            [
             0.7777777777777778,
             "#fb9f3a"
            ],
            [
             0.8888888888888888,
             "#fdca26"
            ],
            [
             1,
             "#f0f921"
            ]
           ]
          },
          "colorway": [
           "#636efa",
           "#EF553B",
           "#00cc96",
           "#ab63fa",
           "#FFA15A",
           "#19d3f3",
           "#FF6692",
           "#B6E880",
           "#FF97FF",
           "#FECB52"
          ],
          "font": {
           "color": "#2a3f5f"
          },
          "geo": {
           "bgcolor": "white",
           "lakecolor": "white",
           "landcolor": "#E5ECF6",
           "showlakes": true,
           "showland": true,
           "subunitcolor": "white"
          },
          "hoverlabel": {
           "align": "left"
          },
          "hovermode": "closest",
          "mapbox": {
           "style": "light"
          },
          "paper_bgcolor": "white",
          "plot_bgcolor": "#E5ECF6",
          "polar": {
           "angularaxis": {
            "gridcolor": "white",
            "linecolor": "white",
            "ticks": ""
           },
           "bgcolor": "#E5ECF6",
           "radialaxis": {
            "gridcolor": "white",
            "linecolor": "white",
            "ticks": ""
           }
          },
          "scene": {
           "xaxis": {
            "backgroundcolor": "#E5ECF6",
            "gridcolor": "white",
            "gridwidth": 2,
            "linecolor": "white",
            "showbackground": true,
            "ticks": "",
            "zerolinecolor": "white"
           },
           "yaxis": {
            "backgroundcolor": "#E5ECF6",
            "gridcolor": "white",
            "gridwidth": 2,
            "linecolor": "white",
            "showbackground": true,
            "ticks": "",
            "zerolinecolor": "white"
           },
           "zaxis": {
            "backgroundcolor": "#E5ECF6",
            "gridcolor": "white",
            "gridwidth": 2,
            "linecolor": "white",
            "showbackground": true,
            "ticks": "",
            "zerolinecolor": "white"
           }
          },
          "shapedefaults": {
           "line": {
            "color": "#2a3f5f"
           }
          },
          "ternary": {
           "aaxis": {
            "gridcolor": "white",
            "linecolor": "white",
            "ticks": ""
           },
           "baxis": {
            "gridcolor": "white",
            "linecolor": "white",
            "ticks": ""
           },
           "bgcolor": "#E5ECF6",
           "caxis": {
            "gridcolor": "white",
            "linecolor": "white",
            "ticks": ""
           }
          },
          "title": {
           "x": 0.05
          },
          "xaxis": {
           "automargin": true,
           "gridcolor": "white",
           "linecolor": "white",
           "ticks": "",
           "title": {
            "standoff": 15
           },
           "zerolinecolor": "white",
           "zerolinewidth": 2
          },
          "yaxis": {
           "automargin": true,
           "gridcolor": "white",
           "linecolor": "white",
           "ticks": "",
           "title": {
            "standoff": 15
           },
           "zerolinecolor": "white",
           "zerolinewidth": 2
          }
         }
        },
        "title": {
         "font": {
          "color": "#4D5663"
         }
        },
        "xaxis": {
         "gridcolor": "#E1E5ED",
         "showgrid": true,
         "tickfont": {
          "color": "#4D5663"
         },
         "title": {
          "font": {
           "color": "#4D5663"
          },
          "text": ""
         },
         "zerolinecolor": "#E1E5ED"
        },
        "yaxis": {
         "gridcolor": "#E1E5ED",
         "showgrid": true,
         "tickfont": {
          "color": "#4D5663"
         },
         "title": {
          "font": {
           "color": "#4D5663"
          },
          "text": ""
         },
         "zerolinecolor": "#E1E5ED"
        }
       }
      },
      "text/html": [
       "<div>                            <div id=\"093d51a7-148e-4c90-b188-c0ce8f5e39b7\" class=\"plotly-graph-div\" style=\"height:525px; width:100%;\"></div>            <script type=\"text/javascript\">                require([\"plotly\"], function(Plotly) {                    window.PLOTLYENV=window.PLOTLYENV || {};\n",
       "                    window.PLOTLYENV.BASE_URL='https://plot.ly';                                    if (document.getElementById(\"093d51a7-148e-4c90-b188-c0ce8f5e39b7\")) {                    Plotly.newPlot(                        \"093d51a7-148e-4c90-b188-c0ce8f5e39b7\",                        [{\"marker\":{\"color\":\"rgba(255, 153, 51, 0.6)\",\"line\":{\"color\":\"rgba(255, 153, 51, 1.0)\",\"width\":1}},\"name\":\"None\",\"orientation\":\"v\",\"text\":\"\",\"x\":[\"A\",\"B\",\"C\",\"D\"],\"y\":[100,100,100,100],\"type\":\"bar\"}],                        {\"legend\":{\"bgcolor\":\"#F5F6F9\",\"font\":{\"color\":\"#4D5663\"}},\"paper_bgcolor\":\"#F5F6F9\",\"plot_bgcolor\":\"#F5F6F9\",\"template\":{\"data\":{\"barpolar\":[{\"marker\":{\"line\":{\"color\":\"#E5ECF6\",\"width\":0.5},\"pattern\":{\"fillmode\":\"overlay\",\"size\":10,\"solidity\":0.2}},\"type\":\"barpolar\"}],\"bar\":[{\"error_x\":{\"color\":\"#2a3f5f\"},\"error_y\":{\"color\":\"#2a3f5f\"},\"marker\":{\"line\":{\"color\":\"#E5ECF6\",\"width\":0.5},\"pattern\":{\"fillmode\":\"overlay\",\"size\":10,\"solidity\":0.2}},\"type\":\"bar\"}],\"carpet\":[{\"aaxis\":{\"endlinecolor\":\"#2a3f5f\",\"gridcolor\":\"white\",\"linecolor\":\"white\",\"minorgridcolor\":\"white\",\"startlinecolor\":\"#2a3f5f\"},\"baxis\":{\"endlinecolor\":\"#2a3f5f\",\"gridcolor\":\"white\",\"linecolor\":\"white\",\"minorgridcolor\":\"white\",\"startlinecolor\":\"#2a3f5f\"},\"type\":\"carpet\"}],\"choropleth\":[{\"colorbar\":{\"outlinewidth\":0,\"ticks\":\"\"},\"type\":\"choropleth\"}],\"contourcarpet\":[{\"colorbar\":{\"outlinewidth\":0,\"ticks\":\"\"},\"type\":\"contourcarpet\"}],\"contour\":[{\"colorbar\":{\"outlinewidth\":0,\"ticks\":\"\"},\"colorscale\":[[0.0,\"#0d0887\"],[0.1111111111111111,\"#46039f\"],[0.2222222222222222,\"#7201a8\"],[0.3333333333333333,\"#9c179e\"],[0.4444444444444444,\"#bd3786\"],[0.5555555555555556,\"#d8576b\"],[0.6666666666666666,\"#ed7953\"],[0.7777777777777778,\"#fb9f3a\"],[0.8888888888888888,\"#fdca26\"],[1.0,\"#f0f921\"]],\"type\":\"contour\"}],\"heatmapgl\":[{\"colorbar\":{\"outlinewidth\":0,\"ticks\":\"\"},\"colorscale\":[[0.0,\"#0d0887\"],[0.1111111111111111,\"#46039f\"],[0.2222222222222222,\"#7201a8\"],[0.3333333333333333,\"#9c179e\"],[0.4444444444444444,\"#bd3786\"],[0.5555555555555556,\"#d8576b\"],[0.6666666666666666,\"#ed7953\"],[0.7777777777777778,\"#fb9f3a\"],[0.8888888888888888,\"#fdca26\"],[1.0,\"#f0f921\"]],\"type\":\"heatmapgl\"}],\"heatmap\":[{\"colorbar\":{\"outlinewidth\":0,\"ticks\":\"\"},\"colorscale\":[[0.0,\"#0d0887\"],[0.1111111111111111,\"#46039f\"],[0.2222222222222222,\"#7201a8\"],[0.3333333333333333,\"#9c179e\"],[0.4444444444444444,\"#bd3786\"],[0.5555555555555556,\"#d8576b\"],[0.6666666666666666,\"#ed7953\"],[0.7777777777777778,\"#fb9f3a\"],[0.8888888888888888,\"#fdca26\"],[1.0,\"#f0f921\"]],\"type\":\"heatmap\"}],\"histogram2dcontour\":[{\"colorbar\":{\"outlinewidth\":0,\"ticks\":\"\"},\"colorscale\":[[0.0,\"#0d0887\"],[0.1111111111111111,\"#46039f\"],[0.2222222222222222,\"#7201a8\"],[0.3333333333333333,\"#9c179e\"],[0.4444444444444444,\"#bd3786\"],[0.5555555555555556,\"#d8576b\"],[0.6666666666666666,\"#ed7953\"],[0.7777777777777778,\"#fb9f3a\"],[0.8888888888888888,\"#fdca26\"],[1.0,\"#f0f921\"]],\"type\":\"histogram2dcontour\"}],\"histogram2d\":[{\"colorbar\":{\"outlinewidth\":0,\"ticks\":\"\"},\"colorscale\":[[0.0,\"#0d0887\"],[0.1111111111111111,\"#46039f\"],[0.2222222222222222,\"#7201a8\"],[0.3333333333333333,\"#9c179e\"],[0.4444444444444444,\"#bd3786\"],[0.5555555555555556,\"#d8576b\"],[0.6666666666666666,\"#ed7953\"],[0.7777777777777778,\"#fb9f3a\"],[0.8888888888888888,\"#fdca26\"],[1.0,\"#f0f921\"]],\"type\":\"histogram2d\"}],\"histogram\":[{\"marker\":{\"pattern\":{\"fillmode\":\"overlay\",\"size\":10,\"solidity\":0.2}},\"type\":\"histogram\"}],\"mesh3d\":[{\"colorbar\":{\"outlinewidth\":0,\"ticks\":\"\"},\"type\":\"mesh3d\"}],\"parcoords\":[{\"line\":{\"colorbar\":{\"outlinewidth\":0,\"ticks\":\"\"}},\"type\":\"parcoords\"}],\"pie\":[{\"automargin\":true,\"type\":\"pie\"}],\"scatter3d\":[{\"line\":{\"colorbar\":{\"outlinewidth\":0,\"ticks\":\"\"}},\"marker\":{\"colorbar\":{\"outlinewidth\":0,\"ticks\":\"\"}},\"type\":\"scatter3d\"}],\"scattercarpet\":[{\"marker\":{\"colorbar\":{\"outlinewidth\":0,\"ticks\":\"\"}},\"type\":\"scattercarpet\"}],\"scattergeo\":[{\"marker\":{\"colorbar\":{\"outlinewidth\":0,\"ticks\":\"\"}},\"type\":\"scattergeo\"}],\"scattergl\":[{\"marker\":{\"colorbar\":{\"outlinewidth\":0,\"ticks\":\"\"}},\"type\":\"scattergl\"}],\"scattermapbox\":[{\"marker\":{\"colorbar\":{\"outlinewidth\":0,\"ticks\":\"\"}},\"type\":\"scattermapbox\"}],\"scatterpolargl\":[{\"marker\":{\"colorbar\":{\"outlinewidth\":0,\"ticks\":\"\"}},\"type\":\"scatterpolargl\"}],\"scatterpolar\":[{\"marker\":{\"colorbar\":{\"outlinewidth\":0,\"ticks\":\"\"}},\"type\":\"scatterpolar\"}],\"scatter\":[{\"fillpattern\":{\"fillmode\":\"overlay\",\"size\":10,\"solidity\":0.2},\"type\":\"scatter\"}],\"scatterternary\":[{\"marker\":{\"colorbar\":{\"outlinewidth\":0,\"ticks\":\"\"}},\"type\":\"scatterternary\"}],\"surface\":[{\"colorbar\":{\"outlinewidth\":0,\"ticks\":\"\"},\"colorscale\":[[0.0,\"#0d0887\"],[0.1111111111111111,\"#46039f\"],[0.2222222222222222,\"#7201a8\"],[0.3333333333333333,\"#9c179e\"],[0.4444444444444444,\"#bd3786\"],[0.5555555555555556,\"#d8576b\"],[0.6666666666666666,\"#ed7953\"],[0.7777777777777778,\"#fb9f3a\"],[0.8888888888888888,\"#fdca26\"],[1.0,\"#f0f921\"]],\"type\":\"surface\"}],\"table\":[{\"cells\":{\"fill\":{\"color\":\"#EBF0F8\"},\"line\":{\"color\":\"white\"}},\"header\":{\"fill\":{\"color\":\"#C8D4E3\"},\"line\":{\"color\":\"white\"}},\"type\":\"table\"}]},\"layout\":{\"annotationdefaults\":{\"arrowcolor\":\"#2a3f5f\",\"arrowhead\":0,\"arrowwidth\":1},\"autotypenumbers\":\"strict\",\"coloraxis\":{\"colorbar\":{\"outlinewidth\":0,\"ticks\":\"\"}},\"colorscale\":{\"diverging\":[[0,\"#8e0152\"],[0.1,\"#c51b7d\"],[0.2,\"#de77ae\"],[0.3,\"#f1b6da\"],[0.4,\"#fde0ef\"],[0.5,\"#f7f7f7\"],[0.6,\"#e6f5d0\"],[0.7,\"#b8e186\"],[0.8,\"#7fbc41\"],[0.9,\"#4d9221\"],[1,\"#276419\"]],\"sequential\":[[0.0,\"#0d0887\"],[0.1111111111111111,\"#46039f\"],[0.2222222222222222,\"#7201a8\"],[0.3333333333333333,\"#9c179e\"],[0.4444444444444444,\"#bd3786\"],[0.5555555555555556,\"#d8576b\"],[0.6666666666666666,\"#ed7953\"],[0.7777777777777778,\"#fb9f3a\"],[0.8888888888888888,\"#fdca26\"],[1.0,\"#f0f921\"]],\"sequentialminus\":[[0.0,\"#0d0887\"],[0.1111111111111111,\"#46039f\"],[0.2222222222222222,\"#7201a8\"],[0.3333333333333333,\"#9c179e\"],[0.4444444444444444,\"#bd3786\"],[0.5555555555555556,\"#d8576b\"],[0.6666666666666666,\"#ed7953\"],[0.7777777777777778,\"#fb9f3a\"],[0.8888888888888888,\"#fdca26\"],[1.0,\"#f0f921\"]]},\"colorway\":[\"#636efa\",\"#EF553B\",\"#00cc96\",\"#ab63fa\",\"#FFA15A\",\"#19d3f3\",\"#FF6692\",\"#B6E880\",\"#FF97FF\",\"#FECB52\"],\"font\":{\"color\":\"#2a3f5f\"},\"geo\":{\"bgcolor\":\"white\",\"lakecolor\":\"white\",\"landcolor\":\"#E5ECF6\",\"showlakes\":true,\"showland\":true,\"subunitcolor\":\"white\"},\"hoverlabel\":{\"align\":\"left\"},\"hovermode\":\"closest\",\"mapbox\":{\"style\":\"light\"},\"paper_bgcolor\":\"white\",\"plot_bgcolor\":\"#E5ECF6\",\"polar\":{\"angularaxis\":{\"gridcolor\":\"white\",\"linecolor\":\"white\",\"ticks\":\"\"},\"bgcolor\":\"#E5ECF6\",\"radialaxis\":{\"gridcolor\":\"white\",\"linecolor\":\"white\",\"ticks\":\"\"}},\"scene\":{\"xaxis\":{\"backgroundcolor\":\"#E5ECF6\",\"gridcolor\":\"white\",\"gridwidth\":2,\"linecolor\":\"white\",\"showbackground\":true,\"ticks\":\"\",\"zerolinecolor\":\"white\"},\"yaxis\":{\"backgroundcolor\":\"#E5ECF6\",\"gridcolor\":\"white\",\"gridwidth\":2,\"linecolor\":\"white\",\"showbackground\":true,\"ticks\":\"\",\"zerolinecolor\":\"white\"},\"zaxis\":{\"backgroundcolor\":\"#E5ECF6\",\"gridcolor\":\"white\",\"gridwidth\":2,\"linecolor\":\"white\",\"showbackground\":true,\"ticks\":\"\",\"zerolinecolor\":\"white\"}},\"shapedefaults\":{\"line\":{\"color\":\"#2a3f5f\"}},\"ternary\":{\"aaxis\":{\"gridcolor\":\"white\",\"linecolor\":\"white\",\"ticks\":\"\"},\"baxis\":{\"gridcolor\":\"white\",\"linecolor\":\"white\",\"ticks\":\"\"},\"bgcolor\":\"#E5ECF6\",\"caxis\":{\"gridcolor\":\"white\",\"linecolor\":\"white\",\"ticks\":\"\"}},\"title\":{\"x\":0.05},\"xaxis\":{\"automargin\":true,\"gridcolor\":\"white\",\"linecolor\":\"white\",\"ticks\":\"\",\"title\":{\"standoff\":15},\"zerolinecolor\":\"white\",\"zerolinewidth\":2},\"yaxis\":{\"automargin\":true,\"gridcolor\":\"white\",\"linecolor\":\"white\",\"ticks\":\"\",\"title\":{\"standoff\":15},\"zerolinecolor\":\"white\",\"zerolinewidth\":2}}},\"title\":{\"font\":{\"color\":\"#4D5663\"}},\"xaxis\":{\"gridcolor\":\"#E1E5ED\",\"showgrid\":true,\"tickfont\":{\"color\":\"#4D5663\"},\"title\":{\"font\":{\"color\":\"#4D5663\"},\"text\":\"\"},\"zerolinecolor\":\"#E1E5ED\"},\"yaxis\":{\"gridcolor\":\"#E1E5ED\",\"showgrid\":true,\"tickfont\":{\"color\":\"#4D5663\"},\"title\":{\"font\":{\"color\":\"#4D5663\"},\"text\":\"\"},\"zerolinecolor\":\"#E1E5ED\"}},                        {\"showLink\": true, \"linkText\": \"Export to plot.ly\", \"plotlyServerURL\": \"https://plot.ly\", \"responsive\": true}                    ).then(function(){\n",
       "                            \n",
       "var gd = document.getElementById('093d51a7-148e-4c90-b188-c0ce8f5e39b7');\n",
       "var x = new MutationObserver(function (mutations, observer) {{\n",
       "        var display = window.getComputedStyle(gd).display;\n",
       "        if (!display || display === 'none') {{\n",
       "            console.log([gd, 'removed!']);\n",
       "            Plotly.purge(gd);\n",
       "            observer.disconnect();\n",
       "        }}\n",
       "}});\n",
       "\n",
       "// Listen for the removal of the full notebook cells\n",
       "var notebookContainer = gd.closest('#notebook-container');\n",
       "if (notebookContainer) {{\n",
       "    x.observe(notebookContainer, {childList: true});\n",
       "}}\n",
       "\n",
       "// Listen for the clearing of the current output cell\n",
       "var outputEl = gd.closest('.output');\n",
       "if (outputEl) {{\n",
       "    x.observe(outputEl, {childList: true});\n",
       "}}\n",
       "\n",
       "                        })                };                });            </script>        </div>"
      ]
     },
     "metadata": {},
     "output_type": "display_data"
    }
   ],
   "source": [
    "\n",
    "\n",
    "df.count().iplot(kind='bar')"
   ]
  },
  {
   "cell_type": "code",
   "execution_count": 16,
   "id": "28c028cc",
   "metadata": {},
   "outputs": [
    {
     "data": {
      "application/vnd.plotly.v1+json": {
       "config": {
        "linkText": "Export to plot.ly",
        "plotlyServerURL": "https://plot.ly",
        "showLink": true
       },
       "data": [
        {
         "boxpoints": false,
         "line": {
          "width": 1.3
         },
         "marker": {
          "color": "rgba(255, 153, 51, 1.0)"
         },
         "name": "A",
         "orientation": "v",
         "type": "box",
         "y": [
          0.1501788668840338,
          -0.1756913710375011,
          0.13856736719365398,
          0.7219578807852828,
          0.02103035712203404,
          0.05372994782000095,
          -0.8597786699749488,
          -1.436764515074958,
          0.09773770467735642,
          -0.5090109468773343,
          0.058444993463366686,
          0.1528818965232011,
          -0.054374732419699146,
          -0.5195914547970374,
          -1.6451919722324309,
          -0.4078752816447025,
          1.7196902722861414,
          1.1277768696275943,
          -0.16700661819317372,
          0.4344680307743496,
          -0.4533598135068671,
          -0.17821655659170996,
          -0.5483023401387696,
          1.0642240577556783,
          0.15666741152753014,
          -2.296016560442535,
          1.6924661296080639,
          0.6072904612083375,
          0.6583268747437102,
          0.0232092808315366,
          0.25505441923380395,
          -1.7884002052880084,
          -1.0271998449996689,
          -1.3800108277280776,
          -0.3196999975289513,
          1.212423910875223,
          -0.8631824306196343,
          0.14045007863442893,
          0.03772705519209731,
          0.8741708927574366,
          -0.8956255423448548,
          0.5595218806674672,
          -0.13978226703197763,
          -1.3522532012187982,
          -0.11901794011161884,
          1.4943615882517902,
          -0.9021970825018301,
          -0.4943366411747155,
          0.5487766844925248,
          -0.2844232877660867,
          0.8340903018578912,
          -1.702365901238491,
          -0.7100490330331606,
          0.6674682457214097,
          -0.14091751691325238,
          -2.6175899502714532,
          -1.602147770857257,
          -0.7486305439753811,
          -0.6238082510908618,
          -0.9765058142343359,
          0.8819257132329856,
          -0.8444708401609161,
          1.3290859983817334,
          -0.33125058588237893,
          -2.4943073578839736,
          -0.09846938938603009,
          1.6319181413388584,
          0.2877837487161706,
          0.05661978916823122,
          0.19196078383633894,
          0.45447543421148245,
          -0.7471721117926763,
          0.5768918461100573,
          -0.42479111088633664,
          -2.6587930187849484,
          -0.879206416879864,
          -1.584685197756789,
          0.9913181768573425,
          0.6935908952151667,
          0.6174070873913775,
          -0.6594441738825568,
          -0.9226163312478916,
          0.9072689218965913,
          -3.4618100598071324,
          -2.8996735525378363,
          0.14764029916770435,
          -0.9304743038902059,
          -0.09148425443751493,
          -0.6947510262830392,
          0.48761583192883556,
          -0.8300069322754731,
          0.9919919641210598,
          -1.3828189356306078,
          -0.0436640865499939,
          -0.2851681411662788,
          1.6435752977827398,
          0.05788619121298352,
          0.5726843717948871,
          -0.8708498105504946,
          1.0442243483732725
         ]
        },
        {
         "boxpoints": false,
         "line": {
          "width": 1.3
         },
         "marker": {
          "color": "rgba(55, 128, 191, 1.0)"
         },
         "name": "B",
         "orientation": "v",
         "type": "box",
         "y": [
          0.3292464980445286,
          -0.1411389303037044,
          1.0690826737668286,
          -0.5670008289594736,
          1.5918584383121732,
          -0.49735820558161664,
          0.853020526947463,
          1.094407718690676,
          0.32727080169252115,
          -1.2226688074822474,
          2.686372841230928,
          -0.7662833800546549,
          -1.672436568832668,
          -0.3932022977635248,
          0.03263859066046469,
          -1.6761171971533155,
          -1.564322177542407,
          0.8727530667077585,
          2.8459920842255357,
          0.041262651325481056,
          0.6020364391158644,
          -1.274285368129067,
          0.37739388783722166,
          1.785008130491707,
          -1.0332839242660679,
          2.4939486777155886,
          0.981165538761148,
          0.9876494450648611,
          -1.392722155984482,
          -0.23872920769288078,
          1.4825111094062309,
          -0.8719477402420855,
          -0.8640186070736904,
          1.7498728402472519,
          0.5725682033786544,
          0.49847970058576085,
          0.4628575656278747,
          -0.06871206586372626,
          -0.14184373613844153,
          0.43328186425755827,
          -0.10749451342931048,
          -0.9398187865832206,
          -0.5251347550124181,
          1.635891869597316,
          -0.8844918823837958,
          -0.9090407559913615,
          0.519238719064138,
          -0.7090769497362426,
          0.8398486786419308,
          -0.2876594525112121,
          -0.882125919272093,
          0.04716098700964254,
          0.7473021164945799,
          -0.6205957612381642,
          0.07659494095782203,
          0.3029419326610615,
          -0.1457543020500506,
          -1.0147955229958847,
          -0.5348542967183831,
          -0.8781239565468124,
          -2.1411910267869123,
          -1.1388955510062049,
          -0.8087615847592627,
          -0.2994886393800132,
          -1.550632994942883,
          -0.07855287087348586,
          -0.09139415769032651,
          -0.3900148067474229,
          0.7748252201143693,
          -1.5355808667892057,
          -2.1694692520872296,
          -0.8250853605787378,
          0.3846735791487371,
          0.17890267605846233,
          -1.4735750220184796,
          0.07437116478387093,
          0.9218685071691737,
          -0.8205867482611652,
          0.5115358062357684,
          -1.2857938547393777,
          0.31221253198721455,
          -0.08234276520286833,
          0.4526207498721831,
          -0.4473360992885767,
          0.5766023641817422,
          -1.550026086832909,
          -0.7197254653986882,
          -0.2890094987331318,
          -0.9484949964302272,
          1.4749208841491077,
          0.8279588679944496,
          -0.2497528713488217,
          -0.7188559976596786,
          0.3947502727196581,
          -0.852203625860959,
          -0.4713126121808178,
          0.4880404775087967,
          -1.5681301594317518,
          -1.4119016649251277,
          0.0676585355782195
         ]
        },
        {
         "boxpoints": false,
         "line": {
          "width": 1.3
         },
         "marker": {
          "color": "rgba(50, 171, 96, 1.0)"
         },
         "name": "C",
         "orientation": "v",
         "type": "box",
         "y": [
          0.890916480844037,
          -1.558527107511487,
          -1.8488925502815907,
          -0.6494576645259102,
          1.1280869396031745,
          -0.17952894882184547,
          -0.33810857909289344,
          -0.48878290989005213,
          -0.11938293447879825,
          -0.2989751410946798,
          0.4965499375088627,
          0.21636453352319893,
          0.2840717850111058,
          0.20735875936817524,
          -0.22565690187486223,
          1.1164757506873288,
          -0.6707234049274312,
          0.9424716687268028,
          1.6515063039689564,
          1.992774545960232,
          -0.5812924968657552,
          0.22810610570053838,
          -0.20849458732619003,
          1.1661466927440949,
          -0.28056452596092063,
          -0.049917163399387045,
          2.195637903300989,
          0.116948203171959,
          1.401933580717518,
          -2.0117372351060685,
          0.21559254965129362,
          -0.042744727939135044,
          -1.3345088876565672,
          0.5875791622511894,
          -1.0051348169849186,
          -0.44694599729049334,
          -0.9032149034697351,
          -0.9498465409084119,
          -0.7124254084325481,
          0.17135327657766145,
          -0.49806229420490383,
          -0.8328725348029663,
          -1.8732396301295586,
          0.28930476551203765,
          0.7510647311729514,
          1.3362719752061962,
          -0.1646996370888109,
          0.5644111124218038,
          -0.5944675628535963,
          1.1269513423335507,
          0.3178070052923227,
          -1.1988012057295312,
          0.9873656236415521,
          1.2476067769280317,
          0.5506614471733887,
          0.000814001257611384,
          1.4130552819529212,
          -0.22092645802391894,
          1.3288750160497649,
          0.1282526773031756,
          0.05123370962394723,
          0.537892346190286,
          0.8780740358004305,
          2.3230733411681275,
          -0.3702023676130841,
          -0.5213525592026007,
          1.3944034723368863,
          0.2966259186302385,
          1.1136273398847076,
          -0.05299962419798843,
          -1.01965507512544,
          -0.7704726221159278,
          0.24646521622835293,
          1.0811824290711995,
          -0.29499818540873474,
          1.6148381953265067,
          2.5014835838918628,
          0.552463771797649,
          -2.2293007713638215,
          0.6413036999649206,
          -1.645307584944108,
          0.6300421981899462,
          -0.45450498610227286,
          -0.3390119693617331,
          0.47305360720198797,
          0.2456761390603077,
          -0.9836097767809264,
          0.9871269020530777,
          0.09834186509548075,
          0.7208876227420822,
          -1.1877689956169983,
          1.5192828005896106,
          -1.381594152153304,
          -0.7197746248014946,
          0.011550420103289123,
          0.10147027582360378,
          -0.6872369274921748,
          1.650674227068161,
          0.9032065367878431,
          0.8130991610718596
         ]
        },
        {
         "boxpoints": false,
         "line": {
          "width": 1.3
         },
         "marker": {
          "color": "rgba(128, 0, 128, 1.0)"
         },
         "name": "D",
         "orientation": "v",
         "type": "box",
         "y": [
          1.2238696611006687,
          0.2659016037253465,
          0.5348783333601433,
          -0.5152424203192356,
          0.7957817937572748,
          0.4316924718678004,
          0.13452532570970305,
          -1.1609585252578314,
          1.109688781111511,
          -0.25237472399053945,
          -0.4205306809125667,
          -0.13090388071271383,
          -0.12537996532960222,
          -0.10182788988671564,
          1.7665855788900615,
          0.28287032317227917,
          0.10235451464604306,
          1.729565277267111,
          -0.11314043958280795,
          1.0354429224865613,
          -0.34024824271522836,
          0.8210779437076364,
          0.4118759981850916,
          0.431616592821346,
          1.466797156861794,
          0.6557165096961052,
          -0.5858758532518111,
          0.433845796517269,
          0.5218602483278069,
          -0.36664316690916726,
          -1.0880539147526773,
          0.22471008032895676,
          -0.970253474769151,
          -0.8141627851447617,
          0.2751096487173175,
          0.5475880158403673,
          0.5959525301521521,
          -0.1930623768638768,
          0.9522162211248725,
          0.24710194516308667,
          0.2098533608444933,
          -0.4177347350882414,
          -0.5378864350268977,
          1.356240901552392,
          -1.4358885908500325,
          -0.6150524345433597,
          0.5644000226091584,
          -1.7728965912212569,
          0.7478907531147889,
          -0.847680137605328,
          0.5243094753242314,
          -0.5629466077738976,
          0.7308720665035708,
          -0.5631609456231326,
          -0.5480544163023164,
          1.3806825978333803,
          -0.8168571159408491,
          -0.07071285909209492,
          0.42756541165848566,
          0.6239789663027165,
          1.5937867923838385,
          -0.15566204467470132,
          0.9617306773021843,
          -0.060748484458576946,
          1.7421582679490866,
          0.13032168838390243,
          0.3644249457854377,
          0.44826916791078275,
          0.5520991045312008,
          -1.4535333914643893,
          -1.6037467056567496,
          -0.2069767719603601,
          -0.5788263866043485,
          0.3991456611757954,
          -0.025966973025777936,
          0.6122427822789827,
          -1.2896420826915858,
          1.9841678768446551,
          0.5224878892863754,
          0.8353665562482017,
          0.12747466466086263,
          1.817142494989653,
          0.8376095471647783,
          0.5564802783508699,
          0.9063079284923069,
          1.168407555051154,
          -0.696805989983867,
          1.4977939685254351,
          0.8808587328159376,
          0.4155772726557158,
          0.4375653565107603,
          0.7133247647267615,
          0.8933324173851137,
          -1.6492894319540068,
          -0.33213880818894287,
          -1.6560909794244025,
          -1.009918484762426,
          -0.4687963402846757,
          0.6401161967456103,
          0.21746994993596683
         ]
        }
       ],
       "layout": {
        "legend": {
         "bgcolor": "#F5F6F9",
         "font": {
          "color": "#4D5663"
         }
        },
        "paper_bgcolor": "#F5F6F9",
        "plot_bgcolor": "#F5F6F9",
        "template": {
         "data": {
          "bar": [
           {
            "error_x": {
             "color": "#2a3f5f"
            },
            "error_y": {
             "color": "#2a3f5f"
            },
            "marker": {
             "line": {
              "color": "#E5ECF6",
              "width": 0.5
             },
             "pattern": {
              "fillmode": "overlay",
              "size": 10,
              "solidity": 0.2
             }
            },
            "type": "bar"
           }
          ],
          "barpolar": [
           {
            "marker": {
             "line": {
              "color": "#E5ECF6",
              "width": 0.5
             },
             "pattern": {
              "fillmode": "overlay",
              "size": 10,
              "solidity": 0.2
             }
            },
            "type": "barpolar"
           }
          ],
          "carpet": [
           {
            "aaxis": {
             "endlinecolor": "#2a3f5f",
             "gridcolor": "white",
             "linecolor": "white",
             "minorgridcolor": "white",
             "startlinecolor": "#2a3f5f"
            },
            "baxis": {
             "endlinecolor": "#2a3f5f",
             "gridcolor": "white",
             "linecolor": "white",
             "minorgridcolor": "white",
             "startlinecolor": "#2a3f5f"
            },
            "type": "carpet"
           }
          ],
          "choropleth": [
           {
            "colorbar": {
             "outlinewidth": 0,
             "ticks": ""
            },
            "type": "choropleth"
           }
          ],
          "contour": [
           {
            "colorbar": {
             "outlinewidth": 0,
             "ticks": ""
            },
            "colorscale": [
             [
              0,
              "#0d0887"
             ],
             [
              0.1111111111111111,
              "#46039f"
             ],
             [
              0.2222222222222222,
              "#7201a8"
             ],
             [
              0.3333333333333333,
              "#9c179e"
             ],
             [
              0.4444444444444444,
              "#bd3786"
             ],
             [
              0.5555555555555556,
              "#d8576b"
             ],
             [
              0.6666666666666666,
              "#ed7953"
             ],
             [
              0.7777777777777778,
              "#fb9f3a"
             ],
             [
              0.8888888888888888,
              "#fdca26"
             ],
             [
              1,
              "#f0f921"
             ]
            ],
            "type": "contour"
           }
          ],
          "contourcarpet": [
           {
            "colorbar": {
             "outlinewidth": 0,
             "ticks": ""
            },
            "type": "contourcarpet"
           }
          ],
          "heatmap": [
           {
            "colorbar": {
             "outlinewidth": 0,
             "ticks": ""
            },
            "colorscale": [
             [
              0,
              "#0d0887"
             ],
             [
              0.1111111111111111,
              "#46039f"
             ],
             [
              0.2222222222222222,
              "#7201a8"
             ],
             [
              0.3333333333333333,
              "#9c179e"
             ],
             [
              0.4444444444444444,
              "#bd3786"
             ],
             [
              0.5555555555555556,
              "#d8576b"
             ],
             [
              0.6666666666666666,
              "#ed7953"
             ],
             [
              0.7777777777777778,
              "#fb9f3a"
             ],
             [
              0.8888888888888888,
              "#fdca26"
             ],
             [
              1,
              "#f0f921"
             ]
            ],
            "type": "heatmap"
           }
          ],
          "heatmapgl": [
           {
            "colorbar": {
             "outlinewidth": 0,
             "ticks": ""
            },
            "colorscale": [
             [
              0,
              "#0d0887"
             ],
             [
              0.1111111111111111,
              "#46039f"
             ],
             [
              0.2222222222222222,
              "#7201a8"
             ],
             [
              0.3333333333333333,
              "#9c179e"
             ],
             [
              0.4444444444444444,
              "#bd3786"
             ],
             [
              0.5555555555555556,
              "#d8576b"
             ],
             [
              0.6666666666666666,
              "#ed7953"
             ],
             [
              0.7777777777777778,
              "#fb9f3a"
             ],
             [
              0.8888888888888888,
              "#fdca26"
             ],
             [
              1,
              "#f0f921"
             ]
            ],
            "type": "heatmapgl"
           }
          ],
          "histogram": [
           {
            "marker": {
             "pattern": {
              "fillmode": "overlay",
              "size": 10,
              "solidity": 0.2
             }
            },
            "type": "histogram"
           }
          ],
          "histogram2d": [
           {
            "colorbar": {
             "outlinewidth": 0,
             "ticks": ""
            },
            "colorscale": [
             [
              0,
              "#0d0887"
             ],
             [
              0.1111111111111111,
              "#46039f"
             ],
             [
              0.2222222222222222,
              "#7201a8"
             ],
             [
              0.3333333333333333,
              "#9c179e"
             ],
             [
              0.4444444444444444,
              "#bd3786"
             ],
             [
              0.5555555555555556,
              "#d8576b"
             ],
             [
              0.6666666666666666,
              "#ed7953"
             ],
             [
              0.7777777777777778,
              "#fb9f3a"
             ],
             [
              0.8888888888888888,
              "#fdca26"
             ],
             [
              1,
              "#f0f921"
             ]
            ],
            "type": "histogram2d"
           }
          ],
          "histogram2dcontour": [
           {
            "colorbar": {
             "outlinewidth": 0,
             "ticks": ""
            },
            "colorscale": [
             [
              0,
              "#0d0887"
             ],
             [
              0.1111111111111111,
              "#46039f"
             ],
             [
              0.2222222222222222,
              "#7201a8"
             ],
             [
              0.3333333333333333,
              "#9c179e"
             ],
             [
              0.4444444444444444,
              "#bd3786"
             ],
             [
              0.5555555555555556,
              "#d8576b"
             ],
             [
              0.6666666666666666,
              "#ed7953"
             ],
             [
              0.7777777777777778,
              "#fb9f3a"
             ],
             [
              0.8888888888888888,
              "#fdca26"
             ],
             [
              1,
              "#f0f921"
             ]
            ],
            "type": "histogram2dcontour"
           }
          ],
          "mesh3d": [
           {
            "colorbar": {
             "outlinewidth": 0,
             "ticks": ""
            },
            "type": "mesh3d"
           }
          ],
          "parcoords": [
           {
            "line": {
             "colorbar": {
              "outlinewidth": 0,
              "ticks": ""
             }
            },
            "type": "parcoords"
           }
          ],
          "pie": [
           {
            "automargin": true,
            "type": "pie"
           }
          ],
          "scatter": [
           {
            "fillpattern": {
             "fillmode": "overlay",
             "size": 10,
             "solidity": 0.2
            },
            "type": "scatter"
           }
          ],
          "scatter3d": [
           {
            "line": {
             "colorbar": {
              "outlinewidth": 0,
              "ticks": ""
             }
            },
            "marker": {
             "colorbar": {
              "outlinewidth": 0,
              "ticks": ""
             }
            },
            "type": "scatter3d"
           }
          ],
          "scattercarpet": [
           {
            "marker": {
             "colorbar": {
              "outlinewidth": 0,
              "ticks": ""
             }
            },
            "type": "scattercarpet"
           }
          ],
          "scattergeo": [
           {
            "marker": {
             "colorbar": {
              "outlinewidth": 0,
              "ticks": ""
             }
            },
            "type": "scattergeo"
           }
          ],
          "scattergl": [
           {
            "marker": {
             "colorbar": {
              "outlinewidth": 0,
              "ticks": ""
             }
            },
            "type": "scattergl"
           }
          ],
          "scattermapbox": [
           {
            "marker": {
             "colorbar": {
              "outlinewidth": 0,
              "ticks": ""
             }
            },
            "type": "scattermapbox"
           }
          ],
          "scatterpolar": [
           {
            "marker": {
             "colorbar": {
              "outlinewidth": 0,
              "ticks": ""
             }
            },
            "type": "scatterpolar"
           }
          ],
          "scatterpolargl": [
           {
            "marker": {
             "colorbar": {
              "outlinewidth": 0,
              "ticks": ""
             }
            },
            "type": "scatterpolargl"
           }
          ],
          "scatterternary": [
           {
            "marker": {
             "colorbar": {
              "outlinewidth": 0,
              "ticks": ""
             }
            },
            "type": "scatterternary"
           }
          ],
          "surface": [
           {
            "colorbar": {
             "outlinewidth": 0,
             "ticks": ""
            },
            "colorscale": [
             [
              0,
              "#0d0887"
             ],
             [
              0.1111111111111111,
              "#46039f"
             ],
             [
              0.2222222222222222,
              "#7201a8"
             ],
             [
              0.3333333333333333,
              "#9c179e"
             ],
             [
              0.4444444444444444,
              "#bd3786"
             ],
             [
              0.5555555555555556,
              "#d8576b"
             ],
             [
              0.6666666666666666,
              "#ed7953"
             ],
             [
              0.7777777777777778,
              "#fb9f3a"
             ],
             [
              0.8888888888888888,
              "#fdca26"
             ],
             [
              1,
              "#f0f921"
             ]
            ],
            "type": "surface"
           }
          ],
          "table": [
           {
            "cells": {
             "fill": {
              "color": "#EBF0F8"
             },
             "line": {
              "color": "white"
             }
            },
            "header": {
             "fill": {
              "color": "#C8D4E3"
             },
             "line": {
              "color": "white"
             }
            },
            "type": "table"
           }
          ]
         },
         "layout": {
          "annotationdefaults": {
           "arrowcolor": "#2a3f5f",
           "arrowhead": 0,
           "arrowwidth": 1
          },
          "autotypenumbers": "strict",
          "coloraxis": {
           "colorbar": {
            "outlinewidth": 0,
            "ticks": ""
           }
          },
          "colorscale": {
           "diverging": [
            [
             0,
             "#8e0152"
            ],
            [
             0.1,
             "#c51b7d"
            ],
            [
             0.2,
             "#de77ae"
            ],
            [
             0.3,
             "#f1b6da"
            ],
            [
             0.4,
             "#fde0ef"
            ],
            [
             0.5,
             "#f7f7f7"
            ],
            [
             0.6,
             "#e6f5d0"
            ],
            [
             0.7,
             "#b8e186"
            ],
            [
             0.8,
             "#7fbc41"
            ],
            [
             0.9,
             "#4d9221"
            ],
            [
             1,
             "#276419"
            ]
           ],
           "sequential": [
            [
             0,
             "#0d0887"
            ],
            [
             0.1111111111111111,
             "#46039f"
            ],
            [
             0.2222222222222222,
             "#7201a8"
            ],
            [
             0.3333333333333333,
             "#9c179e"
            ],
            [
             0.4444444444444444,
             "#bd3786"
            ],
            [
             0.5555555555555556,
             "#d8576b"
            ],
            [
             0.6666666666666666,
             "#ed7953"
            ],
            [
             0.7777777777777778,
             "#fb9f3a"
            ],
            [
             0.8888888888888888,
             "#fdca26"
            ],
            [
             1,
             "#f0f921"
            ]
           ],
           "sequentialminus": [
            [
             0,
             "#0d0887"
            ],
            [
             0.1111111111111111,
             "#46039f"
            ],
            [
             0.2222222222222222,
             "#7201a8"
            ],
            [
             0.3333333333333333,
             "#9c179e"
            ],
            [
             0.4444444444444444,
             "#bd3786"
            ],
            [
             0.5555555555555556,
             "#d8576b"
            ],
            [
             0.6666666666666666,
             "#ed7953"
            ],
            [
             0.7777777777777778,
             "#fb9f3a"
            ],
            [
             0.8888888888888888,
             "#fdca26"
            ],
            [
             1,
             "#f0f921"
            ]
           ]
          },
          "colorway": [
           "#636efa",
           "#EF553B",
           "#00cc96",
           "#ab63fa",
           "#FFA15A",
           "#19d3f3",
           "#FF6692",
           "#B6E880",
           "#FF97FF",
           "#FECB52"
          ],
          "font": {
           "color": "#2a3f5f"
          },
          "geo": {
           "bgcolor": "white",
           "lakecolor": "white",
           "landcolor": "#E5ECF6",
           "showlakes": true,
           "showland": true,
           "subunitcolor": "white"
          },
          "hoverlabel": {
           "align": "left"
          },
          "hovermode": "closest",
          "mapbox": {
           "style": "light"
          },
          "paper_bgcolor": "white",
          "plot_bgcolor": "#E5ECF6",
          "polar": {
           "angularaxis": {
            "gridcolor": "white",
            "linecolor": "white",
            "ticks": ""
           },
           "bgcolor": "#E5ECF6",
           "radialaxis": {
            "gridcolor": "white",
            "linecolor": "white",
            "ticks": ""
           }
          },
          "scene": {
           "xaxis": {
            "backgroundcolor": "#E5ECF6",
            "gridcolor": "white",
            "gridwidth": 2,
            "linecolor": "white",
            "showbackground": true,
            "ticks": "",
            "zerolinecolor": "white"
           },
           "yaxis": {
            "backgroundcolor": "#E5ECF6",
            "gridcolor": "white",
            "gridwidth": 2,
            "linecolor": "white",
            "showbackground": true,
            "ticks": "",
            "zerolinecolor": "white"
           },
           "zaxis": {
            "backgroundcolor": "#E5ECF6",
            "gridcolor": "white",
            "gridwidth": 2,
            "linecolor": "white",
            "showbackground": true,
            "ticks": "",
            "zerolinecolor": "white"
           }
          },
          "shapedefaults": {
           "line": {
            "color": "#2a3f5f"
           }
          },
          "ternary": {
           "aaxis": {
            "gridcolor": "white",
            "linecolor": "white",
            "ticks": ""
           },
           "baxis": {
            "gridcolor": "white",
            "linecolor": "white",
            "ticks": ""
           },
           "bgcolor": "#E5ECF6",
           "caxis": {
            "gridcolor": "white",
            "linecolor": "white",
            "ticks": ""
           }
          },
          "title": {
           "x": 0.05
          },
          "xaxis": {
           "automargin": true,
           "gridcolor": "white",
           "linecolor": "white",
           "ticks": "",
           "title": {
            "standoff": 15
           },
           "zerolinecolor": "white",
           "zerolinewidth": 2
          },
          "yaxis": {
           "automargin": true,
           "gridcolor": "white",
           "linecolor": "white",
           "ticks": "",
           "title": {
            "standoff": 15
           },
           "zerolinecolor": "white",
           "zerolinewidth": 2
          }
         }
        },
        "title": {
         "font": {
          "color": "#4D5663"
         }
        },
        "xaxis": {
         "gridcolor": "#E1E5ED",
         "showgrid": true,
         "tickfont": {
          "color": "#4D5663"
         },
         "title": {
          "font": {
           "color": "#4D5663"
          },
          "text": ""
         },
         "zerolinecolor": "#E1E5ED"
        },
        "yaxis": {
         "gridcolor": "#E1E5ED",
         "showgrid": true,
         "tickfont": {
          "color": "#4D5663"
         },
         "title": {
          "font": {
           "color": "#4D5663"
          },
          "text": ""
         },
         "zerolinecolor": "#E1E5ED"
        }
       }
      },
      "text/html": [
       "<div>                            <div id=\"38e5a7b9-7a72-4f3d-b9d2-2b8d138b9c6c\" class=\"plotly-graph-div\" style=\"height:525px; width:100%;\"></div>            <script type=\"text/javascript\">                require([\"plotly\"], function(Plotly) {                    window.PLOTLYENV=window.PLOTLYENV || {};\n",
       "                    window.PLOTLYENV.BASE_URL='https://plot.ly';                                    if (document.getElementById(\"38e5a7b9-7a72-4f3d-b9d2-2b8d138b9c6c\")) {                    Plotly.newPlot(                        \"38e5a7b9-7a72-4f3d-b9d2-2b8d138b9c6c\",                        [{\"boxpoints\":false,\"line\":{\"width\":1.3},\"marker\":{\"color\":\"rgba(255, 153, 51, 1.0)\"},\"name\":\"A\",\"orientation\":\"v\",\"y\":[0.1501788668840338,-0.1756913710375011,0.13856736719365398,0.7219578807852828,0.02103035712203404,0.05372994782000095,-0.8597786699749488,-1.436764515074958,0.09773770467735642,-0.5090109468773343,0.058444993463366686,0.1528818965232011,-0.054374732419699146,-0.5195914547970374,-1.6451919722324309,-0.4078752816447025,1.7196902722861414,1.1277768696275943,-0.16700661819317372,0.4344680307743496,-0.4533598135068671,-0.17821655659170996,-0.5483023401387696,1.0642240577556783,0.15666741152753014,-2.296016560442535,1.6924661296080639,0.6072904612083375,0.6583268747437102,0.0232092808315366,0.25505441923380395,-1.7884002052880084,-1.0271998449996689,-1.3800108277280776,-0.3196999975289513,1.212423910875223,-0.8631824306196343,0.14045007863442893,0.03772705519209731,0.8741708927574366,-0.8956255423448548,0.5595218806674672,-0.13978226703197763,-1.3522532012187982,-0.11901794011161884,1.4943615882517902,-0.9021970825018301,-0.4943366411747155,0.5487766844925248,-0.2844232877660867,0.8340903018578912,-1.702365901238491,-0.7100490330331606,0.6674682457214097,-0.14091751691325238,-2.6175899502714532,-1.602147770857257,-0.7486305439753811,-0.6238082510908618,-0.9765058142343359,0.8819257132329856,-0.8444708401609161,1.3290859983817334,-0.33125058588237893,-2.4943073578839736,-0.09846938938603009,1.6319181413388584,0.2877837487161706,0.05661978916823122,0.19196078383633894,0.45447543421148245,-0.7471721117926763,0.5768918461100573,-0.42479111088633664,-2.6587930187849484,-0.879206416879864,-1.584685197756789,0.9913181768573425,0.6935908952151667,0.6174070873913775,-0.6594441738825568,-0.9226163312478916,0.9072689218965913,-3.4618100598071324,-2.8996735525378363,0.14764029916770435,-0.9304743038902059,-0.09148425443751493,-0.6947510262830392,0.48761583192883556,-0.8300069322754731,0.9919919641210598,-1.3828189356306078,-0.0436640865499939,-0.2851681411662788,1.6435752977827398,0.05788619121298352,0.5726843717948871,-0.8708498105504946,1.0442243483732725],\"type\":\"box\"},{\"boxpoints\":false,\"line\":{\"width\":1.3},\"marker\":{\"color\":\"rgba(55, 128, 191, 1.0)\"},\"name\":\"B\",\"orientation\":\"v\",\"y\":[0.3292464980445286,-0.1411389303037044,1.0690826737668286,-0.5670008289594736,1.5918584383121732,-0.49735820558161664,0.853020526947463,1.094407718690676,0.32727080169252115,-1.2226688074822474,2.686372841230928,-0.7662833800546549,-1.672436568832668,-0.3932022977635248,0.03263859066046469,-1.6761171971533155,-1.564322177542407,0.8727530667077585,2.8459920842255357,0.041262651325481056,0.6020364391158644,-1.274285368129067,0.37739388783722166,1.785008130491707,-1.0332839242660679,2.4939486777155886,0.981165538761148,0.9876494450648611,-1.392722155984482,-0.23872920769288078,1.4825111094062309,-0.8719477402420855,-0.8640186070736904,1.7498728402472519,0.5725682033786544,0.49847970058576085,0.4628575656278747,-0.06871206586372626,-0.14184373613844153,0.43328186425755827,-0.10749451342931048,-0.9398187865832206,-0.5251347550124181,1.635891869597316,-0.8844918823837958,-0.9090407559913615,0.519238719064138,-0.7090769497362426,0.8398486786419308,-0.2876594525112121,-0.882125919272093,0.04716098700964254,0.7473021164945799,-0.6205957612381642,0.07659494095782203,0.3029419326610615,-0.1457543020500506,-1.0147955229958847,-0.5348542967183831,-0.8781239565468124,-2.1411910267869123,-1.1388955510062049,-0.8087615847592627,-0.2994886393800132,-1.550632994942883,-0.07855287087348586,-0.09139415769032651,-0.3900148067474229,0.7748252201143693,-1.5355808667892057,-2.1694692520872296,-0.8250853605787378,0.3846735791487371,0.17890267605846233,-1.4735750220184796,0.07437116478387093,0.9218685071691737,-0.8205867482611652,0.5115358062357684,-1.2857938547393777,0.31221253198721455,-0.08234276520286833,0.4526207498721831,-0.4473360992885767,0.5766023641817422,-1.550026086832909,-0.7197254653986882,-0.2890094987331318,-0.9484949964302272,1.4749208841491077,0.8279588679944496,-0.2497528713488217,-0.7188559976596786,0.3947502727196581,-0.852203625860959,-0.4713126121808178,0.4880404775087967,-1.5681301594317518,-1.4119016649251277,0.0676585355782195],\"type\":\"box\"},{\"boxpoints\":false,\"line\":{\"width\":1.3},\"marker\":{\"color\":\"rgba(50, 171, 96, 1.0)\"},\"name\":\"C\",\"orientation\":\"v\",\"y\":[0.890916480844037,-1.558527107511487,-1.8488925502815907,-0.6494576645259102,1.1280869396031745,-0.17952894882184547,-0.33810857909289344,-0.48878290989005213,-0.11938293447879825,-0.2989751410946798,0.4965499375088627,0.21636453352319893,0.2840717850111058,0.20735875936817524,-0.22565690187486223,1.1164757506873288,-0.6707234049274312,0.9424716687268028,1.6515063039689564,1.992774545960232,-0.5812924968657552,0.22810610570053838,-0.20849458732619003,1.1661466927440949,-0.28056452596092063,-0.049917163399387045,2.195637903300989,0.116948203171959,1.401933580717518,-2.0117372351060685,0.21559254965129362,-0.042744727939135044,-1.3345088876565672,0.5875791622511894,-1.0051348169849186,-0.44694599729049334,-0.9032149034697351,-0.9498465409084119,-0.7124254084325481,0.17135327657766145,-0.49806229420490383,-0.8328725348029663,-1.8732396301295586,0.28930476551203765,0.7510647311729514,1.3362719752061962,-0.1646996370888109,0.5644111124218038,-0.5944675628535963,1.1269513423335507,0.3178070052923227,-1.1988012057295312,0.9873656236415521,1.2476067769280317,0.5506614471733887,0.000814001257611384,1.4130552819529212,-0.22092645802391894,1.3288750160497649,0.1282526773031756,0.05123370962394723,0.537892346190286,0.8780740358004305,2.3230733411681275,-0.3702023676130841,-0.5213525592026007,1.3944034723368863,0.2966259186302385,1.1136273398847076,-0.05299962419798843,-1.01965507512544,-0.7704726221159278,0.24646521622835293,1.0811824290711995,-0.29499818540873474,1.6148381953265067,2.5014835838918628,0.552463771797649,-2.2293007713638215,0.6413036999649206,-1.645307584944108,0.6300421981899462,-0.45450498610227286,-0.3390119693617331,0.47305360720198797,0.2456761390603077,-0.9836097767809264,0.9871269020530777,0.09834186509548075,0.7208876227420822,-1.1877689956169983,1.5192828005896106,-1.381594152153304,-0.7197746248014946,0.011550420103289123,0.10147027582360378,-0.6872369274921748,1.650674227068161,0.9032065367878431,0.8130991610718596],\"type\":\"box\"},{\"boxpoints\":false,\"line\":{\"width\":1.3},\"marker\":{\"color\":\"rgba(128, 0, 128, 1.0)\"},\"name\":\"D\",\"orientation\":\"v\",\"y\":[1.2238696611006687,0.2659016037253465,0.5348783333601433,-0.5152424203192356,0.7957817937572748,0.4316924718678004,0.13452532570970305,-1.1609585252578314,1.109688781111511,-0.25237472399053945,-0.4205306809125667,-0.13090388071271383,-0.12537996532960222,-0.10182788988671564,1.7665855788900615,0.28287032317227917,0.10235451464604306,1.729565277267111,-0.11314043958280795,1.0354429224865613,-0.34024824271522836,0.8210779437076364,0.4118759981850916,0.431616592821346,1.466797156861794,0.6557165096961052,-0.5858758532518111,0.433845796517269,0.5218602483278069,-0.36664316690916726,-1.0880539147526773,0.22471008032895676,-0.970253474769151,-0.8141627851447617,0.2751096487173175,0.5475880158403673,0.5959525301521521,-0.1930623768638768,0.9522162211248725,0.24710194516308667,0.2098533608444933,-0.4177347350882414,-0.5378864350268977,1.356240901552392,-1.4358885908500325,-0.6150524345433597,0.5644000226091584,-1.7728965912212569,0.7478907531147889,-0.847680137605328,0.5243094753242314,-0.5629466077738976,0.7308720665035708,-0.5631609456231326,-0.5480544163023164,1.3806825978333803,-0.8168571159408491,-0.07071285909209492,0.42756541165848566,0.6239789663027165,1.5937867923838385,-0.15566204467470132,0.9617306773021843,-0.060748484458576946,1.7421582679490866,0.13032168838390243,0.3644249457854377,0.44826916791078275,0.5520991045312008,-1.4535333914643893,-1.6037467056567496,-0.2069767719603601,-0.5788263866043485,0.3991456611757954,-0.025966973025777936,0.6122427822789827,-1.2896420826915858,1.9841678768446551,0.5224878892863754,0.8353665562482017,0.12747466466086263,1.817142494989653,0.8376095471647783,0.5564802783508699,0.9063079284923069,1.168407555051154,-0.696805989983867,1.4977939685254351,0.8808587328159376,0.4155772726557158,0.4375653565107603,0.7133247647267615,0.8933324173851137,-1.6492894319540068,-0.33213880818894287,-1.6560909794244025,-1.009918484762426,-0.4687963402846757,0.6401161967456103,0.21746994993596683],\"type\":\"box\"}],                        {\"legend\":{\"bgcolor\":\"#F5F6F9\",\"font\":{\"color\":\"#4D5663\"}},\"paper_bgcolor\":\"#F5F6F9\",\"plot_bgcolor\":\"#F5F6F9\",\"template\":{\"data\":{\"barpolar\":[{\"marker\":{\"line\":{\"color\":\"#E5ECF6\",\"width\":0.5},\"pattern\":{\"fillmode\":\"overlay\",\"size\":10,\"solidity\":0.2}},\"type\":\"barpolar\"}],\"bar\":[{\"error_x\":{\"color\":\"#2a3f5f\"},\"error_y\":{\"color\":\"#2a3f5f\"},\"marker\":{\"line\":{\"color\":\"#E5ECF6\",\"width\":0.5},\"pattern\":{\"fillmode\":\"overlay\",\"size\":10,\"solidity\":0.2}},\"type\":\"bar\"}],\"carpet\":[{\"aaxis\":{\"endlinecolor\":\"#2a3f5f\",\"gridcolor\":\"white\",\"linecolor\":\"white\",\"minorgridcolor\":\"white\",\"startlinecolor\":\"#2a3f5f\"},\"baxis\":{\"endlinecolor\":\"#2a3f5f\",\"gridcolor\":\"white\",\"linecolor\":\"white\",\"minorgridcolor\":\"white\",\"startlinecolor\":\"#2a3f5f\"},\"type\":\"carpet\"}],\"choropleth\":[{\"colorbar\":{\"outlinewidth\":0,\"ticks\":\"\"},\"type\":\"choropleth\"}],\"contourcarpet\":[{\"colorbar\":{\"outlinewidth\":0,\"ticks\":\"\"},\"type\":\"contourcarpet\"}],\"contour\":[{\"colorbar\":{\"outlinewidth\":0,\"ticks\":\"\"},\"colorscale\":[[0.0,\"#0d0887\"],[0.1111111111111111,\"#46039f\"],[0.2222222222222222,\"#7201a8\"],[0.3333333333333333,\"#9c179e\"],[0.4444444444444444,\"#bd3786\"],[0.5555555555555556,\"#d8576b\"],[0.6666666666666666,\"#ed7953\"],[0.7777777777777778,\"#fb9f3a\"],[0.8888888888888888,\"#fdca26\"],[1.0,\"#f0f921\"]],\"type\":\"contour\"}],\"heatmapgl\":[{\"colorbar\":{\"outlinewidth\":0,\"ticks\":\"\"},\"colorscale\":[[0.0,\"#0d0887\"],[0.1111111111111111,\"#46039f\"],[0.2222222222222222,\"#7201a8\"],[0.3333333333333333,\"#9c179e\"],[0.4444444444444444,\"#bd3786\"],[0.5555555555555556,\"#d8576b\"],[0.6666666666666666,\"#ed7953\"],[0.7777777777777778,\"#fb9f3a\"],[0.8888888888888888,\"#fdca26\"],[1.0,\"#f0f921\"]],\"type\":\"heatmapgl\"}],\"heatmap\":[{\"colorbar\":{\"outlinewidth\":0,\"ticks\":\"\"},\"colorscale\":[[0.0,\"#0d0887\"],[0.1111111111111111,\"#46039f\"],[0.2222222222222222,\"#7201a8\"],[0.3333333333333333,\"#9c179e\"],[0.4444444444444444,\"#bd3786\"],[0.5555555555555556,\"#d8576b\"],[0.6666666666666666,\"#ed7953\"],[0.7777777777777778,\"#fb9f3a\"],[0.8888888888888888,\"#fdca26\"],[1.0,\"#f0f921\"]],\"type\":\"heatmap\"}],\"histogram2dcontour\":[{\"colorbar\":{\"outlinewidth\":0,\"ticks\":\"\"},\"colorscale\":[[0.0,\"#0d0887\"],[0.1111111111111111,\"#46039f\"],[0.2222222222222222,\"#7201a8\"],[0.3333333333333333,\"#9c179e\"],[0.4444444444444444,\"#bd3786\"],[0.5555555555555556,\"#d8576b\"],[0.6666666666666666,\"#ed7953\"],[0.7777777777777778,\"#fb9f3a\"],[0.8888888888888888,\"#fdca26\"],[1.0,\"#f0f921\"]],\"type\":\"histogram2dcontour\"}],\"histogram2d\":[{\"colorbar\":{\"outlinewidth\":0,\"ticks\":\"\"},\"colorscale\":[[0.0,\"#0d0887\"],[0.1111111111111111,\"#46039f\"],[0.2222222222222222,\"#7201a8\"],[0.3333333333333333,\"#9c179e\"],[0.4444444444444444,\"#bd3786\"],[0.5555555555555556,\"#d8576b\"],[0.6666666666666666,\"#ed7953\"],[0.7777777777777778,\"#fb9f3a\"],[0.8888888888888888,\"#fdca26\"],[1.0,\"#f0f921\"]],\"type\":\"histogram2d\"}],\"histogram\":[{\"marker\":{\"pattern\":{\"fillmode\":\"overlay\",\"size\":10,\"solidity\":0.2}},\"type\":\"histogram\"}],\"mesh3d\":[{\"colorbar\":{\"outlinewidth\":0,\"ticks\":\"\"},\"type\":\"mesh3d\"}],\"parcoords\":[{\"line\":{\"colorbar\":{\"outlinewidth\":0,\"ticks\":\"\"}},\"type\":\"parcoords\"}],\"pie\":[{\"automargin\":true,\"type\":\"pie\"}],\"scatter3d\":[{\"line\":{\"colorbar\":{\"outlinewidth\":0,\"ticks\":\"\"}},\"marker\":{\"colorbar\":{\"outlinewidth\":0,\"ticks\":\"\"}},\"type\":\"scatter3d\"}],\"scattercarpet\":[{\"marker\":{\"colorbar\":{\"outlinewidth\":0,\"ticks\":\"\"}},\"type\":\"scattercarpet\"}],\"scattergeo\":[{\"marker\":{\"colorbar\":{\"outlinewidth\":0,\"ticks\":\"\"}},\"type\":\"scattergeo\"}],\"scattergl\":[{\"marker\":{\"colorbar\":{\"outlinewidth\":0,\"ticks\":\"\"}},\"type\":\"scattergl\"}],\"scattermapbox\":[{\"marker\":{\"colorbar\":{\"outlinewidth\":0,\"ticks\":\"\"}},\"type\":\"scattermapbox\"}],\"scatterpolargl\":[{\"marker\":{\"colorbar\":{\"outlinewidth\":0,\"ticks\":\"\"}},\"type\":\"scatterpolargl\"}],\"scatterpolar\":[{\"marker\":{\"colorbar\":{\"outlinewidth\":0,\"ticks\":\"\"}},\"type\":\"scatterpolar\"}],\"scatter\":[{\"fillpattern\":{\"fillmode\":\"overlay\",\"size\":10,\"solidity\":0.2},\"type\":\"scatter\"}],\"scatterternary\":[{\"marker\":{\"colorbar\":{\"outlinewidth\":0,\"ticks\":\"\"}},\"type\":\"scatterternary\"}],\"surface\":[{\"colorbar\":{\"outlinewidth\":0,\"ticks\":\"\"},\"colorscale\":[[0.0,\"#0d0887\"],[0.1111111111111111,\"#46039f\"],[0.2222222222222222,\"#7201a8\"],[0.3333333333333333,\"#9c179e\"],[0.4444444444444444,\"#bd3786\"],[0.5555555555555556,\"#d8576b\"],[0.6666666666666666,\"#ed7953\"],[0.7777777777777778,\"#fb9f3a\"],[0.8888888888888888,\"#fdca26\"],[1.0,\"#f0f921\"]],\"type\":\"surface\"}],\"table\":[{\"cells\":{\"fill\":{\"color\":\"#EBF0F8\"},\"line\":{\"color\":\"white\"}},\"header\":{\"fill\":{\"color\":\"#C8D4E3\"},\"line\":{\"color\":\"white\"}},\"type\":\"table\"}]},\"layout\":{\"annotationdefaults\":{\"arrowcolor\":\"#2a3f5f\",\"arrowhead\":0,\"arrowwidth\":1},\"autotypenumbers\":\"strict\",\"coloraxis\":{\"colorbar\":{\"outlinewidth\":0,\"ticks\":\"\"}},\"colorscale\":{\"diverging\":[[0,\"#8e0152\"],[0.1,\"#c51b7d\"],[0.2,\"#de77ae\"],[0.3,\"#f1b6da\"],[0.4,\"#fde0ef\"],[0.5,\"#f7f7f7\"],[0.6,\"#e6f5d0\"],[0.7,\"#b8e186\"],[0.8,\"#7fbc41\"],[0.9,\"#4d9221\"],[1,\"#276419\"]],\"sequential\":[[0.0,\"#0d0887\"],[0.1111111111111111,\"#46039f\"],[0.2222222222222222,\"#7201a8\"],[0.3333333333333333,\"#9c179e\"],[0.4444444444444444,\"#bd3786\"],[0.5555555555555556,\"#d8576b\"],[0.6666666666666666,\"#ed7953\"],[0.7777777777777778,\"#fb9f3a\"],[0.8888888888888888,\"#fdca26\"],[1.0,\"#f0f921\"]],\"sequentialminus\":[[0.0,\"#0d0887\"],[0.1111111111111111,\"#46039f\"],[0.2222222222222222,\"#7201a8\"],[0.3333333333333333,\"#9c179e\"],[0.4444444444444444,\"#bd3786\"],[0.5555555555555556,\"#d8576b\"],[0.6666666666666666,\"#ed7953\"],[0.7777777777777778,\"#fb9f3a\"],[0.8888888888888888,\"#fdca26\"],[1.0,\"#f0f921\"]]},\"colorway\":[\"#636efa\",\"#EF553B\",\"#00cc96\",\"#ab63fa\",\"#FFA15A\",\"#19d3f3\",\"#FF6692\",\"#B6E880\",\"#FF97FF\",\"#FECB52\"],\"font\":{\"color\":\"#2a3f5f\"},\"geo\":{\"bgcolor\":\"white\",\"lakecolor\":\"white\",\"landcolor\":\"#E5ECF6\",\"showlakes\":true,\"showland\":true,\"subunitcolor\":\"white\"},\"hoverlabel\":{\"align\":\"left\"},\"hovermode\":\"closest\",\"mapbox\":{\"style\":\"light\"},\"paper_bgcolor\":\"white\",\"plot_bgcolor\":\"#E5ECF6\",\"polar\":{\"angularaxis\":{\"gridcolor\":\"white\",\"linecolor\":\"white\",\"ticks\":\"\"},\"bgcolor\":\"#E5ECF6\",\"radialaxis\":{\"gridcolor\":\"white\",\"linecolor\":\"white\",\"ticks\":\"\"}},\"scene\":{\"xaxis\":{\"backgroundcolor\":\"#E5ECF6\",\"gridcolor\":\"white\",\"gridwidth\":2,\"linecolor\":\"white\",\"showbackground\":true,\"ticks\":\"\",\"zerolinecolor\":\"white\"},\"yaxis\":{\"backgroundcolor\":\"#E5ECF6\",\"gridcolor\":\"white\",\"gridwidth\":2,\"linecolor\":\"white\",\"showbackground\":true,\"ticks\":\"\",\"zerolinecolor\":\"white\"},\"zaxis\":{\"backgroundcolor\":\"#E5ECF6\",\"gridcolor\":\"white\",\"gridwidth\":2,\"linecolor\":\"white\",\"showbackground\":true,\"ticks\":\"\",\"zerolinecolor\":\"white\"}},\"shapedefaults\":{\"line\":{\"color\":\"#2a3f5f\"}},\"ternary\":{\"aaxis\":{\"gridcolor\":\"white\",\"linecolor\":\"white\",\"ticks\":\"\"},\"baxis\":{\"gridcolor\":\"white\",\"linecolor\":\"white\",\"ticks\":\"\"},\"bgcolor\":\"#E5ECF6\",\"caxis\":{\"gridcolor\":\"white\",\"linecolor\":\"white\",\"ticks\":\"\"}},\"title\":{\"x\":0.05},\"xaxis\":{\"automargin\":true,\"gridcolor\":\"white\",\"linecolor\":\"white\",\"ticks\":\"\",\"title\":{\"standoff\":15},\"zerolinecolor\":\"white\",\"zerolinewidth\":2},\"yaxis\":{\"automargin\":true,\"gridcolor\":\"white\",\"linecolor\":\"white\",\"ticks\":\"\",\"title\":{\"standoff\":15},\"zerolinecolor\":\"white\",\"zerolinewidth\":2}}},\"title\":{\"font\":{\"color\":\"#4D5663\"}},\"xaxis\":{\"gridcolor\":\"#E1E5ED\",\"showgrid\":true,\"tickfont\":{\"color\":\"#4D5663\"},\"title\":{\"font\":{\"color\":\"#4D5663\"},\"text\":\"\"},\"zerolinecolor\":\"#E1E5ED\"},\"yaxis\":{\"gridcolor\":\"#E1E5ED\",\"showgrid\":true,\"tickfont\":{\"color\":\"#4D5663\"},\"title\":{\"font\":{\"color\":\"#4D5663\"},\"text\":\"\"},\"zerolinecolor\":\"#E1E5ED\"}},                        {\"showLink\": true, \"linkText\": \"Export to plot.ly\", \"plotlyServerURL\": \"https://plot.ly\", \"responsive\": true}                    ).then(function(){\n",
       "                            \n",
       "var gd = document.getElementById('38e5a7b9-7a72-4f3d-b9d2-2b8d138b9c6c');\n",
       "var x = new MutationObserver(function (mutations, observer) {{\n",
       "        var display = window.getComputedStyle(gd).display;\n",
       "        if (!display || display === 'none') {{\n",
       "            console.log([gd, 'removed!']);\n",
       "            Plotly.purge(gd);\n",
       "            observer.disconnect();\n",
       "        }}\n",
       "}});\n",
       "\n",
       "// Listen for the removal of the full notebook cells\n",
       "var notebookContainer = gd.closest('#notebook-container');\n",
       "if (notebookContainer) {{\n",
       "    x.observe(notebookContainer, {childList: true});\n",
       "}}\n",
       "\n",
       "// Listen for the clearing of the current output cell\n",
       "var outputEl = gd.closest('.output');\n",
       "if (outputEl) {{\n",
       "    x.observe(outputEl, {childList: true});\n",
       "}}\n",
       "\n",
       "                        })                };                });            </script>        </div>"
      ]
     },
     "metadata": {},
     "output_type": "display_data"
    }
   ],
   "source": [
    "#Boxplot\n",
    "\n",
    "df.iplot(kind='box')"
   ]
  },
  {
   "cell_type": "code",
   "execution_count": 17,
   "id": "ffd32f87",
   "metadata": {},
   "outputs": [
    {
     "data": {
      "application/vnd.plotly.v1+json": {
       "config": {
        "linkText": "Export to plot.ly",
        "plotlyServerURL": "https://plot.ly",
        "showLink": true
       },
       "data": [
        {
         "colorscale": [
          [
           0,
           "rgb(165,0,38)"
          ],
          [
           0.1,
           "rgb(215,48,39)"
          ],
          [
           0.2,
           "rgb(244,109,67)"
          ],
          [
           0.3,
           "rgb(253,174,97)"
          ],
          [
           0.4,
           "rgb(254,224,144)"
          ],
          [
           0.5,
           "rgb(255,255,191)"
          ],
          [
           0.6,
           "rgb(224,243,248)"
          ],
          [
           0.7,
           "rgb(171,217,233)"
          ],
          [
           0.8,
           "rgb(116,173,209)"
          ],
          [
           0.9,
           "rgb(69,117,180)"
          ],
          [
           1,
           "rgb(49,54,149)"
          ]
         ],
         "type": "surface",
         "x": [
          0,
          1,
          2,
          3,
          4
         ],
         "y": [
          "x",
          "y",
          "z"
         ],
         "z": [
          [
           1,
           2,
           3,
           4,
           5
          ],
          [
           10,
           20,
           30,
           20,
           10
          ],
          [
           5,
           4,
           3,
           2,
           1
          ]
         ]
        }
       ],
       "layout": {
        "legend": {
         "bgcolor": "#F5F6F9",
         "font": {
          "color": "#4D5663"
         }
        },
        "paper_bgcolor": "#F5F6F9",
        "plot_bgcolor": "#F5F6F9",
        "template": {
         "data": {
          "bar": [
           {
            "error_x": {
             "color": "#2a3f5f"
            },
            "error_y": {
             "color": "#2a3f5f"
            },
            "marker": {
             "line": {
              "color": "#E5ECF6",
              "width": 0.5
             },
             "pattern": {
              "fillmode": "overlay",
              "size": 10,
              "solidity": 0.2
             }
            },
            "type": "bar"
           }
          ],
          "barpolar": [
           {
            "marker": {
             "line": {
              "color": "#E5ECF6",
              "width": 0.5
             },
             "pattern": {
              "fillmode": "overlay",
              "size": 10,
              "solidity": 0.2
             }
            },
            "type": "barpolar"
           }
          ],
          "carpet": [
           {
            "aaxis": {
             "endlinecolor": "#2a3f5f",
             "gridcolor": "white",
             "linecolor": "white",
             "minorgridcolor": "white",
             "startlinecolor": "#2a3f5f"
            },
            "baxis": {
             "endlinecolor": "#2a3f5f",
             "gridcolor": "white",
             "linecolor": "white",
             "minorgridcolor": "white",
             "startlinecolor": "#2a3f5f"
            },
            "type": "carpet"
           }
          ],
          "choropleth": [
           {
            "colorbar": {
             "outlinewidth": 0,
             "ticks": ""
            },
            "type": "choropleth"
           }
          ],
          "contour": [
           {
            "colorbar": {
             "outlinewidth": 0,
             "ticks": ""
            },
            "colorscale": [
             [
              0,
              "#0d0887"
             ],
             [
              0.1111111111111111,
              "#46039f"
             ],
             [
              0.2222222222222222,
              "#7201a8"
             ],
             [
              0.3333333333333333,
              "#9c179e"
             ],
             [
              0.4444444444444444,
              "#bd3786"
             ],
             [
              0.5555555555555556,
              "#d8576b"
             ],
             [
              0.6666666666666666,
              "#ed7953"
             ],
             [
              0.7777777777777778,
              "#fb9f3a"
             ],
             [
              0.8888888888888888,
              "#fdca26"
             ],
             [
              1,
              "#f0f921"
             ]
            ],
            "type": "contour"
           }
          ],
          "contourcarpet": [
           {
            "colorbar": {
             "outlinewidth": 0,
             "ticks": ""
            },
            "type": "contourcarpet"
           }
          ],
          "heatmap": [
           {
            "colorbar": {
             "outlinewidth": 0,
             "ticks": ""
            },
            "colorscale": [
             [
              0,
              "#0d0887"
             ],
             [
              0.1111111111111111,
              "#46039f"
             ],
             [
              0.2222222222222222,
              "#7201a8"
             ],
             [
              0.3333333333333333,
              "#9c179e"
             ],
             [
              0.4444444444444444,
              "#bd3786"
             ],
             [
              0.5555555555555556,
              "#d8576b"
             ],
             [
              0.6666666666666666,
              "#ed7953"
             ],
             [
              0.7777777777777778,
              "#fb9f3a"
             ],
             [
              0.8888888888888888,
              "#fdca26"
             ],
             [
              1,
              "#f0f921"
             ]
            ],
            "type": "heatmap"
           }
          ],
          "heatmapgl": [
           {
            "colorbar": {
             "outlinewidth": 0,
             "ticks": ""
            },
            "colorscale": [
             [
              0,
              "#0d0887"
             ],
             [
              0.1111111111111111,
              "#46039f"
             ],
             [
              0.2222222222222222,
              "#7201a8"
             ],
             [
              0.3333333333333333,
              "#9c179e"
             ],
             [
              0.4444444444444444,
              "#bd3786"
             ],
             [
              0.5555555555555556,
              "#d8576b"
             ],
             [
              0.6666666666666666,
              "#ed7953"
             ],
             [
              0.7777777777777778,
              "#fb9f3a"
             ],
             [
              0.8888888888888888,
              "#fdca26"
             ],
             [
              1,
              "#f0f921"
             ]
            ],
            "type": "heatmapgl"
           }
          ],
          "histogram": [
           {
            "marker": {
             "pattern": {
              "fillmode": "overlay",
              "size": 10,
              "solidity": 0.2
             }
            },
            "type": "histogram"
           }
          ],
          "histogram2d": [
           {
            "colorbar": {
             "outlinewidth": 0,
             "ticks": ""
            },
            "colorscale": [
             [
              0,
              "#0d0887"
             ],
             [
              0.1111111111111111,
              "#46039f"
             ],
             [
              0.2222222222222222,
              "#7201a8"
             ],
             [
              0.3333333333333333,
              "#9c179e"
             ],
             [
              0.4444444444444444,
              "#bd3786"
             ],
             [
              0.5555555555555556,
              "#d8576b"
             ],
             [
              0.6666666666666666,
              "#ed7953"
             ],
             [
              0.7777777777777778,
              "#fb9f3a"
             ],
             [
              0.8888888888888888,
              "#fdca26"
             ],
             [
              1,
              "#f0f921"
             ]
            ],
            "type": "histogram2d"
           }
          ],
          "histogram2dcontour": [
           {
            "colorbar": {
             "outlinewidth": 0,
             "ticks": ""
            },
            "colorscale": [
             [
              0,
              "#0d0887"
             ],
             [
              0.1111111111111111,
              "#46039f"
             ],
             [
              0.2222222222222222,
              "#7201a8"
             ],
             [
              0.3333333333333333,
              "#9c179e"
             ],
             [
              0.4444444444444444,
              "#bd3786"
             ],
             [
              0.5555555555555556,
              "#d8576b"
             ],
             [
              0.6666666666666666,
              "#ed7953"
             ],
             [
              0.7777777777777778,
              "#fb9f3a"
             ],
             [
              0.8888888888888888,
              "#fdca26"
             ],
             [
              1,
              "#f0f921"
             ]
            ],
            "type": "histogram2dcontour"
           }
          ],
          "mesh3d": [
           {
            "colorbar": {
             "outlinewidth": 0,
             "ticks": ""
            },
            "type": "mesh3d"
           }
          ],
          "parcoords": [
           {
            "line": {
             "colorbar": {
              "outlinewidth": 0,
              "ticks": ""
             }
            },
            "type": "parcoords"
           }
          ],
          "pie": [
           {
            "automargin": true,
            "type": "pie"
           }
          ],
          "scatter": [
           {
            "fillpattern": {
             "fillmode": "overlay",
             "size": 10,
             "solidity": 0.2
            },
            "type": "scatter"
           }
          ],
          "scatter3d": [
           {
            "line": {
             "colorbar": {
              "outlinewidth": 0,
              "ticks": ""
             }
            },
            "marker": {
             "colorbar": {
              "outlinewidth": 0,
              "ticks": ""
             }
            },
            "type": "scatter3d"
           }
          ],
          "scattercarpet": [
           {
            "marker": {
             "colorbar": {
              "outlinewidth": 0,
              "ticks": ""
             }
            },
            "type": "scattercarpet"
           }
          ],
          "scattergeo": [
           {
            "marker": {
             "colorbar": {
              "outlinewidth": 0,
              "ticks": ""
             }
            },
            "type": "scattergeo"
           }
          ],
          "scattergl": [
           {
            "marker": {
             "colorbar": {
              "outlinewidth": 0,
              "ticks": ""
             }
            },
            "type": "scattergl"
           }
          ],
          "scattermapbox": [
           {
            "marker": {
             "colorbar": {
              "outlinewidth": 0,
              "ticks": ""
             }
            },
            "type": "scattermapbox"
           }
          ],
          "scatterpolar": [
           {
            "marker": {
             "colorbar": {
              "outlinewidth": 0,
              "ticks": ""
             }
            },
            "type": "scatterpolar"
           }
          ],
          "scatterpolargl": [
           {
            "marker": {
             "colorbar": {
              "outlinewidth": 0,
              "ticks": ""
             }
            },
            "type": "scatterpolargl"
           }
          ],
          "scatterternary": [
           {
            "marker": {
             "colorbar": {
              "outlinewidth": 0,
              "ticks": ""
             }
            },
            "type": "scatterternary"
           }
          ],
          "surface": [
           {
            "colorbar": {
             "outlinewidth": 0,
             "ticks": ""
            },
            "colorscale": [
             [
              0,
              "#0d0887"
             ],
             [
              0.1111111111111111,
              "#46039f"
             ],
             [
              0.2222222222222222,
              "#7201a8"
             ],
             [
              0.3333333333333333,
              "#9c179e"
             ],
             [
              0.4444444444444444,
              "#bd3786"
             ],
             [
              0.5555555555555556,
              "#d8576b"
             ],
             [
              0.6666666666666666,
              "#ed7953"
             ],
             [
              0.7777777777777778,
              "#fb9f3a"
             ],
             [
              0.8888888888888888,
              "#fdca26"
             ],
             [
              1,
              "#f0f921"
             ]
            ],
            "type": "surface"
           }
          ],
          "table": [
           {
            "cells": {
             "fill": {
              "color": "#EBF0F8"
             },
             "line": {
              "color": "white"
             }
            },
            "header": {
             "fill": {
              "color": "#C8D4E3"
             },
             "line": {
              "color": "white"
             }
            },
            "type": "table"
           }
          ]
         },
         "layout": {
          "annotationdefaults": {
           "arrowcolor": "#2a3f5f",
           "arrowhead": 0,
           "arrowwidth": 1
          },
          "autotypenumbers": "strict",
          "coloraxis": {
           "colorbar": {
            "outlinewidth": 0,
            "ticks": ""
           }
          },
          "colorscale": {
           "diverging": [
            [
             0,
             "#8e0152"
            ],
            [
             0.1,
             "#c51b7d"
            ],
            [
             0.2,
             "#de77ae"
            ],
            [
             0.3,
             "#f1b6da"
            ],
            [
             0.4,
             "#fde0ef"
            ],
            [
             0.5,
             "#f7f7f7"
            ],
            [
             0.6,
             "#e6f5d0"
            ],
            [
             0.7,
             "#b8e186"
            ],
            [
             0.8,
             "#7fbc41"
            ],
            [
             0.9,
             "#4d9221"
            ],
            [
             1,
             "#276419"
            ]
           ],
           "sequential": [
            [
             0,
             "#0d0887"
            ],
            [
             0.1111111111111111,
             "#46039f"
            ],
            [
             0.2222222222222222,
             "#7201a8"
            ],
            [
             0.3333333333333333,
             "#9c179e"
            ],
            [
             0.4444444444444444,
             "#bd3786"
            ],
            [
             0.5555555555555556,
             "#d8576b"
            ],
            [
             0.6666666666666666,
             "#ed7953"
            ],
            [
             0.7777777777777778,
             "#fb9f3a"
            ],
            [
             0.8888888888888888,
             "#fdca26"
            ],
            [
             1,
             "#f0f921"
            ]
           ],
           "sequentialminus": [
            [
             0,
             "#0d0887"
            ],
            [
             0.1111111111111111,
             "#46039f"
            ],
            [
             0.2222222222222222,
             "#7201a8"
            ],
            [
             0.3333333333333333,
             "#9c179e"
            ],
            [
             0.4444444444444444,
             "#bd3786"
            ],
            [
             0.5555555555555556,
             "#d8576b"
            ],
            [
             0.6666666666666666,
             "#ed7953"
            ],
            [
             0.7777777777777778,
             "#fb9f3a"
            ],
            [
             0.8888888888888888,
             "#fdca26"
            ],
            [
             1,
             "#f0f921"
            ]
           ]
          },
          "colorway": [
           "#636efa",
           "#EF553B",
           "#00cc96",
           "#ab63fa",
           "#FFA15A",
           "#19d3f3",
           "#FF6692",
           "#B6E880",
           "#FF97FF",
           "#FECB52"
          ],
          "font": {
           "color": "#2a3f5f"
          },
          "geo": {
           "bgcolor": "white",
           "lakecolor": "white",
           "landcolor": "#E5ECF6",
           "showlakes": true,
           "showland": true,
           "subunitcolor": "white"
          },
          "hoverlabel": {
           "align": "left"
          },
          "hovermode": "closest",
          "mapbox": {
           "style": "light"
          },
          "paper_bgcolor": "white",
          "plot_bgcolor": "#E5ECF6",
          "polar": {
           "angularaxis": {
            "gridcolor": "white",
            "linecolor": "white",
            "ticks": ""
           },
           "bgcolor": "#E5ECF6",
           "radialaxis": {
            "gridcolor": "white",
            "linecolor": "white",
            "ticks": ""
           }
          },
          "scene": {
           "xaxis": {
            "backgroundcolor": "#E5ECF6",
            "gridcolor": "white",
            "gridwidth": 2,
            "linecolor": "white",
            "showbackground": true,
            "ticks": "",
            "zerolinecolor": "white"
           },
           "yaxis": {
            "backgroundcolor": "#E5ECF6",
            "gridcolor": "white",
            "gridwidth": 2,
            "linecolor": "white",
            "showbackground": true,
            "ticks": "",
            "zerolinecolor": "white"
           },
           "zaxis": {
            "backgroundcolor": "#E5ECF6",
            "gridcolor": "white",
            "gridwidth": 2,
            "linecolor": "white",
            "showbackground": true,
            "ticks": "",
            "zerolinecolor": "white"
           }
          },
          "shapedefaults": {
           "line": {
            "color": "#2a3f5f"
           }
          },
          "ternary": {
           "aaxis": {
            "gridcolor": "white",
            "linecolor": "white",
            "ticks": ""
           },
           "baxis": {
            "gridcolor": "white",
            "linecolor": "white",
            "ticks": ""
           },
           "bgcolor": "#E5ECF6",
           "caxis": {
            "gridcolor": "white",
            "linecolor": "white",
            "ticks": ""
           }
          },
          "title": {
           "x": 0.05
          },
          "xaxis": {
           "automargin": true,
           "gridcolor": "white",
           "linecolor": "white",
           "ticks": "",
           "title": {
            "standoff": 15
           },
           "zerolinecolor": "white",
           "zerolinewidth": 2
          },
          "yaxis": {
           "automargin": true,
           "gridcolor": "white",
           "linecolor": "white",
           "ticks": "",
           "title": {
            "standoff": 15
           },
           "zerolinecolor": "white",
           "zerolinewidth": 2
          }
         }
        },
        "title": {
         "font": {
          "color": "#4D5663"
         }
        },
        "xaxis": {
         "gridcolor": "#E1E5ED",
         "showgrid": true,
         "tickfont": {
          "color": "#4D5663"
         },
         "title": {
          "font": {
           "color": "#4D5663"
          },
          "text": ""
         },
         "zerolinecolor": "#E1E5ED"
        },
        "yaxis": {
         "gridcolor": "#E1E5ED",
         "showgrid": true,
         "tickfont": {
          "color": "#4D5663"
         },
         "title": {
          "font": {
           "color": "#4D5663"
          },
          "text": ""
         },
         "zerolinecolor": "#E1E5ED"
        }
       }
      },
      "text/html": [
       "<div>                            <div id=\"10fde41a-448b-4238-a31b-774bd470ba2f\" class=\"plotly-graph-div\" style=\"height:525px; width:100%;\"></div>            <script type=\"text/javascript\">                require([\"plotly\"], function(Plotly) {                    window.PLOTLYENV=window.PLOTLYENV || {};\n",
       "                    window.PLOTLYENV.BASE_URL='https://plot.ly';                                    if (document.getElementById(\"10fde41a-448b-4238-a31b-774bd470ba2f\")) {                    Plotly.newPlot(                        \"10fde41a-448b-4238-a31b-774bd470ba2f\",                        [{\"colorscale\":[[0.0,\"rgb(165,0,38)\"],[0.1,\"rgb(215,48,39)\"],[0.2,\"rgb(244,109,67)\"],[0.3,\"rgb(253,174,97)\"],[0.4,\"rgb(254,224,144)\"],[0.5,\"rgb(255,255,191)\"],[0.6,\"rgb(224,243,248)\"],[0.7,\"rgb(171,217,233)\"],[0.8,\"rgb(116,173,209)\"],[0.9,\"rgb(69,117,180)\"],[1.0,\"rgb(49,54,149)\"]],\"x\":[0,1,2,3,4],\"y\":[\"x\",\"y\",\"z\"],\"z\":[[1,2,3,4,5],[10,20,30,20,10],[5,4,3,2,1]],\"type\":\"surface\"}],                        {\"legend\":{\"bgcolor\":\"#F5F6F9\",\"font\":{\"color\":\"#4D5663\"}},\"paper_bgcolor\":\"#F5F6F9\",\"plot_bgcolor\":\"#F5F6F9\",\"template\":{\"data\":{\"barpolar\":[{\"marker\":{\"line\":{\"color\":\"#E5ECF6\",\"width\":0.5},\"pattern\":{\"fillmode\":\"overlay\",\"size\":10,\"solidity\":0.2}},\"type\":\"barpolar\"}],\"bar\":[{\"error_x\":{\"color\":\"#2a3f5f\"},\"error_y\":{\"color\":\"#2a3f5f\"},\"marker\":{\"line\":{\"color\":\"#E5ECF6\",\"width\":0.5},\"pattern\":{\"fillmode\":\"overlay\",\"size\":10,\"solidity\":0.2}},\"type\":\"bar\"}],\"carpet\":[{\"aaxis\":{\"endlinecolor\":\"#2a3f5f\",\"gridcolor\":\"white\",\"linecolor\":\"white\",\"minorgridcolor\":\"white\",\"startlinecolor\":\"#2a3f5f\"},\"baxis\":{\"endlinecolor\":\"#2a3f5f\",\"gridcolor\":\"white\",\"linecolor\":\"white\",\"minorgridcolor\":\"white\",\"startlinecolor\":\"#2a3f5f\"},\"type\":\"carpet\"}],\"choropleth\":[{\"colorbar\":{\"outlinewidth\":0,\"ticks\":\"\"},\"type\":\"choropleth\"}],\"contourcarpet\":[{\"colorbar\":{\"outlinewidth\":0,\"ticks\":\"\"},\"type\":\"contourcarpet\"}],\"contour\":[{\"colorbar\":{\"outlinewidth\":0,\"ticks\":\"\"},\"colorscale\":[[0.0,\"#0d0887\"],[0.1111111111111111,\"#46039f\"],[0.2222222222222222,\"#7201a8\"],[0.3333333333333333,\"#9c179e\"],[0.4444444444444444,\"#bd3786\"],[0.5555555555555556,\"#d8576b\"],[0.6666666666666666,\"#ed7953\"],[0.7777777777777778,\"#fb9f3a\"],[0.8888888888888888,\"#fdca26\"],[1.0,\"#f0f921\"]],\"type\":\"contour\"}],\"heatmapgl\":[{\"colorbar\":{\"outlinewidth\":0,\"ticks\":\"\"},\"colorscale\":[[0.0,\"#0d0887\"],[0.1111111111111111,\"#46039f\"],[0.2222222222222222,\"#7201a8\"],[0.3333333333333333,\"#9c179e\"],[0.4444444444444444,\"#bd3786\"],[0.5555555555555556,\"#d8576b\"],[0.6666666666666666,\"#ed7953\"],[0.7777777777777778,\"#fb9f3a\"],[0.8888888888888888,\"#fdca26\"],[1.0,\"#f0f921\"]],\"type\":\"heatmapgl\"}],\"heatmap\":[{\"colorbar\":{\"outlinewidth\":0,\"ticks\":\"\"},\"colorscale\":[[0.0,\"#0d0887\"],[0.1111111111111111,\"#46039f\"],[0.2222222222222222,\"#7201a8\"],[0.3333333333333333,\"#9c179e\"],[0.4444444444444444,\"#bd3786\"],[0.5555555555555556,\"#d8576b\"],[0.6666666666666666,\"#ed7953\"],[0.7777777777777778,\"#fb9f3a\"],[0.8888888888888888,\"#fdca26\"],[1.0,\"#f0f921\"]],\"type\":\"heatmap\"}],\"histogram2dcontour\":[{\"colorbar\":{\"outlinewidth\":0,\"ticks\":\"\"},\"colorscale\":[[0.0,\"#0d0887\"],[0.1111111111111111,\"#46039f\"],[0.2222222222222222,\"#7201a8\"],[0.3333333333333333,\"#9c179e\"],[0.4444444444444444,\"#bd3786\"],[0.5555555555555556,\"#d8576b\"],[0.6666666666666666,\"#ed7953\"],[0.7777777777777778,\"#fb9f3a\"],[0.8888888888888888,\"#fdca26\"],[1.0,\"#f0f921\"]],\"type\":\"histogram2dcontour\"}],\"histogram2d\":[{\"colorbar\":{\"outlinewidth\":0,\"ticks\":\"\"},\"colorscale\":[[0.0,\"#0d0887\"],[0.1111111111111111,\"#46039f\"],[0.2222222222222222,\"#7201a8\"],[0.3333333333333333,\"#9c179e\"],[0.4444444444444444,\"#bd3786\"],[0.5555555555555556,\"#d8576b\"],[0.6666666666666666,\"#ed7953\"],[0.7777777777777778,\"#fb9f3a\"],[0.8888888888888888,\"#fdca26\"],[1.0,\"#f0f921\"]],\"type\":\"histogram2d\"}],\"histogram\":[{\"marker\":{\"pattern\":{\"fillmode\":\"overlay\",\"size\":10,\"solidity\":0.2}},\"type\":\"histogram\"}],\"mesh3d\":[{\"colorbar\":{\"outlinewidth\":0,\"ticks\":\"\"},\"type\":\"mesh3d\"}],\"parcoords\":[{\"line\":{\"colorbar\":{\"outlinewidth\":0,\"ticks\":\"\"}},\"type\":\"parcoords\"}],\"pie\":[{\"automargin\":true,\"type\":\"pie\"}],\"scatter3d\":[{\"line\":{\"colorbar\":{\"outlinewidth\":0,\"ticks\":\"\"}},\"marker\":{\"colorbar\":{\"outlinewidth\":0,\"ticks\":\"\"}},\"type\":\"scatter3d\"}],\"scattercarpet\":[{\"marker\":{\"colorbar\":{\"outlinewidth\":0,\"ticks\":\"\"}},\"type\":\"scattercarpet\"}],\"scattergeo\":[{\"marker\":{\"colorbar\":{\"outlinewidth\":0,\"ticks\":\"\"}},\"type\":\"scattergeo\"}],\"scattergl\":[{\"marker\":{\"colorbar\":{\"outlinewidth\":0,\"ticks\":\"\"}},\"type\":\"scattergl\"}],\"scattermapbox\":[{\"marker\":{\"colorbar\":{\"outlinewidth\":0,\"ticks\":\"\"}},\"type\":\"scattermapbox\"}],\"scatterpolargl\":[{\"marker\":{\"colorbar\":{\"outlinewidth\":0,\"ticks\":\"\"}},\"type\":\"scatterpolargl\"}],\"scatterpolar\":[{\"marker\":{\"colorbar\":{\"outlinewidth\":0,\"ticks\":\"\"}},\"type\":\"scatterpolar\"}],\"scatter\":[{\"fillpattern\":{\"fillmode\":\"overlay\",\"size\":10,\"solidity\":0.2},\"type\":\"scatter\"}],\"scatterternary\":[{\"marker\":{\"colorbar\":{\"outlinewidth\":0,\"ticks\":\"\"}},\"type\":\"scatterternary\"}],\"surface\":[{\"colorbar\":{\"outlinewidth\":0,\"ticks\":\"\"},\"colorscale\":[[0.0,\"#0d0887\"],[0.1111111111111111,\"#46039f\"],[0.2222222222222222,\"#7201a8\"],[0.3333333333333333,\"#9c179e\"],[0.4444444444444444,\"#bd3786\"],[0.5555555555555556,\"#d8576b\"],[0.6666666666666666,\"#ed7953\"],[0.7777777777777778,\"#fb9f3a\"],[0.8888888888888888,\"#fdca26\"],[1.0,\"#f0f921\"]],\"type\":\"surface\"}],\"table\":[{\"cells\":{\"fill\":{\"color\":\"#EBF0F8\"},\"line\":{\"color\":\"white\"}},\"header\":{\"fill\":{\"color\":\"#C8D4E3\"},\"line\":{\"color\":\"white\"}},\"type\":\"table\"}]},\"layout\":{\"annotationdefaults\":{\"arrowcolor\":\"#2a3f5f\",\"arrowhead\":0,\"arrowwidth\":1},\"autotypenumbers\":\"strict\",\"coloraxis\":{\"colorbar\":{\"outlinewidth\":0,\"ticks\":\"\"}},\"colorscale\":{\"diverging\":[[0,\"#8e0152\"],[0.1,\"#c51b7d\"],[0.2,\"#de77ae\"],[0.3,\"#f1b6da\"],[0.4,\"#fde0ef\"],[0.5,\"#f7f7f7\"],[0.6,\"#e6f5d0\"],[0.7,\"#b8e186\"],[0.8,\"#7fbc41\"],[0.9,\"#4d9221\"],[1,\"#276419\"]],\"sequential\":[[0.0,\"#0d0887\"],[0.1111111111111111,\"#46039f\"],[0.2222222222222222,\"#7201a8\"],[0.3333333333333333,\"#9c179e\"],[0.4444444444444444,\"#bd3786\"],[0.5555555555555556,\"#d8576b\"],[0.6666666666666666,\"#ed7953\"],[0.7777777777777778,\"#fb9f3a\"],[0.8888888888888888,\"#fdca26\"],[1.0,\"#f0f921\"]],\"sequentialminus\":[[0.0,\"#0d0887\"],[0.1111111111111111,\"#46039f\"],[0.2222222222222222,\"#7201a8\"],[0.3333333333333333,\"#9c179e\"],[0.4444444444444444,\"#bd3786\"],[0.5555555555555556,\"#d8576b\"],[0.6666666666666666,\"#ed7953\"],[0.7777777777777778,\"#fb9f3a\"],[0.8888888888888888,\"#fdca26\"],[1.0,\"#f0f921\"]]},\"colorway\":[\"#636efa\",\"#EF553B\",\"#00cc96\",\"#ab63fa\",\"#FFA15A\",\"#19d3f3\",\"#FF6692\",\"#B6E880\",\"#FF97FF\",\"#FECB52\"],\"font\":{\"color\":\"#2a3f5f\"},\"geo\":{\"bgcolor\":\"white\",\"lakecolor\":\"white\",\"landcolor\":\"#E5ECF6\",\"showlakes\":true,\"showland\":true,\"subunitcolor\":\"white\"},\"hoverlabel\":{\"align\":\"left\"},\"hovermode\":\"closest\",\"mapbox\":{\"style\":\"light\"},\"paper_bgcolor\":\"white\",\"plot_bgcolor\":\"#E5ECF6\",\"polar\":{\"angularaxis\":{\"gridcolor\":\"white\",\"linecolor\":\"white\",\"ticks\":\"\"},\"bgcolor\":\"#E5ECF6\",\"radialaxis\":{\"gridcolor\":\"white\",\"linecolor\":\"white\",\"ticks\":\"\"}},\"scene\":{\"xaxis\":{\"backgroundcolor\":\"#E5ECF6\",\"gridcolor\":\"white\",\"gridwidth\":2,\"linecolor\":\"white\",\"showbackground\":true,\"ticks\":\"\",\"zerolinecolor\":\"white\"},\"yaxis\":{\"backgroundcolor\":\"#E5ECF6\",\"gridcolor\":\"white\",\"gridwidth\":2,\"linecolor\":\"white\",\"showbackground\":true,\"ticks\":\"\",\"zerolinecolor\":\"white\"},\"zaxis\":{\"backgroundcolor\":\"#E5ECF6\",\"gridcolor\":\"white\",\"gridwidth\":2,\"linecolor\":\"white\",\"showbackground\":true,\"ticks\":\"\",\"zerolinecolor\":\"white\"}},\"shapedefaults\":{\"line\":{\"color\":\"#2a3f5f\"}},\"ternary\":{\"aaxis\":{\"gridcolor\":\"white\",\"linecolor\":\"white\",\"ticks\":\"\"},\"baxis\":{\"gridcolor\":\"white\",\"linecolor\":\"white\",\"ticks\":\"\"},\"bgcolor\":\"#E5ECF6\",\"caxis\":{\"gridcolor\":\"white\",\"linecolor\":\"white\",\"ticks\":\"\"}},\"title\":{\"x\":0.05},\"xaxis\":{\"automargin\":true,\"gridcolor\":\"white\",\"linecolor\":\"white\",\"ticks\":\"\",\"title\":{\"standoff\":15},\"zerolinecolor\":\"white\",\"zerolinewidth\":2},\"yaxis\":{\"automargin\":true,\"gridcolor\":\"white\",\"linecolor\":\"white\",\"ticks\":\"\",\"title\":{\"standoff\":15},\"zerolinecolor\":\"white\",\"zerolinewidth\":2}}},\"title\":{\"font\":{\"color\":\"#4D5663\"}},\"xaxis\":{\"gridcolor\":\"#E1E5ED\",\"showgrid\":true,\"tickfont\":{\"color\":\"#4D5663\"},\"title\":{\"font\":{\"color\":\"#4D5663\"},\"text\":\"\"},\"zerolinecolor\":\"#E1E5ED\"},\"yaxis\":{\"gridcolor\":\"#E1E5ED\",\"showgrid\":true,\"tickfont\":{\"color\":\"#4D5663\"},\"title\":{\"font\":{\"color\":\"#4D5663\"},\"text\":\"\"},\"zerolinecolor\":\"#E1E5ED\"}},                        {\"showLink\": true, \"linkText\": \"Export to plot.ly\", \"plotlyServerURL\": \"https://plot.ly\", \"responsive\": true}                    ).then(function(){\n",
       "                            \n",
       "var gd = document.getElementById('10fde41a-448b-4238-a31b-774bd470ba2f');\n",
       "var x = new MutationObserver(function (mutations, observer) {{\n",
       "        var display = window.getComputedStyle(gd).display;\n",
       "        if (!display || display === 'none') {{\n",
       "            console.log([gd, 'removed!']);\n",
       "            Plotly.purge(gd);\n",
       "            observer.disconnect();\n",
       "        }}\n",
       "}});\n",
       "\n",
       "// Listen for the removal of the full notebook cells\n",
       "var notebookContainer = gd.closest('#notebook-container');\n",
       "if (notebookContainer) {{\n",
       "    x.observe(notebookContainer, {childList: true});\n",
       "}}\n",
       "\n",
       "// Listen for the clearing of the current output cell\n",
       "var outputEl = gd.closest('.output');\n",
       "if (outputEl) {{\n",
       "    x.observe(outputEl, {childList: true});\n",
       "}}\n",
       "\n",
       "                        })                };                });            </script>        </div>"
      ]
     },
     "metadata": {},
     "output_type": "display_data"
    }
   ],
   "source": [
    "#3D Surface\n",
    "\n",
    "df3 = pd.DataFrame({'x':[1,2,3,4,5],'y':[10,20,30,20,10],'z':[5,4,3,2,1]})\n",
    "df3.iplot(kind='surface',colorscale='rdylbu')"
   ]
  },
  {
   "cell_type": "code",
   "execution_count": 18,
   "id": "57d6cd64",
   "metadata": {},
   "outputs": [
    {
     "name": "stderr",
     "output_type": "stream",
     "text": [
      "/home/automatonai/.local/lib/python3.8/site-packages/cufflinks/plotlytools.py:849: FutureWarning:\n",
      "\n",
      "The pandas.np module is deprecated and will be removed from pandas in a future version. Import numpy directly instead.\n",
      "\n",
      "/home/automatonai/.local/lib/python3.8/site-packages/cufflinks/plotlytools.py:850: FutureWarning:\n",
      "\n",
      "The pandas.np module is deprecated and will be removed from pandas in a future version. Import numpy directly instead.\n",
      "\n"
     ]
    },
    {
     "data": {
      "application/vnd.plotly.v1+json": {
       "config": {
        "linkText": "Export to plot.ly",
        "plotlyServerURL": "https://plot.ly",
        "showLink": true
       },
       "data": [
        {
         "line": {
          "color": "rgba(255, 153, 51, 1.0)",
          "dash": "solid",
          "shape": "linear",
          "width": 1.3
         },
         "mode": "lines",
         "name": "A",
         "text": "",
         "type": "scatter",
         "x": [
          0,
          1,
          2,
          3,
          4,
          5,
          6,
          7,
          8,
          9,
          10,
          11,
          12,
          13,
          14,
          15,
          16,
          17,
          18,
          19,
          20,
          21,
          22,
          23,
          24,
          25,
          26,
          27,
          28,
          29,
          30,
          31,
          32,
          33,
          34,
          35,
          36,
          37,
          38,
          39,
          40,
          41,
          42,
          43,
          44,
          45,
          46,
          47,
          48,
          49,
          50,
          51,
          52,
          53,
          54,
          55,
          56,
          57,
          58,
          59,
          60,
          61,
          62,
          63,
          64,
          65,
          66,
          67,
          68,
          69,
          70,
          71,
          72,
          73,
          74,
          75,
          76,
          77,
          78,
          79,
          80,
          81,
          82,
          83,
          84,
          85,
          86,
          87,
          88,
          89,
          90,
          91,
          92,
          93,
          94,
          95,
          96,
          97,
          98,
          99
         ],
         "y": [
          0.1501788668840338,
          -0.1756913710375011,
          0.13856736719365398,
          0.7219578807852828,
          0.02103035712203404,
          0.05372994782000095,
          -0.8597786699749488,
          -1.436764515074958,
          0.09773770467735642,
          -0.5090109468773343,
          0.058444993463366686,
          0.1528818965232011,
          -0.054374732419699146,
          -0.5195914547970374,
          -1.6451919722324309,
          -0.4078752816447025,
          1.7196902722861414,
          1.1277768696275943,
          -0.16700661819317372,
          0.4344680307743496,
          -0.4533598135068671,
          -0.17821655659170996,
          -0.5483023401387696,
          1.0642240577556783,
          0.15666741152753014,
          -2.296016560442535,
          1.6924661296080639,
          0.6072904612083375,
          0.6583268747437102,
          0.0232092808315366,
          0.25505441923380395,
          -1.7884002052880084,
          -1.0271998449996689,
          -1.3800108277280776,
          -0.3196999975289513,
          1.212423910875223,
          -0.8631824306196343,
          0.14045007863442893,
          0.03772705519209731,
          0.8741708927574366,
          -0.8956255423448548,
          0.5595218806674672,
          -0.13978226703197763,
          -1.3522532012187982,
          -0.11901794011161884,
          1.4943615882517902,
          -0.9021970825018301,
          -0.4943366411747155,
          0.5487766844925248,
          -0.2844232877660867,
          0.8340903018578912,
          -1.702365901238491,
          -0.7100490330331606,
          0.6674682457214097,
          -0.14091751691325238,
          -2.6175899502714532,
          -1.602147770857257,
          -0.7486305439753811,
          -0.6238082510908618,
          -0.9765058142343359,
          0.8819257132329856,
          -0.8444708401609161,
          1.3290859983817334,
          -0.33125058588237893,
          -2.4943073578839736,
          -0.09846938938603009,
          1.6319181413388584,
          0.2877837487161706,
          0.05661978916823122,
          0.19196078383633894,
          0.45447543421148245,
          -0.7471721117926763,
          0.5768918461100573,
          -0.42479111088633664,
          -2.6587930187849484,
          -0.879206416879864,
          -1.584685197756789,
          0.9913181768573425,
          0.6935908952151667,
          0.6174070873913775,
          -0.6594441738825568,
          -0.9226163312478916,
          0.9072689218965913,
          -3.4618100598071324,
          -2.8996735525378363,
          0.14764029916770435,
          -0.9304743038902059,
          -0.09148425443751493,
          -0.6947510262830392,
          0.48761583192883556,
          -0.8300069322754731,
          0.9919919641210598,
          -1.3828189356306078,
          -0.0436640865499939,
          -0.2851681411662788,
          1.6435752977827398,
          0.05788619121298352,
          0.5726843717948871,
          -0.8708498105504946,
          1.0442243483732725
         ]
        },
        {
         "line": {
          "color": "rgba(55, 128, 191, 1.0)",
          "dash": "solid",
          "shape": "linear",
          "width": 1.3
         },
         "mode": "lines",
         "name": "B",
         "text": "",
         "type": "scatter",
         "x": [
          0,
          1,
          2,
          3,
          4,
          5,
          6,
          7,
          8,
          9,
          10,
          11,
          12,
          13,
          14,
          15,
          16,
          17,
          18,
          19,
          20,
          21,
          22,
          23,
          24,
          25,
          26,
          27,
          28,
          29,
          30,
          31,
          32,
          33,
          34,
          35,
          36,
          37,
          38,
          39,
          40,
          41,
          42,
          43,
          44,
          45,
          46,
          47,
          48,
          49,
          50,
          51,
          52,
          53,
          54,
          55,
          56,
          57,
          58,
          59,
          60,
          61,
          62,
          63,
          64,
          65,
          66,
          67,
          68,
          69,
          70,
          71,
          72,
          73,
          74,
          75,
          76,
          77,
          78,
          79,
          80,
          81,
          82,
          83,
          84,
          85,
          86,
          87,
          88,
          89,
          90,
          91,
          92,
          93,
          94,
          95,
          96,
          97,
          98,
          99
         ],
         "y": [
          0.3292464980445286,
          -0.1411389303037044,
          1.0690826737668286,
          -0.5670008289594736,
          1.5918584383121732,
          -0.49735820558161664,
          0.853020526947463,
          1.094407718690676,
          0.32727080169252115,
          -1.2226688074822474,
          2.686372841230928,
          -0.7662833800546549,
          -1.672436568832668,
          -0.3932022977635248,
          0.03263859066046469,
          -1.6761171971533155,
          -1.564322177542407,
          0.8727530667077585,
          2.8459920842255357,
          0.041262651325481056,
          0.6020364391158644,
          -1.274285368129067,
          0.37739388783722166,
          1.785008130491707,
          -1.0332839242660679,
          2.4939486777155886,
          0.981165538761148,
          0.9876494450648611,
          -1.392722155984482,
          -0.23872920769288078,
          1.4825111094062309,
          -0.8719477402420855,
          -0.8640186070736904,
          1.7498728402472519,
          0.5725682033786544,
          0.49847970058576085,
          0.4628575656278747,
          -0.06871206586372626,
          -0.14184373613844153,
          0.43328186425755827,
          -0.10749451342931048,
          -0.9398187865832206,
          -0.5251347550124181,
          1.635891869597316,
          -0.8844918823837958,
          -0.9090407559913615,
          0.519238719064138,
          -0.7090769497362426,
          0.8398486786419308,
          -0.2876594525112121,
          -0.882125919272093,
          0.04716098700964254,
          0.7473021164945799,
          -0.6205957612381642,
          0.07659494095782203,
          0.3029419326610615,
          -0.1457543020500506,
          -1.0147955229958847,
          -0.5348542967183831,
          -0.8781239565468124,
          -2.1411910267869123,
          -1.1388955510062049,
          -0.8087615847592627,
          -0.2994886393800132,
          -1.550632994942883,
          -0.07855287087348586,
          -0.09139415769032651,
          -0.3900148067474229,
          0.7748252201143693,
          -1.5355808667892057,
          -2.1694692520872296,
          -0.8250853605787378,
          0.3846735791487371,
          0.17890267605846233,
          -1.4735750220184796,
          0.07437116478387093,
          0.9218685071691737,
          -0.8205867482611652,
          0.5115358062357684,
          -1.2857938547393777,
          0.31221253198721455,
          -0.08234276520286833,
          0.4526207498721831,
          -0.4473360992885767,
          0.5766023641817422,
          -1.550026086832909,
          -0.7197254653986882,
          -0.2890094987331318,
          -0.9484949964302272,
          1.4749208841491077,
          0.8279588679944496,
          -0.2497528713488217,
          -0.7188559976596786,
          0.3947502727196581,
          -0.852203625860959,
          -0.4713126121808178,
          0.4880404775087967,
          -1.5681301594317518,
          -1.4119016649251277,
          0.0676585355782195
         ]
        },
        {
         "connectgaps": false,
         "fill": "tozeroy",
         "line": {
          "color": "green",
          "dash": "solid",
          "shape": "linear",
          "width": 0.5
         },
         "mode": "lines",
         "name": "Spread",
         "showlegend": false,
         "type": "scatter",
         "x": [
          0,
          1,
          2,
          3,
          4,
          5,
          6,
          7,
          8,
          9,
          10,
          11,
          12,
          13,
          14,
          15,
          16,
          17,
          18,
          19,
          20,
          21,
          22,
          23,
          24,
          25,
          26,
          27,
          28,
          29,
          30,
          31,
          32,
          33,
          34,
          35,
          36,
          37,
          38,
          39,
          40,
          41,
          42,
          43,
          44,
          45,
          46,
          47,
          48,
          49,
          50,
          51,
          52,
          53,
          54,
          55,
          56,
          57,
          58,
          59,
          60,
          61,
          62,
          63,
          64,
          65,
          66,
          67,
          68,
          69,
          70,
          71,
          72,
          73,
          74,
          75,
          76,
          77,
          78,
          79,
          80,
          81,
          82,
          83,
          84,
          85,
          86,
          87,
          88,
          89,
          90,
          91,
          92,
          93,
          94,
          95,
          96,
          97,
          98,
          99
         ],
         "xaxis": "x2",
         "y": [
          "",
          "",
          "",
          1.2889587097447563,
          "",
          0.5510881534016175,
          "",
          "",
          "",
          0.7136578606049131,
          "",
          0.919165276577856,
          1.6180618364129686,
          "",
          "",
          1.268241915508613,
          3.2840124498285483,
          0.25502380291983573,
          "",
          0.3932053794488685,
          "",
          1.096068811537357,
          "",
          "",
          1.189951335793598,
          "",
          0.7113005908469159,
          "",
          2.0510490307281923,
          0.26193848852441737,
          "",
          "",
          "",
          "",
          "",
          0.7139442102894622,
          "",
          0.20916214449815518,
          0.17957079133053885,
          0.4408890284998784,
          "",
          1.4993406672506877,
          0.38535248798044053,
          "",
          0.765473942272177,
          2.4034023442431516,
          "",
          0.2147403085615271,
          "",
          0.0032361647451253917,
          1.7162162211299843,
          "",
          "",
          1.288064006959574,
          "",
          "",
          "",
          0.2661649790205036,
          "",
          "",
          3.0231167400198977,
          0.29442471084528876,
          2.137847583140996,
          "",
          "",
          "",
          1.723312299029185,
          0.6777985554635935,
          "",
          1.7275416506255445,
          2.623944686298712,
          0.07791324878606154,
          0.19221826696132016,
          "",
          "",
          "",
          "",
          1.8119049251185078,
          0.18205508897939826,
          1.9032009421307552,
          "",
          "",
          0.45464817202440816,
          "",
          "",
          1.6976663860006134,
          "",
          0.19752524429561688,
          0.25374397014718797,
          "",
          "",
          1.2417448354698815,
          "",
          "",
          0.5670354846946801,
          2.114887909963558,
          "",
          2.140814531226639,
          0.5410518543746331,
          0.976565812795053
         ],
         "yaxis": "y2"
        },
        {
         "connectgaps": false,
         "fill": "tozeroy",
         "line": {
          "color": "red",
          "dash": "solid",
          "shape": "linear",
          "width": 0.5
         },
         "mode": "lines",
         "name": "Spread",
         "showlegend": false,
         "type": "scatter",
         "x": [
          0,
          1,
          2,
          3,
          4,
          5,
          6,
          7,
          8,
          9,
          10,
          11,
          12,
          13,
          14,
          15,
          16,
          17,
          18,
          19,
          20,
          21,
          22,
          23,
          24,
          25,
          26,
          27,
          28,
          29,
          30,
          31,
          32,
          33,
          34,
          35,
          36,
          37,
          38,
          39,
          40,
          41,
          42,
          43,
          44,
          45,
          46,
          47,
          48,
          49,
          50,
          51,
          52,
          53,
          54,
          55,
          56,
          57,
          58,
          59,
          60,
          61,
          62,
          63,
          64,
          65,
          66,
          67,
          68,
          69,
          70,
          71,
          72,
          73,
          74,
          75,
          76,
          77,
          78,
          79,
          80,
          81,
          82,
          83,
          84,
          85,
          86,
          87,
          88,
          89,
          90,
          91,
          92,
          93,
          94,
          95,
          96,
          97,
          98,
          99
         ],
         "xaxis": "x2",
         "y": [
          -0.1790676311604948,
          -0.03455244073379671,
          -0.9305153065731746,
          "",
          -1.5708280811901392,
          "",
          -1.7127991969224117,
          -2.531172233765634,
          -0.22953309701516472,
          "",
          -2.627927847767561,
          "",
          "",
          -0.1263891570335126,
          -1.6778305628928956,
          "",
          "",
          "",
          -3.0129987024187095,
          "",
          -1.0553962526227314,
          "",
          -0.9256962279759913,
          -0.7207840727360286,
          "",
          -4.789965238158123,
          "",
          -0.38035898385652356,
          "",
          "",
          -1.2274566901724269,
          -0.9164524650459228,
          -0.1631812379259785,
          -3.1298836679753297,
          -0.8922682009076057,
          "",
          -1.3260399962475091,
          "",
          "",
          "",
          -0.7881310289155443,
          "",
          "",
          -2.988145070816114,
          "",
          "",
          -1.421435801565968,
          "",
          -0.291071994149406,
          "",
          "",
          -1.7495268882481336,
          -1.4573511495277405,
          "",
          -0.21751245787107443,
          -2.9205318829325146,
          -1.4563934688072062,
          "",
          -0.08895395437247866,
          -0.0983818576875235,
          "",
          "",
          "",
          -0.031761946502365745,
          -0.9436743629410906,
          -0.019916518512544223,
          "",
          "",
          -0.7182054309461381,
          "",
          "",
          "",
          "",
          -0.6036937869447989,
          -1.1852179967664689,
          -0.953577581663735,
          -2.5065537049259627,
          "",
          "",
          "",
          -0.9716567058697714,
          -0.8402735660450232,
          "",
          -3.0144739605185555,
          -3.4762759167195787,
          "",
          -0.2107488384915177,
          "",
          "",
          -0.9873050522202722,
          -1.6579658002699227,
          "",
          -0.6639629379709292,
          -0.438414359269652,
          "",
          "",
          -0.4301542862958132,
          "",
          "",
          ""
         ],
         "yaxis": "y2"
        }
       ],
       "layout": {
        "hovermode": "x",
        "legend": {
         "bgcolor": "#F5F6F9",
         "font": {
          "color": "#4D5663"
         }
        },
        "paper_bgcolor": "#F5F6F9",
        "plot_bgcolor": "#F5F6F9",
        "template": {
         "data": {
          "bar": [
           {
            "error_x": {
             "color": "#2a3f5f"
            },
            "error_y": {
             "color": "#2a3f5f"
            },
            "marker": {
             "line": {
              "color": "#E5ECF6",
              "width": 0.5
             },
             "pattern": {
              "fillmode": "overlay",
              "size": 10,
              "solidity": 0.2
             }
            },
            "type": "bar"
           }
          ],
          "barpolar": [
           {
            "marker": {
             "line": {
              "color": "#E5ECF6",
              "width": 0.5
             },
             "pattern": {
              "fillmode": "overlay",
              "size": 10,
              "solidity": 0.2
             }
            },
            "type": "barpolar"
           }
          ],
          "carpet": [
           {
            "aaxis": {
             "endlinecolor": "#2a3f5f",
             "gridcolor": "white",
             "linecolor": "white",
             "minorgridcolor": "white",
             "startlinecolor": "#2a3f5f"
            },
            "baxis": {
             "endlinecolor": "#2a3f5f",
             "gridcolor": "white",
             "linecolor": "white",
             "minorgridcolor": "white",
             "startlinecolor": "#2a3f5f"
            },
            "type": "carpet"
           }
          ],
          "choropleth": [
           {
            "colorbar": {
             "outlinewidth": 0,
             "ticks": ""
            },
            "type": "choropleth"
           }
          ],
          "contour": [
           {
            "colorbar": {
             "outlinewidth": 0,
             "ticks": ""
            },
            "colorscale": [
             [
              0,
              "#0d0887"
             ],
             [
              0.1111111111111111,
              "#46039f"
             ],
             [
              0.2222222222222222,
              "#7201a8"
             ],
             [
              0.3333333333333333,
              "#9c179e"
             ],
             [
              0.4444444444444444,
              "#bd3786"
             ],
             [
              0.5555555555555556,
              "#d8576b"
             ],
             [
              0.6666666666666666,
              "#ed7953"
             ],
             [
              0.7777777777777778,
              "#fb9f3a"
             ],
             [
              0.8888888888888888,
              "#fdca26"
             ],
             [
              1,
              "#f0f921"
             ]
            ],
            "type": "contour"
           }
          ],
          "contourcarpet": [
           {
            "colorbar": {
             "outlinewidth": 0,
             "ticks": ""
            },
            "type": "contourcarpet"
           }
          ],
          "heatmap": [
           {
            "colorbar": {
             "outlinewidth": 0,
             "ticks": ""
            },
            "colorscale": [
             [
              0,
              "#0d0887"
             ],
             [
              0.1111111111111111,
              "#46039f"
             ],
             [
              0.2222222222222222,
              "#7201a8"
             ],
             [
              0.3333333333333333,
              "#9c179e"
             ],
             [
              0.4444444444444444,
              "#bd3786"
             ],
             [
              0.5555555555555556,
              "#d8576b"
             ],
             [
              0.6666666666666666,
              "#ed7953"
             ],
             [
              0.7777777777777778,
              "#fb9f3a"
             ],
             [
              0.8888888888888888,
              "#fdca26"
             ],
             [
              1,
              "#f0f921"
             ]
            ],
            "type": "heatmap"
           }
          ],
          "heatmapgl": [
           {
            "colorbar": {
             "outlinewidth": 0,
             "ticks": ""
            },
            "colorscale": [
             [
              0,
              "#0d0887"
             ],
             [
              0.1111111111111111,
              "#46039f"
             ],
             [
              0.2222222222222222,
              "#7201a8"
             ],
             [
              0.3333333333333333,
              "#9c179e"
             ],
             [
              0.4444444444444444,
              "#bd3786"
             ],
             [
              0.5555555555555556,
              "#d8576b"
             ],
             [
              0.6666666666666666,
              "#ed7953"
             ],
             [
              0.7777777777777778,
              "#fb9f3a"
             ],
             [
              0.8888888888888888,
              "#fdca26"
             ],
             [
              1,
              "#f0f921"
             ]
            ],
            "type": "heatmapgl"
           }
          ],
          "histogram": [
           {
            "marker": {
             "pattern": {
              "fillmode": "overlay",
              "size": 10,
              "solidity": 0.2
             }
            },
            "type": "histogram"
           }
          ],
          "histogram2d": [
           {
            "colorbar": {
             "outlinewidth": 0,
             "ticks": ""
            },
            "colorscale": [
             [
              0,
              "#0d0887"
             ],
             [
              0.1111111111111111,
              "#46039f"
             ],
             [
              0.2222222222222222,
              "#7201a8"
             ],
             [
              0.3333333333333333,
              "#9c179e"
             ],
             [
              0.4444444444444444,
              "#bd3786"
             ],
             [
              0.5555555555555556,
              "#d8576b"
             ],
             [
              0.6666666666666666,
              "#ed7953"
             ],
             [
              0.7777777777777778,
              "#fb9f3a"
             ],
             [
              0.8888888888888888,
              "#fdca26"
             ],
             [
              1,
              "#f0f921"
             ]
            ],
            "type": "histogram2d"
           }
          ],
          "histogram2dcontour": [
           {
            "colorbar": {
             "outlinewidth": 0,
             "ticks": ""
            },
            "colorscale": [
             [
              0,
              "#0d0887"
             ],
             [
              0.1111111111111111,
              "#46039f"
             ],
             [
              0.2222222222222222,
              "#7201a8"
             ],
             [
              0.3333333333333333,
              "#9c179e"
             ],
             [
              0.4444444444444444,
              "#bd3786"
             ],
             [
              0.5555555555555556,
              "#d8576b"
             ],
             [
              0.6666666666666666,
              "#ed7953"
             ],
             [
              0.7777777777777778,
              "#fb9f3a"
             ],
             [
              0.8888888888888888,
              "#fdca26"
             ],
             [
              1,
              "#f0f921"
             ]
            ],
            "type": "histogram2dcontour"
           }
          ],
          "mesh3d": [
           {
            "colorbar": {
             "outlinewidth": 0,
             "ticks": ""
            },
            "type": "mesh3d"
           }
          ],
          "parcoords": [
           {
            "line": {
             "colorbar": {
              "outlinewidth": 0,
              "ticks": ""
             }
            },
            "type": "parcoords"
           }
          ],
          "pie": [
           {
            "automargin": true,
            "type": "pie"
           }
          ],
          "scatter": [
           {
            "fillpattern": {
             "fillmode": "overlay",
             "size": 10,
             "solidity": 0.2
            },
            "type": "scatter"
           }
          ],
          "scatter3d": [
           {
            "line": {
             "colorbar": {
              "outlinewidth": 0,
              "ticks": ""
             }
            },
            "marker": {
             "colorbar": {
              "outlinewidth": 0,
              "ticks": ""
             }
            },
            "type": "scatter3d"
           }
          ],
          "scattercarpet": [
           {
            "marker": {
             "colorbar": {
              "outlinewidth": 0,
              "ticks": ""
             }
            },
            "type": "scattercarpet"
           }
          ],
          "scattergeo": [
           {
            "marker": {
             "colorbar": {
              "outlinewidth": 0,
              "ticks": ""
             }
            },
            "type": "scattergeo"
           }
          ],
          "scattergl": [
           {
            "marker": {
             "colorbar": {
              "outlinewidth": 0,
              "ticks": ""
             }
            },
            "type": "scattergl"
           }
          ],
          "scattermapbox": [
           {
            "marker": {
             "colorbar": {
              "outlinewidth": 0,
              "ticks": ""
             }
            },
            "type": "scattermapbox"
           }
          ],
          "scatterpolar": [
           {
            "marker": {
             "colorbar": {
              "outlinewidth": 0,
              "ticks": ""
             }
            },
            "type": "scatterpolar"
           }
          ],
          "scatterpolargl": [
           {
            "marker": {
             "colorbar": {
              "outlinewidth": 0,
              "ticks": ""
             }
            },
            "type": "scatterpolargl"
           }
          ],
          "scatterternary": [
           {
            "marker": {
             "colorbar": {
              "outlinewidth": 0,
              "ticks": ""
             }
            },
            "type": "scatterternary"
           }
          ],
          "surface": [
           {
            "colorbar": {
             "outlinewidth": 0,
             "ticks": ""
            },
            "colorscale": [
             [
              0,
              "#0d0887"
             ],
             [
              0.1111111111111111,
              "#46039f"
             ],
             [
              0.2222222222222222,
              "#7201a8"
             ],
             [
              0.3333333333333333,
              "#9c179e"
             ],
             [
              0.4444444444444444,
              "#bd3786"
             ],
             [
              0.5555555555555556,
              "#d8576b"
             ],
             [
              0.6666666666666666,
              "#ed7953"
             ],
             [
              0.7777777777777778,
              "#fb9f3a"
             ],
             [
              0.8888888888888888,
              "#fdca26"
             ],
             [
              1,
              "#f0f921"
             ]
            ],
            "type": "surface"
           }
          ],
          "table": [
           {
            "cells": {
             "fill": {
              "color": "#EBF0F8"
             },
             "line": {
              "color": "white"
             }
            },
            "header": {
             "fill": {
              "color": "#C8D4E3"
             },
             "line": {
              "color": "white"
             }
            },
            "type": "table"
           }
          ]
         },
         "layout": {
          "annotationdefaults": {
           "arrowcolor": "#2a3f5f",
           "arrowhead": 0,
           "arrowwidth": 1
          },
          "autotypenumbers": "strict",
          "coloraxis": {
           "colorbar": {
            "outlinewidth": 0,
            "ticks": ""
           }
          },
          "colorscale": {
           "diverging": [
            [
             0,
             "#8e0152"
            ],
            [
             0.1,
             "#c51b7d"
            ],
            [
             0.2,
             "#de77ae"
            ],
            [
             0.3,
             "#f1b6da"
            ],
            [
             0.4,
             "#fde0ef"
            ],
            [
             0.5,
             "#f7f7f7"
            ],
            [
             0.6,
             "#e6f5d0"
            ],
            [
             0.7,
             "#b8e186"
            ],
            [
             0.8,
             "#7fbc41"
            ],
            [
             0.9,
             "#4d9221"
            ],
            [
             1,
             "#276419"
            ]
           ],
           "sequential": [
            [
             0,
             "#0d0887"
            ],
            [
             0.1111111111111111,
             "#46039f"
            ],
            [
             0.2222222222222222,
             "#7201a8"
            ],
            [
             0.3333333333333333,
             "#9c179e"
            ],
            [
             0.4444444444444444,
             "#bd3786"
            ],
            [
             0.5555555555555556,
             "#d8576b"
            ],
            [
             0.6666666666666666,
             "#ed7953"
            ],
            [
             0.7777777777777778,
             "#fb9f3a"
            ],
            [
             0.8888888888888888,
             "#fdca26"
            ],
            [
             1,
             "#f0f921"
            ]
           ],
           "sequentialminus": [
            [
             0,
             "#0d0887"
            ],
            [
             0.1111111111111111,
             "#46039f"
            ],
            [
             0.2222222222222222,
             "#7201a8"
            ],
            [
             0.3333333333333333,
             "#9c179e"
            ],
            [
             0.4444444444444444,
             "#bd3786"
            ],
            [
             0.5555555555555556,
             "#d8576b"
            ],
            [
             0.6666666666666666,
             "#ed7953"
            ],
            [
             0.7777777777777778,
             "#fb9f3a"
            ],
            [
             0.8888888888888888,
             "#fdca26"
            ],
            [
             1,
             "#f0f921"
            ]
           ]
          },
          "colorway": [
           "#636efa",
           "#EF553B",
           "#00cc96",
           "#ab63fa",
           "#FFA15A",
           "#19d3f3",
           "#FF6692",
           "#B6E880",
           "#FF97FF",
           "#FECB52"
          ],
          "font": {
           "color": "#2a3f5f"
          },
          "geo": {
           "bgcolor": "white",
           "lakecolor": "white",
           "landcolor": "#E5ECF6",
           "showlakes": true,
           "showland": true,
           "subunitcolor": "white"
          },
          "hoverlabel": {
           "align": "left"
          },
          "hovermode": "closest",
          "mapbox": {
           "style": "light"
          },
          "paper_bgcolor": "white",
          "plot_bgcolor": "#E5ECF6",
          "polar": {
           "angularaxis": {
            "gridcolor": "white",
            "linecolor": "white",
            "ticks": ""
           },
           "bgcolor": "#E5ECF6",
           "radialaxis": {
            "gridcolor": "white",
            "linecolor": "white",
            "ticks": ""
           }
          },
          "scene": {
           "xaxis": {
            "backgroundcolor": "#E5ECF6",
            "gridcolor": "white",
            "gridwidth": 2,
            "linecolor": "white",
            "showbackground": true,
            "ticks": "",
            "zerolinecolor": "white"
           },
           "yaxis": {
            "backgroundcolor": "#E5ECF6",
            "gridcolor": "white",
            "gridwidth": 2,
            "linecolor": "white",
            "showbackground": true,
            "ticks": "",
            "zerolinecolor": "white"
           },
           "zaxis": {
            "backgroundcolor": "#E5ECF6",
            "gridcolor": "white",
            "gridwidth": 2,
            "linecolor": "white",
            "showbackground": true,
            "ticks": "",
            "zerolinecolor": "white"
           }
          },
          "shapedefaults": {
           "line": {
            "color": "#2a3f5f"
           }
          },
          "ternary": {
           "aaxis": {
            "gridcolor": "white",
            "linecolor": "white",
            "ticks": ""
           },
           "baxis": {
            "gridcolor": "white",
            "linecolor": "white",
            "ticks": ""
           },
           "bgcolor": "#E5ECF6",
           "caxis": {
            "gridcolor": "white",
            "linecolor": "white",
            "ticks": ""
           }
          },
          "title": {
           "x": 0.05
          },
          "xaxis": {
           "automargin": true,
           "gridcolor": "white",
           "linecolor": "white",
           "ticks": "",
           "title": {
            "standoff": 15
           },
           "zerolinecolor": "white",
           "zerolinewidth": 2
          },
          "yaxis": {
           "automargin": true,
           "gridcolor": "white",
           "linecolor": "white",
           "ticks": "",
           "title": {
            "standoff": 15
           },
           "zerolinecolor": "white",
           "zerolinewidth": 2
          }
         }
        },
        "title": {
         "font": {
          "color": "#4D5663"
         }
        },
        "xaxis": {
         "gridcolor": "#E1E5ED",
         "showgrid": true,
         "tickfont": {
          "color": "#4D5663"
         },
         "title": {
          "font": {
           "color": "#4D5663"
          },
          "text": ""
         },
         "zerolinecolor": "#E1E5ED"
        },
        "xaxis2": {
         "anchor": "y2",
         "gridcolor": "#E1E5ED",
         "showgrid": true,
         "showticklabels": false,
         "tickfont": {
          "color": "#4D5663"
         },
         "title": {
          "font": {
           "color": "#4D5663"
          },
          "text": ""
         },
         "zerolinecolor": "#E1E5ED"
        },
        "yaxis": {
         "domain": [
          0.3,
          1
         ],
         "gridcolor": "#E1E5ED",
         "showgrid": true,
         "tickfont": {
          "color": "#4D5663"
         },
         "title": {
          "font": {
           "color": "#4D5663"
          },
          "text": ""
         },
         "zerolinecolor": "#E1E5ED"
        },
        "yaxis2": {
         "domain": [
          0,
          0.25
         ],
         "gridcolor": "#E1E5ED",
         "showgrid": true,
         "tickfont": {
          "color": "#4D5663"
         },
         "title": {
          "font": {
           "color": "#4D5663"
          },
          "text": "Spread"
         },
         "zerolinecolor": "#E1E5ED"
        }
       }
      },
      "text/html": [
       "<div>                            <div id=\"30a5c523-7c69-405f-b6a3-c74311583f5b\" class=\"plotly-graph-div\" style=\"height:525px; width:100%;\"></div>            <script type=\"text/javascript\">                require([\"plotly\"], function(Plotly) {                    window.PLOTLYENV=window.PLOTLYENV || {};\n",
       "                    window.PLOTLYENV.BASE_URL='https://plot.ly';                                    if (document.getElementById(\"30a5c523-7c69-405f-b6a3-c74311583f5b\")) {                    Plotly.newPlot(                        \"30a5c523-7c69-405f-b6a3-c74311583f5b\",                        [{\"line\":{\"color\":\"rgba(255, 153, 51, 1.0)\",\"dash\":\"solid\",\"shape\":\"linear\",\"width\":1.3},\"mode\":\"lines\",\"name\":\"A\",\"text\":\"\",\"x\":[0,1,2,3,4,5,6,7,8,9,10,11,12,13,14,15,16,17,18,19,20,21,22,23,24,25,26,27,28,29,30,31,32,33,34,35,36,37,38,39,40,41,42,43,44,45,46,47,48,49,50,51,52,53,54,55,56,57,58,59,60,61,62,63,64,65,66,67,68,69,70,71,72,73,74,75,76,77,78,79,80,81,82,83,84,85,86,87,88,89,90,91,92,93,94,95,96,97,98,99],\"y\":[0.1501788668840338,-0.1756913710375011,0.13856736719365398,0.7219578807852828,0.02103035712203404,0.05372994782000095,-0.8597786699749488,-1.436764515074958,0.09773770467735642,-0.5090109468773343,0.058444993463366686,0.1528818965232011,-0.054374732419699146,-0.5195914547970374,-1.6451919722324309,-0.4078752816447025,1.7196902722861414,1.1277768696275943,-0.16700661819317372,0.4344680307743496,-0.4533598135068671,-0.17821655659170996,-0.5483023401387696,1.0642240577556783,0.15666741152753014,-2.296016560442535,1.6924661296080639,0.6072904612083375,0.6583268747437102,0.0232092808315366,0.25505441923380395,-1.7884002052880084,-1.0271998449996689,-1.3800108277280776,-0.3196999975289513,1.212423910875223,-0.8631824306196343,0.14045007863442893,0.03772705519209731,0.8741708927574366,-0.8956255423448548,0.5595218806674672,-0.13978226703197763,-1.3522532012187982,-0.11901794011161884,1.4943615882517902,-0.9021970825018301,-0.4943366411747155,0.5487766844925248,-0.2844232877660867,0.8340903018578912,-1.702365901238491,-0.7100490330331606,0.6674682457214097,-0.14091751691325238,-2.6175899502714532,-1.602147770857257,-0.7486305439753811,-0.6238082510908618,-0.9765058142343359,0.8819257132329856,-0.8444708401609161,1.3290859983817334,-0.33125058588237893,-2.4943073578839736,-0.09846938938603009,1.6319181413388584,0.2877837487161706,0.05661978916823122,0.19196078383633894,0.45447543421148245,-0.7471721117926763,0.5768918461100573,-0.42479111088633664,-2.6587930187849484,-0.879206416879864,-1.584685197756789,0.9913181768573425,0.6935908952151667,0.6174070873913775,-0.6594441738825568,-0.9226163312478916,0.9072689218965913,-3.4618100598071324,-2.8996735525378363,0.14764029916770435,-0.9304743038902059,-0.09148425443751493,-0.6947510262830392,0.48761583192883556,-0.8300069322754731,0.9919919641210598,-1.3828189356306078,-0.0436640865499939,-0.2851681411662788,1.6435752977827398,0.05788619121298352,0.5726843717948871,-0.8708498105504946,1.0442243483732725],\"type\":\"scatter\"},{\"line\":{\"color\":\"rgba(55, 128, 191, 1.0)\",\"dash\":\"solid\",\"shape\":\"linear\",\"width\":1.3},\"mode\":\"lines\",\"name\":\"B\",\"text\":\"\",\"x\":[0,1,2,3,4,5,6,7,8,9,10,11,12,13,14,15,16,17,18,19,20,21,22,23,24,25,26,27,28,29,30,31,32,33,34,35,36,37,38,39,40,41,42,43,44,45,46,47,48,49,50,51,52,53,54,55,56,57,58,59,60,61,62,63,64,65,66,67,68,69,70,71,72,73,74,75,76,77,78,79,80,81,82,83,84,85,86,87,88,89,90,91,92,93,94,95,96,97,98,99],\"y\":[0.3292464980445286,-0.1411389303037044,1.0690826737668286,-0.5670008289594736,1.5918584383121732,-0.49735820558161664,0.853020526947463,1.094407718690676,0.32727080169252115,-1.2226688074822474,2.686372841230928,-0.7662833800546549,-1.672436568832668,-0.3932022977635248,0.03263859066046469,-1.6761171971533155,-1.564322177542407,0.8727530667077585,2.8459920842255357,0.041262651325481056,0.6020364391158644,-1.274285368129067,0.37739388783722166,1.785008130491707,-1.0332839242660679,2.4939486777155886,0.981165538761148,0.9876494450648611,-1.392722155984482,-0.23872920769288078,1.4825111094062309,-0.8719477402420855,-0.8640186070736904,1.7498728402472519,0.5725682033786544,0.49847970058576085,0.4628575656278747,-0.06871206586372626,-0.14184373613844153,0.43328186425755827,-0.10749451342931048,-0.9398187865832206,-0.5251347550124181,1.635891869597316,-0.8844918823837958,-0.9090407559913615,0.519238719064138,-0.7090769497362426,0.8398486786419308,-0.2876594525112121,-0.882125919272093,0.04716098700964254,0.7473021164945799,-0.6205957612381642,0.07659494095782203,0.3029419326610615,-0.1457543020500506,-1.0147955229958847,-0.5348542967183831,-0.8781239565468124,-2.1411910267869123,-1.1388955510062049,-0.8087615847592627,-0.2994886393800132,-1.550632994942883,-0.07855287087348586,-0.09139415769032651,-0.3900148067474229,0.7748252201143693,-1.5355808667892057,-2.1694692520872296,-0.8250853605787378,0.3846735791487371,0.17890267605846233,-1.4735750220184796,0.07437116478387093,0.9218685071691737,-0.8205867482611652,0.5115358062357684,-1.2857938547393777,0.31221253198721455,-0.08234276520286833,0.4526207498721831,-0.4473360992885767,0.5766023641817422,-1.550026086832909,-0.7197254653986882,-0.2890094987331318,-0.9484949964302272,1.4749208841491077,0.8279588679944496,-0.2497528713488217,-0.7188559976596786,0.3947502727196581,-0.852203625860959,-0.4713126121808178,0.4880404775087967,-1.5681301594317518,-1.4119016649251277,0.0676585355782195],\"type\":\"scatter\"},{\"connectgaps\":false,\"fill\":\"tozeroy\",\"line\":{\"color\":\"green\",\"dash\":\"solid\",\"shape\":\"linear\",\"width\":0.5},\"mode\":\"lines\",\"name\":\"Spread\",\"showlegend\":false,\"x\":[0,1,2,3,4,5,6,7,8,9,10,11,12,13,14,15,16,17,18,19,20,21,22,23,24,25,26,27,28,29,30,31,32,33,34,35,36,37,38,39,40,41,42,43,44,45,46,47,48,49,50,51,52,53,54,55,56,57,58,59,60,61,62,63,64,65,66,67,68,69,70,71,72,73,74,75,76,77,78,79,80,81,82,83,84,85,86,87,88,89,90,91,92,93,94,95,96,97,98,99],\"xaxis\":\"x2\",\"y\":[\"\",\"\",\"\",1.2889587097447563,\"\",0.5510881534016175,\"\",\"\",\"\",0.7136578606049131,\"\",0.919165276577856,1.6180618364129686,\"\",\"\",1.268241915508613,3.2840124498285483,0.25502380291983573,\"\",0.3932053794488685,\"\",1.096068811537357,\"\",\"\",1.189951335793598,\"\",0.7113005908469159,\"\",2.0510490307281923,0.26193848852441737,\"\",\"\",\"\",\"\",\"\",0.7139442102894622,\"\",0.20916214449815518,0.17957079133053885,0.4408890284998784,\"\",1.4993406672506877,0.38535248798044053,\"\",0.765473942272177,2.4034023442431516,\"\",0.2147403085615271,\"\",0.0032361647451253917,1.7162162211299843,\"\",\"\",1.288064006959574,\"\",\"\",\"\",0.2661649790205036,\"\",\"\",3.0231167400198977,0.29442471084528876,2.137847583140996,\"\",\"\",\"\",1.723312299029185,0.6777985554635935,\"\",1.7275416506255445,2.623944686298712,0.07791324878606154,0.19221826696132016,\"\",\"\",\"\",\"\",1.8119049251185078,0.18205508897939826,1.9032009421307552,\"\",\"\",0.45464817202440816,\"\",\"\",1.6976663860006134,\"\",0.19752524429561688,0.25374397014718797,\"\",\"\",1.2417448354698815,\"\",\"\",0.5670354846946801,2.114887909963558,\"\",2.140814531226639,0.5410518543746331,0.976565812795053],\"yaxis\":\"y2\",\"type\":\"scatter\"},{\"connectgaps\":false,\"fill\":\"tozeroy\",\"line\":{\"color\":\"red\",\"dash\":\"solid\",\"shape\":\"linear\",\"width\":0.5},\"mode\":\"lines\",\"name\":\"Spread\",\"showlegend\":false,\"x\":[0,1,2,3,4,5,6,7,8,9,10,11,12,13,14,15,16,17,18,19,20,21,22,23,24,25,26,27,28,29,30,31,32,33,34,35,36,37,38,39,40,41,42,43,44,45,46,47,48,49,50,51,52,53,54,55,56,57,58,59,60,61,62,63,64,65,66,67,68,69,70,71,72,73,74,75,76,77,78,79,80,81,82,83,84,85,86,87,88,89,90,91,92,93,94,95,96,97,98,99],\"xaxis\":\"x2\",\"y\":[-0.1790676311604948,-0.03455244073379671,-0.9305153065731746,\"\",-1.5708280811901392,\"\",-1.7127991969224117,-2.531172233765634,-0.22953309701516472,\"\",-2.627927847767561,\"\",\"\",-0.1263891570335126,-1.6778305628928956,\"\",\"\",\"\",-3.0129987024187095,\"\",-1.0553962526227314,\"\",-0.9256962279759913,-0.7207840727360286,\"\",-4.789965238158123,\"\",-0.38035898385652356,\"\",\"\",-1.2274566901724269,-0.9164524650459228,-0.1631812379259785,-3.1298836679753297,-0.8922682009076057,\"\",-1.3260399962475091,\"\",\"\",\"\",-0.7881310289155443,\"\",\"\",-2.988145070816114,\"\",\"\",-1.421435801565968,\"\",-0.291071994149406,\"\",\"\",-1.7495268882481336,-1.4573511495277405,\"\",-0.21751245787107443,-2.9205318829325146,-1.4563934688072062,\"\",-0.08895395437247866,-0.0983818576875235,\"\",\"\",\"\",-0.031761946502365745,-0.9436743629410906,-0.019916518512544223,\"\",\"\",-0.7182054309461381,\"\",\"\",\"\",\"\",-0.6036937869447989,-1.1852179967664689,-0.953577581663735,-2.5065537049259627,\"\",\"\",\"\",-0.9716567058697714,-0.8402735660450232,\"\",-3.0144739605185555,-3.4762759167195787,\"\",-0.2107488384915177,\"\",\"\",-0.9873050522202722,-1.6579658002699227,\"\",-0.6639629379709292,-0.438414359269652,\"\",\"\",-0.4301542862958132,\"\",\"\",\"\"],\"yaxis\":\"y2\",\"type\":\"scatter\"}],                        {\"hovermode\":\"x\",\"legend\":{\"bgcolor\":\"#F5F6F9\",\"font\":{\"color\":\"#4D5663\"}},\"paper_bgcolor\":\"#F5F6F9\",\"plot_bgcolor\":\"#F5F6F9\",\"template\":{\"data\":{\"barpolar\":[{\"marker\":{\"line\":{\"color\":\"#E5ECF6\",\"width\":0.5},\"pattern\":{\"fillmode\":\"overlay\",\"size\":10,\"solidity\":0.2}},\"type\":\"barpolar\"}],\"bar\":[{\"error_x\":{\"color\":\"#2a3f5f\"},\"error_y\":{\"color\":\"#2a3f5f\"},\"marker\":{\"line\":{\"color\":\"#E5ECF6\",\"width\":0.5},\"pattern\":{\"fillmode\":\"overlay\",\"size\":10,\"solidity\":0.2}},\"type\":\"bar\"}],\"carpet\":[{\"aaxis\":{\"endlinecolor\":\"#2a3f5f\",\"gridcolor\":\"white\",\"linecolor\":\"white\",\"minorgridcolor\":\"white\",\"startlinecolor\":\"#2a3f5f\"},\"baxis\":{\"endlinecolor\":\"#2a3f5f\",\"gridcolor\":\"white\",\"linecolor\":\"white\",\"minorgridcolor\":\"white\",\"startlinecolor\":\"#2a3f5f\"},\"type\":\"carpet\"}],\"choropleth\":[{\"colorbar\":{\"outlinewidth\":0,\"ticks\":\"\"},\"type\":\"choropleth\"}],\"contourcarpet\":[{\"colorbar\":{\"outlinewidth\":0,\"ticks\":\"\"},\"type\":\"contourcarpet\"}],\"contour\":[{\"colorbar\":{\"outlinewidth\":0,\"ticks\":\"\"},\"colorscale\":[[0.0,\"#0d0887\"],[0.1111111111111111,\"#46039f\"],[0.2222222222222222,\"#7201a8\"],[0.3333333333333333,\"#9c179e\"],[0.4444444444444444,\"#bd3786\"],[0.5555555555555556,\"#d8576b\"],[0.6666666666666666,\"#ed7953\"],[0.7777777777777778,\"#fb9f3a\"],[0.8888888888888888,\"#fdca26\"],[1.0,\"#f0f921\"]],\"type\":\"contour\"}],\"heatmapgl\":[{\"colorbar\":{\"outlinewidth\":0,\"ticks\":\"\"},\"colorscale\":[[0.0,\"#0d0887\"],[0.1111111111111111,\"#46039f\"],[0.2222222222222222,\"#7201a8\"],[0.3333333333333333,\"#9c179e\"],[0.4444444444444444,\"#bd3786\"],[0.5555555555555556,\"#d8576b\"],[0.6666666666666666,\"#ed7953\"],[0.7777777777777778,\"#fb9f3a\"],[0.8888888888888888,\"#fdca26\"],[1.0,\"#f0f921\"]],\"type\":\"heatmapgl\"}],\"heatmap\":[{\"colorbar\":{\"outlinewidth\":0,\"ticks\":\"\"},\"colorscale\":[[0.0,\"#0d0887\"],[0.1111111111111111,\"#46039f\"],[0.2222222222222222,\"#7201a8\"],[0.3333333333333333,\"#9c179e\"],[0.4444444444444444,\"#bd3786\"],[0.5555555555555556,\"#d8576b\"],[0.6666666666666666,\"#ed7953\"],[0.7777777777777778,\"#fb9f3a\"],[0.8888888888888888,\"#fdca26\"],[1.0,\"#f0f921\"]],\"type\":\"heatmap\"}],\"histogram2dcontour\":[{\"colorbar\":{\"outlinewidth\":0,\"ticks\":\"\"},\"colorscale\":[[0.0,\"#0d0887\"],[0.1111111111111111,\"#46039f\"],[0.2222222222222222,\"#7201a8\"],[0.3333333333333333,\"#9c179e\"],[0.4444444444444444,\"#bd3786\"],[0.5555555555555556,\"#d8576b\"],[0.6666666666666666,\"#ed7953\"],[0.7777777777777778,\"#fb9f3a\"],[0.8888888888888888,\"#fdca26\"],[1.0,\"#f0f921\"]],\"type\":\"histogram2dcontour\"}],\"histogram2d\":[{\"colorbar\":{\"outlinewidth\":0,\"ticks\":\"\"},\"colorscale\":[[0.0,\"#0d0887\"],[0.1111111111111111,\"#46039f\"],[0.2222222222222222,\"#7201a8\"],[0.3333333333333333,\"#9c179e\"],[0.4444444444444444,\"#bd3786\"],[0.5555555555555556,\"#d8576b\"],[0.6666666666666666,\"#ed7953\"],[0.7777777777777778,\"#fb9f3a\"],[0.8888888888888888,\"#fdca26\"],[1.0,\"#f0f921\"]],\"type\":\"histogram2d\"}],\"histogram\":[{\"marker\":{\"pattern\":{\"fillmode\":\"overlay\",\"size\":10,\"solidity\":0.2}},\"type\":\"histogram\"}],\"mesh3d\":[{\"colorbar\":{\"outlinewidth\":0,\"ticks\":\"\"},\"type\":\"mesh3d\"}],\"parcoords\":[{\"line\":{\"colorbar\":{\"outlinewidth\":0,\"ticks\":\"\"}},\"type\":\"parcoords\"}],\"pie\":[{\"automargin\":true,\"type\":\"pie\"}],\"scatter3d\":[{\"line\":{\"colorbar\":{\"outlinewidth\":0,\"ticks\":\"\"}},\"marker\":{\"colorbar\":{\"outlinewidth\":0,\"ticks\":\"\"}},\"type\":\"scatter3d\"}],\"scattercarpet\":[{\"marker\":{\"colorbar\":{\"outlinewidth\":0,\"ticks\":\"\"}},\"type\":\"scattercarpet\"}],\"scattergeo\":[{\"marker\":{\"colorbar\":{\"outlinewidth\":0,\"ticks\":\"\"}},\"type\":\"scattergeo\"}],\"scattergl\":[{\"marker\":{\"colorbar\":{\"outlinewidth\":0,\"ticks\":\"\"}},\"type\":\"scattergl\"}],\"scattermapbox\":[{\"marker\":{\"colorbar\":{\"outlinewidth\":0,\"ticks\":\"\"}},\"type\":\"scattermapbox\"}],\"scatterpolargl\":[{\"marker\":{\"colorbar\":{\"outlinewidth\":0,\"ticks\":\"\"}},\"type\":\"scatterpolargl\"}],\"scatterpolar\":[{\"marker\":{\"colorbar\":{\"outlinewidth\":0,\"ticks\":\"\"}},\"type\":\"scatterpolar\"}],\"scatter\":[{\"fillpattern\":{\"fillmode\":\"overlay\",\"size\":10,\"solidity\":0.2},\"type\":\"scatter\"}],\"scatterternary\":[{\"marker\":{\"colorbar\":{\"outlinewidth\":0,\"ticks\":\"\"}},\"type\":\"scatterternary\"}],\"surface\":[{\"colorbar\":{\"outlinewidth\":0,\"ticks\":\"\"},\"colorscale\":[[0.0,\"#0d0887\"],[0.1111111111111111,\"#46039f\"],[0.2222222222222222,\"#7201a8\"],[0.3333333333333333,\"#9c179e\"],[0.4444444444444444,\"#bd3786\"],[0.5555555555555556,\"#d8576b\"],[0.6666666666666666,\"#ed7953\"],[0.7777777777777778,\"#fb9f3a\"],[0.8888888888888888,\"#fdca26\"],[1.0,\"#f0f921\"]],\"type\":\"surface\"}],\"table\":[{\"cells\":{\"fill\":{\"color\":\"#EBF0F8\"},\"line\":{\"color\":\"white\"}},\"header\":{\"fill\":{\"color\":\"#C8D4E3\"},\"line\":{\"color\":\"white\"}},\"type\":\"table\"}]},\"layout\":{\"annotationdefaults\":{\"arrowcolor\":\"#2a3f5f\",\"arrowhead\":0,\"arrowwidth\":1},\"autotypenumbers\":\"strict\",\"coloraxis\":{\"colorbar\":{\"outlinewidth\":0,\"ticks\":\"\"}},\"colorscale\":{\"diverging\":[[0,\"#8e0152\"],[0.1,\"#c51b7d\"],[0.2,\"#de77ae\"],[0.3,\"#f1b6da\"],[0.4,\"#fde0ef\"],[0.5,\"#f7f7f7\"],[0.6,\"#e6f5d0\"],[0.7,\"#b8e186\"],[0.8,\"#7fbc41\"],[0.9,\"#4d9221\"],[1,\"#276419\"]],\"sequential\":[[0.0,\"#0d0887\"],[0.1111111111111111,\"#46039f\"],[0.2222222222222222,\"#7201a8\"],[0.3333333333333333,\"#9c179e\"],[0.4444444444444444,\"#bd3786\"],[0.5555555555555556,\"#d8576b\"],[0.6666666666666666,\"#ed7953\"],[0.7777777777777778,\"#fb9f3a\"],[0.8888888888888888,\"#fdca26\"],[1.0,\"#f0f921\"]],\"sequentialminus\":[[0.0,\"#0d0887\"],[0.1111111111111111,\"#46039f\"],[0.2222222222222222,\"#7201a8\"],[0.3333333333333333,\"#9c179e\"],[0.4444444444444444,\"#bd3786\"],[0.5555555555555556,\"#d8576b\"],[0.6666666666666666,\"#ed7953\"],[0.7777777777777778,\"#fb9f3a\"],[0.8888888888888888,\"#fdca26\"],[1.0,\"#f0f921\"]]},\"colorway\":[\"#636efa\",\"#EF553B\",\"#00cc96\",\"#ab63fa\",\"#FFA15A\",\"#19d3f3\",\"#FF6692\",\"#B6E880\",\"#FF97FF\",\"#FECB52\"],\"font\":{\"color\":\"#2a3f5f\"},\"geo\":{\"bgcolor\":\"white\",\"lakecolor\":\"white\",\"landcolor\":\"#E5ECF6\",\"showlakes\":true,\"showland\":true,\"subunitcolor\":\"white\"},\"hoverlabel\":{\"align\":\"left\"},\"hovermode\":\"closest\",\"mapbox\":{\"style\":\"light\"},\"paper_bgcolor\":\"white\",\"plot_bgcolor\":\"#E5ECF6\",\"polar\":{\"angularaxis\":{\"gridcolor\":\"white\",\"linecolor\":\"white\",\"ticks\":\"\"},\"bgcolor\":\"#E5ECF6\",\"radialaxis\":{\"gridcolor\":\"white\",\"linecolor\":\"white\",\"ticks\":\"\"}},\"scene\":{\"xaxis\":{\"backgroundcolor\":\"#E5ECF6\",\"gridcolor\":\"white\",\"gridwidth\":2,\"linecolor\":\"white\",\"showbackground\":true,\"ticks\":\"\",\"zerolinecolor\":\"white\"},\"yaxis\":{\"backgroundcolor\":\"#E5ECF6\",\"gridcolor\":\"white\",\"gridwidth\":2,\"linecolor\":\"white\",\"showbackground\":true,\"ticks\":\"\",\"zerolinecolor\":\"white\"},\"zaxis\":{\"backgroundcolor\":\"#E5ECF6\",\"gridcolor\":\"white\",\"gridwidth\":2,\"linecolor\":\"white\",\"showbackground\":true,\"ticks\":\"\",\"zerolinecolor\":\"white\"}},\"shapedefaults\":{\"line\":{\"color\":\"#2a3f5f\"}},\"ternary\":{\"aaxis\":{\"gridcolor\":\"white\",\"linecolor\":\"white\",\"ticks\":\"\"},\"baxis\":{\"gridcolor\":\"white\",\"linecolor\":\"white\",\"ticks\":\"\"},\"bgcolor\":\"#E5ECF6\",\"caxis\":{\"gridcolor\":\"white\",\"linecolor\":\"white\",\"ticks\":\"\"}},\"title\":{\"x\":0.05},\"xaxis\":{\"automargin\":true,\"gridcolor\":\"white\",\"linecolor\":\"white\",\"ticks\":\"\",\"title\":{\"standoff\":15},\"zerolinecolor\":\"white\",\"zerolinewidth\":2},\"yaxis\":{\"automargin\":true,\"gridcolor\":\"white\",\"linecolor\":\"white\",\"ticks\":\"\",\"title\":{\"standoff\":15},\"zerolinecolor\":\"white\",\"zerolinewidth\":2}}},\"title\":{\"font\":{\"color\":\"#4D5663\"}},\"xaxis\":{\"gridcolor\":\"#E1E5ED\",\"showgrid\":true,\"tickfont\":{\"color\":\"#4D5663\"},\"title\":{\"font\":{\"color\":\"#4D5663\"},\"text\":\"\"},\"zerolinecolor\":\"#E1E5ED\"},\"yaxis\":{\"domain\":[0.3,1],\"gridcolor\":\"#E1E5ED\",\"showgrid\":true,\"tickfont\":{\"color\":\"#4D5663\"},\"title\":{\"font\":{\"color\":\"#4D5663\"},\"text\":\"\"},\"zerolinecolor\":\"#E1E5ED\"},\"yaxis2\":{\"domain\":[0,0.25],\"gridcolor\":\"#E1E5ED\",\"showgrid\":true,\"tickfont\":{\"color\":\"#4D5663\"},\"title\":{\"font\":{\"color\":\"#4D5663\"},\"text\":\"Spread\"},\"zerolinecolor\":\"#E1E5ED\"},\"xaxis2\":{\"anchor\":\"y2\",\"gridcolor\":\"#E1E5ED\",\"showgrid\":true,\"showticklabels\":false,\"tickfont\":{\"color\":\"#4D5663\"},\"title\":{\"font\":{\"color\":\"#4D5663\"},\"text\":\"\"},\"zerolinecolor\":\"#E1E5ED\"}},                        {\"showLink\": true, \"linkText\": \"Export to plot.ly\", \"plotlyServerURL\": \"https://plot.ly\", \"responsive\": true}                    ).then(function(){\n",
       "                            \n",
       "var gd = document.getElementById('30a5c523-7c69-405f-b6a3-c74311583f5b');\n",
       "var x = new MutationObserver(function (mutations, observer) {{\n",
       "        var display = window.getComputedStyle(gd).display;\n",
       "        if (!display || display === 'none') {{\n",
       "            console.log([gd, 'removed!']);\n",
       "            Plotly.purge(gd);\n",
       "            observer.disconnect();\n",
       "        }}\n",
       "}});\n",
       "\n",
       "// Listen for the removal of the full notebook cells\n",
       "var notebookContainer = gd.closest('#notebook-container');\n",
       "if (notebookContainer) {{\n",
       "    x.observe(notebookContainer, {childList: true});\n",
       "}}\n",
       "\n",
       "// Listen for the clearing of the current output cell\n",
       "var outputEl = gd.closest('.output');\n",
       "if (outputEl) {{\n",
       "    x.observe(outputEl, {childList: true});\n",
       "}}\n",
       "\n",
       "                        })                };                });            </script>        </div>"
      ]
     },
     "metadata": {},
     "output_type": "display_data"
    }
   ],
   "source": [
    "#Spread\n",
    "\n",
    "df[['A','B']].iplot(kind='spread')"
   ]
  },
  {
   "cell_type": "code",
   "execution_count": 19,
   "id": "28b5a32f",
   "metadata": {},
   "outputs": [
    {
     "data": {
      "application/vnd.plotly.v1+json": {
       "config": {
        "linkText": "Export to plot.ly",
        "plotlyServerURL": "https://plot.ly",
        "showLink": true
       },
       "data": [
        {
         "histfunc": "count",
         "histnorm": "",
         "marker": {
          "color": "rgba(255, 153, 51, 1.0)",
          "line": {
           "color": "#4D5663",
           "width": 1.3
          }
         },
         "name": "A",
         "nbinsx": 25,
         "opacity": 0.8,
         "orientation": "v",
         "type": "histogram",
         "x": [
          0.1501788668840338,
          -0.1756913710375011,
          0.13856736719365398,
          0.7219578807852828,
          0.02103035712203404,
          0.05372994782000095,
          -0.8597786699749488,
          -1.436764515074958,
          0.09773770467735642,
          -0.5090109468773343,
          0.058444993463366686,
          0.1528818965232011,
          -0.054374732419699146,
          -0.5195914547970374,
          -1.6451919722324309,
          -0.4078752816447025,
          1.7196902722861414,
          1.1277768696275943,
          -0.16700661819317372,
          0.4344680307743496,
          -0.4533598135068671,
          -0.17821655659170996,
          -0.5483023401387696,
          1.0642240577556783,
          0.15666741152753014,
          -2.296016560442535,
          1.6924661296080639,
          0.6072904612083375,
          0.6583268747437102,
          0.0232092808315366,
          0.25505441923380395,
          -1.7884002052880084,
          -1.0271998449996689,
          -1.3800108277280776,
          -0.3196999975289513,
          1.212423910875223,
          -0.8631824306196343,
          0.14045007863442893,
          0.03772705519209731,
          0.8741708927574366,
          -0.8956255423448548,
          0.5595218806674672,
          -0.13978226703197763,
          -1.3522532012187982,
          -0.11901794011161884,
          1.4943615882517902,
          -0.9021970825018301,
          -0.4943366411747155,
          0.5487766844925248,
          -0.2844232877660867,
          0.8340903018578912,
          -1.702365901238491,
          -0.7100490330331606,
          0.6674682457214097,
          -0.14091751691325238,
          -2.6175899502714532,
          -1.602147770857257,
          -0.7486305439753811,
          -0.6238082510908618,
          -0.9765058142343359,
          0.8819257132329856,
          -0.8444708401609161,
          1.3290859983817334,
          -0.33125058588237893,
          -2.4943073578839736,
          -0.09846938938603009,
          1.6319181413388584,
          0.2877837487161706,
          0.05661978916823122,
          0.19196078383633894,
          0.45447543421148245,
          -0.7471721117926763,
          0.5768918461100573,
          -0.42479111088633664,
          -2.6587930187849484,
          -0.879206416879864,
          -1.584685197756789,
          0.9913181768573425,
          0.6935908952151667,
          0.6174070873913775,
          -0.6594441738825568,
          -0.9226163312478916,
          0.9072689218965913,
          -3.4618100598071324,
          -2.8996735525378363,
          0.14764029916770435,
          -0.9304743038902059,
          -0.09148425443751493,
          -0.6947510262830392,
          0.48761583192883556,
          -0.8300069322754731,
          0.9919919641210598,
          -1.3828189356306078,
          -0.0436640865499939,
          -0.2851681411662788,
          1.6435752977827398,
          0.05788619121298352,
          0.5726843717948871,
          -0.8708498105504946,
          1.0442243483732725
         ]
        }
       ],
       "layout": {
        "barmode": "overlay",
        "legend": {
         "bgcolor": "#F5F6F9",
         "font": {
          "color": "#4D5663"
         }
        },
        "paper_bgcolor": "#F5F6F9",
        "plot_bgcolor": "#F5F6F9",
        "template": {
         "data": {
          "bar": [
           {
            "error_x": {
             "color": "#2a3f5f"
            },
            "error_y": {
             "color": "#2a3f5f"
            },
            "marker": {
             "line": {
              "color": "#E5ECF6",
              "width": 0.5
             },
             "pattern": {
              "fillmode": "overlay",
              "size": 10,
              "solidity": 0.2
             }
            },
            "type": "bar"
           }
          ],
          "barpolar": [
           {
            "marker": {
             "line": {
              "color": "#E5ECF6",
              "width": 0.5
             },
             "pattern": {
              "fillmode": "overlay",
              "size": 10,
              "solidity": 0.2
             }
            },
            "type": "barpolar"
           }
          ],
          "carpet": [
           {
            "aaxis": {
             "endlinecolor": "#2a3f5f",
             "gridcolor": "white",
             "linecolor": "white",
             "minorgridcolor": "white",
             "startlinecolor": "#2a3f5f"
            },
            "baxis": {
             "endlinecolor": "#2a3f5f",
             "gridcolor": "white",
             "linecolor": "white",
             "minorgridcolor": "white",
             "startlinecolor": "#2a3f5f"
            },
            "type": "carpet"
           }
          ],
          "choropleth": [
           {
            "colorbar": {
             "outlinewidth": 0,
             "ticks": ""
            },
            "type": "choropleth"
           }
          ],
          "contour": [
           {
            "colorbar": {
             "outlinewidth": 0,
             "ticks": ""
            },
            "colorscale": [
             [
              0,
              "#0d0887"
             ],
             [
              0.1111111111111111,
              "#46039f"
             ],
             [
              0.2222222222222222,
              "#7201a8"
             ],
             [
              0.3333333333333333,
              "#9c179e"
             ],
             [
              0.4444444444444444,
              "#bd3786"
             ],
             [
              0.5555555555555556,
              "#d8576b"
             ],
             [
              0.6666666666666666,
              "#ed7953"
             ],
             [
              0.7777777777777778,
              "#fb9f3a"
             ],
             [
              0.8888888888888888,
              "#fdca26"
             ],
             [
              1,
              "#f0f921"
             ]
            ],
            "type": "contour"
           }
          ],
          "contourcarpet": [
           {
            "colorbar": {
             "outlinewidth": 0,
             "ticks": ""
            },
            "type": "contourcarpet"
           }
          ],
          "heatmap": [
           {
            "colorbar": {
             "outlinewidth": 0,
             "ticks": ""
            },
            "colorscale": [
             [
              0,
              "#0d0887"
             ],
             [
              0.1111111111111111,
              "#46039f"
             ],
             [
              0.2222222222222222,
              "#7201a8"
             ],
             [
              0.3333333333333333,
              "#9c179e"
             ],
             [
              0.4444444444444444,
              "#bd3786"
             ],
             [
              0.5555555555555556,
              "#d8576b"
             ],
             [
              0.6666666666666666,
              "#ed7953"
             ],
             [
              0.7777777777777778,
              "#fb9f3a"
             ],
             [
              0.8888888888888888,
              "#fdca26"
             ],
             [
              1,
              "#f0f921"
             ]
            ],
            "type": "heatmap"
           }
          ],
          "heatmapgl": [
           {
            "colorbar": {
             "outlinewidth": 0,
             "ticks": ""
            },
            "colorscale": [
             [
              0,
              "#0d0887"
             ],
             [
              0.1111111111111111,
              "#46039f"
             ],
             [
              0.2222222222222222,
              "#7201a8"
             ],
             [
              0.3333333333333333,
              "#9c179e"
             ],
             [
              0.4444444444444444,
              "#bd3786"
             ],
             [
              0.5555555555555556,
              "#d8576b"
             ],
             [
              0.6666666666666666,
              "#ed7953"
             ],
             [
              0.7777777777777778,
              "#fb9f3a"
             ],
             [
              0.8888888888888888,
              "#fdca26"
             ],
             [
              1,
              "#f0f921"
             ]
            ],
            "type": "heatmapgl"
           }
          ],
          "histogram": [
           {
            "marker": {
             "pattern": {
              "fillmode": "overlay",
              "size": 10,
              "solidity": 0.2
             }
            },
            "type": "histogram"
           }
          ],
          "histogram2d": [
           {
            "colorbar": {
             "outlinewidth": 0,
             "ticks": ""
            },
            "colorscale": [
             [
              0,
              "#0d0887"
             ],
             [
              0.1111111111111111,
              "#46039f"
             ],
             [
              0.2222222222222222,
              "#7201a8"
             ],
             [
              0.3333333333333333,
              "#9c179e"
             ],
             [
              0.4444444444444444,
              "#bd3786"
             ],
             [
              0.5555555555555556,
              "#d8576b"
             ],
             [
              0.6666666666666666,
              "#ed7953"
             ],
             [
              0.7777777777777778,
              "#fb9f3a"
             ],
             [
              0.8888888888888888,
              "#fdca26"
             ],
             [
              1,
              "#f0f921"
             ]
            ],
            "type": "histogram2d"
           }
          ],
          "histogram2dcontour": [
           {
            "colorbar": {
             "outlinewidth": 0,
             "ticks": ""
            },
            "colorscale": [
             [
              0,
              "#0d0887"
             ],
             [
              0.1111111111111111,
              "#46039f"
             ],
             [
              0.2222222222222222,
              "#7201a8"
             ],
             [
              0.3333333333333333,
              "#9c179e"
             ],
             [
              0.4444444444444444,
              "#bd3786"
             ],
             [
              0.5555555555555556,
              "#d8576b"
             ],
             [
              0.6666666666666666,
              "#ed7953"
             ],
             [
              0.7777777777777778,
              "#fb9f3a"
             ],
             [
              0.8888888888888888,
              "#fdca26"
             ],
             [
              1,
              "#f0f921"
             ]
            ],
            "type": "histogram2dcontour"
           }
          ],
          "mesh3d": [
           {
            "colorbar": {
             "outlinewidth": 0,
             "ticks": ""
            },
            "type": "mesh3d"
           }
          ],
          "parcoords": [
           {
            "line": {
             "colorbar": {
              "outlinewidth": 0,
              "ticks": ""
             }
            },
            "type": "parcoords"
           }
          ],
          "pie": [
           {
            "automargin": true,
            "type": "pie"
           }
          ],
          "scatter": [
           {
            "fillpattern": {
             "fillmode": "overlay",
             "size": 10,
             "solidity": 0.2
            },
            "type": "scatter"
           }
          ],
          "scatter3d": [
           {
            "line": {
             "colorbar": {
              "outlinewidth": 0,
              "ticks": ""
             }
            },
            "marker": {
             "colorbar": {
              "outlinewidth": 0,
              "ticks": ""
             }
            },
            "type": "scatter3d"
           }
          ],
          "scattercarpet": [
           {
            "marker": {
             "colorbar": {
              "outlinewidth": 0,
              "ticks": ""
             }
            },
            "type": "scattercarpet"
           }
          ],
          "scattergeo": [
           {
            "marker": {
             "colorbar": {
              "outlinewidth": 0,
              "ticks": ""
             }
            },
            "type": "scattergeo"
           }
          ],
          "scattergl": [
           {
            "marker": {
             "colorbar": {
              "outlinewidth": 0,
              "ticks": ""
             }
            },
            "type": "scattergl"
           }
          ],
          "scattermapbox": [
           {
            "marker": {
             "colorbar": {
              "outlinewidth": 0,
              "ticks": ""
             }
            },
            "type": "scattermapbox"
           }
          ],
          "scatterpolar": [
           {
            "marker": {
             "colorbar": {
              "outlinewidth": 0,
              "ticks": ""
             }
            },
            "type": "scatterpolar"
           }
          ],
          "scatterpolargl": [
           {
            "marker": {
             "colorbar": {
              "outlinewidth": 0,
              "ticks": ""
             }
            },
            "type": "scatterpolargl"
           }
          ],
          "scatterternary": [
           {
            "marker": {
             "colorbar": {
              "outlinewidth": 0,
              "ticks": ""
             }
            },
            "type": "scatterternary"
           }
          ],
          "surface": [
           {
            "colorbar": {
             "outlinewidth": 0,
             "ticks": ""
            },
            "colorscale": [
             [
              0,
              "#0d0887"
             ],
             [
              0.1111111111111111,
              "#46039f"
             ],
             [
              0.2222222222222222,
              "#7201a8"
             ],
             [
              0.3333333333333333,
              "#9c179e"
             ],
             [
              0.4444444444444444,
              "#bd3786"
             ],
             [
              0.5555555555555556,
              "#d8576b"
             ],
             [
              0.6666666666666666,
              "#ed7953"
             ],
             [
              0.7777777777777778,
              "#fb9f3a"
             ],
             [
              0.8888888888888888,
              "#fdca26"
             ],
             [
              1,
              "#f0f921"
             ]
            ],
            "type": "surface"
           }
          ],
          "table": [
           {
            "cells": {
             "fill": {
              "color": "#EBF0F8"
             },
             "line": {
              "color": "white"
             }
            },
            "header": {
             "fill": {
              "color": "#C8D4E3"
             },
             "line": {
              "color": "white"
             }
            },
            "type": "table"
           }
          ]
         },
         "layout": {
          "annotationdefaults": {
           "arrowcolor": "#2a3f5f",
           "arrowhead": 0,
           "arrowwidth": 1
          },
          "autotypenumbers": "strict",
          "coloraxis": {
           "colorbar": {
            "outlinewidth": 0,
            "ticks": ""
           }
          },
          "colorscale": {
           "diverging": [
            [
             0,
             "#8e0152"
            ],
            [
             0.1,
             "#c51b7d"
            ],
            [
             0.2,
             "#de77ae"
            ],
            [
             0.3,
             "#f1b6da"
            ],
            [
             0.4,
             "#fde0ef"
            ],
            [
             0.5,
             "#f7f7f7"
            ],
            [
             0.6,
             "#e6f5d0"
            ],
            [
             0.7,
             "#b8e186"
            ],
            [
             0.8,
             "#7fbc41"
            ],
            [
             0.9,
             "#4d9221"
            ],
            [
             1,
             "#276419"
            ]
           ],
           "sequential": [
            [
             0,
             "#0d0887"
            ],
            [
             0.1111111111111111,
             "#46039f"
            ],
            [
             0.2222222222222222,
             "#7201a8"
            ],
            [
             0.3333333333333333,
             "#9c179e"
            ],
            [
             0.4444444444444444,
             "#bd3786"
            ],
            [
             0.5555555555555556,
             "#d8576b"
            ],
            [
             0.6666666666666666,
             "#ed7953"
            ],
            [
             0.7777777777777778,
             "#fb9f3a"
            ],
            [
             0.8888888888888888,
             "#fdca26"
            ],
            [
             1,
             "#f0f921"
            ]
           ],
           "sequentialminus": [
            [
             0,
             "#0d0887"
            ],
            [
             0.1111111111111111,
             "#46039f"
            ],
            [
             0.2222222222222222,
             "#7201a8"
            ],
            [
             0.3333333333333333,
             "#9c179e"
            ],
            [
             0.4444444444444444,
             "#bd3786"
            ],
            [
             0.5555555555555556,
             "#d8576b"
            ],
            [
             0.6666666666666666,
             "#ed7953"
            ],
            [
             0.7777777777777778,
             "#fb9f3a"
            ],
            [
             0.8888888888888888,
             "#fdca26"
            ],
            [
             1,
             "#f0f921"
            ]
           ]
          },
          "colorway": [
           "#636efa",
           "#EF553B",
           "#00cc96",
           "#ab63fa",
           "#FFA15A",
           "#19d3f3",
           "#FF6692",
           "#B6E880",
           "#FF97FF",
           "#FECB52"
          ],
          "font": {
           "color": "#2a3f5f"
          },
          "geo": {
           "bgcolor": "white",
           "lakecolor": "white",
           "landcolor": "#E5ECF6",
           "showlakes": true,
           "showland": true,
           "subunitcolor": "white"
          },
          "hoverlabel": {
           "align": "left"
          },
          "hovermode": "closest",
          "mapbox": {
           "style": "light"
          },
          "paper_bgcolor": "white",
          "plot_bgcolor": "#E5ECF6",
          "polar": {
           "angularaxis": {
            "gridcolor": "white",
            "linecolor": "white",
            "ticks": ""
           },
           "bgcolor": "#E5ECF6",
           "radialaxis": {
            "gridcolor": "white",
            "linecolor": "white",
            "ticks": ""
           }
          },
          "scene": {
           "xaxis": {
            "backgroundcolor": "#E5ECF6",
            "gridcolor": "white",
            "gridwidth": 2,
            "linecolor": "white",
            "showbackground": true,
            "ticks": "",
            "zerolinecolor": "white"
           },
           "yaxis": {
            "backgroundcolor": "#E5ECF6",
            "gridcolor": "white",
            "gridwidth": 2,
            "linecolor": "white",
            "showbackground": true,
            "ticks": "",
            "zerolinecolor": "white"
           },
           "zaxis": {
            "backgroundcolor": "#E5ECF6",
            "gridcolor": "white",
            "gridwidth": 2,
            "linecolor": "white",
            "showbackground": true,
            "ticks": "",
            "zerolinecolor": "white"
           }
          },
          "shapedefaults": {
           "line": {
            "color": "#2a3f5f"
           }
          },
          "ternary": {
           "aaxis": {
            "gridcolor": "white",
            "linecolor": "white",
            "ticks": ""
           },
           "baxis": {
            "gridcolor": "white",
            "linecolor": "white",
            "ticks": ""
           },
           "bgcolor": "#E5ECF6",
           "caxis": {
            "gridcolor": "white",
            "linecolor": "white",
            "ticks": ""
           }
          },
          "title": {
           "x": 0.05
          },
          "xaxis": {
           "automargin": true,
           "gridcolor": "white",
           "linecolor": "white",
           "ticks": "",
           "title": {
            "standoff": 15
           },
           "zerolinecolor": "white",
           "zerolinewidth": 2
          },
          "yaxis": {
           "automargin": true,
           "gridcolor": "white",
           "linecolor": "white",
           "ticks": "",
           "title": {
            "standoff": 15
           },
           "zerolinecolor": "white",
           "zerolinewidth": 2
          }
         }
        },
        "title": {
         "font": {
          "color": "#4D5663"
         }
        },
        "xaxis": {
         "gridcolor": "#E1E5ED",
         "showgrid": true,
         "tickfont": {
          "color": "#4D5663"
         },
         "title": {
          "font": {
           "color": "#4D5663"
          },
          "text": ""
         },
         "zerolinecolor": "#E1E5ED"
        },
        "yaxis": {
         "gridcolor": "#E1E5ED",
         "showgrid": true,
         "tickfont": {
          "color": "#4D5663"
         },
         "title": {
          "font": {
           "color": "#4D5663"
          },
          "text": ""
         },
         "zerolinecolor": "#E1E5ED"
        }
       }
      },
      "text/html": [
       "<div>                            <div id=\"7237dd39-0cd8-46c8-a67f-a3895669ee6d\" class=\"plotly-graph-div\" style=\"height:525px; width:100%;\"></div>            <script type=\"text/javascript\">                require([\"plotly\"], function(Plotly) {                    window.PLOTLYENV=window.PLOTLYENV || {};\n",
       "                    window.PLOTLYENV.BASE_URL='https://plot.ly';                                    if (document.getElementById(\"7237dd39-0cd8-46c8-a67f-a3895669ee6d\")) {                    Plotly.newPlot(                        \"7237dd39-0cd8-46c8-a67f-a3895669ee6d\",                        [{\"histfunc\":\"count\",\"histnorm\":\"\",\"marker\":{\"color\":\"rgba(255, 153, 51, 1.0)\",\"line\":{\"color\":\"#4D5663\",\"width\":1.3}},\"name\":\"A\",\"nbinsx\":25,\"opacity\":0.8,\"orientation\":\"v\",\"x\":[0.1501788668840338,-0.1756913710375011,0.13856736719365398,0.7219578807852828,0.02103035712203404,0.05372994782000095,-0.8597786699749488,-1.436764515074958,0.09773770467735642,-0.5090109468773343,0.058444993463366686,0.1528818965232011,-0.054374732419699146,-0.5195914547970374,-1.6451919722324309,-0.4078752816447025,1.7196902722861414,1.1277768696275943,-0.16700661819317372,0.4344680307743496,-0.4533598135068671,-0.17821655659170996,-0.5483023401387696,1.0642240577556783,0.15666741152753014,-2.296016560442535,1.6924661296080639,0.6072904612083375,0.6583268747437102,0.0232092808315366,0.25505441923380395,-1.7884002052880084,-1.0271998449996689,-1.3800108277280776,-0.3196999975289513,1.212423910875223,-0.8631824306196343,0.14045007863442893,0.03772705519209731,0.8741708927574366,-0.8956255423448548,0.5595218806674672,-0.13978226703197763,-1.3522532012187982,-0.11901794011161884,1.4943615882517902,-0.9021970825018301,-0.4943366411747155,0.5487766844925248,-0.2844232877660867,0.8340903018578912,-1.702365901238491,-0.7100490330331606,0.6674682457214097,-0.14091751691325238,-2.6175899502714532,-1.602147770857257,-0.7486305439753811,-0.6238082510908618,-0.9765058142343359,0.8819257132329856,-0.8444708401609161,1.3290859983817334,-0.33125058588237893,-2.4943073578839736,-0.09846938938603009,1.6319181413388584,0.2877837487161706,0.05661978916823122,0.19196078383633894,0.45447543421148245,-0.7471721117926763,0.5768918461100573,-0.42479111088633664,-2.6587930187849484,-0.879206416879864,-1.584685197756789,0.9913181768573425,0.6935908952151667,0.6174070873913775,-0.6594441738825568,-0.9226163312478916,0.9072689218965913,-3.4618100598071324,-2.8996735525378363,0.14764029916770435,-0.9304743038902059,-0.09148425443751493,-0.6947510262830392,0.48761583192883556,-0.8300069322754731,0.9919919641210598,-1.3828189356306078,-0.0436640865499939,-0.2851681411662788,1.6435752977827398,0.05788619121298352,0.5726843717948871,-0.8708498105504946,1.0442243483732725],\"type\":\"histogram\"}],                        {\"barmode\":\"overlay\",\"legend\":{\"bgcolor\":\"#F5F6F9\",\"font\":{\"color\":\"#4D5663\"}},\"paper_bgcolor\":\"#F5F6F9\",\"plot_bgcolor\":\"#F5F6F9\",\"template\":{\"data\":{\"barpolar\":[{\"marker\":{\"line\":{\"color\":\"#E5ECF6\",\"width\":0.5},\"pattern\":{\"fillmode\":\"overlay\",\"size\":10,\"solidity\":0.2}},\"type\":\"barpolar\"}],\"bar\":[{\"error_x\":{\"color\":\"#2a3f5f\"},\"error_y\":{\"color\":\"#2a3f5f\"},\"marker\":{\"line\":{\"color\":\"#E5ECF6\",\"width\":0.5},\"pattern\":{\"fillmode\":\"overlay\",\"size\":10,\"solidity\":0.2}},\"type\":\"bar\"}],\"carpet\":[{\"aaxis\":{\"endlinecolor\":\"#2a3f5f\",\"gridcolor\":\"white\",\"linecolor\":\"white\",\"minorgridcolor\":\"white\",\"startlinecolor\":\"#2a3f5f\"},\"baxis\":{\"endlinecolor\":\"#2a3f5f\",\"gridcolor\":\"white\",\"linecolor\":\"white\",\"minorgridcolor\":\"white\",\"startlinecolor\":\"#2a3f5f\"},\"type\":\"carpet\"}],\"choropleth\":[{\"colorbar\":{\"outlinewidth\":0,\"ticks\":\"\"},\"type\":\"choropleth\"}],\"contourcarpet\":[{\"colorbar\":{\"outlinewidth\":0,\"ticks\":\"\"},\"type\":\"contourcarpet\"}],\"contour\":[{\"colorbar\":{\"outlinewidth\":0,\"ticks\":\"\"},\"colorscale\":[[0.0,\"#0d0887\"],[0.1111111111111111,\"#46039f\"],[0.2222222222222222,\"#7201a8\"],[0.3333333333333333,\"#9c179e\"],[0.4444444444444444,\"#bd3786\"],[0.5555555555555556,\"#d8576b\"],[0.6666666666666666,\"#ed7953\"],[0.7777777777777778,\"#fb9f3a\"],[0.8888888888888888,\"#fdca26\"],[1.0,\"#f0f921\"]],\"type\":\"contour\"}],\"heatmapgl\":[{\"colorbar\":{\"outlinewidth\":0,\"ticks\":\"\"},\"colorscale\":[[0.0,\"#0d0887\"],[0.1111111111111111,\"#46039f\"],[0.2222222222222222,\"#7201a8\"],[0.3333333333333333,\"#9c179e\"],[0.4444444444444444,\"#bd3786\"],[0.5555555555555556,\"#d8576b\"],[0.6666666666666666,\"#ed7953\"],[0.7777777777777778,\"#fb9f3a\"],[0.8888888888888888,\"#fdca26\"],[1.0,\"#f0f921\"]],\"type\":\"heatmapgl\"}],\"heatmap\":[{\"colorbar\":{\"outlinewidth\":0,\"ticks\":\"\"},\"colorscale\":[[0.0,\"#0d0887\"],[0.1111111111111111,\"#46039f\"],[0.2222222222222222,\"#7201a8\"],[0.3333333333333333,\"#9c179e\"],[0.4444444444444444,\"#bd3786\"],[0.5555555555555556,\"#d8576b\"],[0.6666666666666666,\"#ed7953\"],[0.7777777777777778,\"#fb9f3a\"],[0.8888888888888888,\"#fdca26\"],[1.0,\"#f0f921\"]],\"type\":\"heatmap\"}],\"histogram2dcontour\":[{\"colorbar\":{\"outlinewidth\":0,\"ticks\":\"\"},\"colorscale\":[[0.0,\"#0d0887\"],[0.1111111111111111,\"#46039f\"],[0.2222222222222222,\"#7201a8\"],[0.3333333333333333,\"#9c179e\"],[0.4444444444444444,\"#bd3786\"],[0.5555555555555556,\"#d8576b\"],[0.6666666666666666,\"#ed7953\"],[0.7777777777777778,\"#fb9f3a\"],[0.8888888888888888,\"#fdca26\"],[1.0,\"#f0f921\"]],\"type\":\"histogram2dcontour\"}],\"histogram2d\":[{\"colorbar\":{\"outlinewidth\":0,\"ticks\":\"\"},\"colorscale\":[[0.0,\"#0d0887\"],[0.1111111111111111,\"#46039f\"],[0.2222222222222222,\"#7201a8\"],[0.3333333333333333,\"#9c179e\"],[0.4444444444444444,\"#bd3786\"],[0.5555555555555556,\"#d8576b\"],[0.6666666666666666,\"#ed7953\"],[0.7777777777777778,\"#fb9f3a\"],[0.8888888888888888,\"#fdca26\"],[1.0,\"#f0f921\"]],\"type\":\"histogram2d\"}],\"histogram\":[{\"marker\":{\"pattern\":{\"fillmode\":\"overlay\",\"size\":10,\"solidity\":0.2}},\"type\":\"histogram\"}],\"mesh3d\":[{\"colorbar\":{\"outlinewidth\":0,\"ticks\":\"\"},\"type\":\"mesh3d\"}],\"parcoords\":[{\"line\":{\"colorbar\":{\"outlinewidth\":0,\"ticks\":\"\"}},\"type\":\"parcoords\"}],\"pie\":[{\"automargin\":true,\"type\":\"pie\"}],\"scatter3d\":[{\"line\":{\"colorbar\":{\"outlinewidth\":0,\"ticks\":\"\"}},\"marker\":{\"colorbar\":{\"outlinewidth\":0,\"ticks\":\"\"}},\"type\":\"scatter3d\"}],\"scattercarpet\":[{\"marker\":{\"colorbar\":{\"outlinewidth\":0,\"ticks\":\"\"}},\"type\":\"scattercarpet\"}],\"scattergeo\":[{\"marker\":{\"colorbar\":{\"outlinewidth\":0,\"ticks\":\"\"}},\"type\":\"scattergeo\"}],\"scattergl\":[{\"marker\":{\"colorbar\":{\"outlinewidth\":0,\"ticks\":\"\"}},\"type\":\"scattergl\"}],\"scattermapbox\":[{\"marker\":{\"colorbar\":{\"outlinewidth\":0,\"ticks\":\"\"}},\"type\":\"scattermapbox\"}],\"scatterpolargl\":[{\"marker\":{\"colorbar\":{\"outlinewidth\":0,\"ticks\":\"\"}},\"type\":\"scatterpolargl\"}],\"scatterpolar\":[{\"marker\":{\"colorbar\":{\"outlinewidth\":0,\"ticks\":\"\"}},\"type\":\"scatterpolar\"}],\"scatter\":[{\"fillpattern\":{\"fillmode\":\"overlay\",\"size\":10,\"solidity\":0.2},\"type\":\"scatter\"}],\"scatterternary\":[{\"marker\":{\"colorbar\":{\"outlinewidth\":0,\"ticks\":\"\"}},\"type\":\"scatterternary\"}],\"surface\":[{\"colorbar\":{\"outlinewidth\":0,\"ticks\":\"\"},\"colorscale\":[[0.0,\"#0d0887\"],[0.1111111111111111,\"#46039f\"],[0.2222222222222222,\"#7201a8\"],[0.3333333333333333,\"#9c179e\"],[0.4444444444444444,\"#bd3786\"],[0.5555555555555556,\"#d8576b\"],[0.6666666666666666,\"#ed7953\"],[0.7777777777777778,\"#fb9f3a\"],[0.8888888888888888,\"#fdca26\"],[1.0,\"#f0f921\"]],\"type\":\"surface\"}],\"table\":[{\"cells\":{\"fill\":{\"color\":\"#EBF0F8\"},\"line\":{\"color\":\"white\"}},\"header\":{\"fill\":{\"color\":\"#C8D4E3\"},\"line\":{\"color\":\"white\"}},\"type\":\"table\"}]},\"layout\":{\"annotationdefaults\":{\"arrowcolor\":\"#2a3f5f\",\"arrowhead\":0,\"arrowwidth\":1},\"autotypenumbers\":\"strict\",\"coloraxis\":{\"colorbar\":{\"outlinewidth\":0,\"ticks\":\"\"}},\"colorscale\":{\"diverging\":[[0,\"#8e0152\"],[0.1,\"#c51b7d\"],[0.2,\"#de77ae\"],[0.3,\"#f1b6da\"],[0.4,\"#fde0ef\"],[0.5,\"#f7f7f7\"],[0.6,\"#e6f5d0\"],[0.7,\"#b8e186\"],[0.8,\"#7fbc41\"],[0.9,\"#4d9221\"],[1,\"#276419\"]],\"sequential\":[[0.0,\"#0d0887\"],[0.1111111111111111,\"#46039f\"],[0.2222222222222222,\"#7201a8\"],[0.3333333333333333,\"#9c179e\"],[0.4444444444444444,\"#bd3786\"],[0.5555555555555556,\"#d8576b\"],[0.6666666666666666,\"#ed7953\"],[0.7777777777777778,\"#fb9f3a\"],[0.8888888888888888,\"#fdca26\"],[1.0,\"#f0f921\"]],\"sequentialminus\":[[0.0,\"#0d0887\"],[0.1111111111111111,\"#46039f\"],[0.2222222222222222,\"#7201a8\"],[0.3333333333333333,\"#9c179e\"],[0.4444444444444444,\"#bd3786\"],[0.5555555555555556,\"#d8576b\"],[0.6666666666666666,\"#ed7953\"],[0.7777777777777778,\"#fb9f3a\"],[0.8888888888888888,\"#fdca26\"],[1.0,\"#f0f921\"]]},\"colorway\":[\"#636efa\",\"#EF553B\",\"#00cc96\",\"#ab63fa\",\"#FFA15A\",\"#19d3f3\",\"#FF6692\",\"#B6E880\",\"#FF97FF\",\"#FECB52\"],\"font\":{\"color\":\"#2a3f5f\"},\"geo\":{\"bgcolor\":\"white\",\"lakecolor\":\"white\",\"landcolor\":\"#E5ECF6\",\"showlakes\":true,\"showland\":true,\"subunitcolor\":\"white\"},\"hoverlabel\":{\"align\":\"left\"},\"hovermode\":\"closest\",\"mapbox\":{\"style\":\"light\"},\"paper_bgcolor\":\"white\",\"plot_bgcolor\":\"#E5ECF6\",\"polar\":{\"angularaxis\":{\"gridcolor\":\"white\",\"linecolor\":\"white\",\"ticks\":\"\"},\"bgcolor\":\"#E5ECF6\",\"radialaxis\":{\"gridcolor\":\"white\",\"linecolor\":\"white\",\"ticks\":\"\"}},\"scene\":{\"xaxis\":{\"backgroundcolor\":\"#E5ECF6\",\"gridcolor\":\"white\",\"gridwidth\":2,\"linecolor\":\"white\",\"showbackground\":true,\"ticks\":\"\",\"zerolinecolor\":\"white\"},\"yaxis\":{\"backgroundcolor\":\"#E5ECF6\",\"gridcolor\":\"white\",\"gridwidth\":2,\"linecolor\":\"white\",\"showbackground\":true,\"ticks\":\"\",\"zerolinecolor\":\"white\"},\"zaxis\":{\"backgroundcolor\":\"#E5ECF6\",\"gridcolor\":\"white\",\"gridwidth\":2,\"linecolor\":\"white\",\"showbackground\":true,\"ticks\":\"\",\"zerolinecolor\":\"white\"}},\"shapedefaults\":{\"line\":{\"color\":\"#2a3f5f\"}},\"ternary\":{\"aaxis\":{\"gridcolor\":\"white\",\"linecolor\":\"white\",\"ticks\":\"\"},\"baxis\":{\"gridcolor\":\"white\",\"linecolor\":\"white\",\"ticks\":\"\"},\"bgcolor\":\"#E5ECF6\",\"caxis\":{\"gridcolor\":\"white\",\"linecolor\":\"white\",\"ticks\":\"\"}},\"title\":{\"x\":0.05},\"xaxis\":{\"automargin\":true,\"gridcolor\":\"white\",\"linecolor\":\"white\",\"ticks\":\"\",\"title\":{\"standoff\":15},\"zerolinecolor\":\"white\",\"zerolinewidth\":2},\"yaxis\":{\"automargin\":true,\"gridcolor\":\"white\",\"linecolor\":\"white\",\"ticks\":\"\",\"title\":{\"standoff\":15},\"zerolinecolor\":\"white\",\"zerolinewidth\":2}}},\"title\":{\"font\":{\"color\":\"#4D5663\"}},\"xaxis\":{\"gridcolor\":\"#E1E5ED\",\"showgrid\":true,\"tickfont\":{\"color\":\"#4D5663\"},\"title\":{\"font\":{\"color\":\"#4D5663\"},\"text\":\"\"},\"zerolinecolor\":\"#E1E5ED\"},\"yaxis\":{\"gridcolor\":\"#E1E5ED\",\"showgrid\":true,\"tickfont\":{\"color\":\"#4D5663\"},\"title\":{\"font\":{\"color\":\"#4D5663\"},\"text\":\"\"},\"zerolinecolor\":\"#E1E5ED\"}},                        {\"showLink\": true, \"linkText\": \"Export to plot.ly\", \"plotlyServerURL\": \"https://plot.ly\", \"responsive\": true}                    ).then(function(){\n",
       "                            \n",
       "var gd = document.getElementById('7237dd39-0cd8-46c8-a67f-a3895669ee6d');\n",
       "var x = new MutationObserver(function (mutations, observer) {{\n",
       "        var display = window.getComputedStyle(gd).display;\n",
       "        if (!display || display === 'none') {{\n",
       "            console.log([gd, 'removed!']);\n",
       "            Plotly.purge(gd);\n",
       "            observer.disconnect();\n",
       "        }}\n",
       "}});\n",
       "\n",
       "// Listen for the removal of the full notebook cells\n",
       "var notebookContainer = gd.closest('#notebook-container');\n",
       "if (notebookContainer) {{\n",
       "    x.observe(notebookContainer, {childList: true});\n",
       "}}\n",
       "\n",
       "// Listen for the clearing of the current output cell\n",
       "var outputEl = gd.closest('.output');\n",
       "if (outputEl) {{\n",
       "    x.observe(outputEl, {childList: true});\n",
       "}}\n",
       "\n",
       "                        })                };                });            </script>        </div>"
      ]
     },
     "metadata": {},
     "output_type": "display_data"
    }
   ],
   "source": [
    "#Histogram\n",
    "\n",
    "df['A'].iplot(kind='hist',bins=25)"
   ]
  },
  {
   "cell_type": "code",
   "execution_count": 20,
   "id": "12d750fb",
   "metadata": {},
   "outputs": [
    {
     "data": {
      "application/vnd.plotly.v1+json": {
       "config": {
        "linkText": "Export to plot.ly",
        "plotlyServerURL": "https://plot.ly",
        "showLink": true
       },
       "data": [
        {
         "marker": {
          "color": [
           "rgb(255, 153, 51)",
           "rgb(55, 128, 191)",
           "rgb(50, 171, 96)",
           "rgb(128, 0, 128)",
           "rgb(219, 64, 82)",
           "rgb(0, 128, 128)",
           "rgb(255, 255, 51)",
           "rgb(128, 128, 0)",
           "rgb(251, 128, 114)",
           "rgb(128, 177, 211)"
          ],
          "line": {
           "width": 1.3
          },
          "size": [
           77,
           26,
           20,
           45,
           82,
           55,
           51,
           48,
           56,
           52,
           69,
           63,
           65,
           63,
           54,
           82,
           44,
           79,
           94,
           101,
           46,
           63,
           54,
           83,
           53,
           58,
           105,
           61,
           88,
           16,
           63,
           58,
           30,
           71,
           37,
           49,
           40,
           39,
           44,
           62,
           48,
           41,
           19,
           65,
           74,
           87,
           55,
           71,
           46,
           82,
           65,
           33,
           79,
           85,
           70,
           59,
           88,
           54,
           87,
           61,
           60,
           70,
           77,
           108,
           51,
           48,
           88,
           65,
           82,
           58,
           37,
           42,
           64,
           81,
           52,
           93,
           112,
           70,
           12,
           72,
           24,
           72,
           49,
           51,
           69,
           64,
           38,
           79,
           61,
           74,
           34,
           91,
           29,
           43,
           59,
           61,
           44,
           94,
           78,
           76
          ],
          "symbol": "circle"
         },
         "mode": "markers",
         "text": "",
         "type": "scatter",
         "x": [
          0.1501788668840338,
          -0.1756913710375011,
          0.13856736719365398,
          0.7219578807852828,
          0.02103035712203404,
          0.05372994782000095,
          -0.8597786699749488,
          -1.436764515074958,
          0.09773770467735642,
          -0.5090109468773343,
          0.058444993463366686,
          0.1528818965232011,
          -0.054374732419699146,
          -0.5195914547970374,
          -1.6451919722324309,
          -0.4078752816447025,
          1.7196902722861414,
          1.1277768696275943,
          -0.16700661819317372,
          0.4344680307743496,
          -0.4533598135068671,
          -0.17821655659170996,
          -0.5483023401387696,
          1.0642240577556783,
          0.15666741152753014,
          -2.296016560442535,
          1.6924661296080639,
          0.6072904612083375,
          0.6583268747437102,
          0.0232092808315366,
          0.25505441923380395,
          -1.7884002052880084,
          -1.0271998449996689,
          -1.3800108277280776,
          -0.3196999975289513,
          1.212423910875223,
          -0.8631824306196343,
          0.14045007863442893,
          0.03772705519209731,
          0.8741708927574366,
          -0.8956255423448548,
          0.5595218806674672,
          -0.13978226703197763,
          -1.3522532012187982,
          -0.11901794011161884,
          1.4943615882517902,
          -0.9021970825018301,
          -0.4943366411747155,
          0.5487766844925248,
          -0.2844232877660867,
          0.8340903018578912,
          -1.702365901238491,
          -0.7100490330331606,
          0.6674682457214097,
          -0.14091751691325238,
          -2.6175899502714532,
          -1.602147770857257,
          -0.7486305439753811,
          -0.6238082510908618,
          -0.9765058142343359,
          0.8819257132329856,
          -0.8444708401609161,
          1.3290859983817334,
          -0.33125058588237893,
          -2.4943073578839736,
          -0.09846938938603009,
          1.6319181413388584,
          0.2877837487161706,
          0.05661978916823122,
          0.19196078383633894,
          0.45447543421148245,
          -0.7471721117926763,
          0.5768918461100573,
          -0.42479111088633664,
          -2.6587930187849484,
          -0.879206416879864,
          -1.584685197756789,
          0.9913181768573425,
          0.6935908952151667,
          0.6174070873913775,
          -0.6594441738825568,
          -0.9226163312478916,
          0.9072689218965913,
          -3.4618100598071324,
          -2.8996735525378363,
          0.14764029916770435,
          -0.9304743038902059,
          -0.09148425443751493,
          -0.6947510262830392,
          0.48761583192883556,
          -0.8300069322754731,
          0.9919919641210598,
          -1.3828189356306078,
          -0.0436640865499939,
          -0.2851681411662788,
          1.6435752977827398,
          0.05788619121298352,
          0.5726843717948871,
          -0.8708498105504946,
          1.0442243483732725
         ],
         "y": [
          0.3292464980445286,
          -0.1411389303037044,
          1.0690826737668286,
          -0.5670008289594736,
          1.5918584383121732,
          -0.49735820558161664,
          0.853020526947463,
          1.094407718690676,
          0.32727080169252115,
          -1.2226688074822474,
          2.686372841230928,
          -0.7662833800546549,
          -1.672436568832668,
          -0.3932022977635248,
          0.03263859066046469,
          -1.6761171971533155,
          -1.564322177542407,
          0.8727530667077585,
          2.8459920842255357,
          0.041262651325481056,
          0.6020364391158644,
          -1.274285368129067,
          0.37739388783722166,
          1.785008130491707,
          -1.0332839242660679,
          2.4939486777155886,
          0.981165538761148,
          0.9876494450648611,
          -1.392722155984482,
          -0.23872920769288078,
          1.4825111094062309,
          -0.8719477402420855,
          -0.8640186070736904,
          1.7498728402472519,
          0.5725682033786544,
          0.49847970058576085,
          0.4628575656278747,
          -0.06871206586372626,
          -0.14184373613844153,
          0.43328186425755827,
          -0.10749451342931048,
          -0.9398187865832206,
          -0.5251347550124181,
          1.635891869597316,
          -0.8844918823837958,
          -0.9090407559913615,
          0.519238719064138,
          -0.7090769497362426,
          0.8398486786419308,
          -0.2876594525112121,
          -0.882125919272093,
          0.04716098700964254,
          0.7473021164945799,
          -0.6205957612381642,
          0.07659494095782203,
          0.3029419326610615,
          -0.1457543020500506,
          -1.0147955229958847,
          -0.5348542967183831,
          -0.8781239565468124,
          -2.1411910267869123,
          -1.1388955510062049,
          -0.8087615847592627,
          -0.2994886393800132,
          -1.550632994942883,
          -0.07855287087348586,
          -0.09139415769032651,
          -0.3900148067474229,
          0.7748252201143693,
          -1.5355808667892057,
          -2.1694692520872296,
          -0.8250853605787378,
          0.3846735791487371,
          0.17890267605846233,
          -1.4735750220184796,
          0.07437116478387093,
          0.9218685071691737,
          -0.8205867482611652,
          0.5115358062357684,
          -1.2857938547393777,
          0.31221253198721455,
          -0.08234276520286833,
          0.4526207498721831,
          -0.4473360992885767,
          0.5766023641817422,
          -1.550026086832909,
          -0.7197254653986882,
          -0.2890094987331318,
          -0.9484949964302272,
          1.4749208841491077,
          0.8279588679944496,
          -0.2497528713488217,
          -0.7188559976596786,
          0.3947502727196581,
          -0.852203625860959,
          -0.4713126121808178,
          0.4880404775087967,
          -1.5681301594317518,
          -1.4119016649251277,
          0.0676585355782195
         ]
        }
       ],
       "layout": {
        "legend": {
         "bgcolor": "#F5F6F9",
         "font": {
          "color": "#4D5663"
         }
        },
        "paper_bgcolor": "#F5F6F9",
        "plot_bgcolor": "#F5F6F9",
        "template": {
         "data": {
          "bar": [
           {
            "error_x": {
             "color": "#2a3f5f"
            },
            "error_y": {
             "color": "#2a3f5f"
            },
            "marker": {
             "line": {
              "color": "#E5ECF6",
              "width": 0.5
             },
             "pattern": {
              "fillmode": "overlay",
              "size": 10,
              "solidity": 0.2
             }
            },
            "type": "bar"
           }
          ],
          "barpolar": [
           {
            "marker": {
             "line": {
              "color": "#E5ECF6",
              "width": 0.5
             },
             "pattern": {
              "fillmode": "overlay",
              "size": 10,
              "solidity": 0.2
             }
            },
            "type": "barpolar"
           }
          ],
          "carpet": [
           {
            "aaxis": {
             "endlinecolor": "#2a3f5f",
             "gridcolor": "white",
             "linecolor": "white",
             "minorgridcolor": "white",
             "startlinecolor": "#2a3f5f"
            },
            "baxis": {
             "endlinecolor": "#2a3f5f",
             "gridcolor": "white",
             "linecolor": "white",
             "minorgridcolor": "white",
             "startlinecolor": "#2a3f5f"
            },
            "type": "carpet"
           }
          ],
          "choropleth": [
           {
            "colorbar": {
             "outlinewidth": 0,
             "ticks": ""
            },
            "type": "choropleth"
           }
          ],
          "contour": [
           {
            "colorbar": {
             "outlinewidth": 0,
             "ticks": ""
            },
            "colorscale": [
             [
              0,
              "#0d0887"
             ],
             [
              0.1111111111111111,
              "#46039f"
             ],
             [
              0.2222222222222222,
              "#7201a8"
             ],
             [
              0.3333333333333333,
              "#9c179e"
             ],
             [
              0.4444444444444444,
              "#bd3786"
             ],
             [
              0.5555555555555556,
              "#d8576b"
             ],
             [
              0.6666666666666666,
              "#ed7953"
             ],
             [
              0.7777777777777778,
              "#fb9f3a"
             ],
             [
              0.8888888888888888,
              "#fdca26"
             ],
             [
              1,
              "#f0f921"
             ]
            ],
            "type": "contour"
           }
          ],
          "contourcarpet": [
           {
            "colorbar": {
             "outlinewidth": 0,
             "ticks": ""
            },
            "type": "contourcarpet"
           }
          ],
          "heatmap": [
           {
            "colorbar": {
             "outlinewidth": 0,
             "ticks": ""
            },
            "colorscale": [
             [
              0,
              "#0d0887"
             ],
             [
              0.1111111111111111,
              "#46039f"
             ],
             [
              0.2222222222222222,
              "#7201a8"
             ],
             [
              0.3333333333333333,
              "#9c179e"
             ],
             [
              0.4444444444444444,
              "#bd3786"
             ],
             [
              0.5555555555555556,
              "#d8576b"
             ],
             [
              0.6666666666666666,
              "#ed7953"
             ],
             [
              0.7777777777777778,
              "#fb9f3a"
             ],
             [
              0.8888888888888888,
              "#fdca26"
             ],
             [
              1,
              "#f0f921"
             ]
            ],
            "type": "heatmap"
           }
          ],
          "heatmapgl": [
           {
            "colorbar": {
             "outlinewidth": 0,
             "ticks": ""
            },
            "colorscale": [
             [
              0,
              "#0d0887"
             ],
             [
              0.1111111111111111,
              "#46039f"
             ],
             [
              0.2222222222222222,
              "#7201a8"
             ],
             [
              0.3333333333333333,
              "#9c179e"
             ],
             [
              0.4444444444444444,
              "#bd3786"
             ],
             [
              0.5555555555555556,
              "#d8576b"
             ],
             [
              0.6666666666666666,
              "#ed7953"
             ],
             [
              0.7777777777777778,
              "#fb9f3a"
             ],
             [
              0.8888888888888888,
              "#fdca26"
             ],
             [
              1,
              "#f0f921"
             ]
            ],
            "type": "heatmapgl"
           }
          ],
          "histogram": [
           {
            "marker": {
             "pattern": {
              "fillmode": "overlay",
              "size": 10,
              "solidity": 0.2
             }
            },
            "type": "histogram"
           }
          ],
          "histogram2d": [
           {
            "colorbar": {
             "outlinewidth": 0,
             "ticks": ""
            },
            "colorscale": [
             [
              0,
              "#0d0887"
             ],
             [
              0.1111111111111111,
              "#46039f"
             ],
             [
              0.2222222222222222,
              "#7201a8"
             ],
             [
              0.3333333333333333,
              "#9c179e"
             ],
             [
              0.4444444444444444,
              "#bd3786"
             ],
             [
              0.5555555555555556,
              "#d8576b"
             ],
             [
              0.6666666666666666,
              "#ed7953"
             ],
             [
              0.7777777777777778,
              "#fb9f3a"
             ],
             [
              0.8888888888888888,
              "#fdca26"
             ],
             [
              1,
              "#f0f921"
             ]
            ],
            "type": "histogram2d"
           }
          ],
          "histogram2dcontour": [
           {
            "colorbar": {
             "outlinewidth": 0,
             "ticks": ""
            },
            "colorscale": [
             [
              0,
              "#0d0887"
             ],
             [
              0.1111111111111111,
              "#46039f"
             ],
             [
              0.2222222222222222,
              "#7201a8"
             ],
             [
              0.3333333333333333,
              "#9c179e"
             ],
             [
              0.4444444444444444,
              "#bd3786"
             ],
             [
              0.5555555555555556,
              "#d8576b"
             ],
             [
              0.6666666666666666,
              "#ed7953"
             ],
             [
              0.7777777777777778,
              "#fb9f3a"
             ],
             [
              0.8888888888888888,
              "#fdca26"
             ],
             [
              1,
              "#f0f921"
             ]
            ],
            "type": "histogram2dcontour"
           }
          ],
          "mesh3d": [
           {
            "colorbar": {
             "outlinewidth": 0,
             "ticks": ""
            },
            "type": "mesh3d"
           }
          ],
          "parcoords": [
           {
            "line": {
             "colorbar": {
              "outlinewidth": 0,
              "ticks": ""
             }
            },
            "type": "parcoords"
           }
          ],
          "pie": [
           {
            "automargin": true,
            "type": "pie"
           }
          ],
          "scatter": [
           {
            "fillpattern": {
             "fillmode": "overlay",
             "size": 10,
             "solidity": 0.2
            },
            "type": "scatter"
           }
          ],
          "scatter3d": [
           {
            "line": {
             "colorbar": {
              "outlinewidth": 0,
              "ticks": ""
             }
            },
            "marker": {
             "colorbar": {
              "outlinewidth": 0,
              "ticks": ""
             }
            },
            "type": "scatter3d"
           }
          ],
          "scattercarpet": [
           {
            "marker": {
             "colorbar": {
              "outlinewidth": 0,
              "ticks": ""
             }
            },
            "type": "scattercarpet"
           }
          ],
          "scattergeo": [
           {
            "marker": {
             "colorbar": {
              "outlinewidth": 0,
              "ticks": ""
             }
            },
            "type": "scattergeo"
           }
          ],
          "scattergl": [
           {
            "marker": {
             "colorbar": {
              "outlinewidth": 0,
              "ticks": ""
             }
            },
            "type": "scattergl"
           }
          ],
          "scattermapbox": [
           {
            "marker": {
             "colorbar": {
              "outlinewidth": 0,
              "ticks": ""
             }
            },
            "type": "scattermapbox"
           }
          ],
          "scatterpolar": [
           {
            "marker": {
             "colorbar": {
              "outlinewidth": 0,
              "ticks": ""
             }
            },
            "type": "scatterpolar"
           }
          ],
          "scatterpolargl": [
           {
            "marker": {
             "colorbar": {
              "outlinewidth": 0,
              "ticks": ""
             }
            },
            "type": "scatterpolargl"
           }
          ],
          "scatterternary": [
           {
            "marker": {
             "colorbar": {
              "outlinewidth": 0,
              "ticks": ""
             }
            },
            "type": "scatterternary"
           }
          ],
          "surface": [
           {
            "colorbar": {
             "outlinewidth": 0,
             "ticks": ""
            },
            "colorscale": [
             [
              0,
              "#0d0887"
             ],
             [
              0.1111111111111111,
              "#46039f"
             ],
             [
              0.2222222222222222,
              "#7201a8"
             ],
             [
              0.3333333333333333,
              "#9c179e"
             ],
             [
              0.4444444444444444,
              "#bd3786"
             ],
             [
              0.5555555555555556,
              "#d8576b"
             ],
             [
              0.6666666666666666,
              "#ed7953"
             ],
             [
              0.7777777777777778,
              "#fb9f3a"
             ],
             [
              0.8888888888888888,
              "#fdca26"
             ],
             [
              1,
              "#f0f921"
             ]
            ],
            "type": "surface"
           }
          ],
          "table": [
           {
            "cells": {
             "fill": {
              "color": "#EBF0F8"
             },
             "line": {
              "color": "white"
             }
            },
            "header": {
             "fill": {
              "color": "#C8D4E3"
             },
             "line": {
              "color": "white"
             }
            },
            "type": "table"
           }
          ]
         },
         "layout": {
          "annotationdefaults": {
           "arrowcolor": "#2a3f5f",
           "arrowhead": 0,
           "arrowwidth": 1
          },
          "autotypenumbers": "strict",
          "coloraxis": {
           "colorbar": {
            "outlinewidth": 0,
            "ticks": ""
           }
          },
          "colorscale": {
           "diverging": [
            [
             0,
             "#8e0152"
            ],
            [
             0.1,
             "#c51b7d"
            ],
            [
             0.2,
             "#de77ae"
            ],
            [
             0.3,
             "#f1b6da"
            ],
            [
             0.4,
             "#fde0ef"
            ],
            [
             0.5,
             "#f7f7f7"
            ],
            [
             0.6,
             "#e6f5d0"
            ],
            [
             0.7,
             "#b8e186"
            ],
            [
             0.8,
             "#7fbc41"
            ],
            [
             0.9,
             "#4d9221"
            ],
            [
             1,
             "#276419"
            ]
           ],
           "sequential": [
            [
             0,
             "#0d0887"
            ],
            [
             0.1111111111111111,
             "#46039f"
            ],
            [
             0.2222222222222222,
             "#7201a8"
            ],
            [
             0.3333333333333333,
             "#9c179e"
            ],
            [
             0.4444444444444444,
             "#bd3786"
            ],
            [
             0.5555555555555556,
             "#d8576b"
            ],
            [
             0.6666666666666666,
             "#ed7953"
            ],
            [
             0.7777777777777778,
             "#fb9f3a"
            ],
            [
             0.8888888888888888,
             "#fdca26"
            ],
            [
             1,
             "#f0f921"
            ]
           ],
           "sequentialminus": [
            [
             0,
             "#0d0887"
            ],
            [
             0.1111111111111111,
             "#46039f"
            ],
            [
             0.2222222222222222,
             "#7201a8"
            ],
            [
             0.3333333333333333,
             "#9c179e"
            ],
            [
             0.4444444444444444,
             "#bd3786"
            ],
            [
             0.5555555555555556,
             "#d8576b"
            ],
            [
             0.6666666666666666,
             "#ed7953"
            ],
            [
             0.7777777777777778,
             "#fb9f3a"
            ],
            [
             0.8888888888888888,
             "#fdca26"
            ],
            [
             1,
             "#f0f921"
            ]
           ]
          },
          "colorway": [
           "#636efa",
           "#EF553B",
           "#00cc96",
           "#ab63fa",
           "#FFA15A",
           "#19d3f3",
           "#FF6692",
           "#B6E880",
           "#FF97FF",
           "#FECB52"
          ],
          "font": {
           "color": "#2a3f5f"
          },
          "geo": {
           "bgcolor": "white",
           "lakecolor": "white",
           "landcolor": "#E5ECF6",
           "showlakes": true,
           "showland": true,
           "subunitcolor": "white"
          },
          "hoverlabel": {
           "align": "left"
          },
          "hovermode": "closest",
          "mapbox": {
           "style": "light"
          },
          "paper_bgcolor": "white",
          "plot_bgcolor": "#E5ECF6",
          "polar": {
           "angularaxis": {
            "gridcolor": "white",
            "linecolor": "white",
            "ticks": ""
           },
           "bgcolor": "#E5ECF6",
           "radialaxis": {
            "gridcolor": "white",
            "linecolor": "white",
            "ticks": ""
           }
          },
          "scene": {
           "xaxis": {
            "backgroundcolor": "#E5ECF6",
            "gridcolor": "white",
            "gridwidth": 2,
            "linecolor": "white",
            "showbackground": true,
            "ticks": "",
            "zerolinecolor": "white"
           },
           "yaxis": {
            "backgroundcolor": "#E5ECF6",
            "gridcolor": "white",
            "gridwidth": 2,
            "linecolor": "white",
            "showbackground": true,
            "ticks": "",
            "zerolinecolor": "white"
           },
           "zaxis": {
            "backgroundcolor": "#E5ECF6",
            "gridcolor": "white",
            "gridwidth": 2,
            "linecolor": "white",
            "showbackground": true,
            "ticks": "",
            "zerolinecolor": "white"
           }
          },
          "shapedefaults": {
           "line": {
            "color": "#2a3f5f"
           }
          },
          "ternary": {
           "aaxis": {
            "gridcolor": "white",
            "linecolor": "white",
            "ticks": ""
           },
           "baxis": {
            "gridcolor": "white",
            "linecolor": "white",
            "ticks": ""
           },
           "bgcolor": "#E5ECF6",
           "caxis": {
            "gridcolor": "white",
            "linecolor": "white",
            "ticks": ""
           }
          },
          "title": {
           "x": 0.05
          },
          "xaxis": {
           "automargin": true,
           "gridcolor": "white",
           "linecolor": "white",
           "ticks": "",
           "title": {
            "standoff": 15
           },
           "zerolinecolor": "white",
           "zerolinewidth": 2
          },
          "yaxis": {
           "automargin": true,
           "gridcolor": "white",
           "linecolor": "white",
           "ticks": "",
           "title": {
            "standoff": 15
           },
           "zerolinecolor": "white",
           "zerolinewidth": 2
          }
         }
        },
        "title": {
         "font": {
          "color": "#4D5663"
         }
        },
        "xaxis": {
         "gridcolor": "#E1E5ED",
         "showgrid": true,
         "tickfont": {
          "color": "#4D5663"
         },
         "title": {
          "font": {
           "color": "#4D5663"
          },
          "text": ""
         },
         "zerolinecolor": "#E1E5ED"
        },
        "yaxis": {
         "gridcolor": "#E1E5ED",
         "showgrid": true,
         "tickfont": {
          "color": "#4D5663"
         },
         "title": {
          "font": {
           "color": "#4D5663"
          },
          "text": ""
         },
         "zerolinecolor": "#E1E5ED"
        }
       }
      },
      "text/html": [
       "<div>                            <div id=\"d3d88f24-f070-4e33-a2ab-9a852986b2ed\" class=\"plotly-graph-div\" style=\"height:525px; width:100%;\"></div>            <script type=\"text/javascript\">                require([\"plotly\"], function(Plotly) {                    window.PLOTLYENV=window.PLOTLYENV || {};\n",
       "                    window.PLOTLYENV.BASE_URL='https://plot.ly';                                    if (document.getElementById(\"d3d88f24-f070-4e33-a2ab-9a852986b2ed\")) {                    Plotly.newPlot(                        \"d3d88f24-f070-4e33-a2ab-9a852986b2ed\",                        [{\"marker\":{\"color\":[\"rgb(255, 153, 51)\",\"rgb(55, 128, 191)\",\"rgb(50, 171, 96)\",\"rgb(128, 0, 128)\",\"rgb(219, 64, 82)\",\"rgb(0, 128, 128)\",\"rgb(255, 255, 51)\",\"rgb(128, 128, 0)\",\"rgb(251, 128, 114)\",\"rgb(128, 177, 211)\"],\"line\":{\"width\":1.3},\"size\":[77,26,20,45,82,55,51,48,56,52,69,63,65,63,54,82,44,79,94,101,46,63,54,83,53,58,105,61,88,16,63,58,30,71,37,49,40,39,44,62,48,41,19,65,74,87,55,71,46,82,65,33,79,85,70,59,88,54,87,61,60,70,77,108,51,48,88,65,82,58,37,42,64,81,52,93,112,70,12,72,24,72,49,51,69,64,38,79,61,74,34,91,29,43,59,61,44,94,78,76],\"symbol\":\"circle\"},\"mode\":\"markers\",\"text\":\"\",\"x\":[0.1501788668840338,-0.1756913710375011,0.13856736719365398,0.7219578807852828,0.02103035712203404,0.05372994782000095,-0.8597786699749488,-1.436764515074958,0.09773770467735642,-0.5090109468773343,0.058444993463366686,0.1528818965232011,-0.054374732419699146,-0.5195914547970374,-1.6451919722324309,-0.4078752816447025,1.7196902722861414,1.1277768696275943,-0.16700661819317372,0.4344680307743496,-0.4533598135068671,-0.17821655659170996,-0.5483023401387696,1.0642240577556783,0.15666741152753014,-2.296016560442535,1.6924661296080639,0.6072904612083375,0.6583268747437102,0.0232092808315366,0.25505441923380395,-1.7884002052880084,-1.0271998449996689,-1.3800108277280776,-0.3196999975289513,1.212423910875223,-0.8631824306196343,0.14045007863442893,0.03772705519209731,0.8741708927574366,-0.8956255423448548,0.5595218806674672,-0.13978226703197763,-1.3522532012187982,-0.11901794011161884,1.4943615882517902,-0.9021970825018301,-0.4943366411747155,0.5487766844925248,-0.2844232877660867,0.8340903018578912,-1.702365901238491,-0.7100490330331606,0.6674682457214097,-0.14091751691325238,-2.6175899502714532,-1.602147770857257,-0.7486305439753811,-0.6238082510908618,-0.9765058142343359,0.8819257132329856,-0.8444708401609161,1.3290859983817334,-0.33125058588237893,-2.4943073578839736,-0.09846938938603009,1.6319181413388584,0.2877837487161706,0.05661978916823122,0.19196078383633894,0.45447543421148245,-0.7471721117926763,0.5768918461100573,-0.42479111088633664,-2.6587930187849484,-0.879206416879864,-1.584685197756789,0.9913181768573425,0.6935908952151667,0.6174070873913775,-0.6594441738825568,-0.9226163312478916,0.9072689218965913,-3.4618100598071324,-2.8996735525378363,0.14764029916770435,-0.9304743038902059,-0.09148425443751493,-0.6947510262830392,0.48761583192883556,-0.8300069322754731,0.9919919641210598,-1.3828189356306078,-0.0436640865499939,-0.2851681411662788,1.6435752977827398,0.05788619121298352,0.5726843717948871,-0.8708498105504946,1.0442243483732725],\"y\":[0.3292464980445286,-0.1411389303037044,1.0690826737668286,-0.5670008289594736,1.5918584383121732,-0.49735820558161664,0.853020526947463,1.094407718690676,0.32727080169252115,-1.2226688074822474,2.686372841230928,-0.7662833800546549,-1.672436568832668,-0.3932022977635248,0.03263859066046469,-1.6761171971533155,-1.564322177542407,0.8727530667077585,2.8459920842255357,0.041262651325481056,0.6020364391158644,-1.274285368129067,0.37739388783722166,1.785008130491707,-1.0332839242660679,2.4939486777155886,0.981165538761148,0.9876494450648611,-1.392722155984482,-0.23872920769288078,1.4825111094062309,-0.8719477402420855,-0.8640186070736904,1.7498728402472519,0.5725682033786544,0.49847970058576085,0.4628575656278747,-0.06871206586372626,-0.14184373613844153,0.43328186425755827,-0.10749451342931048,-0.9398187865832206,-0.5251347550124181,1.635891869597316,-0.8844918823837958,-0.9090407559913615,0.519238719064138,-0.7090769497362426,0.8398486786419308,-0.2876594525112121,-0.882125919272093,0.04716098700964254,0.7473021164945799,-0.6205957612381642,0.07659494095782203,0.3029419326610615,-0.1457543020500506,-1.0147955229958847,-0.5348542967183831,-0.8781239565468124,-2.1411910267869123,-1.1388955510062049,-0.8087615847592627,-0.2994886393800132,-1.550632994942883,-0.07855287087348586,-0.09139415769032651,-0.3900148067474229,0.7748252201143693,-1.5355808667892057,-2.1694692520872296,-0.8250853605787378,0.3846735791487371,0.17890267605846233,-1.4735750220184796,0.07437116478387093,0.9218685071691737,-0.8205867482611652,0.5115358062357684,-1.2857938547393777,0.31221253198721455,-0.08234276520286833,0.4526207498721831,-0.4473360992885767,0.5766023641817422,-1.550026086832909,-0.7197254653986882,-0.2890094987331318,-0.9484949964302272,1.4749208841491077,0.8279588679944496,-0.2497528713488217,-0.7188559976596786,0.3947502727196581,-0.852203625860959,-0.4713126121808178,0.4880404775087967,-1.5681301594317518,-1.4119016649251277,0.0676585355782195],\"type\":\"scatter\"}],                        {\"legend\":{\"bgcolor\":\"#F5F6F9\",\"font\":{\"color\":\"#4D5663\"}},\"paper_bgcolor\":\"#F5F6F9\",\"plot_bgcolor\":\"#F5F6F9\",\"template\":{\"data\":{\"barpolar\":[{\"marker\":{\"line\":{\"color\":\"#E5ECF6\",\"width\":0.5},\"pattern\":{\"fillmode\":\"overlay\",\"size\":10,\"solidity\":0.2}},\"type\":\"barpolar\"}],\"bar\":[{\"error_x\":{\"color\":\"#2a3f5f\"},\"error_y\":{\"color\":\"#2a3f5f\"},\"marker\":{\"line\":{\"color\":\"#E5ECF6\",\"width\":0.5},\"pattern\":{\"fillmode\":\"overlay\",\"size\":10,\"solidity\":0.2}},\"type\":\"bar\"}],\"carpet\":[{\"aaxis\":{\"endlinecolor\":\"#2a3f5f\",\"gridcolor\":\"white\",\"linecolor\":\"white\",\"minorgridcolor\":\"white\",\"startlinecolor\":\"#2a3f5f\"},\"baxis\":{\"endlinecolor\":\"#2a3f5f\",\"gridcolor\":\"white\",\"linecolor\":\"white\",\"minorgridcolor\":\"white\",\"startlinecolor\":\"#2a3f5f\"},\"type\":\"carpet\"}],\"choropleth\":[{\"colorbar\":{\"outlinewidth\":0,\"ticks\":\"\"},\"type\":\"choropleth\"}],\"contourcarpet\":[{\"colorbar\":{\"outlinewidth\":0,\"ticks\":\"\"},\"type\":\"contourcarpet\"}],\"contour\":[{\"colorbar\":{\"outlinewidth\":0,\"ticks\":\"\"},\"colorscale\":[[0.0,\"#0d0887\"],[0.1111111111111111,\"#46039f\"],[0.2222222222222222,\"#7201a8\"],[0.3333333333333333,\"#9c179e\"],[0.4444444444444444,\"#bd3786\"],[0.5555555555555556,\"#d8576b\"],[0.6666666666666666,\"#ed7953\"],[0.7777777777777778,\"#fb9f3a\"],[0.8888888888888888,\"#fdca26\"],[1.0,\"#f0f921\"]],\"type\":\"contour\"}],\"heatmapgl\":[{\"colorbar\":{\"outlinewidth\":0,\"ticks\":\"\"},\"colorscale\":[[0.0,\"#0d0887\"],[0.1111111111111111,\"#46039f\"],[0.2222222222222222,\"#7201a8\"],[0.3333333333333333,\"#9c179e\"],[0.4444444444444444,\"#bd3786\"],[0.5555555555555556,\"#d8576b\"],[0.6666666666666666,\"#ed7953\"],[0.7777777777777778,\"#fb9f3a\"],[0.8888888888888888,\"#fdca26\"],[1.0,\"#f0f921\"]],\"type\":\"heatmapgl\"}],\"heatmap\":[{\"colorbar\":{\"outlinewidth\":0,\"ticks\":\"\"},\"colorscale\":[[0.0,\"#0d0887\"],[0.1111111111111111,\"#46039f\"],[0.2222222222222222,\"#7201a8\"],[0.3333333333333333,\"#9c179e\"],[0.4444444444444444,\"#bd3786\"],[0.5555555555555556,\"#d8576b\"],[0.6666666666666666,\"#ed7953\"],[0.7777777777777778,\"#fb9f3a\"],[0.8888888888888888,\"#fdca26\"],[1.0,\"#f0f921\"]],\"type\":\"heatmap\"}],\"histogram2dcontour\":[{\"colorbar\":{\"outlinewidth\":0,\"ticks\":\"\"},\"colorscale\":[[0.0,\"#0d0887\"],[0.1111111111111111,\"#46039f\"],[0.2222222222222222,\"#7201a8\"],[0.3333333333333333,\"#9c179e\"],[0.4444444444444444,\"#bd3786\"],[0.5555555555555556,\"#d8576b\"],[0.6666666666666666,\"#ed7953\"],[0.7777777777777778,\"#fb9f3a\"],[0.8888888888888888,\"#fdca26\"],[1.0,\"#f0f921\"]],\"type\":\"histogram2dcontour\"}],\"histogram2d\":[{\"colorbar\":{\"outlinewidth\":0,\"ticks\":\"\"},\"colorscale\":[[0.0,\"#0d0887\"],[0.1111111111111111,\"#46039f\"],[0.2222222222222222,\"#7201a8\"],[0.3333333333333333,\"#9c179e\"],[0.4444444444444444,\"#bd3786\"],[0.5555555555555556,\"#d8576b\"],[0.6666666666666666,\"#ed7953\"],[0.7777777777777778,\"#fb9f3a\"],[0.8888888888888888,\"#fdca26\"],[1.0,\"#f0f921\"]],\"type\":\"histogram2d\"}],\"histogram\":[{\"marker\":{\"pattern\":{\"fillmode\":\"overlay\",\"size\":10,\"solidity\":0.2}},\"type\":\"histogram\"}],\"mesh3d\":[{\"colorbar\":{\"outlinewidth\":0,\"ticks\":\"\"},\"type\":\"mesh3d\"}],\"parcoords\":[{\"line\":{\"colorbar\":{\"outlinewidth\":0,\"ticks\":\"\"}},\"type\":\"parcoords\"}],\"pie\":[{\"automargin\":true,\"type\":\"pie\"}],\"scatter3d\":[{\"line\":{\"colorbar\":{\"outlinewidth\":0,\"ticks\":\"\"}},\"marker\":{\"colorbar\":{\"outlinewidth\":0,\"ticks\":\"\"}},\"type\":\"scatter3d\"}],\"scattercarpet\":[{\"marker\":{\"colorbar\":{\"outlinewidth\":0,\"ticks\":\"\"}},\"type\":\"scattercarpet\"}],\"scattergeo\":[{\"marker\":{\"colorbar\":{\"outlinewidth\":0,\"ticks\":\"\"}},\"type\":\"scattergeo\"}],\"scattergl\":[{\"marker\":{\"colorbar\":{\"outlinewidth\":0,\"ticks\":\"\"}},\"type\":\"scattergl\"}],\"scattermapbox\":[{\"marker\":{\"colorbar\":{\"outlinewidth\":0,\"ticks\":\"\"}},\"type\":\"scattermapbox\"}],\"scatterpolargl\":[{\"marker\":{\"colorbar\":{\"outlinewidth\":0,\"ticks\":\"\"}},\"type\":\"scatterpolargl\"}],\"scatterpolar\":[{\"marker\":{\"colorbar\":{\"outlinewidth\":0,\"ticks\":\"\"}},\"type\":\"scatterpolar\"}],\"scatter\":[{\"fillpattern\":{\"fillmode\":\"overlay\",\"size\":10,\"solidity\":0.2},\"type\":\"scatter\"}],\"scatterternary\":[{\"marker\":{\"colorbar\":{\"outlinewidth\":0,\"ticks\":\"\"}},\"type\":\"scatterternary\"}],\"surface\":[{\"colorbar\":{\"outlinewidth\":0,\"ticks\":\"\"},\"colorscale\":[[0.0,\"#0d0887\"],[0.1111111111111111,\"#46039f\"],[0.2222222222222222,\"#7201a8\"],[0.3333333333333333,\"#9c179e\"],[0.4444444444444444,\"#bd3786\"],[0.5555555555555556,\"#d8576b\"],[0.6666666666666666,\"#ed7953\"],[0.7777777777777778,\"#fb9f3a\"],[0.8888888888888888,\"#fdca26\"],[1.0,\"#f0f921\"]],\"type\":\"surface\"}],\"table\":[{\"cells\":{\"fill\":{\"color\":\"#EBF0F8\"},\"line\":{\"color\":\"white\"}},\"header\":{\"fill\":{\"color\":\"#C8D4E3\"},\"line\":{\"color\":\"white\"}},\"type\":\"table\"}]},\"layout\":{\"annotationdefaults\":{\"arrowcolor\":\"#2a3f5f\",\"arrowhead\":0,\"arrowwidth\":1},\"autotypenumbers\":\"strict\",\"coloraxis\":{\"colorbar\":{\"outlinewidth\":0,\"ticks\":\"\"}},\"colorscale\":{\"diverging\":[[0,\"#8e0152\"],[0.1,\"#c51b7d\"],[0.2,\"#de77ae\"],[0.3,\"#f1b6da\"],[0.4,\"#fde0ef\"],[0.5,\"#f7f7f7\"],[0.6,\"#e6f5d0\"],[0.7,\"#b8e186\"],[0.8,\"#7fbc41\"],[0.9,\"#4d9221\"],[1,\"#276419\"]],\"sequential\":[[0.0,\"#0d0887\"],[0.1111111111111111,\"#46039f\"],[0.2222222222222222,\"#7201a8\"],[0.3333333333333333,\"#9c179e\"],[0.4444444444444444,\"#bd3786\"],[0.5555555555555556,\"#d8576b\"],[0.6666666666666666,\"#ed7953\"],[0.7777777777777778,\"#fb9f3a\"],[0.8888888888888888,\"#fdca26\"],[1.0,\"#f0f921\"]],\"sequentialminus\":[[0.0,\"#0d0887\"],[0.1111111111111111,\"#46039f\"],[0.2222222222222222,\"#7201a8\"],[0.3333333333333333,\"#9c179e\"],[0.4444444444444444,\"#bd3786\"],[0.5555555555555556,\"#d8576b\"],[0.6666666666666666,\"#ed7953\"],[0.7777777777777778,\"#fb9f3a\"],[0.8888888888888888,\"#fdca26\"],[1.0,\"#f0f921\"]]},\"colorway\":[\"#636efa\",\"#EF553B\",\"#00cc96\",\"#ab63fa\",\"#FFA15A\",\"#19d3f3\",\"#FF6692\",\"#B6E880\",\"#FF97FF\",\"#FECB52\"],\"font\":{\"color\":\"#2a3f5f\"},\"geo\":{\"bgcolor\":\"white\",\"lakecolor\":\"white\",\"landcolor\":\"#E5ECF6\",\"showlakes\":true,\"showland\":true,\"subunitcolor\":\"white\"},\"hoverlabel\":{\"align\":\"left\"},\"hovermode\":\"closest\",\"mapbox\":{\"style\":\"light\"},\"paper_bgcolor\":\"white\",\"plot_bgcolor\":\"#E5ECF6\",\"polar\":{\"angularaxis\":{\"gridcolor\":\"white\",\"linecolor\":\"white\",\"ticks\":\"\"},\"bgcolor\":\"#E5ECF6\",\"radialaxis\":{\"gridcolor\":\"white\",\"linecolor\":\"white\",\"ticks\":\"\"}},\"scene\":{\"xaxis\":{\"backgroundcolor\":\"#E5ECF6\",\"gridcolor\":\"white\",\"gridwidth\":2,\"linecolor\":\"white\",\"showbackground\":true,\"ticks\":\"\",\"zerolinecolor\":\"white\"},\"yaxis\":{\"backgroundcolor\":\"#E5ECF6\",\"gridcolor\":\"white\",\"gridwidth\":2,\"linecolor\":\"white\",\"showbackground\":true,\"ticks\":\"\",\"zerolinecolor\":\"white\"},\"zaxis\":{\"backgroundcolor\":\"#E5ECF6\",\"gridcolor\":\"white\",\"gridwidth\":2,\"linecolor\":\"white\",\"showbackground\":true,\"ticks\":\"\",\"zerolinecolor\":\"white\"}},\"shapedefaults\":{\"line\":{\"color\":\"#2a3f5f\"}},\"ternary\":{\"aaxis\":{\"gridcolor\":\"white\",\"linecolor\":\"white\",\"ticks\":\"\"},\"baxis\":{\"gridcolor\":\"white\",\"linecolor\":\"white\",\"ticks\":\"\"},\"bgcolor\":\"#E5ECF6\",\"caxis\":{\"gridcolor\":\"white\",\"linecolor\":\"white\",\"ticks\":\"\"}},\"title\":{\"x\":0.05},\"xaxis\":{\"automargin\":true,\"gridcolor\":\"white\",\"linecolor\":\"white\",\"ticks\":\"\",\"title\":{\"standoff\":15},\"zerolinecolor\":\"white\",\"zerolinewidth\":2},\"yaxis\":{\"automargin\":true,\"gridcolor\":\"white\",\"linecolor\":\"white\",\"ticks\":\"\",\"title\":{\"standoff\":15},\"zerolinecolor\":\"white\",\"zerolinewidth\":2}}},\"title\":{\"font\":{\"color\":\"#4D5663\"}},\"xaxis\":{\"gridcolor\":\"#E1E5ED\",\"showgrid\":true,\"tickfont\":{\"color\":\"#4D5663\"},\"title\":{\"font\":{\"color\":\"#4D5663\"},\"text\":\"\"},\"zerolinecolor\":\"#E1E5ED\"},\"yaxis\":{\"gridcolor\":\"#E1E5ED\",\"showgrid\":true,\"tickfont\":{\"color\":\"#4D5663\"},\"title\":{\"font\":{\"color\":\"#4D5663\"},\"text\":\"\"},\"zerolinecolor\":\"#E1E5ED\"}},                        {\"showLink\": true, \"linkText\": \"Export to plot.ly\", \"plotlyServerURL\": \"https://plot.ly\", \"responsive\": true}                    ).then(function(){\n",
       "                            \n",
       "var gd = document.getElementById('d3d88f24-f070-4e33-a2ab-9a852986b2ed');\n",
       "var x = new MutationObserver(function (mutations, observer) {{\n",
       "        var display = window.getComputedStyle(gd).display;\n",
       "        if (!display || display === 'none') {{\n",
       "            console.log([gd, 'removed!']);\n",
       "            Plotly.purge(gd);\n",
       "            observer.disconnect();\n",
       "        }}\n",
       "}});\n",
       "\n",
       "// Listen for the removal of the full notebook cells\n",
       "var notebookContainer = gd.closest('#notebook-container');\n",
       "if (notebookContainer) {{\n",
       "    x.observe(notebookContainer, {childList: true});\n",
       "}}\n",
       "\n",
       "// Listen for the clearing of the current output cell\n",
       "var outputEl = gd.closest('.output');\n",
       "if (outputEl) {{\n",
       "    x.observe(outputEl, {childList: true});\n",
       "}}\n",
       "\n",
       "                        })                };                });            </script>        </div>"
      ]
     },
     "metadata": {},
     "output_type": "display_data"
    }
   ],
   "source": [
    "#Bubble Plot\n",
    "\n",
    "df.iplot(kind='bubble',x='A',y='B',size='C')"
   ]
  },
  {
   "cell_type": "code",
   "execution_count": 21,
   "id": "49d31342",
   "metadata": {},
   "outputs": [
    {
     "data": {
      "application/vnd.plotly.v1+json": {
       "config": {
        "linkText": "Export to plot.ly",
        "plotlyServerURL": "https://plot.ly",
        "showLink": true
       },
       "data": [
        {
         "histfunc": "count",
         "histnorm": "",
         "marker": {
          "color": "rgba(255, 153, 51, 1.0)",
          "line": {
           "color": "#4D5663",
           "width": 1.3
          }
         },
         "name": "A",
         "nbinsx": 10,
         "opacity": 0.8,
         "orientation": "v",
         "type": "histogram",
         "x": [
          0.1501788668840338,
          -0.1756913710375011,
          0.13856736719365398,
          0.7219578807852828,
          0.02103035712203404,
          0.05372994782000095,
          -0.8597786699749488,
          -1.436764515074958,
          0.09773770467735642,
          -0.5090109468773343,
          0.058444993463366686,
          0.1528818965232011,
          -0.054374732419699146,
          -0.5195914547970374,
          -1.6451919722324309,
          -0.4078752816447025,
          1.7196902722861414,
          1.1277768696275943,
          -0.16700661819317372,
          0.4344680307743496,
          -0.4533598135068671,
          -0.17821655659170996,
          -0.5483023401387696,
          1.0642240577556783,
          0.15666741152753014,
          -2.296016560442535,
          1.6924661296080639,
          0.6072904612083375,
          0.6583268747437102,
          0.0232092808315366,
          0.25505441923380395,
          -1.7884002052880084,
          -1.0271998449996689,
          -1.3800108277280776,
          -0.3196999975289513,
          1.212423910875223,
          -0.8631824306196343,
          0.14045007863442893,
          0.03772705519209731,
          0.8741708927574366,
          -0.8956255423448548,
          0.5595218806674672,
          -0.13978226703197763,
          -1.3522532012187982,
          -0.11901794011161884,
          1.4943615882517902,
          -0.9021970825018301,
          -0.4943366411747155,
          0.5487766844925248,
          -0.2844232877660867,
          0.8340903018578912,
          -1.702365901238491,
          -0.7100490330331606,
          0.6674682457214097,
          -0.14091751691325238,
          -2.6175899502714532,
          -1.602147770857257,
          -0.7486305439753811,
          -0.6238082510908618,
          -0.9765058142343359,
          0.8819257132329856,
          -0.8444708401609161,
          1.3290859983817334,
          -0.33125058588237893,
          -2.4943073578839736,
          -0.09846938938603009,
          1.6319181413388584,
          0.2877837487161706,
          0.05661978916823122,
          0.19196078383633894,
          0.45447543421148245,
          -0.7471721117926763,
          0.5768918461100573,
          -0.42479111088633664,
          -2.6587930187849484,
          -0.879206416879864,
          -1.584685197756789,
          0.9913181768573425,
          0.6935908952151667,
          0.6174070873913775,
          -0.6594441738825568,
          -0.9226163312478916,
          0.9072689218965913,
          -3.4618100598071324,
          -2.8996735525378363,
          0.14764029916770435,
          -0.9304743038902059,
          -0.09148425443751493,
          -0.6947510262830392,
          0.48761583192883556,
          -0.8300069322754731,
          0.9919919641210598,
          -1.3828189356306078,
          -0.0436640865499939,
          -0.2851681411662788,
          1.6435752977827398,
          0.05788619121298352,
          0.5726843717948871,
          -0.8708498105504946,
          1.0442243483732725
         ],
         "xaxis": "x",
         "yaxis": "y"
        },
        {
         "line": {
          "color": "rgba(128, 128, 128, 1.0)",
          "dash": "solid",
          "shape": "linear",
          "width": 1.3
         },
         "marker": {
          "size": 2,
          "symbol": "circle"
         },
         "mode": "markers",
         "name": "A",
         "text": "",
         "type": "scatter",
         "x": [
          0.3292464980445286,
          -0.1411389303037044,
          1.0690826737668286,
          -0.5670008289594736,
          1.5918584383121732,
          -0.49735820558161664,
          0.853020526947463,
          1.094407718690676,
          0.32727080169252115,
          -1.2226688074822474,
          2.686372841230928,
          -0.7662833800546549,
          -1.672436568832668,
          -0.3932022977635248,
          0.03263859066046469,
          -1.6761171971533155,
          -1.564322177542407,
          0.8727530667077585,
          2.8459920842255357,
          0.041262651325481056,
          0.6020364391158644,
          -1.274285368129067,
          0.37739388783722166,
          1.785008130491707,
          -1.0332839242660679,
          2.4939486777155886,
          0.981165538761148,
          0.9876494450648611,
          -1.392722155984482,
          -0.23872920769288078,
          1.4825111094062309,
          -0.8719477402420855,
          -0.8640186070736904,
          1.7498728402472519,
          0.5725682033786544,
          0.49847970058576085,
          0.4628575656278747,
          -0.06871206586372626,
          -0.14184373613844153,
          0.43328186425755827,
          -0.10749451342931048,
          -0.9398187865832206,
          -0.5251347550124181,
          1.635891869597316,
          -0.8844918823837958,
          -0.9090407559913615,
          0.519238719064138,
          -0.7090769497362426,
          0.8398486786419308,
          -0.2876594525112121,
          -0.882125919272093,
          0.04716098700964254,
          0.7473021164945799,
          -0.6205957612381642,
          0.07659494095782203,
          0.3029419326610615,
          -0.1457543020500506,
          -1.0147955229958847,
          -0.5348542967183831,
          -0.8781239565468124,
          -2.1411910267869123,
          -1.1388955510062049,
          -0.8087615847592627,
          -0.2994886393800132,
          -1.550632994942883,
          -0.07855287087348586,
          -0.09139415769032651,
          -0.3900148067474229,
          0.7748252201143693,
          -1.5355808667892057,
          -2.1694692520872296,
          -0.8250853605787378,
          0.3846735791487371,
          0.17890267605846233,
          -1.4735750220184796,
          0.07437116478387093,
          0.9218685071691737,
          -0.8205867482611652,
          0.5115358062357684,
          -1.2857938547393777,
          0.31221253198721455,
          -0.08234276520286833,
          0.4526207498721831,
          -0.4473360992885767,
          0.5766023641817422,
          -1.550026086832909,
          -0.7197254653986882,
          -0.2890094987331318,
          -0.9484949964302272,
          1.4749208841491077,
          0.8279588679944496,
          -0.2497528713488217,
          -0.7188559976596786,
          0.3947502727196581,
          -0.852203625860959,
          -0.4713126121808178,
          0.4880404775087967,
          -1.5681301594317518,
          -1.4119016649251277,
          0.0676585355782195
         ],
         "xaxis": "x2",
         "y": [
          0.1501788668840338,
          -0.1756913710375011,
          0.13856736719365398,
          0.7219578807852828,
          0.02103035712203404,
          0.05372994782000095,
          -0.8597786699749488,
          -1.436764515074958,
          0.09773770467735642,
          -0.5090109468773343,
          0.058444993463366686,
          0.1528818965232011,
          -0.054374732419699146,
          -0.5195914547970374,
          -1.6451919722324309,
          -0.4078752816447025,
          1.7196902722861414,
          1.1277768696275943,
          -0.16700661819317372,
          0.4344680307743496,
          -0.4533598135068671,
          -0.17821655659170996,
          -0.5483023401387696,
          1.0642240577556783,
          0.15666741152753014,
          -2.296016560442535,
          1.6924661296080639,
          0.6072904612083375,
          0.6583268747437102,
          0.0232092808315366,
          0.25505441923380395,
          -1.7884002052880084,
          -1.0271998449996689,
          -1.3800108277280776,
          -0.3196999975289513,
          1.212423910875223,
          -0.8631824306196343,
          0.14045007863442893,
          0.03772705519209731,
          0.8741708927574366,
          -0.8956255423448548,
          0.5595218806674672,
          -0.13978226703197763,
          -1.3522532012187982,
          -0.11901794011161884,
          1.4943615882517902,
          -0.9021970825018301,
          -0.4943366411747155,
          0.5487766844925248,
          -0.2844232877660867,
          0.8340903018578912,
          -1.702365901238491,
          -0.7100490330331606,
          0.6674682457214097,
          -0.14091751691325238,
          -2.6175899502714532,
          -1.602147770857257,
          -0.7486305439753811,
          -0.6238082510908618,
          -0.9765058142343359,
          0.8819257132329856,
          -0.8444708401609161,
          1.3290859983817334,
          -0.33125058588237893,
          -2.4943073578839736,
          -0.09846938938603009,
          1.6319181413388584,
          0.2877837487161706,
          0.05661978916823122,
          0.19196078383633894,
          0.45447543421148245,
          -0.7471721117926763,
          0.5768918461100573,
          -0.42479111088633664,
          -2.6587930187849484,
          -0.879206416879864,
          -1.584685197756789,
          0.9913181768573425,
          0.6935908952151667,
          0.6174070873913775,
          -0.6594441738825568,
          -0.9226163312478916,
          0.9072689218965913,
          -3.4618100598071324,
          -2.8996735525378363,
          0.14764029916770435,
          -0.9304743038902059,
          -0.09148425443751493,
          -0.6947510262830392,
          0.48761583192883556,
          -0.8300069322754731,
          0.9919919641210598,
          -1.3828189356306078,
          -0.0436640865499939,
          -0.2851681411662788,
          1.6435752977827398,
          0.05788619121298352,
          0.5726843717948871,
          -0.8708498105504946,
          1.0442243483732725
         ],
         "yaxis": "y2"
        },
        {
         "line": {
          "color": "rgba(128, 128, 128, 1.0)",
          "dash": "solid",
          "shape": "linear",
          "width": 1.3
         },
         "marker": {
          "size": 2,
          "symbol": "circle"
         },
         "mode": "markers",
         "name": "A",
         "text": "",
         "type": "scatter",
         "x": [
          0.890916480844037,
          -1.558527107511487,
          -1.8488925502815907,
          -0.6494576645259102,
          1.1280869396031745,
          -0.17952894882184547,
          -0.33810857909289344,
          -0.48878290989005213,
          -0.11938293447879825,
          -0.2989751410946798,
          0.4965499375088627,
          0.21636453352319893,
          0.2840717850111058,
          0.20735875936817524,
          -0.22565690187486223,
          1.1164757506873288,
          -0.6707234049274312,
          0.9424716687268028,
          1.6515063039689564,
          1.992774545960232,
          -0.5812924968657552,
          0.22810610570053838,
          -0.20849458732619003,
          1.1661466927440949,
          -0.28056452596092063,
          -0.049917163399387045,
          2.195637903300989,
          0.116948203171959,
          1.401933580717518,
          -2.0117372351060685,
          0.21559254965129362,
          -0.042744727939135044,
          -1.3345088876565672,
          0.5875791622511894,
          -1.0051348169849186,
          -0.44694599729049334,
          -0.9032149034697351,
          -0.9498465409084119,
          -0.7124254084325481,
          0.17135327657766145,
          -0.49806229420490383,
          -0.8328725348029663,
          -1.8732396301295586,
          0.28930476551203765,
          0.7510647311729514,
          1.3362719752061962,
          -0.1646996370888109,
          0.5644111124218038,
          -0.5944675628535963,
          1.1269513423335507,
          0.3178070052923227,
          -1.1988012057295312,
          0.9873656236415521,
          1.2476067769280317,
          0.5506614471733887,
          0.000814001257611384,
          1.4130552819529212,
          -0.22092645802391894,
          1.3288750160497649,
          0.1282526773031756,
          0.05123370962394723,
          0.537892346190286,
          0.8780740358004305,
          2.3230733411681275,
          -0.3702023676130841,
          -0.5213525592026007,
          1.3944034723368863,
          0.2966259186302385,
          1.1136273398847076,
          -0.05299962419798843,
          -1.01965507512544,
          -0.7704726221159278,
          0.24646521622835293,
          1.0811824290711995,
          -0.29499818540873474,
          1.6148381953265067,
          2.5014835838918628,
          0.552463771797649,
          -2.2293007713638215,
          0.6413036999649206,
          -1.645307584944108,
          0.6300421981899462,
          -0.45450498610227286,
          -0.3390119693617331,
          0.47305360720198797,
          0.2456761390603077,
          -0.9836097767809264,
          0.9871269020530777,
          0.09834186509548075,
          0.7208876227420822,
          -1.1877689956169983,
          1.5192828005896106,
          -1.381594152153304,
          -0.7197746248014946,
          0.011550420103289123,
          0.10147027582360378,
          -0.6872369274921748,
          1.650674227068161,
          0.9032065367878431,
          0.8130991610718596
         ],
         "xaxis": "x3",
         "y": [
          0.1501788668840338,
          -0.1756913710375011,
          0.13856736719365398,
          0.7219578807852828,
          0.02103035712203404,
          0.05372994782000095,
          -0.8597786699749488,
          -1.436764515074958,
          0.09773770467735642,
          -0.5090109468773343,
          0.058444993463366686,
          0.1528818965232011,
          -0.054374732419699146,
          -0.5195914547970374,
          -1.6451919722324309,
          -0.4078752816447025,
          1.7196902722861414,
          1.1277768696275943,
          -0.16700661819317372,
          0.4344680307743496,
          -0.4533598135068671,
          -0.17821655659170996,
          -0.5483023401387696,
          1.0642240577556783,
          0.15666741152753014,
          -2.296016560442535,
          1.6924661296080639,
          0.6072904612083375,
          0.6583268747437102,
          0.0232092808315366,
          0.25505441923380395,
          -1.7884002052880084,
          -1.0271998449996689,
          -1.3800108277280776,
          -0.3196999975289513,
          1.212423910875223,
          -0.8631824306196343,
          0.14045007863442893,
          0.03772705519209731,
          0.8741708927574366,
          -0.8956255423448548,
          0.5595218806674672,
          -0.13978226703197763,
          -1.3522532012187982,
          -0.11901794011161884,
          1.4943615882517902,
          -0.9021970825018301,
          -0.4943366411747155,
          0.5487766844925248,
          -0.2844232877660867,
          0.8340903018578912,
          -1.702365901238491,
          -0.7100490330331606,
          0.6674682457214097,
          -0.14091751691325238,
          -2.6175899502714532,
          -1.602147770857257,
          -0.7486305439753811,
          -0.6238082510908618,
          -0.9765058142343359,
          0.8819257132329856,
          -0.8444708401609161,
          1.3290859983817334,
          -0.33125058588237893,
          -2.4943073578839736,
          -0.09846938938603009,
          1.6319181413388584,
          0.2877837487161706,
          0.05661978916823122,
          0.19196078383633894,
          0.45447543421148245,
          -0.7471721117926763,
          0.5768918461100573,
          -0.42479111088633664,
          -2.6587930187849484,
          -0.879206416879864,
          -1.584685197756789,
          0.9913181768573425,
          0.6935908952151667,
          0.6174070873913775,
          -0.6594441738825568,
          -0.9226163312478916,
          0.9072689218965913,
          -3.4618100598071324,
          -2.8996735525378363,
          0.14764029916770435,
          -0.9304743038902059,
          -0.09148425443751493,
          -0.6947510262830392,
          0.48761583192883556,
          -0.8300069322754731,
          0.9919919641210598,
          -1.3828189356306078,
          -0.0436640865499939,
          -0.2851681411662788,
          1.6435752977827398,
          0.05788619121298352,
          0.5726843717948871,
          -0.8708498105504946,
          1.0442243483732725
         ],
         "yaxis": "y3"
        },
        {
         "line": {
          "color": "rgba(128, 128, 128, 1.0)",
          "dash": "solid",
          "shape": "linear",
          "width": 1.3
         },
         "marker": {
          "size": 2,
          "symbol": "circle"
         },
         "mode": "markers",
         "name": "A",
         "text": "",
         "type": "scatter",
         "x": [
          1.2238696611006687,
          0.2659016037253465,
          0.5348783333601433,
          -0.5152424203192356,
          0.7957817937572748,
          0.4316924718678004,
          0.13452532570970305,
          -1.1609585252578314,
          1.109688781111511,
          -0.25237472399053945,
          -0.4205306809125667,
          -0.13090388071271383,
          -0.12537996532960222,
          -0.10182788988671564,
          1.7665855788900615,
          0.28287032317227917,
          0.10235451464604306,
          1.729565277267111,
          -0.11314043958280795,
          1.0354429224865613,
          -0.34024824271522836,
          0.8210779437076364,
          0.4118759981850916,
          0.431616592821346,
          1.466797156861794,
          0.6557165096961052,
          -0.5858758532518111,
          0.433845796517269,
          0.5218602483278069,
          -0.36664316690916726,
          -1.0880539147526773,
          0.22471008032895676,
          -0.970253474769151,
          -0.8141627851447617,
          0.2751096487173175,
          0.5475880158403673,
          0.5959525301521521,
          -0.1930623768638768,
          0.9522162211248725,
          0.24710194516308667,
          0.2098533608444933,
          -0.4177347350882414,
          -0.5378864350268977,
          1.356240901552392,
          -1.4358885908500325,
          -0.6150524345433597,
          0.5644000226091584,
          -1.7728965912212569,
          0.7478907531147889,
          -0.847680137605328,
          0.5243094753242314,
          -0.5629466077738976,
          0.7308720665035708,
          -0.5631609456231326,
          -0.5480544163023164,
          1.3806825978333803,
          -0.8168571159408491,
          -0.07071285909209492,
          0.42756541165848566,
          0.6239789663027165,
          1.5937867923838385,
          -0.15566204467470132,
          0.9617306773021843,
          -0.060748484458576946,
          1.7421582679490866,
          0.13032168838390243,
          0.3644249457854377,
          0.44826916791078275,
          0.5520991045312008,
          -1.4535333914643893,
          -1.6037467056567496,
          -0.2069767719603601,
          -0.5788263866043485,
          0.3991456611757954,
          -0.025966973025777936,
          0.6122427822789827,
          -1.2896420826915858,
          1.9841678768446551,
          0.5224878892863754,
          0.8353665562482017,
          0.12747466466086263,
          1.817142494989653,
          0.8376095471647783,
          0.5564802783508699,
          0.9063079284923069,
          1.168407555051154,
          -0.696805989983867,
          1.4977939685254351,
          0.8808587328159376,
          0.4155772726557158,
          0.4375653565107603,
          0.7133247647267615,
          0.8933324173851137,
          -1.6492894319540068,
          -0.33213880818894287,
          -1.6560909794244025,
          -1.009918484762426,
          -0.4687963402846757,
          0.6401161967456103,
          0.21746994993596683
         ],
         "xaxis": "x4",
         "y": [
          0.1501788668840338,
          -0.1756913710375011,
          0.13856736719365398,
          0.7219578807852828,
          0.02103035712203404,
          0.05372994782000095,
          -0.8597786699749488,
          -1.436764515074958,
          0.09773770467735642,
          -0.5090109468773343,
          0.058444993463366686,
          0.1528818965232011,
          -0.054374732419699146,
          -0.5195914547970374,
          -1.6451919722324309,
          -0.4078752816447025,
          1.7196902722861414,
          1.1277768696275943,
          -0.16700661819317372,
          0.4344680307743496,
          -0.4533598135068671,
          -0.17821655659170996,
          -0.5483023401387696,
          1.0642240577556783,
          0.15666741152753014,
          -2.296016560442535,
          1.6924661296080639,
          0.6072904612083375,
          0.6583268747437102,
          0.0232092808315366,
          0.25505441923380395,
          -1.7884002052880084,
          -1.0271998449996689,
          -1.3800108277280776,
          -0.3196999975289513,
          1.212423910875223,
          -0.8631824306196343,
          0.14045007863442893,
          0.03772705519209731,
          0.8741708927574366,
          -0.8956255423448548,
          0.5595218806674672,
          -0.13978226703197763,
          -1.3522532012187982,
          -0.11901794011161884,
          1.4943615882517902,
          -0.9021970825018301,
          -0.4943366411747155,
          0.5487766844925248,
          -0.2844232877660867,
          0.8340903018578912,
          -1.702365901238491,
          -0.7100490330331606,
          0.6674682457214097,
          -0.14091751691325238,
          -2.6175899502714532,
          -1.602147770857257,
          -0.7486305439753811,
          -0.6238082510908618,
          -0.9765058142343359,
          0.8819257132329856,
          -0.8444708401609161,
          1.3290859983817334,
          -0.33125058588237893,
          -2.4943073578839736,
          -0.09846938938603009,
          1.6319181413388584,
          0.2877837487161706,
          0.05661978916823122,
          0.19196078383633894,
          0.45447543421148245,
          -0.7471721117926763,
          0.5768918461100573,
          -0.42479111088633664,
          -2.6587930187849484,
          -0.879206416879864,
          -1.584685197756789,
          0.9913181768573425,
          0.6935908952151667,
          0.6174070873913775,
          -0.6594441738825568,
          -0.9226163312478916,
          0.9072689218965913,
          -3.4618100598071324,
          -2.8996735525378363,
          0.14764029916770435,
          -0.9304743038902059,
          -0.09148425443751493,
          -0.6947510262830392,
          0.48761583192883556,
          -0.8300069322754731,
          0.9919919641210598,
          -1.3828189356306078,
          -0.0436640865499939,
          -0.2851681411662788,
          1.6435752977827398,
          0.05788619121298352,
          0.5726843717948871,
          -0.8708498105504946,
          1.0442243483732725
         ],
         "yaxis": "y4"
        },
        {
         "line": {
          "color": "rgba(128, 128, 128, 1.0)",
          "dash": "solid",
          "shape": "linear",
          "width": 1.3
         },
         "marker": {
          "size": 2,
          "symbol": "circle"
         },
         "mode": "markers",
         "name": "B",
         "text": "",
         "type": "scatter",
         "x": [
          0.1501788668840338,
          -0.1756913710375011,
          0.13856736719365398,
          0.7219578807852828,
          0.02103035712203404,
          0.05372994782000095,
          -0.8597786699749488,
          -1.436764515074958,
          0.09773770467735642,
          -0.5090109468773343,
          0.058444993463366686,
          0.1528818965232011,
          -0.054374732419699146,
          -0.5195914547970374,
          -1.6451919722324309,
          -0.4078752816447025,
          1.7196902722861414,
          1.1277768696275943,
          -0.16700661819317372,
          0.4344680307743496,
          -0.4533598135068671,
          -0.17821655659170996,
          -0.5483023401387696,
          1.0642240577556783,
          0.15666741152753014,
          -2.296016560442535,
          1.6924661296080639,
          0.6072904612083375,
          0.6583268747437102,
          0.0232092808315366,
          0.25505441923380395,
          -1.7884002052880084,
          -1.0271998449996689,
          -1.3800108277280776,
          -0.3196999975289513,
          1.212423910875223,
          -0.8631824306196343,
          0.14045007863442893,
          0.03772705519209731,
          0.8741708927574366,
          -0.8956255423448548,
          0.5595218806674672,
          -0.13978226703197763,
          -1.3522532012187982,
          -0.11901794011161884,
          1.4943615882517902,
          -0.9021970825018301,
          -0.4943366411747155,
          0.5487766844925248,
          -0.2844232877660867,
          0.8340903018578912,
          -1.702365901238491,
          -0.7100490330331606,
          0.6674682457214097,
          -0.14091751691325238,
          -2.6175899502714532,
          -1.602147770857257,
          -0.7486305439753811,
          -0.6238082510908618,
          -0.9765058142343359,
          0.8819257132329856,
          -0.8444708401609161,
          1.3290859983817334,
          -0.33125058588237893,
          -2.4943073578839736,
          -0.09846938938603009,
          1.6319181413388584,
          0.2877837487161706,
          0.05661978916823122,
          0.19196078383633894,
          0.45447543421148245,
          -0.7471721117926763,
          0.5768918461100573,
          -0.42479111088633664,
          -2.6587930187849484,
          -0.879206416879864,
          -1.584685197756789,
          0.9913181768573425,
          0.6935908952151667,
          0.6174070873913775,
          -0.6594441738825568,
          -0.9226163312478916,
          0.9072689218965913,
          -3.4618100598071324,
          -2.8996735525378363,
          0.14764029916770435,
          -0.9304743038902059,
          -0.09148425443751493,
          -0.6947510262830392,
          0.48761583192883556,
          -0.8300069322754731,
          0.9919919641210598,
          -1.3828189356306078,
          -0.0436640865499939,
          -0.2851681411662788,
          1.6435752977827398,
          0.05788619121298352,
          0.5726843717948871,
          -0.8708498105504946,
          1.0442243483732725
         ],
         "xaxis": "x5",
         "y": [
          0.3292464980445286,
          -0.1411389303037044,
          1.0690826737668286,
          -0.5670008289594736,
          1.5918584383121732,
          -0.49735820558161664,
          0.853020526947463,
          1.094407718690676,
          0.32727080169252115,
          -1.2226688074822474,
          2.686372841230928,
          -0.7662833800546549,
          -1.672436568832668,
          -0.3932022977635248,
          0.03263859066046469,
          -1.6761171971533155,
          -1.564322177542407,
          0.8727530667077585,
          2.8459920842255357,
          0.041262651325481056,
          0.6020364391158644,
          -1.274285368129067,
          0.37739388783722166,
          1.785008130491707,
          -1.0332839242660679,
          2.4939486777155886,
          0.981165538761148,
          0.9876494450648611,
          -1.392722155984482,
          -0.23872920769288078,
          1.4825111094062309,
          -0.8719477402420855,
          -0.8640186070736904,
          1.7498728402472519,
          0.5725682033786544,
          0.49847970058576085,
          0.4628575656278747,
          -0.06871206586372626,
          -0.14184373613844153,
          0.43328186425755827,
          -0.10749451342931048,
          -0.9398187865832206,
          -0.5251347550124181,
          1.635891869597316,
          -0.8844918823837958,
          -0.9090407559913615,
          0.519238719064138,
          -0.7090769497362426,
          0.8398486786419308,
          -0.2876594525112121,
          -0.882125919272093,
          0.04716098700964254,
          0.7473021164945799,
          -0.6205957612381642,
          0.07659494095782203,
          0.3029419326610615,
          -0.1457543020500506,
          -1.0147955229958847,
          -0.5348542967183831,
          -0.8781239565468124,
          -2.1411910267869123,
          -1.1388955510062049,
          -0.8087615847592627,
          -0.2994886393800132,
          -1.550632994942883,
          -0.07855287087348586,
          -0.09139415769032651,
          -0.3900148067474229,
          0.7748252201143693,
          -1.5355808667892057,
          -2.1694692520872296,
          -0.8250853605787378,
          0.3846735791487371,
          0.17890267605846233,
          -1.4735750220184796,
          0.07437116478387093,
          0.9218685071691737,
          -0.8205867482611652,
          0.5115358062357684,
          -1.2857938547393777,
          0.31221253198721455,
          -0.08234276520286833,
          0.4526207498721831,
          -0.4473360992885767,
          0.5766023641817422,
          -1.550026086832909,
          -0.7197254653986882,
          -0.2890094987331318,
          -0.9484949964302272,
          1.4749208841491077,
          0.8279588679944496,
          -0.2497528713488217,
          -0.7188559976596786,
          0.3947502727196581,
          -0.852203625860959,
          -0.4713126121808178,
          0.4880404775087967,
          -1.5681301594317518,
          -1.4119016649251277,
          0.0676585355782195
         ],
         "yaxis": "y5"
        },
        {
         "histfunc": "count",
         "histnorm": "",
         "marker": {
          "color": "rgba(55, 128, 191, 1.0)",
          "line": {
           "color": "#4D5663",
           "width": 1.3
          }
         },
         "name": "B",
         "nbinsx": 10,
         "opacity": 0.8,
         "orientation": "v",
         "type": "histogram",
         "x": [
          0.3292464980445286,
          -0.1411389303037044,
          1.0690826737668286,
          -0.5670008289594736,
          1.5918584383121732,
          -0.49735820558161664,
          0.853020526947463,
          1.094407718690676,
          0.32727080169252115,
          -1.2226688074822474,
          2.686372841230928,
          -0.7662833800546549,
          -1.672436568832668,
          -0.3932022977635248,
          0.03263859066046469,
          -1.6761171971533155,
          -1.564322177542407,
          0.8727530667077585,
          2.8459920842255357,
          0.041262651325481056,
          0.6020364391158644,
          -1.274285368129067,
          0.37739388783722166,
          1.785008130491707,
          -1.0332839242660679,
          2.4939486777155886,
          0.981165538761148,
          0.9876494450648611,
          -1.392722155984482,
          -0.23872920769288078,
          1.4825111094062309,
          -0.8719477402420855,
          -0.8640186070736904,
          1.7498728402472519,
          0.5725682033786544,
          0.49847970058576085,
          0.4628575656278747,
          -0.06871206586372626,
          -0.14184373613844153,
          0.43328186425755827,
          -0.10749451342931048,
          -0.9398187865832206,
          -0.5251347550124181,
          1.635891869597316,
          -0.8844918823837958,
          -0.9090407559913615,
          0.519238719064138,
          -0.7090769497362426,
          0.8398486786419308,
          -0.2876594525112121,
          -0.882125919272093,
          0.04716098700964254,
          0.7473021164945799,
          -0.6205957612381642,
          0.07659494095782203,
          0.3029419326610615,
          -0.1457543020500506,
          -1.0147955229958847,
          -0.5348542967183831,
          -0.8781239565468124,
          -2.1411910267869123,
          -1.1388955510062049,
          -0.8087615847592627,
          -0.2994886393800132,
          -1.550632994942883,
          -0.07855287087348586,
          -0.09139415769032651,
          -0.3900148067474229,
          0.7748252201143693,
          -1.5355808667892057,
          -2.1694692520872296,
          -0.8250853605787378,
          0.3846735791487371,
          0.17890267605846233,
          -1.4735750220184796,
          0.07437116478387093,
          0.9218685071691737,
          -0.8205867482611652,
          0.5115358062357684,
          -1.2857938547393777,
          0.31221253198721455,
          -0.08234276520286833,
          0.4526207498721831,
          -0.4473360992885767,
          0.5766023641817422,
          -1.550026086832909,
          -0.7197254653986882,
          -0.2890094987331318,
          -0.9484949964302272,
          1.4749208841491077,
          0.8279588679944496,
          -0.2497528713488217,
          -0.7188559976596786,
          0.3947502727196581,
          -0.852203625860959,
          -0.4713126121808178,
          0.4880404775087967,
          -1.5681301594317518,
          -1.4119016649251277,
          0.0676585355782195
         ],
         "xaxis": "x6",
         "yaxis": "y6"
        },
        {
         "line": {
          "color": "rgba(128, 128, 128, 1.0)",
          "dash": "solid",
          "shape": "linear",
          "width": 1.3
         },
         "marker": {
          "size": 2,
          "symbol": "circle"
         },
         "mode": "markers",
         "name": "B",
         "text": "",
         "type": "scatter",
         "x": [
          0.890916480844037,
          -1.558527107511487,
          -1.8488925502815907,
          -0.6494576645259102,
          1.1280869396031745,
          -0.17952894882184547,
          -0.33810857909289344,
          -0.48878290989005213,
          -0.11938293447879825,
          -0.2989751410946798,
          0.4965499375088627,
          0.21636453352319893,
          0.2840717850111058,
          0.20735875936817524,
          -0.22565690187486223,
          1.1164757506873288,
          -0.6707234049274312,
          0.9424716687268028,
          1.6515063039689564,
          1.992774545960232,
          -0.5812924968657552,
          0.22810610570053838,
          -0.20849458732619003,
          1.1661466927440949,
          -0.28056452596092063,
          -0.049917163399387045,
          2.195637903300989,
          0.116948203171959,
          1.401933580717518,
          -2.0117372351060685,
          0.21559254965129362,
          -0.042744727939135044,
          -1.3345088876565672,
          0.5875791622511894,
          -1.0051348169849186,
          -0.44694599729049334,
          -0.9032149034697351,
          -0.9498465409084119,
          -0.7124254084325481,
          0.17135327657766145,
          -0.49806229420490383,
          -0.8328725348029663,
          -1.8732396301295586,
          0.28930476551203765,
          0.7510647311729514,
          1.3362719752061962,
          -0.1646996370888109,
          0.5644111124218038,
          -0.5944675628535963,
          1.1269513423335507,
          0.3178070052923227,
          -1.1988012057295312,
          0.9873656236415521,
          1.2476067769280317,
          0.5506614471733887,
          0.000814001257611384,
          1.4130552819529212,
          -0.22092645802391894,
          1.3288750160497649,
          0.1282526773031756,
          0.05123370962394723,
          0.537892346190286,
          0.8780740358004305,
          2.3230733411681275,
          -0.3702023676130841,
          -0.5213525592026007,
          1.3944034723368863,
          0.2966259186302385,
          1.1136273398847076,
          -0.05299962419798843,
          -1.01965507512544,
          -0.7704726221159278,
          0.24646521622835293,
          1.0811824290711995,
          -0.29499818540873474,
          1.6148381953265067,
          2.5014835838918628,
          0.552463771797649,
          -2.2293007713638215,
          0.6413036999649206,
          -1.645307584944108,
          0.6300421981899462,
          -0.45450498610227286,
          -0.3390119693617331,
          0.47305360720198797,
          0.2456761390603077,
          -0.9836097767809264,
          0.9871269020530777,
          0.09834186509548075,
          0.7208876227420822,
          -1.1877689956169983,
          1.5192828005896106,
          -1.381594152153304,
          -0.7197746248014946,
          0.011550420103289123,
          0.10147027582360378,
          -0.6872369274921748,
          1.650674227068161,
          0.9032065367878431,
          0.8130991610718596
         ],
         "xaxis": "x7",
         "y": [
          0.3292464980445286,
          -0.1411389303037044,
          1.0690826737668286,
          -0.5670008289594736,
          1.5918584383121732,
          -0.49735820558161664,
          0.853020526947463,
          1.094407718690676,
          0.32727080169252115,
          -1.2226688074822474,
          2.686372841230928,
          -0.7662833800546549,
          -1.672436568832668,
          -0.3932022977635248,
          0.03263859066046469,
          -1.6761171971533155,
          -1.564322177542407,
          0.8727530667077585,
          2.8459920842255357,
          0.041262651325481056,
          0.6020364391158644,
          -1.274285368129067,
          0.37739388783722166,
          1.785008130491707,
          -1.0332839242660679,
          2.4939486777155886,
          0.981165538761148,
          0.9876494450648611,
          -1.392722155984482,
          -0.23872920769288078,
          1.4825111094062309,
          -0.8719477402420855,
          -0.8640186070736904,
          1.7498728402472519,
          0.5725682033786544,
          0.49847970058576085,
          0.4628575656278747,
          -0.06871206586372626,
          -0.14184373613844153,
          0.43328186425755827,
          -0.10749451342931048,
          -0.9398187865832206,
          -0.5251347550124181,
          1.635891869597316,
          -0.8844918823837958,
          -0.9090407559913615,
          0.519238719064138,
          -0.7090769497362426,
          0.8398486786419308,
          -0.2876594525112121,
          -0.882125919272093,
          0.04716098700964254,
          0.7473021164945799,
          -0.6205957612381642,
          0.07659494095782203,
          0.3029419326610615,
          -0.1457543020500506,
          -1.0147955229958847,
          -0.5348542967183831,
          -0.8781239565468124,
          -2.1411910267869123,
          -1.1388955510062049,
          -0.8087615847592627,
          -0.2994886393800132,
          -1.550632994942883,
          -0.07855287087348586,
          -0.09139415769032651,
          -0.3900148067474229,
          0.7748252201143693,
          -1.5355808667892057,
          -2.1694692520872296,
          -0.8250853605787378,
          0.3846735791487371,
          0.17890267605846233,
          -1.4735750220184796,
          0.07437116478387093,
          0.9218685071691737,
          -0.8205867482611652,
          0.5115358062357684,
          -1.2857938547393777,
          0.31221253198721455,
          -0.08234276520286833,
          0.4526207498721831,
          -0.4473360992885767,
          0.5766023641817422,
          -1.550026086832909,
          -0.7197254653986882,
          -0.2890094987331318,
          -0.9484949964302272,
          1.4749208841491077,
          0.8279588679944496,
          -0.2497528713488217,
          -0.7188559976596786,
          0.3947502727196581,
          -0.852203625860959,
          -0.4713126121808178,
          0.4880404775087967,
          -1.5681301594317518,
          -1.4119016649251277,
          0.0676585355782195
         ],
         "yaxis": "y7"
        },
        {
         "line": {
          "color": "rgba(128, 128, 128, 1.0)",
          "dash": "solid",
          "shape": "linear",
          "width": 1.3
         },
         "marker": {
          "size": 2,
          "symbol": "circle"
         },
         "mode": "markers",
         "name": "B",
         "text": "",
         "type": "scatter",
         "x": [
          1.2238696611006687,
          0.2659016037253465,
          0.5348783333601433,
          -0.5152424203192356,
          0.7957817937572748,
          0.4316924718678004,
          0.13452532570970305,
          -1.1609585252578314,
          1.109688781111511,
          -0.25237472399053945,
          -0.4205306809125667,
          -0.13090388071271383,
          -0.12537996532960222,
          -0.10182788988671564,
          1.7665855788900615,
          0.28287032317227917,
          0.10235451464604306,
          1.729565277267111,
          -0.11314043958280795,
          1.0354429224865613,
          -0.34024824271522836,
          0.8210779437076364,
          0.4118759981850916,
          0.431616592821346,
          1.466797156861794,
          0.6557165096961052,
          -0.5858758532518111,
          0.433845796517269,
          0.5218602483278069,
          -0.36664316690916726,
          -1.0880539147526773,
          0.22471008032895676,
          -0.970253474769151,
          -0.8141627851447617,
          0.2751096487173175,
          0.5475880158403673,
          0.5959525301521521,
          -0.1930623768638768,
          0.9522162211248725,
          0.24710194516308667,
          0.2098533608444933,
          -0.4177347350882414,
          -0.5378864350268977,
          1.356240901552392,
          -1.4358885908500325,
          -0.6150524345433597,
          0.5644000226091584,
          -1.7728965912212569,
          0.7478907531147889,
          -0.847680137605328,
          0.5243094753242314,
          -0.5629466077738976,
          0.7308720665035708,
          -0.5631609456231326,
          -0.5480544163023164,
          1.3806825978333803,
          -0.8168571159408491,
          -0.07071285909209492,
          0.42756541165848566,
          0.6239789663027165,
          1.5937867923838385,
          -0.15566204467470132,
          0.9617306773021843,
          -0.060748484458576946,
          1.7421582679490866,
          0.13032168838390243,
          0.3644249457854377,
          0.44826916791078275,
          0.5520991045312008,
          -1.4535333914643893,
          -1.6037467056567496,
          -0.2069767719603601,
          -0.5788263866043485,
          0.3991456611757954,
          -0.025966973025777936,
          0.6122427822789827,
          -1.2896420826915858,
          1.9841678768446551,
          0.5224878892863754,
          0.8353665562482017,
          0.12747466466086263,
          1.817142494989653,
          0.8376095471647783,
          0.5564802783508699,
          0.9063079284923069,
          1.168407555051154,
          -0.696805989983867,
          1.4977939685254351,
          0.8808587328159376,
          0.4155772726557158,
          0.4375653565107603,
          0.7133247647267615,
          0.8933324173851137,
          -1.6492894319540068,
          -0.33213880818894287,
          -1.6560909794244025,
          -1.009918484762426,
          -0.4687963402846757,
          0.6401161967456103,
          0.21746994993596683
         ],
         "xaxis": "x8",
         "y": [
          0.3292464980445286,
          -0.1411389303037044,
          1.0690826737668286,
          -0.5670008289594736,
          1.5918584383121732,
          -0.49735820558161664,
          0.853020526947463,
          1.094407718690676,
          0.32727080169252115,
          -1.2226688074822474,
          2.686372841230928,
          -0.7662833800546549,
          -1.672436568832668,
          -0.3932022977635248,
          0.03263859066046469,
          -1.6761171971533155,
          -1.564322177542407,
          0.8727530667077585,
          2.8459920842255357,
          0.041262651325481056,
          0.6020364391158644,
          -1.274285368129067,
          0.37739388783722166,
          1.785008130491707,
          -1.0332839242660679,
          2.4939486777155886,
          0.981165538761148,
          0.9876494450648611,
          -1.392722155984482,
          -0.23872920769288078,
          1.4825111094062309,
          -0.8719477402420855,
          -0.8640186070736904,
          1.7498728402472519,
          0.5725682033786544,
          0.49847970058576085,
          0.4628575656278747,
          -0.06871206586372626,
          -0.14184373613844153,
          0.43328186425755827,
          -0.10749451342931048,
          -0.9398187865832206,
          -0.5251347550124181,
          1.635891869597316,
          -0.8844918823837958,
          -0.9090407559913615,
          0.519238719064138,
          -0.7090769497362426,
          0.8398486786419308,
          -0.2876594525112121,
          -0.882125919272093,
          0.04716098700964254,
          0.7473021164945799,
          -0.6205957612381642,
          0.07659494095782203,
          0.3029419326610615,
          -0.1457543020500506,
          -1.0147955229958847,
          -0.5348542967183831,
          -0.8781239565468124,
          -2.1411910267869123,
          -1.1388955510062049,
          -0.8087615847592627,
          -0.2994886393800132,
          -1.550632994942883,
          -0.07855287087348586,
          -0.09139415769032651,
          -0.3900148067474229,
          0.7748252201143693,
          -1.5355808667892057,
          -2.1694692520872296,
          -0.8250853605787378,
          0.3846735791487371,
          0.17890267605846233,
          -1.4735750220184796,
          0.07437116478387093,
          0.9218685071691737,
          -0.8205867482611652,
          0.5115358062357684,
          -1.2857938547393777,
          0.31221253198721455,
          -0.08234276520286833,
          0.4526207498721831,
          -0.4473360992885767,
          0.5766023641817422,
          -1.550026086832909,
          -0.7197254653986882,
          -0.2890094987331318,
          -0.9484949964302272,
          1.4749208841491077,
          0.8279588679944496,
          -0.2497528713488217,
          -0.7188559976596786,
          0.3947502727196581,
          -0.852203625860959,
          -0.4713126121808178,
          0.4880404775087967,
          -1.5681301594317518,
          -1.4119016649251277,
          0.0676585355782195
         ],
         "yaxis": "y8"
        },
        {
         "line": {
          "color": "rgba(128, 128, 128, 1.0)",
          "dash": "solid",
          "shape": "linear",
          "width": 1.3
         },
         "marker": {
          "size": 2,
          "symbol": "circle"
         },
         "mode": "markers",
         "name": "C",
         "text": "",
         "type": "scatter",
         "x": [
          0.1501788668840338,
          -0.1756913710375011,
          0.13856736719365398,
          0.7219578807852828,
          0.02103035712203404,
          0.05372994782000095,
          -0.8597786699749488,
          -1.436764515074958,
          0.09773770467735642,
          -0.5090109468773343,
          0.058444993463366686,
          0.1528818965232011,
          -0.054374732419699146,
          -0.5195914547970374,
          -1.6451919722324309,
          -0.4078752816447025,
          1.7196902722861414,
          1.1277768696275943,
          -0.16700661819317372,
          0.4344680307743496,
          -0.4533598135068671,
          -0.17821655659170996,
          -0.5483023401387696,
          1.0642240577556783,
          0.15666741152753014,
          -2.296016560442535,
          1.6924661296080639,
          0.6072904612083375,
          0.6583268747437102,
          0.0232092808315366,
          0.25505441923380395,
          -1.7884002052880084,
          -1.0271998449996689,
          -1.3800108277280776,
          -0.3196999975289513,
          1.212423910875223,
          -0.8631824306196343,
          0.14045007863442893,
          0.03772705519209731,
          0.8741708927574366,
          -0.8956255423448548,
          0.5595218806674672,
          -0.13978226703197763,
          -1.3522532012187982,
          -0.11901794011161884,
          1.4943615882517902,
          -0.9021970825018301,
          -0.4943366411747155,
          0.5487766844925248,
          -0.2844232877660867,
          0.8340903018578912,
          -1.702365901238491,
          -0.7100490330331606,
          0.6674682457214097,
          -0.14091751691325238,
          -2.6175899502714532,
          -1.602147770857257,
          -0.7486305439753811,
          -0.6238082510908618,
          -0.9765058142343359,
          0.8819257132329856,
          -0.8444708401609161,
          1.3290859983817334,
          -0.33125058588237893,
          -2.4943073578839736,
          -0.09846938938603009,
          1.6319181413388584,
          0.2877837487161706,
          0.05661978916823122,
          0.19196078383633894,
          0.45447543421148245,
          -0.7471721117926763,
          0.5768918461100573,
          -0.42479111088633664,
          -2.6587930187849484,
          -0.879206416879864,
          -1.584685197756789,
          0.9913181768573425,
          0.6935908952151667,
          0.6174070873913775,
          -0.6594441738825568,
          -0.9226163312478916,
          0.9072689218965913,
          -3.4618100598071324,
          -2.8996735525378363,
          0.14764029916770435,
          -0.9304743038902059,
          -0.09148425443751493,
          -0.6947510262830392,
          0.48761583192883556,
          -0.8300069322754731,
          0.9919919641210598,
          -1.3828189356306078,
          -0.0436640865499939,
          -0.2851681411662788,
          1.6435752977827398,
          0.05788619121298352,
          0.5726843717948871,
          -0.8708498105504946,
          1.0442243483732725
         ],
         "xaxis": "x9",
         "y": [
          0.890916480844037,
          -1.558527107511487,
          -1.8488925502815907,
          -0.6494576645259102,
          1.1280869396031745,
          -0.17952894882184547,
          -0.33810857909289344,
          -0.48878290989005213,
          -0.11938293447879825,
          -0.2989751410946798,
          0.4965499375088627,
          0.21636453352319893,
          0.2840717850111058,
          0.20735875936817524,
          -0.22565690187486223,
          1.1164757506873288,
          -0.6707234049274312,
          0.9424716687268028,
          1.6515063039689564,
          1.992774545960232,
          -0.5812924968657552,
          0.22810610570053838,
          -0.20849458732619003,
          1.1661466927440949,
          -0.28056452596092063,
          -0.049917163399387045,
          2.195637903300989,
          0.116948203171959,
          1.401933580717518,
          -2.0117372351060685,
          0.21559254965129362,
          -0.042744727939135044,
          -1.3345088876565672,
          0.5875791622511894,
          -1.0051348169849186,
          -0.44694599729049334,
          -0.9032149034697351,
          -0.9498465409084119,
          -0.7124254084325481,
          0.17135327657766145,
          -0.49806229420490383,
          -0.8328725348029663,
          -1.8732396301295586,
          0.28930476551203765,
          0.7510647311729514,
          1.3362719752061962,
          -0.1646996370888109,
          0.5644111124218038,
          -0.5944675628535963,
          1.1269513423335507,
          0.3178070052923227,
          -1.1988012057295312,
          0.9873656236415521,
          1.2476067769280317,
          0.5506614471733887,
          0.000814001257611384,
          1.4130552819529212,
          -0.22092645802391894,
          1.3288750160497649,
          0.1282526773031756,
          0.05123370962394723,
          0.537892346190286,
          0.8780740358004305,
          2.3230733411681275,
          -0.3702023676130841,
          -0.5213525592026007,
          1.3944034723368863,
          0.2966259186302385,
          1.1136273398847076,
          -0.05299962419798843,
          -1.01965507512544,
          -0.7704726221159278,
          0.24646521622835293,
          1.0811824290711995,
          -0.29499818540873474,
          1.6148381953265067,
          2.5014835838918628,
          0.552463771797649,
          -2.2293007713638215,
          0.6413036999649206,
          -1.645307584944108,
          0.6300421981899462,
          -0.45450498610227286,
          -0.3390119693617331,
          0.47305360720198797,
          0.2456761390603077,
          -0.9836097767809264,
          0.9871269020530777,
          0.09834186509548075,
          0.7208876227420822,
          -1.1877689956169983,
          1.5192828005896106,
          -1.381594152153304,
          -0.7197746248014946,
          0.011550420103289123,
          0.10147027582360378,
          -0.6872369274921748,
          1.650674227068161,
          0.9032065367878431,
          0.8130991610718596
         ],
         "yaxis": "y9"
        },
        {
         "line": {
          "color": "rgba(128, 128, 128, 1.0)",
          "dash": "solid",
          "shape": "linear",
          "width": 1.3
         },
         "marker": {
          "size": 2,
          "symbol": "circle"
         },
         "mode": "markers",
         "name": "C",
         "text": "",
         "type": "scatter",
         "x": [
          0.3292464980445286,
          -0.1411389303037044,
          1.0690826737668286,
          -0.5670008289594736,
          1.5918584383121732,
          -0.49735820558161664,
          0.853020526947463,
          1.094407718690676,
          0.32727080169252115,
          -1.2226688074822474,
          2.686372841230928,
          -0.7662833800546549,
          -1.672436568832668,
          -0.3932022977635248,
          0.03263859066046469,
          -1.6761171971533155,
          -1.564322177542407,
          0.8727530667077585,
          2.8459920842255357,
          0.041262651325481056,
          0.6020364391158644,
          -1.274285368129067,
          0.37739388783722166,
          1.785008130491707,
          -1.0332839242660679,
          2.4939486777155886,
          0.981165538761148,
          0.9876494450648611,
          -1.392722155984482,
          -0.23872920769288078,
          1.4825111094062309,
          -0.8719477402420855,
          -0.8640186070736904,
          1.7498728402472519,
          0.5725682033786544,
          0.49847970058576085,
          0.4628575656278747,
          -0.06871206586372626,
          -0.14184373613844153,
          0.43328186425755827,
          -0.10749451342931048,
          -0.9398187865832206,
          -0.5251347550124181,
          1.635891869597316,
          -0.8844918823837958,
          -0.9090407559913615,
          0.519238719064138,
          -0.7090769497362426,
          0.8398486786419308,
          -0.2876594525112121,
          -0.882125919272093,
          0.04716098700964254,
          0.7473021164945799,
          -0.6205957612381642,
          0.07659494095782203,
          0.3029419326610615,
          -0.1457543020500506,
          -1.0147955229958847,
          -0.5348542967183831,
          -0.8781239565468124,
          -2.1411910267869123,
          -1.1388955510062049,
          -0.8087615847592627,
          -0.2994886393800132,
          -1.550632994942883,
          -0.07855287087348586,
          -0.09139415769032651,
          -0.3900148067474229,
          0.7748252201143693,
          -1.5355808667892057,
          -2.1694692520872296,
          -0.8250853605787378,
          0.3846735791487371,
          0.17890267605846233,
          -1.4735750220184796,
          0.07437116478387093,
          0.9218685071691737,
          -0.8205867482611652,
          0.5115358062357684,
          -1.2857938547393777,
          0.31221253198721455,
          -0.08234276520286833,
          0.4526207498721831,
          -0.4473360992885767,
          0.5766023641817422,
          -1.550026086832909,
          -0.7197254653986882,
          -0.2890094987331318,
          -0.9484949964302272,
          1.4749208841491077,
          0.8279588679944496,
          -0.2497528713488217,
          -0.7188559976596786,
          0.3947502727196581,
          -0.852203625860959,
          -0.4713126121808178,
          0.4880404775087967,
          -1.5681301594317518,
          -1.4119016649251277,
          0.0676585355782195
         ],
         "xaxis": "x10",
         "y": [
          0.890916480844037,
          -1.558527107511487,
          -1.8488925502815907,
          -0.6494576645259102,
          1.1280869396031745,
          -0.17952894882184547,
          -0.33810857909289344,
          -0.48878290989005213,
          -0.11938293447879825,
          -0.2989751410946798,
          0.4965499375088627,
          0.21636453352319893,
          0.2840717850111058,
          0.20735875936817524,
          -0.22565690187486223,
          1.1164757506873288,
          -0.6707234049274312,
          0.9424716687268028,
          1.6515063039689564,
          1.992774545960232,
          -0.5812924968657552,
          0.22810610570053838,
          -0.20849458732619003,
          1.1661466927440949,
          -0.28056452596092063,
          -0.049917163399387045,
          2.195637903300989,
          0.116948203171959,
          1.401933580717518,
          -2.0117372351060685,
          0.21559254965129362,
          -0.042744727939135044,
          -1.3345088876565672,
          0.5875791622511894,
          -1.0051348169849186,
          -0.44694599729049334,
          -0.9032149034697351,
          -0.9498465409084119,
          -0.7124254084325481,
          0.17135327657766145,
          -0.49806229420490383,
          -0.8328725348029663,
          -1.8732396301295586,
          0.28930476551203765,
          0.7510647311729514,
          1.3362719752061962,
          -0.1646996370888109,
          0.5644111124218038,
          -0.5944675628535963,
          1.1269513423335507,
          0.3178070052923227,
          -1.1988012057295312,
          0.9873656236415521,
          1.2476067769280317,
          0.5506614471733887,
          0.000814001257611384,
          1.4130552819529212,
          -0.22092645802391894,
          1.3288750160497649,
          0.1282526773031756,
          0.05123370962394723,
          0.537892346190286,
          0.8780740358004305,
          2.3230733411681275,
          -0.3702023676130841,
          -0.5213525592026007,
          1.3944034723368863,
          0.2966259186302385,
          1.1136273398847076,
          -0.05299962419798843,
          -1.01965507512544,
          -0.7704726221159278,
          0.24646521622835293,
          1.0811824290711995,
          -0.29499818540873474,
          1.6148381953265067,
          2.5014835838918628,
          0.552463771797649,
          -2.2293007713638215,
          0.6413036999649206,
          -1.645307584944108,
          0.6300421981899462,
          -0.45450498610227286,
          -0.3390119693617331,
          0.47305360720198797,
          0.2456761390603077,
          -0.9836097767809264,
          0.9871269020530777,
          0.09834186509548075,
          0.7208876227420822,
          -1.1877689956169983,
          1.5192828005896106,
          -1.381594152153304,
          -0.7197746248014946,
          0.011550420103289123,
          0.10147027582360378,
          -0.6872369274921748,
          1.650674227068161,
          0.9032065367878431,
          0.8130991610718596
         ],
         "yaxis": "y10"
        },
        {
         "histfunc": "count",
         "histnorm": "",
         "marker": {
          "color": "rgba(50, 171, 96, 1.0)",
          "line": {
           "color": "#4D5663",
           "width": 1.3
          }
         },
         "name": "C",
         "nbinsx": 10,
         "opacity": 0.8,
         "orientation": "v",
         "type": "histogram",
         "x": [
          0.890916480844037,
          -1.558527107511487,
          -1.8488925502815907,
          -0.6494576645259102,
          1.1280869396031745,
          -0.17952894882184547,
          -0.33810857909289344,
          -0.48878290989005213,
          -0.11938293447879825,
          -0.2989751410946798,
          0.4965499375088627,
          0.21636453352319893,
          0.2840717850111058,
          0.20735875936817524,
          -0.22565690187486223,
          1.1164757506873288,
          -0.6707234049274312,
          0.9424716687268028,
          1.6515063039689564,
          1.992774545960232,
          -0.5812924968657552,
          0.22810610570053838,
          -0.20849458732619003,
          1.1661466927440949,
          -0.28056452596092063,
          -0.049917163399387045,
          2.195637903300989,
          0.116948203171959,
          1.401933580717518,
          -2.0117372351060685,
          0.21559254965129362,
          -0.042744727939135044,
          -1.3345088876565672,
          0.5875791622511894,
          -1.0051348169849186,
          -0.44694599729049334,
          -0.9032149034697351,
          -0.9498465409084119,
          -0.7124254084325481,
          0.17135327657766145,
          -0.49806229420490383,
          -0.8328725348029663,
          -1.8732396301295586,
          0.28930476551203765,
          0.7510647311729514,
          1.3362719752061962,
          -0.1646996370888109,
          0.5644111124218038,
          -0.5944675628535963,
          1.1269513423335507,
          0.3178070052923227,
          -1.1988012057295312,
          0.9873656236415521,
          1.2476067769280317,
          0.5506614471733887,
          0.000814001257611384,
          1.4130552819529212,
          -0.22092645802391894,
          1.3288750160497649,
          0.1282526773031756,
          0.05123370962394723,
          0.537892346190286,
          0.8780740358004305,
          2.3230733411681275,
          -0.3702023676130841,
          -0.5213525592026007,
          1.3944034723368863,
          0.2966259186302385,
          1.1136273398847076,
          -0.05299962419798843,
          -1.01965507512544,
          -0.7704726221159278,
          0.24646521622835293,
          1.0811824290711995,
          -0.29499818540873474,
          1.6148381953265067,
          2.5014835838918628,
          0.552463771797649,
          -2.2293007713638215,
          0.6413036999649206,
          -1.645307584944108,
          0.6300421981899462,
          -0.45450498610227286,
          -0.3390119693617331,
          0.47305360720198797,
          0.2456761390603077,
          -0.9836097767809264,
          0.9871269020530777,
          0.09834186509548075,
          0.7208876227420822,
          -1.1877689956169983,
          1.5192828005896106,
          -1.381594152153304,
          -0.7197746248014946,
          0.011550420103289123,
          0.10147027582360378,
          -0.6872369274921748,
          1.650674227068161,
          0.9032065367878431,
          0.8130991610718596
         ],
         "xaxis": "x11",
         "yaxis": "y11"
        },
        {
         "line": {
          "color": "rgba(128, 128, 128, 1.0)",
          "dash": "solid",
          "shape": "linear",
          "width": 1.3
         },
         "marker": {
          "size": 2,
          "symbol": "circle"
         },
         "mode": "markers",
         "name": "C",
         "text": "",
         "type": "scatter",
         "x": [
          1.2238696611006687,
          0.2659016037253465,
          0.5348783333601433,
          -0.5152424203192356,
          0.7957817937572748,
          0.4316924718678004,
          0.13452532570970305,
          -1.1609585252578314,
          1.109688781111511,
          -0.25237472399053945,
          -0.4205306809125667,
          -0.13090388071271383,
          -0.12537996532960222,
          -0.10182788988671564,
          1.7665855788900615,
          0.28287032317227917,
          0.10235451464604306,
          1.729565277267111,
          -0.11314043958280795,
          1.0354429224865613,
          -0.34024824271522836,
          0.8210779437076364,
          0.4118759981850916,
          0.431616592821346,
          1.466797156861794,
          0.6557165096961052,
          -0.5858758532518111,
          0.433845796517269,
          0.5218602483278069,
          -0.36664316690916726,
          -1.0880539147526773,
          0.22471008032895676,
          -0.970253474769151,
          -0.8141627851447617,
          0.2751096487173175,
          0.5475880158403673,
          0.5959525301521521,
          -0.1930623768638768,
          0.9522162211248725,
          0.24710194516308667,
          0.2098533608444933,
          -0.4177347350882414,
          -0.5378864350268977,
          1.356240901552392,
          -1.4358885908500325,
          -0.6150524345433597,
          0.5644000226091584,
          -1.7728965912212569,
          0.7478907531147889,
          -0.847680137605328,
          0.5243094753242314,
          -0.5629466077738976,
          0.7308720665035708,
          -0.5631609456231326,
          -0.5480544163023164,
          1.3806825978333803,
          -0.8168571159408491,
          -0.07071285909209492,
          0.42756541165848566,
          0.6239789663027165,
          1.5937867923838385,
          -0.15566204467470132,
          0.9617306773021843,
          -0.060748484458576946,
          1.7421582679490866,
          0.13032168838390243,
          0.3644249457854377,
          0.44826916791078275,
          0.5520991045312008,
          -1.4535333914643893,
          -1.6037467056567496,
          -0.2069767719603601,
          -0.5788263866043485,
          0.3991456611757954,
          -0.025966973025777936,
          0.6122427822789827,
          -1.2896420826915858,
          1.9841678768446551,
          0.5224878892863754,
          0.8353665562482017,
          0.12747466466086263,
          1.817142494989653,
          0.8376095471647783,
          0.5564802783508699,
          0.9063079284923069,
          1.168407555051154,
          -0.696805989983867,
          1.4977939685254351,
          0.8808587328159376,
          0.4155772726557158,
          0.4375653565107603,
          0.7133247647267615,
          0.8933324173851137,
          -1.6492894319540068,
          -0.33213880818894287,
          -1.6560909794244025,
          -1.009918484762426,
          -0.4687963402846757,
          0.6401161967456103,
          0.21746994993596683
         ],
         "xaxis": "x12",
         "y": [
          0.890916480844037,
          -1.558527107511487,
          -1.8488925502815907,
          -0.6494576645259102,
          1.1280869396031745,
          -0.17952894882184547,
          -0.33810857909289344,
          -0.48878290989005213,
          -0.11938293447879825,
          -0.2989751410946798,
          0.4965499375088627,
          0.21636453352319893,
          0.2840717850111058,
          0.20735875936817524,
          -0.22565690187486223,
          1.1164757506873288,
          -0.6707234049274312,
          0.9424716687268028,
          1.6515063039689564,
          1.992774545960232,
          -0.5812924968657552,
          0.22810610570053838,
          -0.20849458732619003,
          1.1661466927440949,
          -0.28056452596092063,
          -0.049917163399387045,
          2.195637903300989,
          0.116948203171959,
          1.401933580717518,
          -2.0117372351060685,
          0.21559254965129362,
          -0.042744727939135044,
          -1.3345088876565672,
          0.5875791622511894,
          -1.0051348169849186,
          -0.44694599729049334,
          -0.9032149034697351,
          -0.9498465409084119,
          -0.7124254084325481,
          0.17135327657766145,
          -0.49806229420490383,
          -0.8328725348029663,
          -1.8732396301295586,
          0.28930476551203765,
          0.7510647311729514,
          1.3362719752061962,
          -0.1646996370888109,
          0.5644111124218038,
          -0.5944675628535963,
          1.1269513423335507,
          0.3178070052923227,
          -1.1988012057295312,
          0.9873656236415521,
          1.2476067769280317,
          0.5506614471733887,
          0.000814001257611384,
          1.4130552819529212,
          -0.22092645802391894,
          1.3288750160497649,
          0.1282526773031756,
          0.05123370962394723,
          0.537892346190286,
          0.8780740358004305,
          2.3230733411681275,
          -0.3702023676130841,
          -0.5213525592026007,
          1.3944034723368863,
          0.2966259186302385,
          1.1136273398847076,
          -0.05299962419798843,
          -1.01965507512544,
          -0.7704726221159278,
          0.24646521622835293,
          1.0811824290711995,
          -0.29499818540873474,
          1.6148381953265067,
          2.5014835838918628,
          0.552463771797649,
          -2.2293007713638215,
          0.6413036999649206,
          -1.645307584944108,
          0.6300421981899462,
          -0.45450498610227286,
          -0.3390119693617331,
          0.47305360720198797,
          0.2456761390603077,
          -0.9836097767809264,
          0.9871269020530777,
          0.09834186509548075,
          0.7208876227420822,
          -1.1877689956169983,
          1.5192828005896106,
          -1.381594152153304,
          -0.7197746248014946,
          0.011550420103289123,
          0.10147027582360378,
          -0.6872369274921748,
          1.650674227068161,
          0.9032065367878431,
          0.8130991610718596
         ],
         "yaxis": "y12"
        },
        {
         "line": {
          "color": "rgba(128, 128, 128, 1.0)",
          "dash": "solid",
          "shape": "linear",
          "width": 1.3
         },
         "marker": {
          "size": 2,
          "symbol": "circle"
         },
         "mode": "markers",
         "name": "D",
         "text": "",
         "type": "scatter",
         "x": [
          0.1501788668840338,
          -0.1756913710375011,
          0.13856736719365398,
          0.7219578807852828,
          0.02103035712203404,
          0.05372994782000095,
          -0.8597786699749488,
          -1.436764515074958,
          0.09773770467735642,
          -0.5090109468773343,
          0.058444993463366686,
          0.1528818965232011,
          -0.054374732419699146,
          -0.5195914547970374,
          -1.6451919722324309,
          -0.4078752816447025,
          1.7196902722861414,
          1.1277768696275943,
          -0.16700661819317372,
          0.4344680307743496,
          -0.4533598135068671,
          -0.17821655659170996,
          -0.5483023401387696,
          1.0642240577556783,
          0.15666741152753014,
          -2.296016560442535,
          1.6924661296080639,
          0.6072904612083375,
          0.6583268747437102,
          0.0232092808315366,
          0.25505441923380395,
          -1.7884002052880084,
          -1.0271998449996689,
          -1.3800108277280776,
          -0.3196999975289513,
          1.212423910875223,
          -0.8631824306196343,
          0.14045007863442893,
          0.03772705519209731,
          0.8741708927574366,
          -0.8956255423448548,
          0.5595218806674672,
          -0.13978226703197763,
          -1.3522532012187982,
          -0.11901794011161884,
          1.4943615882517902,
          -0.9021970825018301,
          -0.4943366411747155,
          0.5487766844925248,
          -0.2844232877660867,
          0.8340903018578912,
          -1.702365901238491,
          -0.7100490330331606,
          0.6674682457214097,
          -0.14091751691325238,
          -2.6175899502714532,
          -1.602147770857257,
          -0.7486305439753811,
          -0.6238082510908618,
          -0.9765058142343359,
          0.8819257132329856,
          -0.8444708401609161,
          1.3290859983817334,
          -0.33125058588237893,
          -2.4943073578839736,
          -0.09846938938603009,
          1.6319181413388584,
          0.2877837487161706,
          0.05661978916823122,
          0.19196078383633894,
          0.45447543421148245,
          -0.7471721117926763,
          0.5768918461100573,
          -0.42479111088633664,
          -2.6587930187849484,
          -0.879206416879864,
          -1.584685197756789,
          0.9913181768573425,
          0.6935908952151667,
          0.6174070873913775,
          -0.6594441738825568,
          -0.9226163312478916,
          0.9072689218965913,
          -3.4618100598071324,
          -2.8996735525378363,
          0.14764029916770435,
          -0.9304743038902059,
          -0.09148425443751493,
          -0.6947510262830392,
          0.48761583192883556,
          -0.8300069322754731,
          0.9919919641210598,
          -1.3828189356306078,
          -0.0436640865499939,
          -0.2851681411662788,
          1.6435752977827398,
          0.05788619121298352,
          0.5726843717948871,
          -0.8708498105504946,
          1.0442243483732725
         ],
         "xaxis": "x13",
         "y": [
          1.2238696611006687,
          0.2659016037253465,
          0.5348783333601433,
          -0.5152424203192356,
          0.7957817937572748,
          0.4316924718678004,
          0.13452532570970305,
          -1.1609585252578314,
          1.109688781111511,
          -0.25237472399053945,
          -0.4205306809125667,
          -0.13090388071271383,
          -0.12537996532960222,
          -0.10182788988671564,
          1.7665855788900615,
          0.28287032317227917,
          0.10235451464604306,
          1.729565277267111,
          -0.11314043958280795,
          1.0354429224865613,
          -0.34024824271522836,
          0.8210779437076364,
          0.4118759981850916,
          0.431616592821346,
          1.466797156861794,
          0.6557165096961052,
          -0.5858758532518111,
          0.433845796517269,
          0.5218602483278069,
          -0.36664316690916726,
          -1.0880539147526773,
          0.22471008032895676,
          -0.970253474769151,
          -0.8141627851447617,
          0.2751096487173175,
          0.5475880158403673,
          0.5959525301521521,
          -0.1930623768638768,
          0.9522162211248725,
          0.24710194516308667,
          0.2098533608444933,
          -0.4177347350882414,
          -0.5378864350268977,
          1.356240901552392,
          -1.4358885908500325,
          -0.6150524345433597,
          0.5644000226091584,
          -1.7728965912212569,
          0.7478907531147889,
          -0.847680137605328,
          0.5243094753242314,
          -0.5629466077738976,
          0.7308720665035708,
          -0.5631609456231326,
          -0.5480544163023164,
          1.3806825978333803,
          -0.8168571159408491,
          -0.07071285909209492,
          0.42756541165848566,
          0.6239789663027165,
          1.5937867923838385,
          -0.15566204467470132,
          0.9617306773021843,
          -0.060748484458576946,
          1.7421582679490866,
          0.13032168838390243,
          0.3644249457854377,
          0.44826916791078275,
          0.5520991045312008,
          -1.4535333914643893,
          -1.6037467056567496,
          -0.2069767719603601,
          -0.5788263866043485,
          0.3991456611757954,
          -0.025966973025777936,
          0.6122427822789827,
          -1.2896420826915858,
          1.9841678768446551,
          0.5224878892863754,
          0.8353665562482017,
          0.12747466466086263,
          1.817142494989653,
          0.8376095471647783,
          0.5564802783508699,
          0.9063079284923069,
          1.168407555051154,
          -0.696805989983867,
          1.4977939685254351,
          0.8808587328159376,
          0.4155772726557158,
          0.4375653565107603,
          0.7133247647267615,
          0.8933324173851137,
          -1.6492894319540068,
          -0.33213880818894287,
          -1.6560909794244025,
          -1.009918484762426,
          -0.4687963402846757,
          0.6401161967456103,
          0.21746994993596683
         ],
         "yaxis": "y13"
        },
        {
         "line": {
          "color": "rgba(128, 128, 128, 1.0)",
          "dash": "solid",
          "shape": "linear",
          "width": 1.3
         },
         "marker": {
          "size": 2,
          "symbol": "circle"
         },
         "mode": "markers",
         "name": "D",
         "text": "",
         "type": "scatter",
         "x": [
          0.3292464980445286,
          -0.1411389303037044,
          1.0690826737668286,
          -0.5670008289594736,
          1.5918584383121732,
          -0.49735820558161664,
          0.853020526947463,
          1.094407718690676,
          0.32727080169252115,
          -1.2226688074822474,
          2.686372841230928,
          -0.7662833800546549,
          -1.672436568832668,
          -0.3932022977635248,
          0.03263859066046469,
          -1.6761171971533155,
          -1.564322177542407,
          0.8727530667077585,
          2.8459920842255357,
          0.041262651325481056,
          0.6020364391158644,
          -1.274285368129067,
          0.37739388783722166,
          1.785008130491707,
          -1.0332839242660679,
          2.4939486777155886,
          0.981165538761148,
          0.9876494450648611,
          -1.392722155984482,
          -0.23872920769288078,
          1.4825111094062309,
          -0.8719477402420855,
          -0.8640186070736904,
          1.7498728402472519,
          0.5725682033786544,
          0.49847970058576085,
          0.4628575656278747,
          -0.06871206586372626,
          -0.14184373613844153,
          0.43328186425755827,
          -0.10749451342931048,
          -0.9398187865832206,
          -0.5251347550124181,
          1.635891869597316,
          -0.8844918823837958,
          -0.9090407559913615,
          0.519238719064138,
          -0.7090769497362426,
          0.8398486786419308,
          -0.2876594525112121,
          -0.882125919272093,
          0.04716098700964254,
          0.7473021164945799,
          -0.6205957612381642,
          0.07659494095782203,
          0.3029419326610615,
          -0.1457543020500506,
          -1.0147955229958847,
          -0.5348542967183831,
          -0.8781239565468124,
          -2.1411910267869123,
          -1.1388955510062049,
          -0.8087615847592627,
          -0.2994886393800132,
          -1.550632994942883,
          -0.07855287087348586,
          -0.09139415769032651,
          -0.3900148067474229,
          0.7748252201143693,
          -1.5355808667892057,
          -2.1694692520872296,
          -0.8250853605787378,
          0.3846735791487371,
          0.17890267605846233,
          -1.4735750220184796,
          0.07437116478387093,
          0.9218685071691737,
          -0.8205867482611652,
          0.5115358062357684,
          -1.2857938547393777,
          0.31221253198721455,
          -0.08234276520286833,
          0.4526207498721831,
          -0.4473360992885767,
          0.5766023641817422,
          -1.550026086832909,
          -0.7197254653986882,
          -0.2890094987331318,
          -0.9484949964302272,
          1.4749208841491077,
          0.8279588679944496,
          -0.2497528713488217,
          -0.7188559976596786,
          0.3947502727196581,
          -0.852203625860959,
          -0.4713126121808178,
          0.4880404775087967,
          -1.5681301594317518,
          -1.4119016649251277,
          0.0676585355782195
         ],
         "xaxis": "x14",
         "y": [
          1.2238696611006687,
          0.2659016037253465,
          0.5348783333601433,
          -0.5152424203192356,
          0.7957817937572748,
          0.4316924718678004,
          0.13452532570970305,
          -1.1609585252578314,
          1.109688781111511,
          -0.25237472399053945,
          -0.4205306809125667,
          -0.13090388071271383,
          -0.12537996532960222,
          -0.10182788988671564,
          1.7665855788900615,
          0.28287032317227917,
          0.10235451464604306,
          1.729565277267111,
          -0.11314043958280795,
          1.0354429224865613,
          -0.34024824271522836,
          0.8210779437076364,
          0.4118759981850916,
          0.431616592821346,
          1.466797156861794,
          0.6557165096961052,
          -0.5858758532518111,
          0.433845796517269,
          0.5218602483278069,
          -0.36664316690916726,
          -1.0880539147526773,
          0.22471008032895676,
          -0.970253474769151,
          -0.8141627851447617,
          0.2751096487173175,
          0.5475880158403673,
          0.5959525301521521,
          -0.1930623768638768,
          0.9522162211248725,
          0.24710194516308667,
          0.2098533608444933,
          -0.4177347350882414,
          -0.5378864350268977,
          1.356240901552392,
          -1.4358885908500325,
          -0.6150524345433597,
          0.5644000226091584,
          -1.7728965912212569,
          0.7478907531147889,
          -0.847680137605328,
          0.5243094753242314,
          -0.5629466077738976,
          0.7308720665035708,
          -0.5631609456231326,
          -0.5480544163023164,
          1.3806825978333803,
          -0.8168571159408491,
          -0.07071285909209492,
          0.42756541165848566,
          0.6239789663027165,
          1.5937867923838385,
          -0.15566204467470132,
          0.9617306773021843,
          -0.060748484458576946,
          1.7421582679490866,
          0.13032168838390243,
          0.3644249457854377,
          0.44826916791078275,
          0.5520991045312008,
          -1.4535333914643893,
          -1.6037467056567496,
          -0.2069767719603601,
          -0.5788263866043485,
          0.3991456611757954,
          -0.025966973025777936,
          0.6122427822789827,
          -1.2896420826915858,
          1.9841678768446551,
          0.5224878892863754,
          0.8353665562482017,
          0.12747466466086263,
          1.817142494989653,
          0.8376095471647783,
          0.5564802783508699,
          0.9063079284923069,
          1.168407555051154,
          -0.696805989983867,
          1.4977939685254351,
          0.8808587328159376,
          0.4155772726557158,
          0.4375653565107603,
          0.7133247647267615,
          0.8933324173851137,
          -1.6492894319540068,
          -0.33213880818894287,
          -1.6560909794244025,
          -1.009918484762426,
          -0.4687963402846757,
          0.6401161967456103,
          0.21746994993596683
         ],
         "yaxis": "y14"
        },
        {
         "line": {
          "color": "rgba(128, 128, 128, 1.0)",
          "dash": "solid",
          "shape": "linear",
          "width": 1.3
         },
         "marker": {
          "size": 2,
          "symbol": "circle"
         },
         "mode": "markers",
         "name": "D",
         "text": "",
         "type": "scatter",
         "x": [
          0.890916480844037,
          -1.558527107511487,
          -1.8488925502815907,
          -0.6494576645259102,
          1.1280869396031745,
          -0.17952894882184547,
          -0.33810857909289344,
          -0.48878290989005213,
          -0.11938293447879825,
          -0.2989751410946798,
          0.4965499375088627,
          0.21636453352319893,
          0.2840717850111058,
          0.20735875936817524,
          -0.22565690187486223,
          1.1164757506873288,
          -0.6707234049274312,
          0.9424716687268028,
          1.6515063039689564,
          1.992774545960232,
          -0.5812924968657552,
          0.22810610570053838,
          -0.20849458732619003,
          1.1661466927440949,
          -0.28056452596092063,
          -0.049917163399387045,
          2.195637903300989,
          0.116948203171959,
          1.401933580717518,
          -2.0117372351060685,
          0.21559254965129362,
          -0.042744727939135044,
          -1.3345088876565672,
          0.5875791622511894,
          -1.0051348169849186,
          -0.44694599729049334,
          -0.9032149034697351,
          -0.9498465409084119,
          -0.7124254084325481,
          0.17135327657766145,
          -0.49806229420490383,
          -0.8328725348029663,
          -1.8732396301295586,
          0.28930476551203765,
          0.7510647311729514,
          1.3362719752061962,
          -0.1646996370888109,
          0.5644111124218038,
          -0.5944675628535963,
          1.1269513423335507,
          0.3178070052923227,
          -1.1988012057295312,
          0.9873656236415521,
          1.2476067769280317,
          0.5506614471733887,
          0.000814001257611384,
          1.4130552819529212,
          -0.22092645802391894,
          1.3288750160497649,
          0.1282526773031756,
          0.05123370962394723,
          0.537892346190286,
          0.8780740358004305,
          2.3230733411681275,
          -0.3702023676130841,
          -0.5213525592026007,
          1.3944034723368863,
          0.2966259186302385,
          1.1136273398847076,
          -0.05299962419798843,
          -1.01965507512544,
          -0.7704726221159278,
          0.24646521622835293,
          1.0811824290711995,
          -0.29499818540873474,
          1.6148381953265067,
          2.5014835838918628,
          0.552463771797649,
          -2.2293007713638215,
          0.6413036999649206,
          -1.645307584944108,
          0.6300421981899462,
          -0.45450498610227286,
          -0.3390119693617331,
          0.47305360720198797,
          0.2456761390603077,
          -0.9836097767809264,
          0.9871269020530777,
          0.09834186509548075,
          0.7208876227420822,
          -1.1877689956169983,
          1.5192828005896106,
          -1.381594152153304,
          -0.7197746248014946,
          0.011550420103289123,
          0.10147027582360378,
          -0.6872369274921748,
          1.650674227068161,
          0.9032065367878431,
          0.8130991610718596
         ],
         "xaxis": "x15",
         "y": [
          1.2238696611006687,
          0.2659016037253465,
          0.5348783333601433,
          -0.5152424203192356,
          0.7957817937572748,
          0.4316924718678004,
          0.13452532570970305,
          -1.1609585252578314,
          1.109688781111511,
          -0.25237472399053945,
          -0.4205306809125667,
          -0.13090388071271383,
          -0.12537996532960222,
          -0.10182788988671564,
          1.7665855788900615,
          0.28287032317227917,
          0.10235451464604306,
          1.729565277267111,
          -0.11314043958280795,
          1.0354429224865613,
          -0.34024824271522836,
          0.8210779437076364,
          0.4118759981850916,
          0.431616592821346,
          1.466797156861794,
          0.6557165096961052,
          -0.5858758532518111,
          0.433845796517269,
          0.5218602483278069,
          -0.36664316690916726,
          -1.0880539147526773,
          0.22471008032895676,
          -0.970253474769151,
          -0.8141627851447617,
          0.2751096487173175,
          0.5475880158403673,
          0.5959525301521521,
          -0.1930623768638768,
          0.9522162211248725,
          0.24710194516308667,
          0.2098533608444933,
          -0.4177347350882414,
          -0.5378864350268977,
          1.356240901552392,
          -1.4358885908500325,
          -0.6150524345433597,
          0.5644000226091584,
          -1.7728965912212569,
          0.7478907531147889,
          -0.847680137605328,
          0.5243094753242314,
          -0.5629466077738976,
          0.7308720665035708,
          -0.5631609456231326,
          -0.5480544163023164,
          1.3806825978333803,
          -0.8168571159408491,
          -0.07071285909209492,
          0.42756541165848566,
          0.6239789663027165,
          1.5937867923838385,
          -0.15566204467470132,
          0.9617306773021843,
          -0.060748484458576946,
          1.7421582679490866,
          0.13032168838390243,
          0.3644249457854377,
          0.44826916791078275,
          0.5520991045312008,
          -1.4535333914643893,
          -1.6037467056567496,
          -0.2069767719603601,
          -0.5788263866043485,
          0.3991456611757954,
          -0.025966973025777936,
          0.6122427822789827,
          -1.2896420826915858,
          1.9841678768446551,
          0.5224878892863754,
          0.8353665562482017,
          0.12747466466086263,
          1.817142494989653,
          0.8376095471647783,
          0.5564802783508699,
          0.9063079284923069,
          1.168407555051154,
          -0.696805989983867,
          1.4977939685254351,
          0.8808587328159376,
          0.4155772726557158,
          0.4375653565107603,
          0.7133247647267615,
          0.8933324173851137,
          -1.6492894319540068,
          -0.33213880818894287,
          -1.6560909794244025,
          -1.009918484762426,
          -0.4687963402846757,
          0.6401161967456103,
          0.21746994993596683
         ],
         "yaxis": "y15"
        },
        {
         "histfunc": "count",
         "histnorm": "",
         "marker": {
          "color": "rgba(128, 0, 128, 1.0)",
          "line": {
           "color": "#4D5663",
           "width": 1.3
          }
         },
         "name": "D",
         "nbinsx": 10,
         "opacity": 0.8,
         "orientation": "v",
         "type": "histogram",
         "x": [
          1.2238696611006687,
          0.2659016037253465,
          0.5348783333601433,
          -0.5152424203192356,
          0.7957817937572748,
          0.4316924718678004,
          0.13452532570970305,
          -1.1609585252578314,
          1.109688781111511,
          -0.25237472399053945,
          -0.4205306809125667,
          -0.13090388071271383,
          -0.12537996532960222,
          -0.10182788988671564,
          1.7665855788900615,
          0.28287032317227917,
          0.10235451464604306,
          1.729565277267111,
          -0.11314043958280795,
          1.0354429224865613,
          -0.34024824271522836,
          0.8210779437076364,
          0.4118759981850916,
          0.431616592821346,
          1.466797156861794,
          0.6557165096961052,
          -0.5858758532518111,
          0.433845796517269,
          0.5218602483278069,
          -0.36664316690916726,
          -1.0880539147526773,
          0.22471008032895676,
          -0.970253474769151,
          -0.8141627851447617,
          0.2751096487173175,
          0.5475880158403673,
          0.5959525301521521,
          -0.1930623768638768,
          0.9522162211248725,
          0.24710194516308667,
          0.2098533608444933,
          -0.4177347350882414,
          -0.5378864350268977,
          1.356240901552392,
          -1.4358885908500325,
          -0.6150524345433597,
          0.5644000226091584,
          -1.7728965912212569,
          0.7478907531147889,
          -0.847680137605328,
          0.5243094753242314,
          -0.5629466077738976,
          0.7308720665035708,
          -0.5631609456231326,
          -0.5480544163023164,
          1.3806825978333803,
          -0.8168571159408491,
          -0.07071285909209492,
          0.42756541165848566,
          0.6239789663027165,
          1.5937867923838385,
          -0.15566204467470132,
          0.9617306773021843,
          -0.060748484458576946,
          1.7421582679490866,
          0.13032168838390243,
          0.3644249457854377,
          0.44826916791078275,
          0.5520991045312008,
          -1.4535333914643893,
          -1.6037467056567496,
          -0.2069767719603601,
          -0.5788263866043485,
          0.3991456611757954,
          -0.025966973025777936,
          0.6122427822789827,
          -1.2896420826915858,
          1.9841678768446551,
          0.5224878892863754,
          0.8353665562482017,
          0.12747466466086263,
          1.817142494989653,
          0.8376095471647783,
          0.5564802783508699,
          0.9063079284923069,
          1.168407555051154,
          -0.696805989983867,
          1.4977939685254351,
          0.8808587328159376,
          0.4155772726557158,
          0.4375653565107603,
          0.7133247647267615,
          0.8933324173851137,
          -1.6492894319540068,
          -0.33213880818894287,
          -1.6560909794244025,
          -1.009918484762426,
          -0.4687963402846757,
          0.6401161967456103,
          0.21746994993596683
         ],
         "xaxis": "x16",
         "yaxis": "y16"
        }
       ],
       "layout": {
        "bargap": 0.02,
        "legend": {
         "bgcolor": "#F5F6F9",
         "font": {
          "color": "#4D5663"
         }
        },
        "paper_bgcolor": "#F5F6F9",
        "plot_bgcolor": "#F5F6F9",
        "showlegend": false,
        "template": {
         "data": {
          "bar": [
           {
            "error_x": {
             "color": "#2a3f5f"
            },
            "error_y": {
             "color": "#2a3f5f"
            },
            "marker": {
             "line": {
              "color": "#E5ECF6",
              "width": 0.5
             },
             "pattern": {
              "fillmode": "overlay",
              "size": 10,
              "solidity": 0.2
             }
            },
            "type": "bar"
           }
          ],
          "barpolar": [
           {
            "marker": {
             "line": {
              "color": "#E5ECF6",
              "width": 0.5
             },
             "pattern": {
              "fillmode": "overlay",
              "size": 10,
              "solidity": 0.2
             }
            },
            "type": "barpolar"
           }
          ],
          "carpet": [
           {
            "aaxis": {
             "endlinecolor": "#2a3f5f",
             "gridcolor": "white",
             "linecolor": "white",
             "minorgridcolor": "white",
             "startlinecolor": "#2a3f5f"
            },
            "baxis": {
             "endlinecolor": "#2a3f5f",
             "gridcolor": "white",
             "linecolor": "white",
             "minorgridcolor": "white",
             "startlinecolor": "#2a3f5f"
            },
            "type": "carpet"
           }
          ],
          "choropleth": [
           {
            "colorbar": {
             "outlinewidth": 0,
             "ticks": ""
            },
            "type": "choropleth"
           }
          ],
          "contour": [
           {
            "colorbar": {
             "outlinewidth": 0,
             "ticks": ""
            },
            "colorscale": [
             [
              0,
              "#0d0887"
             ],
             [
              0.1111111111111111,
              "#46039f"
             ],
             [
              0.2222222222222222,
              "#7201a8"
             ],
             [
              0.3333333333333333,
              "#9c179e"
             ],
             [
              0.4444444444444444,
              "#bd3786"
             ],
             [
              0.5555555555555556,
              "#d8576b"
             ],
             [
              0.6666666666666666,
              "#ed7953"
             ],
             [
              0.7777777777777778,
              "#fb9f3a"
             ],
             [
              0.8888888888888888,
              "#fdca26"
             ],
             [
              1,
              "#f0f921"
             ]
            ],
            "type": "contour"
           }
          ],
          "contourcarpet": [
           {
            "colorbar": {
             "outlinewidth": 0,
             "ticks": ""
            },
            "type": "contourcarpet"
           }
          ],
          "heatmap": [
           {
            "colorbar": {
             "outlinewidth": 0,
             "ticks": ""
            },
            "colorscale": [
             [
              0,
              "#0d0887"
             ],
             [
              0.1111111111111111,
              "#46039f"
             ],
             [
              0.2222222222222222,
              "#7201a8"
             ],
             [
              0.3333333333333333,
              "#9c179e"
             ],
             [
              0.4444444444444444,
              "#bd3786"
             ],
             [
              0.5555555555555556,
              "#d8576b"
             ],
             [
              0.6666666666666666,
              "#ed7953"
             ],
             [
              0.7777777777777778,
              "#fb9f3a"
             ],
             [
              0.8888888888888888,
              "#fdca26"
             ],
             [
              1,
              "#f0f921"
             ]
            ],
            "type": "heatmap"
           }
          ],
          "heatmapgl": [
           {
            "colorbar": {
             "outlinewidth": 0,
             "ticks": ""
            },
            "colorscale": [
             [
              0,
              "#0d0887"
             ],
             [
              0.1111111111111111,
              "#46039f"
             ],
             [
              0.2222222222222222,
              "#7201a8"
             ],
             [
              0.3333333333333333,
              "#9c179e"
             ],
             [
              0.4444444444444444,
              "#bd3786"
             ],
             [
              0.5555555555555556,
              "#d8576b"
             ],
             [
              0.6666666666666666,
              "#ed7953"
             ],
             [
              0.7777777777777778,
              "#fb9f3a"
             ],
             [
              0.8888888888888888,
              "#fdca26"
             ],
             [
              1,
              "#f0f921"
             ]
            ],
            "type": "heatmapgl"
           }
          ],
          "histogram": [
           {
            "marker": {
             "pattern": {
              "fillmode": "overlay",
              "size": 10,
              "solidity": 0.2
             }
            },
            "type": "histogram"
           }
          ],
          "histogram2d": [
           {
            "colorbar": {
             "outlinewidth": 0,
             "ticks": ""
            },
            "colorscale": [
             [
              0,
              "#0d0887"
             ],
             [
              0.1111111111111111,
              "#46039f"
             ],
             [
              0.2222222222222222,
              "#7201a8"
             ],
             [
              0.3333333333333333,
              "#9c179e"
             ],
             [
              0.4444444444444444,
              "#bd3786"
             ],
             [
              0.5555555555555556,
              "#d8576b"
             ],
             [
              0.6666666666666666,
              "#ed7953"
             ],
             [
              0.7777777777777778,
              "#fb9f3a"
             ],
             [
              0.8888888888888888,
              "#fdca26"
             ],
             [
              1,
              "#f0f921"
             ]
            ],
            "type": "histogram2d"
           }
          ],
          "histogram2dcontour": [
           {
            "colorbar": {
             "outlinewidth": 0,
             "ticks": ""
            },
            "colorscale": [
             [
              0,
              "#0d0887"
             ],
             [
              0.1111111111111111,
              "#46039f"
             ],
             [
              0.2222222222222222,
              "#7201a8"
             ],
             [
              0.3333333333333333,
              "#9c179e"
             ],
             [
              0.4444444444444444,
              "#bd3786"
             ],
             [
              0.5555555555555556,
              "#d8576b"
             ],
             [
              0.6666666666666666,
              "#ed7953"
             ],
             [
              0.7777777777777778,
              "#fb9f3a"
             ],
             [
              0.8888888888888888,
              "#fdca26"
             ],
             [
              1,
              "#f0f921"
             ]
            ],
            "type": "histogram2dcontour"
           }
          ],
          "mesh3d": [
           {
            "colorbar": {
             "outlinewidth": 0,
             "ticks": ""
            },
            "type": "mesh3d"
           }
          ],
          "parcoords": [
           {
            "line": {
             "colorbar": {
              "outlinewidth": 0,
              "ticks": ""
             }
            },
            "type": "parcoords"
           }
          ],
          "pie": [
           {
            "automargin": true,
            "type": "pie"
           }
          ],
          "scatter": [
           {
            "fillpattern": {
             "fillmode": "overlay",
             "size": 10,
             "solidity": 0.2
            },
            "type": "scatter"
           }
          ],
          "scatter3d": [
           {
            "line": {
             "colorbar": {
              "outlinewidth": 0,
              "ticks": ""
             }
            },
            "marker": {
             "colorbar": {
              "outlinewidth": 0,
              "ticks": ""
             }
            },
            "type": "scatter3d"
           }
          ],
          "scattercarpet": [
           {
            "marker": {
             "colorbar": {
              "outlinewidth": 0,
              "ticks": ""
             }
            },
            "type": "scattercarpet"
           }
          ],
          "scattergeo": [
           {
            "marker": {
             "colorbar": {
              "outlinewidth": 0,
              "ticks": ""
             }
            },
            "type": "scattergeo"
           }
          ],
          "scattergl": [
           {
            "marker": {
             "colorbar": {
              "outlinewidth": 0,
              "ticks": ""
             }
            },
            "type": "scattergl"
           }
          ],
          "scattermapbox": [
           {
            "marker": {
             "colorbar": {
              "outlinewidth": 0,
              "ticks": ""
             }
            },
            "type": "scattermapbox"
           }
          ],
          "scatterpolar": [
           {
            "marker": {
             "colorbar": {
              "outlinewidth": 0,
              "ticks": ""
             }
            },
            "type": "scatterpolar"
           }
          ],
          "scatterpolargl": [
           {
            "marker": {
             "colorbar": {
              "outlinewidth": 0,
              "ticks": ""
             }
            },
            "type": "scatterpolargl"
           }
          ],
          "scatterternary": [
           {
            "marker": {
             "colorbar": {
              "outlinewidth": 0,
              "ticks": ""
             }
            },
            "type": "scatterternary"
           }
          ],
          "surface": [
           {
            "colorbar": {
             "outlinewidth": 0,
             "ticks": ""
            },
            "colorscale": [
             [
              0,
              "#0d0887"
             ],
             [
              0.1111111111111111,
              "#46039f"
             ],
             [
              0.2222222222222222,
              "#7201a8"
             ],
             [
              0.3333333333333333,
              "#9c179e"
             ],
             [
              0.4444444444444444,
              "#bd3786"
             ],
             [
              0.5555555555555556,
              "#d8576b"
             ],
             [
              0.6666666666666666,
              "#ed7953"
             ],
             [
              0.7777777777777778,
              "#fb9f3a"
             ],
             [
              0.8888888888888888,
              "#fdca26"
             ],
             [
              1,
              "#f0f921"
             ]
            ],
            "type": "surface"
           }
          ],
          "table": [
           {
            "cells": {
             "fill": {
              "color": "#EBF0F8"
             },
             "line": {
              "color": "white"
             }
            },
            "header": {
             "fill": {
              "color": "#C8D4E3"
             },
             "line": {
              "color": "white"
             }
            },
            "type": "table"
           }
          ]
         },
         "layout": {
          "annotationdefaults": {
           "arrowcolor": "#2a3f5f",
           "arrowhead": 0,
           "arrowwidth": 1
          },
          "autotypenumbers": "strict",
          "coloraxis": {
           "colorbar": {
            "outlinewidth": 0,
            "ticks": ""
           }
          },
          "colorscale": {
           "diverging": [
            [
             0,
             "#8e0152"
            ],
            [
             0.1,
             "#c51b7d"
            ],
            [
             0.2,
             "#de77ae"
            ],
            [
             0.3,
             "#f1b6da"
            ],
            [
             0.4,
             "#fde0ef"
            ],
            [
             0.5,
             "#f7f7f7"
            ],
            [
             0.6,
             "#e6f5d0"
            ],
            [
             0.7,
             "#b8e186"
            ],
            [
             0.8,
             "#7fbc41"
            ],
            [
             0.9,
             "#4d9221"
            ],
            [
             1,
             "#276419"
            ]
           ],
           "sequential": [
            [
             0,
             "#0d0887"
            ],
            [
             0.1111111111111111,
             "#46039f"
            ],
            [
             0.2222222222222222,
             "#7201a8"
            ],
            [
             0.3333333333333333,
             "#9c179e"
            ],
            [
             0.4444444444444444,
             "#bd3786"
            ],
            [
             0.5555555555555556,
             "#d8576b"
            ],
            [
             0.6666666666666666,
             "#ed7953"
            ],
            [
             0.7777777777777778,
             "#fb9f3a"
            ],
            [
             0.8888888888888888,
             "#fdca26"
            ],
            [
             1,
             "#f0f921"
            ]
           ],
           "sequentialminus": [
            [
             0,
             "#0d0887"
            ],
            [
             0.1111111111111111,
             "#46039f"
            ],
            [
             0.2222222222222222,
             "#7201a8"
            ],
            [
             0.3333333333333333,
             "#9c179e"
            ],
            [
             0.4444444444444444,
             "#bd3786"
            ],
            [
             0.5555555555555556,
             "#d8576b"
            ],
            [
             0.6666666666666666,
             "#ed7953"
            ],
            [
             0.7777777777777778,
             "#fb9f3a"
            ],
            [
             0.8888888888888888,
             "#fdca26"
            ],
            [
             1,
             "#f0f921"
            ]
           ]
          },
          "colorway": [
           "#636efa",
           "#EF553B",
           "#00cc96",
           "#ab63fa",
           "#FFA15A",
           "#19d3f3",
           "#FF6692",
           "#B6E880",
           "#FF97FF",
           "#FECB52"
          ],
          "font": {
           "color": "#2a3f5f"
          },
          "geo": {
           "bgcolor": "white",
           "lakecolor": "white",
           "landcolor": "#E5ECF6",
           "showlakes": true,
           "showland": true,
           "subunitcolor": "white"
          },
          "hoverlabel": {
           "align": "left"
          },
          "hovermode": "closest",
          "mapbox": {
           "style": "light"
          },
          "paper_bgcolor": "white",
          "plot_bgcolor": "#E5ECF6",
          "polar": {
           "angularaxis": {
            "gridcolor": "white",
            "linecolor": "white",
            "ticks": ""
           },
           "bgcolor": "#E5ECF6",
           "radialaxis": {
            "gridcolor": "white",
            "linecolor": "white",
            "ticks": ""
           }
          },
          "scene": {
           "xaxis": {
            "backgroundcolor": "#E5ECF6",
            "gridcolor": "white",
            "gridwidth": 2,
            "linecolor": "white",
            "showbackground": true,
            "ticks": "",
            "zerolinecolor": "white"
           },
           "yaxis": {
            "backgroundcolor": "#E5ECF6",
            "gridcolor": "white",
            "gridwidth": 2,
            "linecolor": "white",
            "showbackground": true,
            "ticks": "",
            "zerolinecolor": "white"
           },
           "zaxis": {
            "backgroundcolor": "#E5ECF6",
            "gridcolor": "white",
            "gridwidth": 2,
            "linecolor": "white",
            "showbackground": true,
            "ticks": "",
            "zerolinecolor": "white"
           }
          },
          "shapedefaults": {
           "line": {
            "color": "#2a3f5f"
           }
          },
          "ternary": {
           "aaxis": {
            "gridcolor": "white",
            "linecolor": "white",
            "ticks": ""
           },
           "baxis": {
            "gridcolor": "white",
            "linecolor": "white",
            "ticks": ""
           },
           "bgcolor": "#E5ECF6",
           "caxis": {
            "gridcolor": "white",
            "linecolor": "white",
            "ticks": ""
           }
          },
          "title": {
           "x": 0.05
          },
          "xaxis": {
           "automargin": true,
           "gridcolor": "white",
           "linecolor": "white",
           "ticks": "",
           "title": {
            "standoff": 15
           },
           "zerolinecolor": "white",
           "zerolinewidth": 2
          },
          "yaxis": {
           "automargin": true,
           "gridcolor": "white",
           "linecolor": "white",
           "ticks": "",
           "title": {
            "standoff": 15
           },
           "zerolinecolor": "white",
           "zerolinewidth": 2
          }
         }
        },
        "title": {
         "font": {
          "color": "#4D5663"
         }
        },
        "xaxis": {
         "anchor": "y",
         "domain": [
          0,
          0.2125
         ],
         "gridcolor": "#E1E5ED",
         "showgrid": false,
         "tickfont": {
          "color": "#4D5663"
         },
         "title": {
          "font": {
           "color": "#4D5663"
          },
          "text": ""
         },
         "zerolinecolor": "#E1E5ED"
        },
        "xaxis10": {
         "anchor": "y10",
         "domain": [
          0.2625,
          0.475
         ],
         "gridcolor": "#E1E5ED",
         "showgrid": false,
         "tickfont": {
          "color": "#4D5663"
         },
         "title": {
          "font": {
           "color": "#4D5663"
          },
          "text": ""
         },
         "zerolinecolor": "#E1E5ED"
        },
        "xaxis11": {
         "anchor": "y11",
         "domain": [
          0.525,
          0.7375
         ],
         "gridcolor": "#E1E5ED",
         "showgrid": false,
         "tickfont": {
          "color": "#4D5663"
         },
         "title": {
          "font": {
           "color": "#4D5663"
          },
          "text": ""
         },
         "zerolinecolor": "#E1E5ED"
        },
        "xaxis12": {
         "anchor": "y12",
         "domain": [
          0.7875,
          1
         ],
         "gridcolor": "#E1E5ED",
         "showgrid": false,
         "tickfont": {
          "color": "#4D5663"
         },
         "title": {
          "font": {
           "color": "#4D5663"
          },
          "text": ""
         },
         "zerolinecolor": "#E1E5ED"
        },
        "xaxis13": {
         "anchor": "y13",
         "domain": [
          0,
          0.2125
         ],
         "gridcolor": "#E1E5ED",
         "showgrid": false,
         "tickfont": {
          "color": "#4D5663"
         },
         "title": {
          "font": {
           "color": "#4D5663"
          },
          "text": ""
         },
         "zerolinecolor": "#E1E5ED"
        },
        "xaxis14": {
         "anchor": "y14",
         "domain": [
          0.2625,
          0.475
         ],
         "gridcolor": "#E1E5ED",
         "showgrid": false,
         "tickfont": {
          "color": "#4D5663"
         },
         "title": {
          "font": {
           "color": "#4D5663"
          },
          "text": ""
         },
         "zerolinecolor": "#E1E5ED"
        },
        "xaxis15": {
         "anchor": "y15",
         "domain": [
          0.525,
          0.7375
         ],
         "gridcolor": "#E1E5ED",
         "showgrid": false,
         "tickfont": {
          "color": "#4D5663"
         },
         "title": {
          "font": {
           "color": "#4D5663"
          },
          "text": ""
         },
         "zerolinecolor": "#E1E5ED"
        },
        "xaxis16": {
         "anchor": "y16",
         "domain": [
          0.7875,
          1
         ],
         "gridcolor": "#E1E5ED",
         "showgrid": false,
         "tickfont": {
          "color": "#4D5663"
         },
         "title": {
          "font": {
           "color": "#4D5663"
          },
          "text": ""
         },
         "zerolinecolor": "#E1E5ED"
        },
        "xaxis2": {
         "anchor": "y2",
         "domain": [
          0.2625,
          0.475
         ],
         "gridcolor": "#E1E5ED",
         "showgrid": false,
         "tickfont": {
          "color": "#4D5663"
         },
         "title": {
          "font": {
           "color": "#4D5663"
          },
          "text": ""
         },
         "zerolinecolor": "#E1E5ED"
        },
        "xaxis3": {
         "anchor": "y3",
         "domain": [
          0.525,
          0.7375
         ],
         "gridcolor": "#E1E5ED",
         "showgrid": false,
         "tickfont": {
          "color": "#4D5663"
         },
         "title": {
          "font": {
           "color": "#4D5663"
          },
          "text": ""
         },
         "zerolinecolor": "#E1E5ED"
        },
        "xaxis4": {
         "anchor": "y4",
         "domain": [
          0.7875,
          1
         ],
         "gridcolor": "#E1E5ED",
         "showgrid": false,
         "tickfont": {
          "color": "#4D5663"
         },
         "title": {
          "font": {
           "color": "#4D5663"
          },
          "text": ""
         },
         "zerolinecolor": "#E1E5ED"
        },
        "xaxis5": {
         "anchor": "y5",
         "domain": [
          0,
          0.2125
         ],
         "gridcolor": "#E1E5ED",
         "showgrid": false,
         "tickfont": {
          "color": "#4D5663"
         },
         "title": {
          "font": {
           "color": "#4D5663"
          },
          "text": ""
         },
         "zerolinecolor": "#E1E5ED"
        },
        "xaxis6": {
         "anchor": "y6",
         "domain": [
          0.2625,
          0.475
         ],
         "gridcolor": "#E1E5ED",
         "showgrid": false,
         "tickfont": {
          "color": "#4D5663"
         },
         "title": {
          "font": {
           "color": "#4D5663"
          },
          "text": ""
         },
         "zerolinecolor": "#E1E5ED"
        },
        "xaxis7": {
         "anchor": "y7",
         "domain": [
          0.525,
          0.7375
         ],
         "gridcolor": "#E1E5ED",
         "showgrid": false,
         "tickfont": {
          "color": "#4D5663"
         },
         "title": {
          "font": {
           "color": "#4D5663"
          },
          "text": ""
         },
         "zerolinecolor": "#E1E5ED"
        },
        "xaxis8": {
         "anchor": "y8",
         "domain": [
          0.7875,
          1
         ],
         "gridcolor": "#E1E5ED",
         "showgrid": false,
         "tickfont": {
          "color": "#4D5663"
         },
         "title": {
          "font": {
           "color": "#4D5663"
          },
          "text": ""
         },
         "zerolinecolor": "#E1E5ED"
        },
        "xaxis9": {
         "anchor": "y9",
         "domain": [
          0,
          0.2125
         ],
         "gridcolor": "#E1E5ED",
         "showgrid": false,
         "tickfont": {
          "color": "#4D5663"
         },
         "title": {
          "font": {
           "color": "#4D5663"
          },
          "text": ""
         },
         "zerolinecolor": "#E1E5ED"
        },
        "yaxis": {
         "anchor": "x",
         "domain": [
          0.8025,
          1
         ],
         "gridcolor": "#E1E5ED",
         "showgrid": false,
         "tickfont": {
          "color": "#4D5663"
         },
         "title": {
          "font": {
           "color": "#4D5663"
          },
          "text": ""
         },
         "zerolinecolor": "#E1E5ED"
        },
        "yaxis10": {
         "anchor": "x10",
         "domain": [
          0.2675,
          0.465
         ],
         "gridcolor": "#E1E5ED",
         "showgrid": false,
         "tickfont": {
          "color": "#4D5663"
         },
         "title": {
          "font": {
           "color": "#4D5663"
          },
          "text": ""
         },
         "zerolinecolor": "#E1E5ED"
        },
        "yaxis11": {
         "anchor": "x11",
         "domain": [
          0.2675,
          0.465
         ],
         "gridcolor": "#E1E5ED",
         "showgrid": false,
         "tickfont": {
          "color": "#4D5663"
         },
         "title": {
          "font": {
           "color": "#4D5663"
          },
          "text": ""
         },
         "zerolinecolor": "#E1E5ED"
        },
        "yaxis12": {
         "anchor": "x12",
         "domain": [
          0.2675,
          0.465
         ],
         "gridcolor": "#E1E5ED",
         "showgrid": false,
         "tickfont": {
          "color": "#4D5663"
         },
         "title": {
          "font": {
           "color": "#4D5663"
          },
          "text": ""
         },
         "zerolinecolor": "#E1E5ED"
        },
        "yaxis13": {
         "anchor": "x13",
         "domain": [
          0,
          0.1975
         ],
         "gridcolor": "#E1E5ED",
         "showgrid": false,
         "tickfont": {
          "color": "#4D5663"
         },
         "title": {
          "font": {
           "color": "#4D5663"
          },
          "text": ""
         },
         "zerolinecolor": "#E1E5ED"
        },
        "yaxis14": {
         "anchor": "x14",
         "domain": [
          0,
          0.1975
         ],
         "gridcolor": "#E1E5ED",
         "showgrid": false,
         "tickfont": {
          "color": "#4D5663"
         },
         "title": {
          "font": {
           "color": "#4D5663"
          },
          "text": ""
         },
         "zerolinecolor": "#E1E5ED"
        },
        "yaxis15": {
         "anchor": "x15",
         "domain": [
          0,
          0.1975
         ],
         "gridcolor": "#E1E5ED",
         "showgrid": false,
         "tickfont": {
          "color": "#4D5663"
         },
         "title": {
          "font": {
           "color": "#4D5663"
          },
          "text": ""
         },
         "zerolinecolor": "#E1E5ED"
        },
        "yaxis16": {
         "anchor": "x16",
         "domain": [
          0,
          0.1975
         ],
         "gridcolor": "#E1E5ED",
         "showgrid": false,
         "tickfont": {
          "color": "#4D5663"
         },
         "title": {
          "font": {
           "color": "#4D5663"
          },
          "text": ""
         },
         "zerolinecolor": "#E1E5ED"
        },
        "yaxis2": {
         "anchor": "x2",
         "domain": [
          0.8025,
          1
         ],
         "gridcolor": "#E1E5ED",
         "showgrid": false,
         "tickfont": {
          "color": "#4D5663"
         },
         "title": {
          "font": {
           "color": "#4D5663"
          },
          "text": ""
         },
         "zerolinecolor": "#E1E5ED"
        },
        "yaxis3": {
         "anchor": "x3",
         "domain": [
          0.8025,
          1
         ],
         "gridcolor": "#E1E5ED",
         "showgrid": false,
         "tickfont": {
          "color": "#4D5663"
         },
         "title": {
          "font": {
           "color": "#4D5663"
          },
          "text": ""
         },
         "zerolinecolor": "#E1E5ED"
        },
        "yaxis4": {
         "anchor": "x4",
         "domain": [
          0.8025,
          1
         ],
         "gridcolor": "#E1E5ED",
         "showgrid": false,
         "tickfont": {
          "color": "#4D5663"
         },
         "title": {
          "font": {
           "color": "#4D5663"
          },
          "text": ""
         },
         "zerolinecolor": "#E1E5ED"
        },
        "yaxis5": {
         "anchor": "x5",
         "domain": [
          0.535,
          0.7325
         ],
         "gridcolor": "#E1E5ED",
         "showgrid": false,
         "tickfont": {
          "color": "#4D5663"
         },
         "title": {
          "font": {
           "color": "#4D5663"
          },
          "text": ""
         },
         "zerolinecolor": "#E1E5ED"
        },
        "yaxis6": {
         "anchor": "x6",
         "domain": [
          0.535,
          0.7325
         ],
         "gridcolor": "#E1E5ED",
         "showgrid": false,
         "tickfont": {
          "color": "#4D5663"
         },
         "title": {
          "font": {
           "color": "#4D5663"
          },
          "text": ""
         },
         "zerolinecolor": "#E1E5ED"
        },
        "yaxis7": {
         "anchor": "x7",
         "domain": [
          0.535,
          0.7325
         ],
         "gridcolor": "#E1E5ED",
         "showgrid": false,
         "tickfont": {
          "color": "#4D5663"
         },
         "title": {
          "font": {
           "color": "#4D5663"
          },
          "text": ""
         },
         "zerolinecolor": "#E1E5ED"
        },
        "yaxis8": {
         "anchor": "x8",
         "domain": [
          0.535,
          0.7325
         ],
         "gridcolor": "#E1E5ED",
         "showgrid": false,
         "tickfont": {
          "color": "#4D5663"
         },
         "title": {
          "font": {
           "color": "#4D5663"
          },
          "text": ""
         },
         "zerolinecolor": "#E1E5ED"
        },
        "yaxis9": {
         "anchor": "x9",
         "domain": [
          0.2675,
          0.465
         ],
         "gridcolor": "#E1E5ED",
         "showgrid": false,
         "tickfont": {
          "color": "#4D5663"
         },
         "title": {
          "font": {
           "color": "#4D5663"
          },
          "text": ""
         },
         "zerolinecolor": "#E1E5ED"
        }
       }
      },
      "text/html": [
       "<div>                            <div id=\"0ad75d5d-7413-4deb-ac1d-b6616518bb3c\" class=\"plotly-graph-div\" style=\"height:525px; width:100%;\"></div>            <script type=\"text/javascript\">                require([\"plotly\"], function(Plotly) {                    window.PLOTLYENV=window.PLOTLYENV || {};\n",
       "                    window.PLOTLYENV.BASE_URL='https://plot.ly';                                    if (document.getElementById(\"0ad75d5d-7413-4deb-ac1d-b6616518bb3c\")) {                    Plotly.newPlot(                        \"0ad75d5d-7413-4deb-ac1d-b6616518bb3c\",                        [{\"histfunc\":\"count\",\"histnorm\":\"\",\"marker\":{\"color\":\"rgba(255, 153, 51, 1.0)\",\"line\":{\"color\":\"#4D5663\",\"width\":1.3}},\"name\":\"A\",\"nbinsx\":10,\"opacity\":0.8,\"orientation\":\"v\",\"x\":[0.1501788668840338,-0.1756913710375011,0.13856736719365398,0.7219578807852828,0.02103035712203404,0.05372994782000095,-0.8597786699749488,-1.436764515074958,0.09773770467735642,-0.5090109468773343,0.058444993463366686,0.1528818965232011,-0.054374732419699146,-0.5195914547970374,-1.6451919722324309,-0.4078752816447025,1.7196902722861414,1.1277768696275943,-0.16700661819317372,0.4344680307743496,-0.4533598135068671,-0.17821655659170996,-0.5483023401387696,1.0642240577556783,0.15666741152753014,-2.296016560442535,1.6924661296080639,0.6072904612083375,0.6583268747437102,0.0232092808315366,0.25505441923380395,-1.7884002052880084,-1.0271998449996689,-1.3800108277280776,-0.3196999975289513,1.212423910875223,-0.8631824306196343,0.14045007863442893,0.03772705519209731,0.8741708927574366,-0.8956255423448548,0.5595218806674672,-0.13978226703197763,-1.3522532012187982,-0.11901794011161884,1.4943615882517902,-0.9021970825018301,-0.4943366411747155,0.5487766844925248,-0.2844232877660867,0.8340903018578912,-1.702365901238491,-0.7100490330331606,0.6674682457214097,-0.14091751691325238,-2.6175899502714532,-1.602147770857257,-0.7486305439753811,-0.6238082510908618,-0.9765058142343359,0.8819257132329856,-0.8444708401609161,1.3290859983817334,-0.33125058588237893,-2.4943073578839736,-0.09846938938603009,1.6319181413388584,0.2877837487161706,0.05661978916823122,0.19196078383633894,0.45447543421148245,-0.7471721117926763,0.5768918461100573,-0.42479111088633664,-2.6587930187849484,-0.879206416879864,-1.584685197756789,0.9913181768573425,0.6935908952151667,0.6174070873913775,-0.6594441738825568,-0.9226163312478916,0.9072689218965913,-3.4618100598071324,-2.8996735525378363,0.14764029916770435,-0.9304743038902059,-0.09148425443751493,-0.6947510262830392,0.48761583192883556,-0.8300069322754731,0.9919919641210598,-1.3828189356306078,-0.0436640865499939,-0.2851681411662788,1.6435752977827398,0.05788619121298352,0.5726843717948871,-0.8708498105504946,1.0442243483732725],\"xaxis\":\"x\",\"yaxis\":\"y\",\"type\":\"histogram\"},{\"line\":{\"color\":\"rgba(128, 128, 128, 1.0)\",\"dash\":\"solid\",\"shape\":\"linear\",\"width\":1.3},\"marker\":{\"size\":2,\"symbol\":\"circle\"},\"mode\":\"markers\",\"name\":\"A\",\"text\":\"\",\"x\":[0.3292464980445286,-0.1411389303037044,1.0690826737668286,-0.5670008289594736,1.5918584383121732,-0.49735820558161664,0.853020526947463,1.094407718690676,0.32727080169252115,-1.2226688074822474,2.686372841230928,-0.7662833800546549,-1.672436568832668,-0.3932022977635248,0.03263859066046469,-1.6761171971533155,-1.564322177542407,0.8727530667077585,2.8459920842255357,0.041262651325481056,0.6020364391158644,-1.274285368129067,0.37739388783722166,1.785008130491707,-1.0332839242660679,2.4939486777155886,0.981165538761148,0.9876494450648611,-1.392722155984482,-0.23872920769288078,1.4825111094062309,-0.8719477402420855,-0.8640186070736904,1.7498728402472519,0.5725682033786544,0.49847970058576085,0.4628575656278747,-0.06871206586372626,-0.14184373613844153,0.43328186425755827,-0.10749451342931048,-0.9398187865832206,-0.5251347550124181,1.635891869597316,-0.8844918823837958,-0.9090407559913615,0.519238719064138,-0.7090769497362426,0.8398486786419308,-0.2876594525112121,-0.882125919272093,0.04716098700964254,0.7473021164945799,-0.6205957612381642,0.07659494095782203,0.3029419326610615,-0.1457543020500506,-1.0147955229958847,-0.5348542967183831,-0.8781239565468124,-2.1411910267869123,-1.1388955510062049,-0.8087615847592627,-0.2994886393800132,-1.550632994942883,-0.07855287087348586,-0.09139415769032651,-0.3900148067474229,0.7748252201143693,-1.5355808667892057,-2.1694692520872296,-0.8250853605787378,0.3846735791487371,0.17890267605846233,-1.4735750220184796,0.07437116478387093,0.9218685071691737,-0.8205867482611652,0.5115358062357684,-1.2857938547393777,0.31221253198721455,-0.08234276520286833,0.4526207498721831,-0.4473360992885767,0.5766023641817422,-1.550026086832909,-0.7197254653986882,-0.2890094987331318,-0.9484949964302272,1.4749208841491077,0.8279588679944496,-0.2497528713488217,-0.7188559976596786,0.3947502727196581,-0.852203625860959,-0.4713126121808178,0.4880404775087967,-1.5681301594317518,-1.4119016649251277,0.0676585355782195],\"xaxis\":\"x2\",\"y\":[0.1501788668840338,-0.1756913710375011,0.13856736719365398,0.7219578807852828,0.02103035712203404,0.05372994782000095,-0.8597786699749488,-1.436764515074958,0.09773770467735642,-0.5090109468773343,0.058444993463366686,0.1528818965232011,-0.054374732419699146,-0.5195914547970374,-1.6451919722324309,-0.4078752816447025,1.7196902722861414,1.1277768696275943,-0.16700661819317372,0.4344680307743496,-0.4533598135068671,-0.17821655659170996,-0.5483023401387696,1.0642240577556783,0.15666741152753014,-2.296016560442535,1.6924661296080639,0.6072904612083375,0.6583268747437102,0.0232092808315366,0.25505441923380395,-1.7884002052880084,-1.0271998449996689,-1.3800108277280776,-0.3196999975289513,1.212423910875223,-0.8631824306196343,0.14045007863442893,0.03772705519209731,0.8741708927574366,-0.8956255423448548,0.5595218806674672,-0.13978226703197763,-1.3522532012187982,-0.11901794011161884,1.4943615882517902,-0.9021970825018301,-0.4943366411747155,0.5487766844925248,-0.2844232877660867,0.8340903018578912,-1.702365901238491,-0.7100490330331606,0.6674682457214097,-0.14091751691325238,-2.6175899502714532,-1.602147770857257,-0.7486305439753811,-0.6238082510908618,-0.9765058142343359,0.8819257132329856,-0.8444708401609161,1.3290859983817334,-0.33125058588237893,-2.4943073578839736,-0.09846938938603009,1.6319181413388584,0.2877837487161706,0.05661978916823122,0.19196078383633894,0.45447543421148245,-0.7471721117926763,0.5768918461100573,-0.42479111088633664,-2.6587930187849484,-0.879206416879864,-1.584685197756789,0.9913181768573425,0.6935908952151667,0.6174070873913775,-0.6594441738825568,-0.9226163312478916,0.9072689218965913,-3.4618100598071324,-2.8996735525378363,0.14764029916770435,-0.9304743038902059,-0.09148425443751493,-0.6947510262830392,0.48761583192883556,-0.8300069322754731,0.9919919641210598,-1.3828189356306078,-0.0436640865499939,-0.2851681411662788,1.6435752977827398,0.05788619121298352,0.5726843717948871,-0.8708498105504946,1.0442243483732725],\"yaxis\":\"y2\",\"type\":\"scatter\"},{\"line\":{\"color\":\"rgba(128, 128, 128, 1.0)\",\"dash\":\"solid\",\"shape\":\"linear\",\"width\":1.3},\"marker\":{\"size\":2,\"symbol\":\"circle\"},\"mode\":\"markers\",\"name\":\"A\",\"text\":\"\",\"x\":[0.890916480844037,-1.558527107511487,-1.8488925502815907,-0.6494576645259102,1.1280869396031745,-0.17952894882184547,-0.33810857909289344,-0.48878290989005213,-0.11938293447879825,-0.2989751410946798,0.4965499375088627,0.21636453352319893,0.2840717850111058,0.20735875936817524,-0.22565690187486223,1.1164757506873288,-0.6707234049274312,0.9424716687268028,1.6515063039689564,1.992774545960232,-0.5812924968657552,0.22810610570053838,-0.20849458732619003,1.1661466927440949,-0.28056452596092063,-0.049917163399387045,2.195637903300989,0.116948203171959,1.401933580717518,-2.0117372351060685,0.21559254965129362,-0.042744727939135044,-1.3345088876565672,0.5875791622511894,-1.0051348169849186,-0.44694599729049334,-0.9032149034697351,-0.9498465409084119,-0.7124254084325481,0.17135327657766145,-0.49806229420490383,-0.8328725348029663,-1.8732396301295586,0.28930476551203765,0.7510647311729514,1.3362719752061962,-0.1646996370888109,0.5644111124218038,-0.5944675628535963,1.1269513423335507,0.3178070052923227,-1.1988012057295312,0.9873656236415521,1.2476067769280317,0.5506614471733887,0.000814001257611384,1.4130552819529212,-0.22092645802391894,1.3288750160497649,0.1282526773031756,0.05123370962394723,0.537892346190286,0.8780740358004305,2.3230733411681275,-0.3702023676130841,-0.5213525592026007,1.3944034723368863,0.2966259186302385,1.1136273398847076,-0.05299962419798843,-1.01965507512544,-0.7704726221159278,0.24646521622835293,1.0811824290711995,-0.29499818540873474,1.6148381953265067,2.5014835838918628,0.552463771797649,-2.2293007713638215,0.6413036999649206,-1.645307584944108,0.6300421981899462,-0.45450498610227286,-0.3390119693617331,0.47305360720198797,0.2456761390603077,-0.9836097767809264,0.9871269020530777,0.09834186509548075,0.7208876227420822,-1.1877689956169983,1.5192828005896106,-1.381594152153304,-0.7197746248014946,0.011550420103289123,0.10147027582360378,-0.6872369274921748,1.650674227068161,0.9032065367878431,0.8130991610718596],\"xaxis\":\"x3\",\"y\":[0.1501788668840338,-0.1756913710375011,0.13856736719365398,0.7219578807852828,0.02103035712203404,0.05372994782000095,-0.8597786699749488,-1.436764515074958,0.09773770467735642,-0.5090109468773343,0.058444993463366686,0.1528818965232011,-0.054374732419699146,-0.5195914547970374,-1.6451919722324309,-0.4078752816447025,1.7196902722861414,1.1277768696275943,-0.16700661819317372,0.4344680307743496,-0.4533598135068671,-0.17821655659170996,-0.5483023401387696,1.0642240577556783,0.15666741152753014,-2.296016560442535,1.6924661296080639,0.6072904612083375,0.6583268747437102,0.0232092808315366,0.25505441923380395,-1.7884002052880084,-1.0271998449996689,-1.3800108277280776,-0.3196999975289513,1.212423910875223,-0.8631824306196343,0.14045007863442893,0.03772705519209731,0.8741708927574366,-0.8956255423448548,0.5595218806674672,-0.13978226703197763,-1.3522532012187982,-0.11901794011161884,1.4943615882517902,-0.9021970825018301,-0.4943366411747155,0.5487766844925248,-0.2844232877660867,0.8340903018578912,-1.702365901238491,-0.7100490330331606,0.6674682457214097,-0.14091751691325238,-2.6175899502714532,-1.602147770857257,-0.7486305439753811,-0.6238082510908618,-0.9765058142343359,0.8819257132329856,-0.8444708401609161,1.3290859983817334,-0.33125058588237893,-2.4943073578839736,-0.09846938938603009,1.6319181413388584,0.2877837487161706,0.05661978916823122,0.19196078383633894,0.45447543421148245,-0.7471721117926763,0.5768918461100573,-0.42479111088633664,-2.6587930187849484,-0.879206416879864,-1.584685197756789,0.9913181768573425,0.6935908952151667,0.6174070873913775,-0.6594441738825568,-0.9226163312478916,0.9072689218965913,-3.4618100598071324,-2.8996735525378363,0.14764029916770435,-0.9304743038902059,-0.09148425443751493,-0.6947510262830392,0.48761583192883556,-0.8300069322754731,0.9919919641210598,-1.3828189356306078,-0.0436640865499939,-0.2851681411662788,1.6435752977827398,0.05788619121298352,0.5726843717948871,-0.8708498105504946,1.0442243483732725],\"yaxis\":\"y3\",\"type\":\"scatter\"},{\"line\":{\"color\":\"rgba(128, 128, 128, 1.0)\",\"dash\":\"solid\",\"shape\":\"linear\",\"width\":1.3},\"marker\":{\"size\":2,\"symbol\":\"circle\"},\"mode\":\"markers\",\"name\":\"A\",\"text\":\"\",\"x\":[1.2238696611006687,0.2659016037253465,0.5348783333601433,-0.5152424203192356,0.7957817937572748,0.4316924718678004,0.13452532570970305,-1.1609585252578314,1.109688781111511,-0.25237472399053945,-0.4205306809125667,-0.13090388071271383,-0.12537996532960222,-0.10182788988671564,1.7665855788900615,0.28287032317227917,0.10235451464604306,1.729565277267111,-0.11314043958280795,1.0354429224865613,-0.34024824271522836,0.8210779437076364,0.4118759981850916,0.431616592821346,1.466797156861794,0.6557165096961052,-0.5858758532518111,0.433845796517269,0.5218602483278069,-0.36664316690916726,-1.0880539147526773,0.22471008032895676,-0.970253474769151,-0.8141627851447617,0.2751096487173175,0.5475880158403673,0.5959525301521521,-0.1930623768638768,0.9522162211248725,0.24710194516308667,0.2098533608444933,-0.4177347350882414,-0.5378864350268977,1.356240901552392,-1.4358885908500325,-0.6150524345433597,0.5644000226091584,-1.7728965912212569,0.7478907531147889,-0.847680137605328,0.5243094753242314,-0.5629466077738976,0.7308720665035708,-0.5631609456231326,-0.5480544163023164,1.3806825978333803,-0.8168571159408491,-0.07071285909209492,0.42756541165848566,0.6239789663027165,1.5937867923838385,-0.15566204467470132,0.9617306773021843,-0.060748484458576946,1.7421582679490866,0.13032168838390243,0.3644249457854377,0.44826916791078275,0.5520991045312008,-1.4535333914643893,-1.6037467056567496,-0.2069767719603601,-0.5788263866043485,0.3991456611757954,-0.025966973025777936,0.6122427822789827,-1.2896420826915858,1.9841678768446551,0.5224878892863754,0.8353665562482017,0.12747466466086263,1.817142494989653,0.8376095471647783,0.5564802783508699,0.9063079284923069,1.168407555051154,-0.696805989983867,1.4977939685254351,0.8808587328159376,0.4155772726557158,0.4375653565107603,0.7133247647267615,0.8933324173851137,-1.6492894319540068,-0.33213880818894287,-1.6560909794244025,-1.009918484762426,-0.4687963402846757,0.6401161967456103,0.21746994993596683],\"xaxis\":\"x4\",\"y\":[0.1501788668840338,-0.1756913710375011,0.13856736719365398,0.7219578807852828,0.02103035712203404,0.05372994782000095,-0.8597786699749488,-1.436764515074958,0.09773770467735642,-0.5090109468773343,0.058444993463366686,0.1528818965232011,-0.054374732419699146,-0.5195914547970374,-1.6451919722324309,-0.4078752816447025,1.7196902722861414,1.1277768696275943,-0.16700661819317372,0.4344680307743496,-0.4533598135068671,-0.17821655659170996,-0.5483023401387696,1.0642240577556783,0.15666741152753014,-2.296016560442535,1.6924661296080639,0.6072904612083375,0.6583268747437102,0.0232092808315366,0.25505441923380395,-1.7884002052880084,-1.0271998449996689,-1.3800108277280776,-0.3196999975289513,1.212423910875223,-0.8631824306196343,0.14045007863442893,0.03772705519209731,0.8741708927574366,-0.8956255423448548,0.5595218806674672,-0.13978226703197763,-1.3522532012187982,-0.11901794011161884,1.4943615882517902,-0.9021970825018301,-0.4943366411747155,0.5487766844925248,-0.2844232877660867,0.8340903018578912,-1.702365901238491,-0.7100490330331606,0.6674682457214097,-0.14091751691325238,-2.6175899502714532,-1.602147770857257,-0.7486305439753811,-0.6238082510908618,-0.9765058142343359,0.8819257132329856,-0.8444708401609161,1.3290859983817334,-0.33125058588237893,-2.4943073578839736,-0.09846938938603009,1.6319181413388584,0.2877837487161706,0.05661978916823122,0.19196078383633894,0.45447543421148245,-0.7471721117926763,0.5768918461100573,-0.42479111088633664,-2.6587930187849484,-0.879206416879864,-1.584685197756789,0.9913181768573425,0.6935908952151667,0.6174070873913775,-0.6594441738825568,-0.9226163312478916,0.9072689218965913,-3.4618100598071324,-2.8996735525378363,0.14764029916770435,-0.9304743038902059,-0.09148425443751493,-0.6947510262830392,0.48761583192883556,-0.8300069322754731,0.9919919641210598,-1.3828189356306078,-0.0436640865499939,-0.2851681411662788,1.6435752977827398,0.05788619121298352,0.5726843717948871,-0.8708498105504946,1.0442243483732725],\"yaxis\":\"y4\",\"type\":\"scatter\"},{\"line\":{\"color\":\"rgba(128, 128, 128, 1.0)\",\"dash\":\"solid\",\"shape\":\"linear\",\"width\":1.3},\"marker\":{\"size\":2,\"symbol\":\"circle\"},\"mode\":\"markers\",\"name\":\"B\",\"text\":\"\",\"x\":[0.1501788668840338,-0.1756913710375011,0.13856736719365398,0.7219578807852828,0.02103035712203404,0.05372994782000095,-0.8597786699749488,-1.436764515074958,0.09773770467735642,-0.5090109468773343,0.058444993463366686,0.1528818965232011,-0.054374732419699146,-0.5195914547970374,-1.6451919722324309,-0.4078752816447025,1.7196902722861414,1.1277768696275943,-0.16700661819317372,0.4344680307743496,-0.4533598135068671,-0.17821655659170996,-0.5483023401387696,1.0642240577556783,0.15666741152753014,-2.296016560442535,1.6924661296080639,0.6072904612083375,0.6583268747437102,0.0232092808315366,0.25505441923380395,-1.7884002052880084,-1.0271998449996689,-1.3800108277280776,-0.3196999975289513,1.212423910875223,-0.8631824306196343,0.14045007863442893,0.03772705519209731,0.8741708927574366,-0.8956255423448548,0.5595218806674672,-0.13978226703197763,-1.3522532012187982,-0.11901794011161884,1.4943615882517902,-0.9021970825018301,-0.4943366411747155,0.5487766844925248,-0.2844232877660867,0.8340903018578912,-1.702365901238491,-0.7100490330331606,0.6674682457214097,-0.14091751691325238,-2.6175899502714532,-1.602147770857257,-0.7486305439753811,-0.6238082510908618,-0.9765058142343359,0.8819257132329856,-0.8444708401609161,1.3290859983817334,-0.33125058588237893,-2.4943073578839736,-0.09846938938603009,1.6319181413388584,0.2877837487161706,0.05661978916823122,0.19196078383633894,0.45447543421148245,-0.7471721117926763,0.5768918461100573,-0.42479111088633664,-2.6587930187849484,-0.879206416879864,-1.584685197756789,0.9913181768573425,0.6935908952151667,0.6174070873913775,-0.6594441738825568,-0.9226163312478916,0.9072689218965913,-3.4618100598071324,-2.8996735525378363,0.14764029916770435,-0.9304743038902059,-0.09148425443751493,-0.6947510262830392,0.48761583192883556,-0.8300069322754731,0.9919919641210598,-1.3828189356306078,-0.0436640865499939,-0.2851681411662788,1.6435752977827398,0.05788619121298352,0.5726843717948871,-0.8708498105504946,1.0442243483732725],\"xaxis\":\"x5\",\"y\":[0.3292464980445286,-0.1411389303037044,1.0690826737668286,-0.5670008289594736,1.5918584383121732,-0.49735820558161664,0.853020526947463,1.094407718690676,0.32727080169252115,-1.2226688074822474,2.686372841230928,-0.7662833800546549,-1.672436568832668,-0.3932022977635248,0.03263859066046469,-1.6761171971533155,-1.564322177542407,0.8727530667077585,2.8459920842255357,0.041262651325481056,0.6020364391158644,-1.274285368129067,0.37739388783722166,1.785008130491707,-1.0332839242660679,2.4939486777155886,0.981165538761148,0.9876494450648611,-1.392722155984482,-0.23872920769288078,1.4825111094062309,-0.8719477402420855,-0.8640186070736904,1.7498728402472519,0.5725682033786544,0.49847970058576085,0.4628575656278747,-0.06871206586372626,-0.14184373613844153,0.43328186425755827,-0.10749451342931048,-0.9398187865832206,-0.5251347550124181,1.635891869597316,-0.8844918823837958,-0.9090407559913615,0.519238719064138,-0.7090769497362426,0.8398486786419308,-0.2876594525112121,-0.882125919272093,0.04716098700964254,0.7473021164945799,-0.6205957612381642,0.07659494095782203,0.3029419326610615,-0.1457543020500506,-1.0147955229958847,-0.5348542967183831,-0.8781239565468124,-2.1411910267869123,-1.1388955510062049,-0.8087615847592627,-0.2994886393800132,-1.550632994942883,-0.07855287087348586,-0.09139415769032651,-0.3900148067474229,0.7748252201143693,-1.5355808667892057,-2.1694692520872296,-0.8250853605787378,0.3846735791487371,0.17890267605846233,-1.4735750220184796,0.07437116478387093,0.9218685071691737,-0.8205867482611652,0.5115358062357684,-1.2857938547393777,0.31221253198721455,-0.08234276520286833,0.4526207498721831,-0.4473360992885767,0.5766023641817422,-1.550026086832909,-0.7197254653986882,-0.2890094987331318,-0.9484949964302272,1.4749208841491077,0.8279588679944496,-0.2497528713488217,-0.7188559976596786,0.3947502727196581,-0.852203625860959,-0.4713126121808178,0.4880404775087967,-1.5681301594317518,-1.4119016649251277,0.0676585355782195],\"yaxis\":\"y5\",\"type\":\"scatter\"},{\"histfunc\":\"count\",\"histnorm\":\"\",\"marker\":{\"color\":\"rgba(55, 128, 191, 1.0)\",\"line\":{\"color\":\"#4D5663\",\"width\":1.3}},\"name\":\"B\",\"nbinsx\":10,\"opacity\":0.8,\"orientation\":\"v\",\"x\":[0.3292464980445286,-0.1411389303037044,1.0690826737668286,-0.5670008289594736,1.5918584383121732,-0.49735820558161664,0.853020526947463,1.094407718690676,0.32727080169252115,-1.2226688074822474,2.686372841230928,-0.7662833800546549,-1.672436568832668,-0.3932022977635248,0.03263859066046469,-1.6761171971533155,-1.564322177542407,0.8727530667077585,2.8459920842255357,0.041262651325481056,0.6020364391158644,-1.274285368129067,0.37739388783722166,1.785008130491707,-1.0332839242660679,2.4939486777155886,0.981165538761148,0.9876494450648611,-1.392722155984482,-0.23872920769288078,1.4825111094062309,-0.8719477402420855,-0.8640186070736904,1.7498728402472519,0.5725682033786544,0.49847970058576085,0.4628575656278747,-0.06871206586372626,-0.14184373613844153,0.43328186425755827,-0.10749451342931048,-0.9398187865832206,-0.5251347550124181,1.635891869597316,-0.8844918823837958,-0.9090407559913615,0.519238719064138,-0.7090769497362426,0.8398486786419308,-0.2876594525112121,-0.882125919272093,0.04716098700964254,0.7473021164945799,-0.6205957612381642,0.07659494095782203,0.3029419326610615,-0.1457543020500506,-1.0147955229958847,-0.5348542967183831,-0.8781239565468124,-2.1411910267869123,-1.1388955510062049,-0.8087615847592627,-0.2994886393800132,-1.550632994942883,-0.07855287087348586,-0.09139415769032651,-0.3900148067474229,0.7748252201143693,-1.5355808667892057,-2.1694692520872296,-0.8250853605787378,0.3846735791487371,0.17890267605846233,-1.4735750220184796,0.07437116478387093,0.9218685071691737,-0.8205867482611652,0.5115358062357684,-1.2857938547393777,0.31221253198721455,-0.08234276520286833,0.4526207498721831,-0.4473360992885767,0.5766023641817422,-1.550026086832909,-0.7197254653986882,-0.2890094987331318,-0.9484949964302272,1.4749208841491077,0.8279588679944496,-0.2497528713488217,-0.7188559976596786,0.3947502727196581,-0.852203625860959,-0.4713126121808178,0.4880404775087967,-1.5681301594317518,-1.4119016649251277,0.0676585355782195],\"xaxis\":\"x6\",\"yaxis\":\"y6\",\"type\":\"histogram\"},{\"line\":{\"color\":\"rgba(128, 128, 128, 1.0)\",\"dash\":\"solid\",\"shape\":\"linear\",\"width\":1.3},\"marker\":{\"size\":2,\"symbol\":\"circle\"},\"mode\":\"markers\",\"name\":\"B\",\"text\":\"\",\"x\":[0.890916480844037,-1.558527107511487,-1.8488925502815907,-0.6494576645259102,1.1280869396031745,-0.17952894882184547,-0.33810857909289344,-0.48878290989005213,-0.11938293447879825,-0.2989751410946798,0.4965499375088627,0.21636453352319893,0.2840717850111058,0.20735875936817524,-0.22565690187486223,1.1164757506873288,-0.6707234049274312,0.9424716687268028,1.6515063039689564,1.992774545960232,-0.5812924968657552,0.22810610570053838,-0.20849458732619003,1.1661466927440949,-0.28056452596092063,-0.049917163399387045,2.195637903300989,0.116948203171959,1.401933580717518,-2.0117372351060685,0.21559254965129362,-0.042744727939135044,-1.3345088876565672,0.5875791622511894,-1.0051348169849186,-0.44694599729049334,-0.9032149034697351,-0.9498465409084119,-0.7124254084325481,0.17135327657766145,-0.49806229420490383,-0.8328725348029663,-1.8732396301295586,0.28930476551203765,0.7510647311729514,1.3362719752061962,-0.1646996370888109,0.5644111124218038,-0.5944675628535963,1.1269513423335507,0.3178070052923227,-1.1988012057295312,0.9873656236415521,1.2476067769280317,0.5506614471733887,0.000814001257611384,1.4130552819529212,-0.22092645802391894,1.3288750160497649,0.1282526773031756,0.05123370962394723,0.537892346190286,0.8780740358004305,2.3230733411681275,-0.3702023676130841,-0.5213525592026007,1.3944034723368863,0.2966259186302385,1.1136273398847076,-0.05299962419798843,-1.01965507512544,-0.7704726221159278,0.24646521622835293,1.0811824290711995,-0.29499818540873474,1.6148381953265067,2.5014835838918628,0.552463771797649,-2.2293007713638215,0.6413036999649206,-1.645307584944108,0.6300421981899462,-0.45450498610227286,-0.3390119693617331,0.47305360720198797,0.2456761390603077,-0.9836097767809264,0.9871269020530777,0.09834186509548075,0.7208876227420822,-1.1877689956169983,1.5192828005896106,-1.381594152153304,-0.7197746248014946,0.011550420103289123,0.10147027582360378,-0.6872369274921748,1.650674227068161,0.9032065367878431,0.8130991610718596],\"xaxis\":\"x7\",\"y\":[0.3292464980445286,-0.1411389303037044,1.0690826737668286,-0.5670008289594736,1.5918584383121732,-0.49735820558161664,0.853020526947463,1.094407718690676,0.32727080169252115,-1.2226688074822474,2.686372841230928,-0.7662833800546549,-1.672436568832668,-0.3932022977635248,0.03263859066046469,-1.6761171971533155,-1.564322177542407,0.8727530667077585,2.8459920842255357,0.041262651325481056,0.6020364391158644,-1.274285368129067,0.37739388783722166,1.785008130491707,-1.0332839242660679,2.4939486777155886,0.981165538761148,0.9876494450648611,-1.392722155984482,-0.23872920769288078,1.4825111094062309,-0.8719477402420855,-0.8640186070736904,1.7498728402472519,0.5725682033786544,0.49847970058576085,0.4628575656278747,-0.06871206586372626,-0.14184373613844153,0.43328186425755827,-0.10749451342931048,-0.9398187865832206,-0.5251347550124181,1.635891869597316,-0.8844918823837958,-0.9090407559913615,0.519238719064138,-0.7090769497362426,0.8398486786419308,-0.2876594525112121,-0.882125919272093,0.04716098700964254,0.7473021164945799,-0.6205957612381642,0.07659494095782203,0.3029419326610615,-0.1457543020500506,-1.0147955229958847,-0.5348542967183831,-0.8781239565468124,-2.1411910267869123,-1.1388955510062049,-0.8087615847592627,-0.2994886393800132,-1.550632994942883,-0.07855287087348586,-0.09139415769032651,-0.3900148067474229,0.7748252201143693,-1.5355808667892057,-2.1694692520872296,-0.8250853605787378,0.3846735791487371,0.17890267605846233,-1.4735750220184796,0.07437116478387093,0.9218685071691737,-0.8205867482611652,0.5115358062357684,-1.2857938547393777,0.31221253198721455,-0.08234276520286833,0.4526207498721831,-0.4473360992885767,0.5766023641817422,-1.550026086832909,-0.7197254653986882,-0.2890094987331318,-0.9484949964302272,1.4749208841491077,0.8279588679944496,-0.2497528713488217,-0.7188559976596786,0.3947502727196581,-0.852203625860959,-0.4713126121808178,0.4880404775087967,-1.5681301594317518,-1.4119016649251277,0.0676585355782195],\"yaxis\":\"y7\",\"type\":\"scatter\"},{\"line\":{\"color\":\"rgba(128, 128, 128, 1.0)\",\"dash\":\"solid\",\"shape\":\"linear\",\"width\":1.3},\"marker\":{\"size\":2,\"symbol\":\"circle\"},\"mode\":\"markers\",\"name\":\"B\",\"text\":\"\",\"x\":[1.2238696611006687,0.2659016037253465,0.5348783333601433,-0.5152424203192356,0.7957817937572748,0.4316924718678004,0.13452532570970305,-1.1609585252578314,1.109688781111511,-0.25237472399053945,-0.4205306809125667,-0.13090388071271383,-0.12537996532960222,-0.10182788988671564,1.7665855788900615,0.28287032317227917,0.10235451464604306,1.729565277267111,-0.11314043958280795,1.0354429224865613,-0.34024824271522836,0.8210779437076364,0.4118759981850916,0.431616592821346,1.466797156861794,0.6557165096961052,-0.5858758532518111,0.433845796517269,0.5218602483278069,-0.36664316690916726,-1.0880539147526773,0.22471008032895676,-0.970253474769151,-0.8141627851447617,0.2751096487173175,0.5475880158403673,0.5959525301521521,-0.1930623768638768,0.9522162211248725,0.24710194516308667,0.2098533608444933,-0.4177347350882414,-0.5378864350268977,1.356240901552392,-1.4358885908500325,-0.6150524345433597,0.5644000226091584,-1.7728965912212569,0.7478907531147889,-0.847680137605328,0.5243094753242314,-0.5629466077738976,0.7308720665035708,-0.5631609456231326,-0.5480544163023164,1.3806825978333803,-0.8168571159408491,-0.07071285909209492,0.42756541165848566,0.6239789663027165,1.5937867923838385,-0.15566204467470132,0.9617306773021843,-0.060748484458576946,1.7421582679490866,0.13032168838390243,0.3644249457854377,0.44826916791078275,0.5520991045312008,-1.4535333914643893,-1.6037467056567496,-0.2069767719603601,-0.5788263866043485,0.3991456611757954,-0.025966973025777936,0.6122427822789827,-1.2896420826915858,1.9841678768446551,0.5224878892863754,0.8353665562482017,0.12747466466086263,1.817142494989653,0.8376095471647783,0.5564802783508699,0.9063079284923069,1.168407555051154,-0.696805989983867,1.4977939685254351,0.8808587328159376,0.4155772726557158,0.4375653565107603,0.7133247647267615,0.8933324173851137,-1.6492894319540068,-0.33213880818894287,-1.6560909794244025,-1.009918484762426,-0.4687963402846757,0.6401161967456103,0.21746994993596683],\"xaxis\":\"x8\",\"y\":[0.3292464980445286,-0.1411389303037044,1.0690826737668286,-0.5670008289594736,1.5918584383121732,-0.49735820558161664,0.853020526947463,1.094407718690676,0.32727080169252115,-1.2226688074822474,2.686372841230928,-0.7662833800546549,-1.672436568832668,-0.3932022977635248,0.03263859066046469,-1.6761171971533155,-1.564322177542407,0.8727530667077585,2.8459920842255357,0.041262651325481056,0.6020364391158644,-1.274285368129067,0.37739388783722166,1.785008130491707,-1.0332839242660679,2.4939486777155886,0.981165538761148,0.9876494450648611,-1.392722155984482,-0.23872920769288078,1.4825111094062309,-0.8719477402420855,-0.8640186070736904,1.7498728402472519,0.5725682033786544,0.49847970058576085,0.4628575656278747,-0.06871206586372626,-0.14184373613844153,0.43328186425755827,-0.10749451342931048,-0.9398187865832206,-0.5251347550124181,1.635891869597316,-0.8844918823837958,-0.9090407559913615,0.519238719064138,-0.7090769497362426,0.8398486786419308,-0.2876594525112121,-0.882125919272093,0.04716098700964254,0.7473021164945799,-0.6205957612381642,0.07659494095782203,0.3029419326610615,-0.1457543020500506,-1.0147955229958847,-0.5348542967183831,-0.8781239565468124,-2.1411910267869123,-1.1388955510062049,-0.8087615847592627,-0.2994886393800132,-1.550632994942883,-0.07855287087348586,-0.09139415769032651,-0.3900148067474229,0.7748252201143693,-1.5355808667892057,-2.1694692520872296,-0.8250853605787378,0.3846735791487371,0.17890267605846233,-1.4735750220184796,0.07437116478387093,0.9218685071691737,-0.8205867482611652,0.5115358062357684,-1.2857938547393777,0.31221253198721455,-0.08234276520286833,0.4526207498721831,-0.4473360992885767,0.5766023641817422,-1.550026086832909,-0.7197254653986882,-0.2890094987331318,-0.9484949964302272,1.4749208841491077,0.8279588679944496,-0.2497528713488217,-0.7188559976596786,0.3947502727196581,-0.852203625860959,-0.4713126121808178,0.4880404775087967,-1.5681301594317518,-1.4119016649251277,0.0676585355782195],\"yaxis\":\"y8\",\"type\":\"scatter\"},{\"line\":{\"color\":\"rgba(128, 128, 128, 1.0)\",\"dash\":\"solid\",\"shape\":\"linear\",\"width\":1.3},\"marker\":{\"size\":2,\"symbol\":\"circle\"},\"mode\":\"markers\",\"name\":\"C\",\"text\":\"\",\"x\":[0.1501788668840338,-0.1756913710375011,0.13856736719365398,0.7219578807852828,0.02103035712203404,0.05372994782000095,-0.8597786699749488,-1.436764515074958,0.09773770467735642,-0.5090109468773343,0.058444993463366686,0.1528818965232011,-0.054374732419699146,-0.5195914547970374,-1.6451919722324309,-0.4078752816447025,1.7196902722861414,1.1277768696275943,-0.16700661819317372,0.4344680307743496,-0.4533598135068671,-0.17821655659170996,-0.5483023401387696,1.0642240577556783,0.15666741152753014,-2.296016560442535,1.6924661296080639,0.6072904612083375,0.6583268747437102,0.0232092808315366,0.25505441923380395,-1.7884002052880084,-1.0271998449996689,-1.3800108277280776,-0.3196999975289513,1.212423910875223,-0.8631824306196343,0.14045007863442893,0.03772705519209731,0.8741708927574366,-0.8956255423448548,0.5595218806674672,-0.13978226703197763,-1.3522532012187982,-0.11901794011161884,1.4943615882517902,-0.9021970825018301,-0.4943366411747155,0.5487766844925248,-0.2844232877660867,0.8340903018578912,-1.702365901238491,-0.7100490330331606,0.6674682457214097,-0.14091751691325238,-2.6175899502714532,-1.602147770857257,-0.7486305439753811,-0.6238082510908618,-0.9765058142343359,0.8819257132329856,-0.8444708401609161,1.3290859983817334,-0.33125058588237893,-2.4943073578839736,-0.09846938938603009,1.6319181413388584,0.2877837487161706,0.05661978916823122,0.19196078383633894,0.45447543421148245,-0.7471721117926763,0.5768918461100573,-0.42479111088633664,-2.6587930187849484,-0.879206416879864,-1.584685197756789,0.9913181768573425,0.6935908952151667,0.6174070873913775,-0.6594441738825568,-0.9226163312478916,0.9072689218965913,-3.4618100598071324,-2.8996735525378363,0.14764029916770435,-0.9304743038902059,-0.09148425443751493,-0.6947510262830392,0.48761583192883556,-0.8300069322754731,0.9919919641210598,-1.3828189356306078,-0.0436640865499939,-0.2851681411662788,1.6435752977827398,0.05788619121298352,0.5726843717948871,-0.8708498105504946,1.0442243483732725],\"xaxis\":\"x9\",\"y\":[0.890916480844037,-1.558527107511487,-1.8488925502815907,-0.6494576645259102,1.1280869396031745,-0.17952894882184547,-0.33810857909289344,-0.48878290989005213,-0.11938293447879825,-0.2989751410946798,0.4965499375088627,0.21636453352319893,0.2840717850111058,0.20735875936817524,-0.22565690187486223,1.1164757506873288,-0.6707234049274312,0.9424716687268028,1.6515063039689564,1.992774545960232,-0.5812924968657552,0.22810610570053838,-0.20849458732619003,1.1661466927440949,-0.28056452596092063,-0.049917163399387045,2.195637903300989,0.116948203171959,1.401933580717518,-2.0117372351060685,0.21559254965129362,-0.042744727939135044,-1.3345088876565672,0.5875791622511894,-1.0051348169849186,-0.44694599729049334,-0.9032149034697351,-0.9498465409084119,-0.7124254084325481,0.17135327657766145,-0.49806229420490383,-0.8328725348029663,-1.8732396301295586,0.28930476551203765,0.7510647311729514,1.3362719752061962,-0.1646996370888109,0.5644111124218038,-0.5944675628535963,1.1269513423335507,0.3178070052923227,-1.1988012057295312,0.9873656236415521,1.2476067769280317,0.5506614471733887,0.000814001257611384,1.4130552819529212,-0.22092645802391894,1.3288750160497649,0.1282526773031756,0.05123370962394723,0.537892346190286,0.8780740358004305,2.3230733411681275,-0.3702023676130841,-0.5213525592026007,1.3944034723368863,0.2966259186302385,1.1136273398847076,-0.05299962419798843,-1.01965507512544,-0.7704726221159278,0.24646521622835293,1.0811824290711995,-0.29499818540873474,1.6148381953265067,2.5014835838918628,0.552463771797649,-2.2293007713638215,0.6413036999649206,-1.645307584944108,0.6300421981899462,-0.45450498610227286,-0.3390119693617331,0.47305360720198797,0.2456761390603077,-0.9836097767809264,0.9871269020530777,0.09834186509548075,0.7208876227420822,-1.1877689956169983,1.5192828005896106,-1.381594152153304,-0.7197746248014946,0.011550420103289123,0.10147027582360378,-0.6872369274921748,1.650674227068161,0.9032065367878431,0.8130991610718596],\"yaxis\":\"y9\",\"type\":\"scatter\"},{\"line\":{\"color\":\"rgba(128, 128, 128, 1.0)\",\"dash\":\"solid\",\"shape\":\"linear\",\"width\":1.3},\"marker\":{\"size\":2,\"symbol\":\"circle\"},\"mode\":\"markers\",\"name\":\"C\",\"text\":\"\",\"x\":[0.3292464980445286,-0.1411389303037044,1.0690826737668286,-0.5670008289594736,1.5918584383121732,-0.49735820558161664,0.853020526947463,1.094407718690676,0.32727080169252115,-1.2226688074822474,2.686372841230928,-0.7662833800546549,-1.672436568832668,-0.3932022977635248,0.03263859066046469,-1.6761171971533155,-1.564322177542407,0.8727530667077585,2.8459920842255357,0.041262651325481056,0.6020364391158644,-1.274285368129067,0.37739388783722166,1.785008130491707,-1.0332839242660679,2.4939486777155886,0.981165538761148,0.9876494450648611,-1.392722155984482,-0.23872920769288078,1.4825111094062309,-0.8719477402420855,-0.8640186070736904,1.7498728402472519,0.5725682033786544,0.49847970058576085,0.4628575656278747,-0.06871206586372626,-0.14184373613844153,0.43328186425755827,-0.10749451342931048,-0.9398187865832206,-0.5251347550124181,1.635891869597316,-0.8844918823837958,-0.9090407559913615,0.519238719064138,-0.7090769497362426,0.8398486786419308,-0.2876594525112121,-0.882125919272093,0.04716098700964254,0.7473021164945799,-0.6205957612381642,0.07659494095782203,0.3029419326610615,-0.1457543020500506,-1.0147955229958847,-0.5348542967183831,-0.8781239565468124,-2.1411910267869123,-1.1388955510062049,-0.8087615847592627,-0.2994886393800132,-1.550632994942883,-0.07855287087348586,-0.09139415769032651,-0.3900148067474229,0.7748252201143693,-1.5355808667892057,-2.1694692520872296,-0.8250853605787378,0.3846735791487371,0.17890267605846233,-1.4735750220184796,0.07437116478387093,0.9218685071691737,-0.8205867482611652,0.5115358062357684,-1.2857938547393777,0.31221253198721455,-0.08234276520286833,0.4526207498721831,-0.4473360992885767,0.5766023641817422,-1.550026086832909,-0.7197254653986882,-0.2890094987331318,-0.9484949964302272,1.4749208841491077,0.8279588679944496,-0.2497528713488217,-0.7188559976596786,0.3947502727196581,-0.852203625860959,-0.4713126121808178,0.4880404775087967,-1.5681301594317518,-1.4119016649251277,0.0676585355782195],\"xaxis\":\"x10\",\"y\":[0.890916480844037,-1.558527107511487,-1.8488925502815907,-0.6494576645259102,1.1280869396031745,-0.17952894882184547,-0.33810857909289344,-0.48878290989005213,-0.11938293447879825,-0.2989751410946798,0.4965499375088627,0.21636453352319893,0.2840717850111058,0.20735875936817524,-0.22565690187486223,1.1164757506873288,-0.6707234049274312,0.9424716687268028,1.6515063039689564,1.992774545960232,-0.5812924968657552,0.22810610570053838,-0.20849458732619003,1.1661466927440949,-0.28056452596092063,-0.049917163399387045,2.195637903300989,0.116948203171959,1.401933580717518,-2.0117372351060685,0.21559254965129362,-0.042744727939135044,-1.3345088876565672,0.5875791622511894,-1.0051348169849186,-0.44694599729049334,-0.9032149034697351,-0.9498465409084119,-0.7124254084325481,0.17135327657766145,-0.49806229420490383,-0.8328725348029663,-1.8732396301295586,0.28930476551203765,0.7510647311729514,1.3362719752061962,-0.1646996370888109,0.5644111124218038,-0.5944675628535963,1.1269513423335507,0.3178070052923227,-1.1988012057295312,0.9873656236415521,1.2476067769280317,0.5506614471733887,0.000814001257611384,1.4130552819529212,-0.22092645802391894,1.3288750160497649,0.1282526773031756,0.05123370962394723,0.537892346190286,0.8780740358004305,2.3230733411681275,-0.3702023676130841,-0.5213525592026007,1.3944034723368863,0.2966259186302385,1.1136273398847076,-0.05299962419798843,-1.01965507512544,-0.7704726221159278,0.24646521622835293,1.0811824290711995,-0.29499818540873474,1.6148381953265067,2.5014835838918628,0.552463771797649,-2.2293007713638215,0.6413036999649206,-1.645307584944108,0.6300421981899462,-0.45450498610227286,-0.3390119693617331,0.47305360720198797,0.2456761390603077,-0.9836097767809264,0.9871269020530777,0.09834186509548075,0.7208876227420822,-1.1877689956169983,1.5192828005896106,-1.381594152153304,-0.7197746248014946,0.011550420103289123,0.10147027582360378,-0.6872369274921748,1.650674227068161,0.9032065367878431,0.8130991610718596],\"yaxis\":\"y10\",\"type\":\"scatter\"},{\"histfunc\":\"count\",\"histnorm\":\"\",\"marker\":{\"color\":\"rgba(50, 171, 96, 1.0)\",\"line\":{\"color\":\"#4D5663\",\"width\":1.3}},\"name\":\"C\",\"nbinsx\":10,\"opacity\":0.8,\"orientation\":\"v\",\"x\":[0.890916480844037,-1.558527107511487,-1.8488925502815907,-0.6494576645259102,1.1280869396031745,-0.17952894882184547,-0.33810857909289344,-0.48878290989005213,-0.11938293447879825,-0.2989751410946798,0.4965499375088627,0.21636453352319893,0.2840717850111058,0.20735875936817524,-0.22565690187486223,1.1164757506873288,-0.6707234049274312,0.9424716687268028,1.6515063039689564,1.992774545960232,-0.5812924968657552,0.22810610570053838,-0.20849458732619003,1.1661466927440949,-0.28056452596092063,-0.049917163399387045,2.195637903300989,0.116948203171959,1.401933580717518,-2.0117372351060685,0.21559254965129362,-0.042744727939135044,-1.3345088876565672,0.5875791622511894,-1.0051348169849186,-0.44694599729049334,-0.9032149034697351,-0.9498465409084119,-0.7124254084325481,0.17135327657766145,-0.49806229420490383,-0.8328725348029663,-1.8732396301295586,0.28930476551203765,0.7510647311729514,1.3362719752061962,-0.1646996370888109,0.5644111124218038,-0.5944675628535963,1.1269513423335507,0.3178070052923227,-1.1988012057295312,0.9873656236415521,1.2476067769280317,0.5506614471733887,0.000814001257611384,1.4130552819529212,-0.22092645802391894,1.3288750160497649,0.1282526773031756,0.05123370962394723,0.537892346190286,0.8780740358004305,2.3230733411681275,-0.3702023676130841,-0.5213525592026007,1.3944034723368863,0.2966259186302385,1.1136273398847076,-0.05299962419798843,-1.01965507512544,-0.7704726221159278,0.24646521622835293,1.0811824290711995,-0.29499818540873474,1.6148381953265067,2.5014835838918628,0.552463771797649,-2.2293007713638215,0.6413036999649206,-1.645307584944108,0.6300421981899462,-0.45450498610227286,-0.3390119693617331,0.47305360720198797,0.2456761390603077,-0.9836097767809264,0.9871269020530777,0.09834186509548075,0.7208876227420822,-1.1877689956169983,1.5192828005896106,-1.381594152153304,-0.7197746248014946,0.011550420103289123,0.10147027582360378,-0.6872369274921748,1.650674227068161,0.9032065367878431,0.8130991610718596],\"xaxis\":\"x11\",\"yaxis\":\"y11\",\"type\":\"histogram\"},{\"line\":{\"color\":\"rgba(128, 128, 128, 1.0)\",\"dash\":\"solid\",\"shape\":\"linear\",\"width\":1.3},\"marker\":{\"size\":2,\"symbol\":\"circle\"},\"mode\":\"markers\",\"name\":\"C\",\"text\":\"\",\"x\":[1.2238696611006687,0.2659016037253465,0.5348783333601433,-0.5152424203192356,0.7957817937572748,0.4316924718678004,0.13452532570970305,-1.1609585252578314,1.109688781111511,-0.25237472399053945,-0.4205306809125667,-0.13090388071271383,-0.12537996532960222,-0.10182788988671564,1.7665855788900615,0.28287032317227917,0.10235451464604306,1.729565277267111,-0.11314043958280795,1.0354429224865613,-0.34024824271522836,0.8210779437076364,0.4118759981850916,0.431616592821346,1.466797156861794,0.6557165096961052,-0.5858758532518111,0.433845796517269,0.5218602483278069,-0.36664316690916726,-1.0880539147526773,0.22471008032895676,-0.970253474769151,-0.8141627851447617,0.2751096487173175,0.5475880158403673,0.5959525301521521,-0.1930623768638768,0.9522162211248725,0.24710194516308667,0.2098533608444933,-0.4177347350882414,-0.5378864350268977,1.356240901552392,-1.4358885908500325,-0.6150524345433597,0.5644000226091584,-1.7728965912212569,0.7478907531147889,-0.847680137605328,0.5243094753242314,-0.5629466077738976,0.7308720665035708,-0.5631609456231326,-0.5480544163023164,1.3806825978333803,-0.8168571159408491,-0.07071285909209492,0.42756541165848566,0.6239789663027165,1.5937867923838385,-0.15566204467470132,0.9617306773021843,-0.060748484458576946,1.7421582679490866,0.13032168838390243,0.3644249457854377,0.44826916791078275,0.5520991045312008,-1.4535333914643893,-1.6037467056567496,-0.2069767719603601,-0.5788263866043485,0.3991456611757954,-0.025966973025777936,0.6122427822789827,-1.2896420826915858,1.9841678768446551,0.5224878892863754,0.8353665562482017,0.12747466466086263,1.817142494989653,0.8376095471647783,0.5564802783508699,0.9063079284923069,1.168407555051154,-0.696805989983867,1.4977939685254351,0.8808587328159376,0.4155772726557158,0.4375653565107603,0.7133247647267615,0.8933324173851137,-1.6492894319540068,-0.33213880818894287,-1.6560909794244025,-1.009918484762426,-0.4687963402846757,0.6401161967456103,0.21746994993596683],\"xaxis\":\"x12\",\"y\":[0.890916480844037,-1.558527107511487,-1.8488925502815907,-0.6494576645259102,1.1280869396031745,-0.17952894882184547,-0.33810857909289344,-0.48878290989005213,-0.11938293447879825,-0.2989751410946798,0.4965499375088627,0.21636453352319893,0.2840717850111058,0.20735875936817524,-0.22565690187486223,1.1164757506873288,-0.6707234049274312,0.9424716687268028,1.6515063039689564,1.992774545960232,-0.5812924968657552,0.22810610570053838,-0.20849458732619003,1.1661466927440949,-0.28056452596092063,-0.049917163399387045,2.195637903300989,0.116948203171959,1.401933580717518,-2.0117372351060685,0.21559254965129362,-0.042744727939135044,-1.3345088876565672,0.5875791622511894,-1.0051348169849186,-0.44694599729049334,-0.9032149034697351,-0.9498465409084119,-0.7124254084325481,0.17135327657766145,-0.49806229420490383,-0.8328725348029663,-1.8732396301295586,0.28930476551203765,0.7510647311729514,1.3362719752061962,-0.1646996370888109,0.5644111124218038,-0.5944675628535963,1.1269513423335507,0.3178070052923227,-1.1988012057295312,0.9873656236415521,1.2476067769280317,0.5506614471733887,0.000814001257611384,1.4130552819529212,-0.22092645802391894,1.3288750160497649,0.1282526773031756,0.05123370962394723,0.537892346190286,0.8780740358004305,2.3230733411681275,-0.3702023676130841,-0.5213525592026007,1.3944034723368863,0.2966259186302385,1.1136273398847076,-0.05299962419798843,-1.01965507512544,-0.7704726221159278,0.24646521622835293,1.0811824290711995,-0.29499818540873474,1.6148381953265067,2.5014835838918628,0.552463771797649,-2.2293007713638215,0.6413036999649206,-1.645307584944108,0.6300421981899462,-0.45450498610227286,-0.3390119693617331,0.47305360720198797,0.2456761390603077,-0.9836097767809264,0.9871269020530777,0.09834186509548075,0.7208876227420822,-1.1877689956169983,1.5192828005896106,-1.381594152153304,-0.7197746248014946,0.011550420103289123,0.10147027582360378,-0.6872369274921748,1.650674227068161,0.9032065367878431,0.8130991610718596],\"yaxis\":\"y12\",\"type\":\"scatter\"},{\"line\":{\"color\":\"rgba(128, 128, 128, 1.0)\",\"dash\":\"solid\",\"shape\":\"linear\",\"width\":1.3},\"marker\":{\"size\":2,\"symbol\":\"circle\"},\"mode\":\"markers\",\"name\":\"D\",\"text\":\"\",\"x\":[0.1501788668840338,-0.1756913710375011,0.13856736719365398,0.7219578807852828,0.02103035712203404,0.05372994782000095,-0.8597786699749488,-1.436764515074958,0.09773770467735642,-0.5090109468773343,0.058444993463366686,0.1528818965232011,-0.054374732419699146,-0.5195914547970374,-1.6451919722324309,-0.4078752816447025,1.7196902722861414,1.1277768696275943,-0.16700661819317372,0.4344680307743496,-0.4533598135068671,-0.17821655659170996,-0.5483023401387696,1.0642240577556783,0.15666741152753014,-2.296016560442535,1.6924661296080639,0.6072904612083375,0.6583268747437102,0.0232092808315366,0.25505441923380395,-1.7884002052880084,-1.0271998449996689,-1.3800108277280776,-0.3196999975289513,1.212423910875223,-0.8631824306196343,0.14045007863442893,0.03772705519209731,0.8741708927574366,-0.8956255423448548,0.5595218806674672,-0.13978226703197763,-1.3522532012187982,-0.11901794011161884,1.4943615882517902,-0.9021970825018301,-0.4943366411747155,0.5487766844925248,-0.2844232877660867,0.8340903018578912,-1.702365901238491,-0.7100490330331606,0.6674682457214097,-0.14091751691325238,-2.6175899502714532,-1.602147770857257,-0.7486305439753811,-0.6238082510908618,-0.9765058142343359,0.8819257132329856,-0.8444708401609161,1.3290859983817334,-0.33125058588237893,-2.4943073578839736,-0.09846938938603009,1.6319181413388584,0.2877837487161706,0.05661978916823122,0.19196078383633894,0.45447543421148245,-0.7471721117926763,0.5768918461100573,-0.42479111088633664,-2.6587930187849484,-0.879206416879864,-1.584685197756789,0.9913181768573425,0.6935908952151667,0.6174070873913775,-0.6594441738825568,-0.9226163312478916,0.9072689218965913,-3.4618100598071324,-2.8996735525378363,0.14764029916770435,-0.9304743038902059,-0.09148425443751493,-0.6947510262830392,0.48761583192883556,-0.8300069322754731,0.9919919641210598,-1.3828189356306078,-0.0436640865499939,-0.2851681411662788,1.6435752977827398,0.05788619121298352,0.5726843717948871,-0.8708498105504946,1.0442243483732725],\"xaxis\":\"x13\",\"y\":[1.2238696611006687,0.2659016037253465,0.5348783333601433,-0.5152424203192356,0.7957817937572748,0.4316924718678004,0.13452532570970305,-1.1609585252578314,1.109688781111511,-0.25237472399053945,-0.4205306809125667,-0.13090388071271383,-0.12537996532960222,-0.10182788988671564,1.7665855788900615,0.28287032317227917,0.10235451464604306,1.729565277267111,-0.11314043958280795,1.0354429224865613,-0.34024824271522836,0.8210779437076364,0.4118759981850916,0.431616592821346,1.466797156861794,0.6557165096961052,-0.5858758532518111,0.433845796517269,0.5218602483278069,-0.36664316690916726,-1.0880539147526773,0.22471008032895676,-0.970253474769151,-0.8141627851447617,0.2751096487173175,0.5475880158403673,0.5959525301521521,-0.1930623768638768,0.9522162211248725,0.24710194516308667,0.2098533608444933,-0.4177347350882414,-0.5378864350268977,1.356240901552392,-1.4358885908500325,-0.6150524345433597,0.5644000226091584,-1.7728965912212569,0.7478907531147889,-0.847680137605328,0.5243094753242314,-0.5629466077738976,0.7308720665035708,-0.5631609456231326,-0.5480544163023164,1.3806825978333803,-0.8168571159408491,-0.07071285909209492,0.42756541165848566,0.6239789663027165,1.5937867923838385,-0.15566204467470132,0.9617306773021843,-0.060748484458576946,1.7421582679490866,0.13032168838390243,0.3644249457854377,0.44826916791078275,0.5520991045312008,-1.4535333914643893,-1.6037467056567496,-0.2069767719603601,-0.5788263866043485,0.3991456611757954,-0.025966973025777936,0.6122427822789827,-1.2896420826915858,1.9841678768446551,0.5224878892863754,0.8353665562482017,0.12747466466086263,1.817142494989653,0.8376095471647783,0.5564802783508699,0.9063079284923069,1.168407555051154,-0.696805989983867,1.4977939685254351,0.8808587328159376,0.4155772726557158,0.4375653565107603,0.7133247647267615,0.8933324173851137,-1.6492894319540068,-0.33213880818894287,-1.6560909794244025,-1.009918484762426,-0.4687963402846757,0.6401161967456103,0.21746994993596683],\"yaxis\":\"y13\",\"type\":\"scatter\"},{\"line\":{\"color\":\"rgba(128, 128, 128, 1.0)\",\"dash\":\"solid\",\"shape\":\"linear\",\"width\":1.3},\"marker\":{\"size\":2,\"symbol\":\"circle\"},\"mode\":\"markers\",\"name\":\"D\",\"text\":\"\",\"x\":[0.3292464980445286,-0.1411389303037044,1.0690826737668286,-0.5670008289594736,1.5918584383121732,-0.49735820558161664,0.853020526947463,1.094407718690676,0.32727080169252115,-1.2226688074822474,2.686372841230928,-0.7662833800546549,-1.672436568832668,-0.3932022977635248,0.03263859066046469,-1.6761171971533155,-1.564322177542407,0.8727530667077585,2.8459920842255357,0.041262651325481056,0.6020364391158644,-1.274285368129067,0.37739388783722166,1.785008130491707,-1.0332839242660679,2.4939486777155886,0.981165538761148,0.9876494450648611,-1.392722155984482,-0.23872920769288078,1.4825111094062309,-0.8719477402420855,-0.8640186070736904,1.7498728402472519,0.5725682033786544,0.49847970058576085,0.4628575656278747,-0.06871206586372626,-0.14184373613844153,0.43328186425755827,-0.10749451342931048,-0.9398187865832206,-0.5251347550124181,1.635891869597316,-0.8844918823837958,-0.9090407559913615,0.519238719064138,-0.7090769497362426,0.8398486786419308,-0.2876594525112121,-0.882125919272093,0.04716098700964254,0.7473021164945799,-0.6205957612381642,0.07659494095782203,0.3029419326610615,-0.1457543020500506,-1.0147955229958847,-0.5348542967183831,-0.8781239565468124,-2.1411910267869123,-1.1388955510062049,-0.8087615847592627,-0.2994886393800132,-1.550632994942883,-0.07855287087348586,-0.09139415769032651,-0.3900148067474229,0.7748252201143693,-1.5355808667892057,-2.1694692520872296,-0.8250853605787378,0.3846735791487371,0.17890267605846233,-1.4735750220184796,0.07437116478387093,0.9218685071691737,-0.8205867482611652,0.5115358062357684,-1.2857938547393777,0.31221253198721455,-0.08234276520286833,0.4526207498721831,-0.4473360992885767,0.5766023641817422,-1.550026086832909,-0.7197254653986882,-0.2890094987331318,-0.9484949964302272,1.4749208841491077,0.8279588679944496,-0.2497528713488217,-0.7188559976596786,0.3947502727196581,-0.852203625860959,-0.4713126121808178,0.4880404775087967,-1.5681301594317518,-1.4119016649251277,0.0676585355782195],\"xaxis\":\"x14\",\"y\":[1.2238696611006687,0.2659016037253465,0.5348783333601433,-0.5152424203192356,0.7957817937572748,0.4316924718678004,0.13452532570970305,-1.1609585252578314,1.109688781111511,-0.25237472399053945,-0.4205306809125667,-0.13090388071271383,-0.12537996532960222,-0.10182788988671564,1.7665855788900615,0.28287032317227917,0.10235451464604306,1.729565277267111,-0.11314043958280795,1.0354429224865613,-0.34024824271522836,0.8210779437076364,0.4118759981850916,0.431616592821346,1.466797156861794,0.6557165096961052,-0.5858758532518111,0.433845796517269,0.5218602483278069,-0.36664316690916726,-1.0880539147526773,0.22471008032895676,-0.970253474769151,-0.8141627851447617,0.2751096487173175,0.5475880158403673,0.5959525301521521,-0.1930623768638768,0.9522162211248725,0.24710194516308667,0.2098533608444933,-0.4177347350882414,-0.5378864350268977,1.356240901552392,-1.4358885908500325,-0.6150524345433597,0.5644000226091584,-1.7728965912212569,0.7478907531147889,-0.847680137605328,0.5243094753242314,-0.5629466077738976,0.7308720665035708,-0.5631609456231326,-0.5480544163023164,1.3806825978333803,-0.8168571159408491,-0.07071285909209492,0.42756541165848566,0.6239789663027165,1.5937867923838385,-0.15566204467470132,0.9617306773021843,-0.060748484458576946,1.7421582679490866,0.13032168838390243,0.3644249457854377,0.44826916791078275,0.5520991045312008,-1.4535333914643893,-1.6037467056567496,-0.2069767719603601,-0.5788263866043485,0.3991456611757954,-0.025966973025777936,0.6122427822789827,-1.2896420826915858,1.9841678768446551,0.5224878892863754,0.8353665562482017,0.12747466466086263,1.817142494989653,0.8376095471647783,0.5564802783508699,0.9063079284923069,1.168407555051154,-0.696805989983867,1.4977939685254351,0.8808587328159376,0.4155772726557158,0.4375653565107603,0.7133247647267615,0.8933324173851137,-1.6492894319540068,-0.33213880818894287,-1.6560909794244025,-1.009918484762426,-0.4687963402846757,0.6401161967456103,0.21746994993596683],\"yaxis\":\"y14\",\"type\":\"scatter\"},{\"line\":{\"color\":\"rgba(128, 128, 128, 1.0)\",\"dash\":\"solid\",\"shape\":\"linear\",\"width\":1.3},\"marker\":{\"size\":2,\"symbol\":\"circle\"},\"mode\":\"markers\",\"name\":\"D\",\"text\":\"\",\"x\":[0.890916480844037,-1.558527107511487,-1.8488925502815907,-0.6494576645259102,1.1280869396031745,-0.17952894882184547,-0.33810857909289344,-0.48878290989005213,-0.11938293447879825,-0.2989751410946798,0.4965499375088627,0.21636453352319893,0.2840717850111058,0.20735875936817524,-0.22565690187486223,1.1164757506873288,-0.6707234049274312,0.9424716687268028,1.6515063039689564,1.992774545960232,-0.5812924968657552,0.22810610570053838,-0.20849458732619003,1.1661466927440949,-0.28056452596092063,-0.049917163399387045,2.195637903300989,0.116948203171959,1.401933580717518,-2.0117372351060685,0.21559254965129362,-0.042744727939135044,-1.3345088876565672,0.5875791622511894,-1.0051348169849186,-0.44694599729049334,-0.9032149034697351,-0.9498465409084119,-0.7124254084325481,0.17135327657766145,-0.49806229420490383,-0.8328725348029663,-1.8732396301295586,0.28930476551203765,0.7510647311729514,1.3362719752061962,-0.1646996370888109,0.5644111124218038,-0.5944675628535963,1.1269513423335507,0.3178070052923227,-1.1988012057295312,0.9873656236415521,1.2476067769280317,0.5506614471733887,0.000814001257611384,1.4130552819529212,-0.22092645802391894,1.3288750160497649,0.1282526773031756,0.05123370962394723,0.537892346190286,0.8780740358004305,2.3230733411681275,-0.3702023676130841,-0.5213525592026007,1.3944034723368863,0.2966259186302385,1.1136273398847076,-0.05299962419798843,-1.01965507512544,-0.7704726221159278,0.24646521622835293,1.0811824290711995,-0.29499818540873474,1.6148381953265067,2.5014835838918628,0.552463771797649,-2.2293007713638215,0.6413036999649206,-1.645307584944108,0.6300421981899462,-0.45450498610227286,-0.3390119693617331,0.47305360720198797,0.2456761390603077,-0.9836097767809264,0.9871269020530777,0.09834186509548075,0.7208876227420822,-1.1877689956169983,1.5192828005896106,-1.381594152153304,-0.7197746248014946,0.011550420103289123,0.10147027582360378,-0.6872369274921748,1.650674227068161,0.9032065367878431,0.8130991610718596],\"xaxis\":\"x15\",\"y\":[1.2238696611006687,0.2659016037253465,0.5348783333601433,-0.5152424203192356,0.7957817937572748,0.4316924718678004,0.13452532570970305,-1.1609585252578314,1.109688781111511,-0.25237472399053945,-0.4205306809125667,-0.13090388071271383,-0.12537996532960222,-0.10182788988671564,1.7665855788900615,0.28287032317227917,0.10235451464604306,1.729565277267111,-0.11314043958280795,1.0354429224865613,-0.34024824271522836,0.8210779437076364,0.4118759981850916,0.431616592821346,1.466797156861794,0.6557165096961052,-0.5858758532518111,0.433845796517269,0.5218602483278069,-0.36664316690916726,-1.0880539147526773,0.22471008032895676,-0.970253474769151,-0.8141627851447617,0.2751096487173175,0.5475880158403673,0.5959525301521521,-0.1930623768638768,0.9522162211248725,0.24710194516308667,0.2098533608444933,-0.4177347350882414,-0.5378864350268977,1.356240901552392,-1.4358885908500325,-0.6150524345433597,0.5644000226091584,-1.7728965912212569,0.7478907531147889,-0.847680137605328,0.5243094753242314,-0.5629466077738976,0.7308720665035708,-0.5631609456231326,-0.5480544163023164,1.3806825978333803,-0.8168571159408491,-0.07071285909209492,0.42756541165848566,0.6239789663027165,1.5937867923838385,-0.15566204467470132,0.9617306773021843,-0.060748484458576946,1.7421582679490866,0.13032168838390243,0.3644249457854377,0.44826916791078275,0.5520991045312008,-1.4535333914643893,-1.6037467056567496,-0.2069767719603601,-0.5788263866043485,0.3991456611757954,-0.025966973025777936,0.6122427822789827,-1.2896420826915858,1.9841678768446551,0.5224878892863754,0.8353665562482017,0.12747466466086263,1.817142494989653,0.8376095471647783,0.5564802783508699,0.9063079284923069,1.168407555051154,-0.696805989983867,1.4977939685254351,0.8808587328159376,0.4155772726557158,0.4375653565107603,0.7133247647267615,0.8933324173851137,-1.6492894319540068,-0.33213880818894287,-1.6560909794244025,-1.009918484762426,-0.4687963402846757,0.6401161967456103,0.21746994993596683],\"yaxis\":\"y15\",\"type\":\"scatter\"},{\"histfunc\":\"count\",\"histnorm\":\"\",\"marker\":{\"color\":\"rgba(128, 0, 128, 1.0)\",\"line\":{\"color\":\"#4D5663\",\"width\":1.3}},\"name\":\"D\",\"nbinsx\":10,\"opacity\":0.8,\"orientation\":\"v\",\"x\":[1.2238696611006687,0.2659016037253465,0.5348783333601433,-0.5152424203192356,0.7957817937572748,0.4316924718678004,0.13452532570970305,-1.1609585252578314,1.109688781111511,-0.25237472399053945,-0.4205306809125667,-0.13090388071271383,-0.12537996532960222,-0.10182788988671564,1.7665855788900615,0.28287032317227917,0.10235451464604306,1.729565277267111,-0.11314043958280795,1.0354429224865613,-0.34024824271522836,0.8210779437076364,0.4118759981850916,0.431616592821346,1.466797156861794,0.6557165096961052,-0.5858758532518111,0.433845796517269,0.5218602483278069,-0.36664316690916726,-1.0880539147526773,0.22471008032895676,-0.970253474769151,-0.8141627851447617,0.2751096487173175,0.5475880158403673,0.5959525301521521,-0.1930623768638768,0.9522162211248725,0.24710194516308667,0.2098533608444933,-0.4177347350882414,-0.5378864350268977,1.356240901552392,-1.4358885908500325,-0.6150524345433597,0.5644000226091584,-1.7728965912212569,0.7478907531147889,-0.847680137605328,0.5243094753242314,-0.5629466077738976,0.7308720665035708,-0.5631609456231326,-0.5480544163023164,1.3806825978333803,-0.8168571159408491,-0.07071285909209492,0.42756541165848566,0.6239789663027165,1.5937867923838385,-0.15566204467470132,0.9617306773021843,-0.060748484458576946,1.7421582679490866,0.13032168838390243,0.3644249457854377,0.44826916791078275,0.5520991045312008,-1.4535333914643893,-1.6037467056567496,-0.2069767719603601,-0.5788263866043485,0.3991456611757954,-0.025966973025777936,0.6122427822789827,-1.2896420826915858,1.9841678768446551,0.5224878892863754,0.8353665562482017,0.12747466466086263,1.817142494989653,0.8376095471647783,0.5564802783508699,0.9063079284923069,1.168407555051154,-0.696805989983867,1.4977939685254351,0.8808587328159376,0.4155772726557158,0.4375653565107603,0.7133247647267615,0.8933324173851137,-1.6492894319540068,-0.33213880818894287,-1.6560909794244025,-1.009918484762426,-0.4687963402846757,0.6401161967456103,0.21746994993596683],\"xaxis\":\"x16\",\"yaxis\":\"y16\",\"type\":\"histogram\"}],                        {\"bargap\":0.02,\"legend\":{\"bgcolor\":\"#F5F6F9\",\"font\":{\"color\":\"#4D5663\"}},\"paper_bgcolor\":\"#F5F6F9\",\"plot_bgcolor\":\"#F5F6F9\",\"showlegend\":false,\"template\":{\"data\":{\"barpolar\":[{\"marker\":{\"line\":{\"color\":\"#E5ECF6\",\"width\":0.5},\"pattern\":{\"fillmode\":\"overlay\",\"size\":10,\"solidity\":0.2}},\"type\":\"barpolar\"}],\"bar\":[{\"error_x\":{\"color\":\"#2a3f5f\"},\"error_y\":{\"color\":\"#2a3f5f\"},\"marker\":{\"line\":{\"color\":\"#E5ECF6\",\"width\":0.5},\"pattern\":{\"fillmode\":\"overlay\",\"size\":10,\"solidity\":0.2}},\"type\":\"bar\"}],\"carpet\":[{\"aaxis\":{\"endlinecolor\":\"#2a3f5f\",\"gridcolor\":\"white\",\"linecolor\":\"white\",\"minorgridcolor\":\"white\",\"startlinecolor\":\"#2a3f5f\"},\"baxis\":{\"endlinecolor\":\"#2a3f5f\",\"gridcolor\":\"white\",\"linecolor\":\"white\",\"minorgridcolor\":\"white\",\"startlinecolor\":\"#2a3f5f\"},\"type\":\"carpet\"}],\"choropleth\":[{\"colorbar\":{\"outlinewidth\":0,\"ticks\":\"\"},\"type\":\"choropleth\"}],\"contourcarpet\":[{\"colorbar\":{\"outlinewidth\":0,\"ticks\":\"\"},\"type\":\"contourcarpet\"}],\"contour\":[{\"colorbar\":{\"outlinewidth\":0,\"ticks\":\"\"},\"colorscale\":[[0.0,\"#0d0887\"],[0.1111111111111111,\"#46039f\"],[0.2222222222222222,\"#7201a8\"],[0.3333333333333333,\"#9c179e\"],[0.4444444444444444,\"#bd3786\"],[0.5555555555555556,\"#d8576b\"],[0.6666666666666666,\"#ed7953\"],[0.7777777777777778,\"#fb9f3a\"],[0.8888888888888888,\"#fdca26\"],[1.0,\"#f0f921\"]],\"type\":\"contour\"}],\"heatmapgl\":[{\"colorbar\":{\"outlinewidth\":0,\"ticks\":\"\"},\"colorscale\":[[0.0,\"#0d0887\"],[0.1111111111111111,\"#46039f\"],[0.2222222222222222,\"#7201a8\"],[0.3333333333333333,\"#9c179e\"],[0.4444444444444444,\"#bd3786\"],[0.5555555555555556,\"#d8576b\"],[0.6666666666666666,\"#ed7953\"],[0.7777777777777778,\"#fb9f3a\"],[0.8888888888888888,\"#fdca26\"],[1.0,\"#f0f921\"]],\"type\":\"heatmapgl\"}],\"heatmap\":[{\"colorbar\":{\"outlinewidth\":0,\"ticks\":\"\"},\"colorscale\":[[0.0,\"#0d0887\"],[0.1111111111111111,\"#46039f\"],[0.2222222222222222,\"#7201a8\"],[0.3333333333333333,\"#9c179e\"],[0.4444444444444444,\"#bd3786\"],[0.5555555555555556,\"#d8576b\"],[0.6666666666666666,\"#ed7953\"],[0.7777777777777778,\"#fb9f3a\"],[0.8888888888888888,\"#fdca26\"],[1.0,\"#f0f921\"]],\"type\":\"heatmap\"}],\"histogram2dcontour\":[{\"colorbar\":{\"outlinewidth\":0,\"ticks\":\"\"},\"colorscale\":[[0.0,\"#0d0887\"],[0.1111111111111111,\"#46039f\"],[0.2222222222222222,\"#7201a8\"],[0.3333333333333333,\"#9c179e\"],[0.4444444444444444,\"#bd3786\"],[0.5555555555555556,\"#d8576b\"],[0.6666666666666666,\"#ed7953\"],[0.7777777777777778,\"#fb9f3a\"],[0.8888888888888888,\"#fdca26\"],[1.0,\"#f0f921\"]],\"type\":\"histogram2dcontour\"}],\"histogram2d\":[{\"colorbar\":{\"outlinewidth\":0,\"ticks\":\"\"},\"colorscale\":[[0.0,\"#0d0887\"],[0.1111111111111111,\"#46039f\"],[0.2222222222222222,\"#7201a8\"],[0.3333333333333333,\"#9c179e\"],[0.4444444444444444,\"#bd3786\"],[0.5555555555555556,\"#d8576b\"],[0.6666666666666666,\"#ed7953\"],[0.7777777777777778,\"#fb9f3a\"],[0.8888888888888888,\"#fdca26\"],[1.0,\"#f0f921\"]],\"type\":\"histogram2d\"}],\"histogram\":[{\"marker\":{\"pattern\":{\"fillmode\":\"overlay\",\"size\":10,\"solidity\":0.2}},\"type\":\"histogram\"}],\"mesh3d\":[{\"colorbar\":{\"outlinewidth\":0,\"ticks\":\"\"},\"type\":\"mesh3d\"}],\"parcoords\":[{\"line\":{\"colorbar\":{\"outlinewidth\":0,\"ticks\":\"\"}},\"type\":\"parcoords\"}],\"pie\":[{\"automargin\":true,\"type\":\"pie\"}],\"scatter3d\":[{\"line\":{\"colorbar\":{\"outlinewidth\":0,\"ticks\":\"\"}},\"marker\":{\"colorbar\":{\"outlinewidth\":0,\"ticks\":\"\"}},\"type\":\"scatter3d\"}],\"scattercarpet\":[{\"marker\":{\"colorbar\":{\"outlinewidth\":0,\"ticks\":\"\"}},\"type\":\"scattercarpet\"}],\"scattergeo\":[{\"marker\":{\"colorbar\":{\"outlinewidth\":0,\"ticks\":\"\"}},\"type\":\"scattergeo\"}],\"scattergl\":[{\"marker\":{\"colorbar\":{\"outlinewidth\":0,\"ticks\":\"\"}},\"type\":\"scattergl\"}],\"scattermapbox\":[{\"marker\":{\"colorbar\":{\"outlinewidth\":0,\"ticks\":\"\"}},\"type\":\"scattermapbox\"}],\"scatterpolargl\":[{\"marker\":{\"colorbar\":{\"outlinewidth\":0,\"ticks\":\"\"}},\"type\":\"scatterpolargl\"}],\"scatterpolar\":[{\"marker\":{\"colorbar\":{\"outlinewidth\":0,\"ticks\":\"\"}},\"type\":\"scatterpolar\"}],\"scatter\":[{\"fillpattern\":{\"fillmode\":\"overlay\",\"size\":10,\"solidity\":0.2},\"type\":\"scatter\"}],\"scatterternary\":[{\"marker\":{\"colorbar\":{\"outlinewidth\":0,\"ticks\":\"\"}},\"type\":\"scatterternary\"}],\"surface\":[{\"colorbar\":{\"outlinewidth\":0,\"ticks\":\"\"},\"colorscale\":[[0.0,\"#0d0887\"],[0.1111111111111111,\"#46039f\"],[0.2222222222222222,\"#7201a8\"],[0.3333333333333333,\"#9c179e\"],[0.4444444444444444,\"#bd3786\"],[0.5555555555555556,\"#d8576b\"],[0.6666666666666666,\"#ed7953\"],[0.7777777777777778,\"#fb9f3a\"],[0.8888888888888888,\"#fdca26\"],[1.0,\"#f0f921\"]],\"type\":\"surface\"}],\"table\":[{\"cells\":{\"fill\":{\"color\":\"#EBF0F8\"},\"line\":{\"color\":\"white\"}},\"header\":{\"fill\":{\"color\":\"#C8D4E3\"},\"line\":{\"color\":\"white\"}},\"type\":\"table\"}]},\"layout\":{\"annotationdefaults\":{\"arrowcolor\":\"#2a3f5f\",\"arrowhead\":0,\"arrowwidth\":1},\"autotypenumbers\":\"strict\",\"coloraxis\":{\"colorbar\":{\"outlinewidth\":0,\"ticks\":\"\"}},\"colorscale\":{\"diverging\":[[0,\"#8e0152\"],[0.1,\"#c51b7d\"],[0.2,\"#de77ae\"],[0.3,\"#f1b6da\"],[0.4,\"#fde0ef\"],[0.5,\"#f7f7f7\"],[0.6,\"#e6f5d0\"],[0.7,\"#b8e186\"],[0.8,\"#7fbc41\"],[0.9,\"#4d9221\"],[1,\"#276419\"]],\"sequential\":[[0.0,\"#0d0887\"],[0.1111111111111111,\"#46039f\"],[0.2222222222222222,\"#7201a8\"],[0.3333333333333333,\"#9c179e\"],[0.4444444444444444,\"#bd3786\"],[0.5555555555555556,\"#d8576b\"],[0.6666666666666666,\"#ed7953\"],[0.7777777777777778,\"#fb9f3a\"],[0.8888888888888888,\"#fdca26\"],[1.0,\"#f0f921\"]],\"sequentialminus\":[[0.0,\"#0d0887\"],[0.1111111111111111,\"#46039f\"],[0.2222222222222222,\"#7201a8\"],[0.3333333333333333,\"#9c179e\"],[0.4444444444444444,\"#bd3786\"],[0.5555555555555556,\"#d8576b\"],[0.6666666666666666,\"#ed7953\"],[0.7777777777777778,\"#fb9f3a\"],[0.8888888888888888,\"#fdca26\"],[1.0,\"#f0f921\"]]},\"colorway\":[\"#636efa\",\"#EF553B\",\"#00cc96\",\"#ab63fa\",\"#FFA15A\",\"#19d3f3\",\"#FF6692\",\"#B6E880\",\"#FF97FF\",\"#FECB52\"],\"font\":{\"color\":\"#2a3f5f\"},\"geo\":{\"bgcolor\":\"white\",\"lakecolor\":\"white\",\"landcolor\":\"#E5ECF6\",\"showlakes\":true,\"showland\":true,\"subunitcolor\":\"white\"},\"hoverlabel\":{\"align\":\"left\"},\"hovermode\":\"closest\",\"mapbox\":{\"style\":\"light\"},\"paper_bgcolor\":\"white\",\"plot_bgcolor\":\"#E5ECF6\",\"polar\":{\"angularaxis\":{\"gridcolor\":\"white\",\"linecolor\":\"white\",\"ticks\":\"\"},\"bgcolor\":\"#E5ECF6\",\"radialaxis\":{\"gridcolor\":\"white\",\"linecolor\":\"white\",\"ticks\":\"\"}},\"scene\":{\"xaxis\":{\"backgroundcolor\":\"#E5ECF6\",\"gridcolor\":\"white\",\"gridwidth\":2,\"linecolor\":\"white\",\"showbackground\":true,\"ticks\":\"\",\"zerolinecolor\":\"white\"},\"yaxis\":{\"backgroundcolor\":\"#E5ECF6\",\"gridcolor\":\"white\",\"gridwidth\":2,\"linecolor\":\"white\",\"showbackground\":true,\"ticks\":\"\",\"zerolinecolor\":\"white\"},\"zaxis\":{\"backgroundcolor\":\"#E5ECF6\",\"gridcolor\":\"white\",\"gridwidth\":2,\"linecolor\":\"white\",\"showbackground\":true,\"ticks\":\"\",\"zerolinecolor\":\"white\"}},\"shapedefaults\":{\"line\":{\"color\":\"#2a3f5f\"}},\"ternary\":{\"aaxis\":{\"gridcolor\":\"white\",\"linecolor\":\"white\",\"ticks\":\"\"},\"baxis\":{\"gridcolor\":\"white\",\"linecolor\":\"white\",\"ticks\":\"\"},\"bgcolor\":\"#E5ECF6\",\"caxis\":{\"gridcolor\":\"white\",\"linecolor\":\"white\",\"ticks\":\"\"}},\"title\":{\"x\":0.05},\"xaxis\":{\"automargin\":true,\"gridcolor\":\"white\",\"linecolor\":\"white\",\"ticks\":\"\",\"title\":{\"standoff\":15},\"zerolinecolor\":\"white\",\"zerolinewidth\":2},\"yaxis\":{\"automargin\":true,\"gridcolor\":\"white\",\"linecolor\":\"white\",\"ticks\":\"\",\"title\":{\"standoff\":15},\"zerolinecolor\":\"white\",\"zerolinewidth\":2}}},\"title\":{\"font\":{\"color\":\"#4D5663\"}},\"xaxis\":{\"anchor\":\"y\",\"domain\":[0.0,0.2125],\"gridcolor\":\"#E1E5ED\",\"showgrid\":false,\"tickfont\":{\"color\":\"#4D5663\"},\"title\":{\"font\":{\"color\":\"#4D5663\"},\"text\":\"\"},\"zerolinecolor\":\"#E1E5ED\"},\"yaxis\":{\"anchor\":\"x\",\"domain\":[0.8025,1.0],\"gridcolor\":\"#E1E5ED\",\"showgrid\":false,\"tickfont\":{\"color\":\"#4D5663\"},\"title\":{\"font\":{\"color\":\"#4D5663\"},\"text\":\"\"},\"zerolinecolor\":\"#E1E5ED\"},\"xaxis2\":{\"anchor\":\"y2\",\"domain\":[0.2625,0.475],\"gridcolor\":\"#E1E5ED\",\"showgrid\":false,\"tickfont\":{\"color\":\"#4D5663\"},\"title\":{\"font\":{\"color\":\"#4D5663\"},\"text\":\"\"},\"zerolinecolor\":\"#E1E5ED\"},\"yaxis2\":{\"anchor\":\"x2\",\"domain\":[0.8025,1.0],\"gridcolor\":\"#E1E5ED\",\"showgrid\":false,\"tickfont\":{\"color\":\"#4D5663\"},\"title\":{\"font\":{\"color\":\"#4D5663\"},\"text\":\"\"},\"zerolinecolor\":\"#E1E5ED\"},\"xaxis3\":{\"anchor\":\"y3\",\"domain\":[0.525,0.7375],\"gridcolor\":\"#E1E5ED\",\"showgrid\":false,\"tickfont\":{\"color\":\"#4D5663\"},\"title\":{\"font\":{\"color\":\"#4D5663\"},\"text\":\"\"},\"zerolinecolor\":\"#E1E5ED\"},\"yaxis3\":{\"anchor\":\"x3\",\"domain\":[0.8025,1.0],\"gridcolor\":\"#E1E5ED\",\"showgrid\":false,\"tickfont\":{\"color\":\"#4D5663\"},\"title\":{\"font\":{\"color\":\"#4D5663\"},\"text\":\"\"},\"zerolinecolor\":\"#E1E5ED\"},\"xaxis4\":{\"anchor\":\"y4\",\"domain\":[0.7875,1.0],\"gridcolor\":\"#E1E5ED\",\"showgrid\":false,\"tickfont\":{\"color\":\"#4D5663\"},\"title\":{\"font\":{\"color\":\"#4D5663\"},\"text\":\"\"},\"zerolinecolor\":\"#E1E5ED\"},\"yaxis4\":{\"anchor\":\"x4\",\"domain\":[0.8025,1.0],\"gridcolor\":\"#E1E5ED\",\"showgrid\":false,\"tickfont\":{\"color\":\"#4D5663\"},\"title\":{\"font\":{\"color\":\"#4D5663\"},\"text\":\"\"},\"zerolinecolor\":\"#E1E5ED\"},\"xaxis5\":{\"anchor\":\"y5\",\"domain\":[0.0,0.2125],\"gridcolor\":\"#E1E5ED\",\"showgrid\":false,\"tickfont\":{\"color\":\"#4D5663\"},\"title\":{\"font\":{\"color\":\"#4D5663\"},\"text\":\"\"},\"zerolinecolor\":\"#E1E5ED\"},\"yaxis5\":{\"anchor\":\"x5\",\"domain\":[0.535,0.7325],\"gridcolor\":\"#E1E5ED\",\"showgrid\":false,\"tickfont\":{\"color\":\"#4D5663\"},\"title\":{\"font\":{\"color\":\"#4D5663\"},\"text\":\"\"},\"zerolinecolor\":\"#E1E5ED\"},\"xaxis6\":{\"anchor\":\"y6\",\"domain\":[0.2625,0.475],\"gridcolor\":\"#E1E5ED\",\"showgrid\":false,\"tickfont\":{\"color\":\"#4D5663\"},\"title\":{\"font\":{\"color\":\"#4D5663\"},\"text\":\"\"},\"zerolinecolor\":\"#E1E5ED\"},\"yaxis6\":{\"anchor\":\"x6\",\"domain\":[0.535,0.7325],\"gridcolor\":\"#E1E5ED\",\"showgrid\":false,\"tickfont\":{\"color\":\"#4D5663\"},\"title\":{\"font\":{\"color\":\"#4D5663\"},\"text\":\"\"},\"zerolinecolor\":\"#E1E5ED\"},\"xaxis7\":{\"anchor\":\"y7\",\"domain\":[0.525,0.7375],\"gridcolor\":\"#E1E5ED\",\"showgrid\":false,\"tickfont\":{\"color\":\"#4D5663\"},\"title\":{\"font\":{\"color\":\"#4D5663\"},\"text\":\"\"},\"zerolinecolor\":\"#E1E5ED\"},\"yaxis7\":{\"anchor\":\"x7\",\"domain\":[0.535,0.7325],\"gridcolor\":\"#E1E5ED\",\"showgrid\":false,\"tickfont\":{\"color\":\"#4D5663\"},\"title\":{\"font\":{\"color\":\"#4D5663\"},\"text\":\"\"},\"zerolinecolor\":\"#E1E5ED\"},\"xaxis8\":{\"anchor\":\"y8\",\"domain\":[0.7875,1.0],\"gridcolor\":\"#E1E5ED\",\"showgrid\":false,\"tickfont\":{\"color\":\"#4D5663\"},\"title\":{\"font\":{\"color\":\"#4D5663\"},\"text\":\"\"},\"zerolinecolor\":\"#E1E5ED\"},\"yaxis8\":{\"anchor\":\"x8\",\"domain\":[0.535,0.7325],\"gridcolor\":\"#E1E5ED\",\"showgrid\":false,\"tickfont\":{\"color\":\"#4D5663\"},\"title\":{\"font\":{\"color\":\"#4D5663\"},\"text\":\"\"},\"zerolinecolor\":\"#E1E5ED\"},\"xaxis9\":{\"anchor\":\"y9\",\"domain\":[0.0,0.2125],\"gridcolor\":\"#E1E5ED\",\"showgrid\":false,\"tickfont\":{\"color\":\"#4D5663\"},\"title\":{\"font\":{\"color\":\"#4D5663\"},\"text\":\"\"},\"zerolinecolor\":\"#E1E5ED\"},\"yaxis9\":{\"anchor\":\"x9\",\"domain\":[0.2675,0.465],\"gridcolor\":\"#E1E5ED\",\"showgrid\":false,\"tickfont\":{\"color\":\"#4D5663\"},\"title\":{\"font\":{\"color\":\"#4D5663\"},\"text\":\"\"},\"zerolinecolor\":\"#E1E5ED\"},\"xaxis10\":{\"anchor\":\"y10\",\"domain\":[0.2625,0.475],\"gridcolor\":\"#E1E5ED\",\"showgrid\":false,\"tickfont\":{\"color\":\"#4D5663\"},\"title\":{\"font\":{\"color\":\"#4D5663\"},\"text\":\"\"},\"zerolinecolor\":\"#E1E5ED\"},\"yaxis10\":{\"anchor\":\"x10\",\"domain\":[0.2675,0.465],\"gridcolor\":\"#E1E5ED\",\"showgrid\":false,\"tickfont\":{\"color\":\"#4D5663\"},\"title\":{\"font\":{\"color\":\"#4D5663\"},\"text\":\"\"},\"zerolinecolor\":\"#E1E5ED\"},\"xaxis11\":{\"anchor\":\"y11\",\"domain\":[0.525,0.7375],\"gridcolor\":\"#E1E5ED\",\"showgrid\":false,\"tickfont\":{\"color\":\"#4D5663\"},\"title\":{\"font\":{\"color\":\"#4D5663\"},\"text\":\"\"},\"zerolinecolor\":\"#E1E5ED\"},\"yaxis11\":{\"anchor\":\"x11\",\"domain\":[0.2675,0.465],\"gridcolor\":\"#E1E5ED\",\"showgrid\":false,\"tickfont\":{\"color\":\"#4D5663\"},\"title\":{\"font\":{\"color\":\"#4D5663\"},\"text\":\"\"},\"zerolinecolor\":\"#E1E5ED\"},\"xaxis12\":{\"anchor\":\"y12\",\"domain\":[0.7875,1.0],\"gridcolor\":\"#E1E5ED\",\"showgrid\":false,\"tickfont\":{\"color\":\"#4D5663\"},\"title\":{\"font\":{\"color\":\"#4D5663\"},\"text\":\"\"},\"zerolinecolor\":\"#E1E5ED\"},\"yaxis12\":{\"anchor\":\"x12\",\"domain\":[0.2675,0.465],\"gridcolor\":\"#E1E5ED\",\"showgrid\":false,\"tickfont\":{\"color\":\"#4D5663\"},\"title\":{\"font\":{\"color\":\"#4D5663\"},\"text\":\"\"},\"zerolinecolor\":\"#E1E5ED\"},\"xaxis13\":{\"anchor\":\"y13\",\"domain\":[0.0,0.2125],\"gridcolor\":\"#E1E5ED\",\"showgrid\":false,\"tickfont\":{\"color\":\"#4D5663\"},\"title\":{\"font\":{\"color\":\"#4D5663\"},\"text\":\"\"},\"zerolinecolor\":\"#E1E5ED\"},\"yaxis13\":{\"anchor\":\"x13\",\"domain\":[0.0,0.1975],\"gridcolor\":\"#E1E5ED\",\"showgrid\":false,\"tickfont\":{\"color\":\"#4D5663\"},\"title\":{\"font\":{\"color\":\"#4D5663\"},\"text\":\"\"},\"zerolinecolor\":\"#E1E5ED\"},\"xaxis14\":{\"anchor\":\"y14\",\"domain\":[0.2625,0.475],\"gridcolor\":\"#E1E5ED\",\"showgrid\":false,\"tickfont\":{\"color\":\"#4D5663\"},\"title\":{\"font\":{\"color\":\"#4D5663\"},\"text\":\"\"},\"zerolinecolor\":\"#E1E5ED\"},\"yaxis14\":{\"anchor\":\"x14\",\"domain\":[0.0,0.1975],\"gridcolor\":\"#E1E5ED\",\"showgrid\":false,\"tickfont\":{\"color\":\"#4D5663\"},\"title\":{\"font\":{\"color\":\"#4D5663\"},\"text\":\"\"},\"zerolinecolor\":\"#E1E5ED\"},\"xaxis15\":{\"anchor\":\"y15\",\"domain\":[0.525,0.7375],\"gridcolor\":\"#E1E5ED\",\"showgrid\":false,\"tickfont\":{\"color\":\"#4D5663\"},\"title\":{\"font\":{\"color\":\"#4D5663\"},\"text\":\"\"},\"zerolinecolor\":\"#E1E5ED\"},\"yaxis15\":{\"anchor\":\"x15\",\"domain\":[0.0,0.1975],\"gridcolor\":\"#E1E5ED\",\"showgrid\":false,\"tickfont\":{\"color\":\"#4D5663\"},\"title\":{\"font\":{\"color\":\"#4D5663\"},\"text\":\"\"},\"zerolinecolor\":\"#E1E5ED\"},\"xaxis16\":{\"anchor\":\"y16\",\"domain\":[0.7875,1.0],\"gridcolor\":\"#E1E5ED\",\"showgrid\":false,\"tickfont\":{\"color\":\"#4D5663\"},\"title\":{\"font\":{\"color\":\"#4D5663\"},\"text\":\"\"},\"zerolinecolor\":\"#E1E5ED\"},\"yaxis16\":{\"anchor\":\"x16\",\"domain\":[0.0,0.1975],\"gridcolor\":\"#E1E5ED\",\"showgrid\":false,\"tickfont\":{\"color\":\"#4D5663\"},\"title\":{\"font\":{\"color\":\"#4D5663\"},\"text\":\"\"},\"zerolinecolor\":\"#E1E5ED\"}},                        {\"showLink\": true, \"linkText\": \"Export to plot.ly\", \"plotlyServerURL\": \"https://plot.ly\", \"responsive\": true}                    ).then(function(){\n",
       "                            \n",
       "var gd = document.getElementById('0ad75d5d-7413-4deb-ac1d-b6616518bb3c');\n",
       "var x = new MutationObserver(function (mutations, observer) {{\n",
       "        var display = window.getComputedStyle(gd).display;\n",
       "        if (!display || display === 'none') {{\n",
       "            console.log([gd, 'removed!']);\n",
       "            Plotly.purge(gd);\n",
       "            observer.disconnect();\n",
       "        }}\n",
       "}});\n",
       "\n",
       "// Listen for the removal of the full notebook cells\n",
       "var notebookContainer = gd.closest('#notebook-container');\n",
       "if (notebookContainer) {{\n",
       "    x.observe(notebookContainer, {childList: true});\n",
       "}}\n",
       "\n",
       "// Listen for the clearing of the current output cell\n",
       "var outputEl = gd.closest('.output');\n",
       "if (outputEl) {{\n",
       "    x.observe(outputEl, {childList: true});\n",
       "}}\n",
       "\n",
       "                        })                };                });            </script>        </div>"
      ]
     },
     "metadata": {},
     "output_type": "display_data"
    }
   ],
   "source": [
    "#Scatter Matrix\n",
    "\n",
    "df.scatter_matrix()"
   ]
  },
  {
   "cell_type": "code",
   "execution_count": 23,
   "id": "1827da2d",
   "metadata": {},
   "outputs": [],
   "source": [
    "import chart_studio.plotly as py\n",
    "import plotly.graph_objs as go \n",
    "from plotly.offline import download_plotlyjs, init_notebook_mode, plot, iplot"
   ]
  },
  {
   "cell_type": "code",
   "execution_count": 24,
   "id": "3016ccb3",
   "metadata": {},
   "outputs": [
    {
     "data": {
      "text/html": [
       "        <script type=\"text/javascript\">\n",
       "        window.PlotlyConfig = {MathJaxConfig: 'local'};\n",
       "        if (window.MathJax && window.MathJax.Hub && window.MathJax.Hub.Config) {window.MathJax.Hub.Config({SVG: {font: \"STIX-Web\"}});}\n",
       "        if (typeof require !== 'undefined') {\n",
       "        require.undef(\"plotly\");\n",
       "        requirejs.config({\n",
       "            paths: {\n",
       "                'plotly': ['https://cdn.plot.ly/plotly-2.12.1.min']\n",
       "            }\n",
       "        });\n",
       "        require(['plotly'], function(Plotly) {\n",
       "            window._Plotly = Plotly;\n",
       "        });\n",
       "        }\n",
       "        </script>\n",
       "        "
      ]
     },
     "metadata": {},
     "output_type": "display_data"
    }
   ],
   "source": [
    "init_notebook_mode(connected=True)"
   ]
  },
  {
   "cell_type": "code",
   "execution_count": 37,
   "id": "c70114d9",
   "metadata": {},
   "outputs": [],
   "source": [
    "data = dict(type = 'choropleth',\n",
    "            locations = ['AZ','CA','NY'],\n",
    "            locationmode = 'USA-states',\n",
    "            colorscale= 'Jet',\n",
    "            text= ['Arizona','Cali','New York'],\n",
    "            z=[1.0,2.0,3.0],\n",
    "            colorbar = {'title':'Colorbar Title'})"
   ]
  },
  {
   "cell_type": "code",
   "execution_count": 38,
   "id": "858f7678",
   "metadata": {},
   "outputs": [
    {
     "data": {
      "text/plain": [
       "{'type': 'choropleth',\n",
       " 'locations': ['AZ', 'CA', 'NY'],\n",
       " 'locationmode': 'USA-states',\n",
       " 'colorscale': 'Jet',\n",
       " 'text': ['Arizona', 'Cali', 'New York'],\n",
       " 'z': [1.0, 2.0, 3.0],\n",
       " 'colorbar': {'title': 'Colorbar Title'}}"
      ]
     },
     "execution_count": 38,
     "metadata": {},
     "output_type": "execute_result"
    }
   ],
   "source": [
    "data"
   ]
  },
  {
   "cell_type": "code",
   "execution_count": 39,
   "id": "07a12578",
   "metadata": {},
   "outputs": [],
   "source": [
    "layout = dict(geo={'scope':'usa'})"
   ]
  },
  {
   "cell_type": "code",
   "execution_count": 40,
   "id": "e1b1c356",
   "metadata": {},
   "outputs": [],
   "source": [
    "choromap = go.Figure(data = [data],layout = layout)"
   ]
  },
  {
   "cell_type": "code",
   "execution_count": 41,
   "id": "7d8ed45c",
   "metadata": {},
   "outputs": [
    {
     "data": {
      "application/vnd.plotly.v1+json": {
       "config": {
        "linkText": "Export to plot.ly",
        "plotlyServerURL": "https://plot.ly",
        "showLink": false
       },
       "data": [
        {
         "colorbar": {
          "title": {
           "text": "Colorbar Title"
          }
         },
         "colorscale": [
          [
           0,
           "rgb(0,0,131)"
          ],
          [
           0.2,
           "rgb(0,60,170)"
          ],
          [
           0.4,
           "rgb(5,255,255)"
          ],
          [
           0.6,
           "rgb(255,255,0)"
          ],
          [
           0.8,
           "rgb(250,0,0)"
          ],
          [
           1,
           "rgb(128,0,0)"
          ]
         ],
         "locationmode": "USA-states",
         "locations": [
          "AZ",
          "CA",
          "NY"
         ],
         "text": [
          "Arizona",
          "Cali",
          "New York"
         ],
         "type": "choropleth",
         "z": [
          1,
          2,
          3
         ]
        }
       ],
       "layout": {
        "geo": {
         "scope": "usa"
        },
        "template": {
         "data": {
          "bar": [
           {
            "error_x": {
             "color": "#2a3f5f"
            },
            "error_y": {
             "color": "#2a3f5f"
            },
            "marker": {
             "line": {
              "color": "#E5ECF6",
              "width": 0.5
             },
             "pattern": {
              "fillmode": "overlay",
              "size": 10,
              "solidity": 0.2
             }
            },
            "type": "bar"
           }
          ],
          "barpolar": [
           {
            "marker": {
             "line": {
              "color": "#E5ECF6",
              "width": 0.5
             },
             "pattern": {
              "fillmode": "overlay",
              "size": 10,
              "solidity": 0.2
             }
            },
            "type": "barpolar"
           }
          ],
          "carpet": [
           {
            "aaxis": {
             "endlinecolor": "#2a3f5f",
             "gridcolor": "white",
             "linecolor": "white",
             "minorgridcolor": "white",
             "startlinecolor": "#2a3f5f"
            },
            "baxis": {
             "endlinecolor": "#2a3f5f",
             "gridcolor": "white",
             "linecolor": "white",
             "minorgridcolor": "white",
             "startlinecolor": "#2a3f5f"
            },
            "type": "carpet"
           }
          ],
          "choropleth": [
           {
            "colorbar": {
             "outlinewidth": 0,
             "ticks": ""
            },
            "type": "choropleth"
           }
          ],
          "contour": [
           {
            "colorbar": {
             "outlinewidth": 0,
             "ticks": ""
            },
            "colorscale": [
             [
              0,
              "#0d0887"
             ],
             [
              0.1111111111111111,
              "#46039f"
             ],
             [
              0.2222222222222222,
              "#7201a8"
             ],
             [
              0.3333333333333333,
              "#9c179e"
             ],
             [
              0.4444444444444444,
              "#bd3786"
             ],
             [
              0.5555555555555556,
              "#d8576b"
             ],
             [
              0.6666666666666666,
              "#ed7953"
             ],
             [
              0.7777777777777778,
              "#fb9f3a"
             ],
             [
              0.8888888888888888,
              "#fdca26"
             ],
             [
              1,
              "#f0f921"
             ]
            ],
            "type": "contour"
           }
          ],
          "contourcarpet": [
           {
            "colorbar": {
             "outlinewidth": 0,
             "ticks": ""
            },
            "type": "contourcarpet"
           }
          ],
          "heatmap": [
           {
            "colorbar": {
             "outlinewidth": 0,
             "ticks": ""
            },
            "colorscale": [
             [
              0,
              "#0d0887"
             ],
             [
              0.1111111111111111,
              "#46039f"
             ],
             [
              0.2222222222222222,
              "#7201a8"
             ],
             [
              0.3333333333333333,
              "#9c179e"
             ],
             [
              0.4444444444444444,
              "#bd3786"
             ],
             [
              0.5555555555555556,
              "#d8576b"
             ],
             [
              0.6666666666666666,
              "#ed7953"
             ],
             [
              0.7777777777777778,
              "#fb9f3a"
             ],
             [
              0.8888888888888888,
              "#fdca26"
             ],
             [
              1,
              "#f0f921"
             ]
            ],
            "type": "heatmap"
           }
          ],
          "heatmapgl": [
           {
            "colorbar": {
             "outlinewidth": 0,
             "ticks": ""
            },
            "colorscale": [
             [
              0,
              "#0d0887"
             ],
             [
              0.1111111111111111,
              "#46039f"
             ],
             [
              0.2222222222222222,
              "#7201a8"
             ],
             [
              0.3333333333333333,
              "#9c179e"
             ],
             [
              0.4444444444444444,
              "#bd3786"
             ],
             [
              0.5555555555555556,
              "#d8576b"
             ],
             [
              0.6666666666666666,
              "#ed7953"
             ],
             [
              0.7777777777777778,
              "#fb9f3a"
             ],
             [
              0.8888888888888888,
              "#fdca26"
             ],
             [
              1,
              "#f0f921"
             ]
            ],
            "type": "heatmapgl"
           }
          ],
          "histogram": [
           {
            "marker": {
             "pattern": {
              "fillmode": "overlay",
              "size": 10,
              "solidity": 0.2
             }
            },
            "type": "histogram"
           }
          ],
          "histogram2d": [
           {
            "colorbar": {
             "outlinewidth": 0,
             "ticks": ""
            },
            "colorscale": [
             [
              0,
              "#0d0887"
             ],
             [
              0.1111111111111111,
              "#46039f"
             ],
             [
              0.2222222222222222,
              "#7201a8"
             ],
             [
              0.3333333333333333,
              "#9c179e"
             ],
             [
              0.4444444444444444,
              "#bd3786"
             ],
             [
              0.5555555555555556,
              "#d8576b"
             ],
             [
              0.6666666666666666,
              "#ed7953"
             ],
             [
              0.7777777777777778,
              "#fb9f3a"
             ],
             [
              0.8888888888888888,
              "#fdca26"
             ],
             [
              1,
              "#f0f921"
             ]
            ],
            "type": "histogram2d"
           }
          ],
          "histogram2dcontour": [
           {
            "colorbar": {
             "outlinewidth": 0,
             "ticks": ""
            },
            "colorscale": [
             [
              0,
              "#0d0887"
             ],
             [
              0.1111111111111111,
              "#46039f"
             ],
             [
              0.2222222222222222,
              "#7201a8"
             ],
             [
              0.3333333333333333,
              "#9c179e"
             ],
             [
              0.4444444444444444,
              "#bd3786"
             ],
             [
              0.5555555555555556,
              "#d8576b"
             ],
             [
              0.6666666666666666,
              "#ed7953"
             ],
             [
              0.7777777777777778,
              "#fb9f3a"
             ],
             [
              0.8888888888888888,
              "#fdca26"
             ],
             [
              1,
              "#f0f921"
             ]
            ],
            "type": "histogram2dcontour"
           }
          ],
          "mesh3d": [
           {
            "colorbar": {
             "outlinewidth": 0,
             "ticks": ""
            },
            "type": "mesh3d"
           }
          ],
          "parcoords": [
           {
            "line": {
             "colorbar": {
              "outlinewidth": 0,
              "ticks": ""
             }
            },
            "type": "parcoords"
           }
          ],
          "pie": [
           {
            "automargin": true,
            "type": "pie"
           }
          ],
          "scatter": [
           {
            "fillpattern": {
             "fillmode": "overlay",
             "size": 10,
             "solidity": 0.2
            },
            "type": "scatter"
           }
          ],
          "scatter3d": [
           {
            "line": {
             "colorbar": {
              "outlinewidth": 0,
              "ticks": ""
             }
            },
            "marker": {
             "colorbar": {
              "outlinewidth": 0,
              "ticks": ""
             }
            },
            "type": "scatter3d"
           }
          ],
          "scattercarpet": [
           {
            "marker": {
             "colorbar": {
              "outlinewidth": 0,
              "ticks": ""
             }
            },
            "type": "scattercarpet"
           }
          ],
          "scattergeo": [
           {
            "marker": {
             "colorbar": {
              "outlinewidth": 0,
              "ticks": ""
             }
            },
            "type": "scattergeo"
           }
          ],
          "scattergl": [
           {
            "marker": {
             "colorbar": {
              "outlinewidth": 0,
              "ticks": ""
             }
            },
            "type": "scattergl"
           }
          ],
          "scattermapbox": [
           {
            "marker": {
             "colorbar": {
              "outlinewidth": 0,
              "ticks": ""
             }
            },
            "type": "scattermapbox"
           }
          ],
          "scatterpolar": [
           {
            "marker": {
             "colorbar": {
              "outlinewidth": 0,
              "ticks": ""
             }
            },
            "type": "scatterpolar"
           }
          ],
          "scatterpolargl": [
           {
            "marker": {
             "colorbar": {
              "outlinewidth": 0,
              "ticks": ""
             }
            },
            "type": "scatterpolargl"
           }
          ],
          "scatterternary": [
           {
            "marker": {
             "colorbar": {
              "outlinewidth": 0,
              "ticks": ""
             }
            },
            "type": "scatterternary"
           }
          ],
          "surface": [
           {
            "colorbar": {
             "outlinewidth": 0,
             "ticks": ""
            },
            "colorscale": [
             [
              0,
              "#0d0887"
             ],
             [
              0.1111111111111111,
              "#46039f"
             ],
             [
              0.2222222222222222,
              "#7201a8"
             ],
             [
              0.3333333333333333,
              "#9c179e"
             ],
             [
              0.4444444444444444,
              "#bd3786"
             ],
             [
              0.5555555555555556,
              "#d8576b"
             ],
             [
              0.6666666666666666,
              "#ed7953"
             ],
             [
              0.7777777777777778,
              "#fb9f3a"
             ],
             [
              0.8888888888888888,
              "#fdca26"
             ],
             [
              1,
              "#f0f921"
             ]
            ],
            "type": "surface"
           }
          ],
          "table": [
           {
            "cells": {
             "fill": {
              "color": "#EBF0F8"
             },
             "line": {
              "color": "white"
             }
            },
            "header": {
             "fill": {
              "color": "#C8D4E3"
             },
             "line": {
              "color": "white"
             }
            },
            "type": "table"
           }
          ]
         },
         "layout": {
          "annotationdefaults": {
           "arrowcolor": "#2a3f5f",
           "arrowhead": 0,
           "arrowwidth": 1
          },
          "autotypenumbers": "strict",
          "coloraxis": {
           "colorbar": {
            "outlinewidth": 0,
            "ticks": ""
           }
          },
          "colorscale": {
           "diverging": [
            [
             0,
             "#8e0152"
            ],
            [
             0.1,
             "#c51b7d"
            ],
            [
             0.2,
             "#de77ae"
            ],
            [
             0.3,
             "#f1b6da"
            ],
            [
             0.4,
             "#fde0ef"
            ],
            [
             0.5,
             "#f7f7f7"
            ],
            [
             0.6,
             "#e6f5d0"
            ],
            [
             0.7,
             "#b8e186"
            ],
            [
             0.8,
             "#7fbc41"
            ],
            [
             0.9,
             "#4d9221"
            ],
            [
             1,
             "#276419"
            ]
           ],
           "sequential": [
            [
             0,
             "#0d0887"
            ],
            [
             0.1111111111111111,
             "#46039f"
            ],
            [
             0.2222222222222222,
             "#7201a8"
            ],
            [
             0.3333333333333333,
             "#9c179e"
            ],
            [
             0.4444444444444444,
             "#bd3786"
            ],
            [
             0.5555555555555556,
             "#d8576b"
            ],
            [
             0.6666666666666666,
             "#ed7953"
            ],
            [
             0.7777777777777778,
             "#fb9f3a"
            ],
            [
             0.8888888888888888,
             "#fdca26"
            ],
            [
             1,
             "#f0f921"
            ]
           ],
           "sequentialminus": [
            [
             0,
             "#0d0887"
            ],
            [
             0.1111111111111111,
             "#46039f"
            ],
            [
             0.2222222222222222,
             "#7201a8"
            ],
            [
             0.3333333333333333,
             "#9c179e"
            ],
            [
             0.4444444444444444,
             "#bd3786"
            ],
            [
             0.5555555555555556,
             "#d8576b"
            ],
            [
             0.6666666666666666,
             "#ed7953"
            ],
            [
             0.7777777777777778,
             "#fb9f3a"
            ],
            [
             0.8888888888888888,
             "#fdca26"
            ],
            [
             1,
             "#f0f921"
            ]
           ]
          },
          "colorway": [
           "#636efa",
           "#EF553B",
           "#00cc96",
           "#ab63fa",
           "#FFA15A",
           "#19d3f3",
           "#FF6692",
           "#B6E880",
           "#FF97FF",
           "#FECB52"
          ],
          "font": {
           "color": "#2a3f5f"
          },
          "geo": {
           "bgcolor": "white",
           "lakecolor": "white",
           "landcolor": "#E5ECF6",
           "showlakes": true,
           "showland": true,
           "subunitcolor": "white"
          },
          "hoverlabel": {
           "align": "left"
          },
          "hovermode": "closest",
          "mapbox": {
           "style": "light"
          },
          "paper_bgcolor": "white",
          "plot_bgcolor": "#E5ECF6",
          "polar": {
           "angularaxis": {
            "gridcolor": "white",
            "linecolor": "white",
            "ticks": ""
           },
           "bgcolor": "#E5ECF6",
           "radialaxis": {
            "gridcolor": "white",
            "linecolor": "white",
            "ticks": ""
           }
          },
          "scene": {
           "xaxis": {
            "backgroundcolor": "#E5ECF6",
            "gridcolor": "white",
            "gridwidth": 2,
            "linecolor": "white",
            "showbackground": true,
            "ticks": "",
            "zerolinecolor": "white"
           },
           "yaxis": {
            "backgroundcolor": "#E5ECF6",
            "gridcolor": "white",
            "gridwidth": 2,
            "linecolor": "white",
            "showbackground": true,
            "ticks": "",
            "zerolinecolor": "white"
           },
           "zaxis": {
            "backgroundcolor": "#E5ECF6",
            "gridcolor": "white",
            "gridwidth": 2,
            "linecolor": "white",
            "showbackground": true,
            "ticks": "",
            "zerolinecolor": "white"
           }
          },
          "shapedefaults": {
           "line": {
            "color": "#2a3f5f"
           }
          },
          "ternary": {
           "aaxis": {
            "gridcolor": "white",
            "linecolor": "white",
            "ticks": ""
           },
           "baxis": {
            "gridcolor": "white",
            "linecolor": "white",
            "ticks": ""
           },
           "bgcolor": "#E5ECF6",
           "caxis": {
            "gridcolor": "white",
            "linecolor": "white",
            "ticks": ""
           }
          },
          "title": {
           "x": 0.05
          },
          "xaxis": {
           "automargin": true,
           "gridcolor": "white",
           "linecolor": "white",
           "ticks": "",
           "title": {
            "standoff": 15
           },
           "zerolinecolor": "white",
           "zerolinewidth": 2
          },
          "yaxis": {
           "automargin": true,
           "gridcolor": "white",
           "linecolor": "white",
           "ticks": "",
           "title": {
            "standoff": 15
           },
           "zerolinecolor": "white",
           "zerolinewidth": 2
          }
         }
        }
       }
      },
      "text/html": [
       "<div>                            <div id=\"3be9f77a-3e17-4150-a833-693c5c9c5f66\" class=\"plotly-graph-div\" style=\"height:525px; width:100%;\"></div>            <script type=\"text/javascript\">                require([\"plotly\"], function(Plotly) {                    window.PLOTLYENV=window.PLOTLYENV || {};                                    if (document.getElementById(\"3be9f77a-3e17-4150-a833-693c5c9c5f66\")) {                    Plotly.newPlot(                        \"3be9f77a-3e17-4150-a833-693c5c9c5f66\",                        [{\"colorbar\":{\"title\":{\"text\":\"Colorbar Title\"}},\"colorscale\":[[0.0,\"rgb(0,0,131)\"],[0.2,\"rgb(0,60,170)\"],[0.4,\"rgb(5,255,255)\"],[0.6,\"rgb(255,255,0)\"],[0.8,\"rgb(250,0,0)\"],[1.0,\"rgb(128,0,0)\"]],\"locationmode\":\"USA-states\",\"locations\":[\"AZ\",\"CA\",\"NY\"],\"text\":[\"Arizona\",\"Cali\",\"New York\"],\"z\":[1.0,2.0,3.0],\"type\":\"choropleth\"}],                        {\"geo\":{\"scope\":\"usa\"},\"template\":{\"data\":{\"barpolar\":[{\"marker\":{\"line\":{\"color\":\"#E5ECF6\",\"width\":0.5},\"pattern\":{\"fillmode\":\"overlay\",\"size\":10,\"solidity\":0.2}},\"type\":\"barpolar\"}],\"bar\":[{\"error_x\":{\"color\":\"#2a3f5f\"},\"error_y\":{\"color\":\"#2a3f5f\"},\"marker\":{\"line\":{\"color\":\"#E5ECF6\",\"width\":0.5},\"pattern\":{\"fillmode\":\"overlay\",\"size\":10,\"solidity\":0.2}},\"type\":\"bar\"}],\"carpet\":[{\"aaxis\":{\"endlinecolor\":\"#2a3f5f\",\"gridcolor\":\"white\",\"linecolor\":\"white\",\"minorgridcolor\":\"white\",\"startlinecolor\":\"#2a3f5f\"},\"baxis\":{\"endlinecolor\":\"#2a3f5f\",\"gridcolor\":\"white\",\"linecolor\":\"white\",\"minorgridcolor\":\"white\",\"startlinecolor\":\"#2a3f5f\"},\"type\":\"carpet\"}],\"choropleth\":[{\"colorbar\":{\"outlinewidth\":0,\"ticks\":\"\"},\"type\":\"choropleth\"}],\"contourcarpet\":[{\"colorbar\":{\"outlinewidth\":0,\"ticks\":\"\"},\"type\":\"contourcarpet\"}],\"contour\":[{\"colorbar\":{\"outlinewidth\":0,\"ticks\":\"\"},\"colorscale\":[[0.0,\"#0d0887\"],[0.1111111111111111,\"#46039f\"],[0.2222222222222222,\"#7201a8\"],[0.3333333333333333,\"#9c179e\"],[0.4444444444444444,\"#bd3786\"],[0.5555555555555556,\"#d8576b\"],[0.6666666666666666,\"#ed7953\"],[0.7777777777777778,\"#fb9f3a\"],[0.8888888888888888,\"#fdca26\"],[1.0,\"#f0f921\"]],\"type\":\"contour\"}],\"heatmapgl\":[{\"colorbar\":{\"outlinewidth\":0,\"ticks\":\"\"},\"colorscale\":[[0.0,\"#0d0887\"],[0.1111111111111111,\"#46039f\"],[0.2222222222222222,\"#7201a8\"],[0.3333333333333333,\"#9c179e\"],[0.4444444444444444,\"#bd3786\"],[0.5555555555555556,\"#d8576b\"],[0.6666666666666666,\"#ed7953\"],[0.7777777777777778,\"#fb9f3a\"],[0.8888888888888888,\"#fdca26\"],[1.0,\"#f0f921\"]],\"type\":\"heatmapgl\"}],\"heatmap\":[{\"colorbar\":{\"outlinewidth\":0,\"ticks\":\"\"},\"colorscale\":[[0.0,\"#0d0887\"],[0.1111111111111111,\"#46039f\"],[0.2222222222222222,\"#7201a8\"],[0.3333333333333333,\"#9c179e\"],[0.4444444444444444,\"#bd3786\"],[0.5555555555555556,\"#d8576b\"],[0.6666666666666666,\"#ed7953\"],[0.7777777777777778,\"#fb9f3a\"],[0.8888888888888888,\"#fdca26\"],[1.0,\"#f0f921\"]],\"type\":\"heatmap\"}],\"histogram2dcontour\":[{\"colorbar\":{\"outlinewidth\":0,\"ticks\":\"\"},\"colorscale\":[[0.0,\"#0d0887\"],[0.1111111111111111,\"#46039f\"],[0.2222222222222222,\"#7201a8\"],[0.3333333333333333,\"#9c179e\"],[0.4444444444444444,\"#bd3786\"],[0.5555555555555556,\"#d8576b\"],[0.6666666666666666,\"#ed7953\"],[0.7777777777777778,\"#fb9f3a\"],[0.8888888888888888,\"#fdca26\"],[1.0,\"#f0f921\"]],\"type\":\"histogram2dcontour\"}],\"histogram2d\":[{\"colorbar\":{\"outlinewidth\":0,\"ticks\":\"\"},\"colorscale\":[[0.0,\"#0d0887\"],[0.1111111111111111,\"#46039f\"],[0.2222222222222222,\"#7201a8\"],[0.3333333333333333,\"#9c179e\"],[0.4444444444444444,\"#bd3786\"],[0.5555555555555556,\"#d8576b\"],[0.6666666666666666,\"#ed7953\"],[0.7777777777777778,\"#fb9f3a\"],[0.8888888888888888,\"#fdca26\"],[1.0,\"#f0f921\"]],\"type\":\"histogram2d\"}],\"histogram\":[{\"marker\":{\"pattern\":{\"fillmode\":\"overlay\",\"size\":10,\"solidity\":0.2}},\"type\":\"histogram\"}],\"mesh3d\":[{\"colorbar\":{\"outlinewidth\":0,\"ticks\":\"\"},\"type\":\"mesh3d\"}],\"parcoords\":[{\"line\":{\"colorbar\":{\"outlinewidth\":0,\"ticks\":\"\"}},\"type\":\"parcoords\"}],\"pie\":[{\"automargin\":true,\"type\":\"pie\"}],\"scatter3d\":[{\"line\":{\"colorbar\":{\"outlinewidth\":0,\"ticks\":\"\"}},\"marker\":{\"colorbar\":{\"outlinewidth\":0,\"ticks\":\"\"}},\"type\":\"scatter3d\"}],\"scattercarpet\":[{\"marker\":{\"colorbar\":{\"outlinewidth\":0,\"ticks\":\"\"}},\"type\":\"scattercarpet\"}],\"scattergeo\":[{\"marker\":{\"colorbar\":{\"outlinewidth\":0,\"ticks\":\"\"}},\"type\":\"scattergeo\"}],\"scattergl\":[{\"marker\":{\"colorbar\":{\"outlinewidth\":0,\"ticks\":\"\"}},\"type\":\"scattergl\"}],\"scattermapbox\":[{\"marker\":{\"colorbar\":{\"outlinewidth\":0,\"ticks\":\"\"}},\"type\":\"scattermapbox\"}],\"scatterpolargl\":[{\"marker\":{\"colorbar\":{\"outlinewidth\":0,\"ticks\":\"\"}},\"type\":\"scatterpolargl\"}],\"scatterpolar\":[{\"marker\":{\"colorbar\":{\"outlinewidth\":0,\"ticks\":\"\"}},\"type\":\"scatterpolar\"}],\"scatter\":[{\"fillpattern\":{\"fillmode\":\"overlay\",\"size\":10,\"solidity\":0.2},\"type\":\"scatter\"}],\"scatterternary\":[{\"marker\":{\"colorbar\":{\"outlinewidth\":0,\"ticks\":\"\"}},\"type\":\"scatterternary\"}],\"surface\":[{\"colorbar\":{\"outlinewidth\":0,\"ticks\":\"\"},\"colorscale\":[[0.0,\"#0d0887\"],[0.1111111111111111,\"#46039f\"],[0.2222222222222222,\"#7201a8\"],[0.3333333333333333,\"#9c179e\"],[0.4444444444444444,\"#bd3786\"],[0.5555555555555556,\"#d8576b\"],[0.6666666666666666,\"#ed7953\"],[0.7777777777777778,\"#fb9f3a\"],[0.8888888888888888,\"#fdca26\"],[1.0,\"#f0f921\"]],\"type\":\"surface\"}],\"table\":[{\"cells\":{\"fill\":{\"color\":\"#EBF0F8\"},\"line\":{\"color\":\"white\"}},\"header\":{\"fill\":{\"color\":\"#C8D4E3\"},\"line\":{\"color\":\"white\"}},\"type\":\"table\"}]},\"layout\":{\"annotationdefaults\":{\"arrowcolor\":\"#2a3f5f\",\"arrowhead\":0,\"arrowwidth\":1},\"autotypenumbers\":\"strict\",\"coloraxis\":{\"colorbar\":{\"outlinewidth\":0,\"ticks\":\"\"}},\"colorscale\":{\"diverging\":[[0,\"#8e0152\"],[0.1,\"#c51b7d\"],[0.2,\"#de77ae\"],[0.3,\"#f1b6da\"],[0.4,\"#fde0ef\"],[0.5,\"#f7f7f7\"],[0.6,\"#e6f5d0\"],[0.7,\"#b8e186\"],[0.8,\"#7fbc41\"],[0.9,\"#4d9221\"],[1,\"#276419\"]],\"sequential\":[[0.0,\"#0d0887\"],[0.1111111111111111,\"#46039f\"],[0.2222222222222222,\"#7201a8\"],[0.3333333333333333,\"#9c179e\"],[0.4444444444444444,\"#bd3786\"],[0.5555555555555556,\"#d8576b\"],[0.6666666666666666,\"#ed7953\"],[0.7777777777777778,\"#fb9f3a\"],[0.8888888888888888,\"#fdca26\"],[1.0,\"#f0f921\"]],\"sequentialminus\":[[0.0,\"#0d0887\"],[0.1111111111111111,\"#46039f\"],[0.2222222222222222,\"#7201a8\"],[0.3333333333333333,\"#9c179e\"],[0.4444444444444444,\"#bd3786\"],[0.5555555555555556,\"#d8576b\"],[0.6666666666666666,\"#ed7953\"],[0.7777777777777778,\"#fb9f3a\"],[0.8888888888888888,\"#fdca26\"],[1.0,\"#f0f921\"]]},\"colorway\":[\"#636efa\",\"#EF553B\",\"#00cc96\",\"#ab63fa\",\"#FFA15A\",\"#19d3f3\",\"#FF6692\",\"#B6E880\",\"#FF97FF\",\"#FECB52\"],\"font\":{\"color\":\"#2a3f5f\"},\"geo\":{\"bgcolor\":\"white\",\"lakecolor\":\"white\",\"landcolor\":\"#E5ECF6\",\"showlakes\":true,\"showland\":true,\"subunitcolor\":\"white\"},\"hoverlabel\":{\"align\":\"left\"},\"hovermode\":\"closest\",\"mapbox\":{\"style\":\"light\"},\"paper_bgcolor\":\"white\",\"plot_bgcolor\":\"#E5ECF6\",\"polar\":{\"angularaxis\":{\"gridcolor\":\"white\",\"linecolor\":\"white\",\"ticks\":\"\"},\"bgcolor\":\"#E5ECF6\",\"radialaxis\":{\"gridcolor\":\"white\",\"linecolor\":\"white\",\"ticks\":\"\"}},\"scene\":{\"xaxis\":{\"backgroundcolor\":\"#E5ECF6\",\"gridcolor\":\"white\",\"gridwidth\":2,\"linecolor\":\"white\",\"showbackground\":true,\"ticks\":\"\",\"zerolinecolor\":\"white\"},\"yaxis\":{\"backgroundcolor\":\"#E5ECF6\",\"gridcolor\":\"white\",\"gridwidth\":2,\"linecolor\":\"white\",\"showbackground\":true,\"ticks\":\"\",\"zerolinecolor\":\"white\"},\"zaxis\":{\"backgroundcolor\":\"#E5ECF6\",\"gridcolor\":\"white\",\"gridwidth\":2,\"linecolor\":\"white\",\"showbackground\":true,\"ticks\":\"\",\"zerolinecolor\":\"white\"}},\"shapedefaults\":{\"line\":{\"color\":\"#2a3f5f\"}},\"ternary\":{\"aaxis\":{\"gridcolor\":\"white\",\"linecolor\":\"white\",\"ticks\":\"\"},\"baxis\":{\"gridcolor\":\"white\",\"linecolor\":\"white\",\"ticks\":\"\"},\"bgcolor\":\"#E5ECF6\",\"caxis\":{\"gridcolor\":\"white\",\"linecolor\":\"white\",\"ticks\":\"\"}},\"title\":{\"x\":0.05},\"xaxis\":{\"automargin\":true,\"gridcolor\":\"white\",\"linecolor\":\"white\",\"ticks\":\"\",\"title\":{\"standoff\":15},\"zerolinecolor\":\"white\",\"zerolinewidth\":2},\"yaxis\":{\"automargin\":true,\"gridcolor\":\"white\",\"linecolor\":\"white\",\"ticks\":\"\",\"title\":{\"standoff\":15},\"zerolinecolor\":\"white\",\"zerolinewidth\":2}}}},                        {\"responsive\": true}                    ).then(function(){\n",
       "                            \n",
       "var gd = document.getElementById('3be9f77a-3e17-4150-a833-693c5c9c5f66');\n",
       "var x = new MutationObserver(function (mutations, observer) {{\n",
       "        var display = window.getComputedStyle(gd).display;\n",
       "        if (!display || display === 'none') {{\n",
       "            console.log([gd, 'removed!']);\n",
       "            Plotly.purge(gd);\n",
       "            observer.disconnect();\n",
       "        }}\n",
       "}});\n",
       "\n",
       "// Listen for the removal of the full notebook cells\n",
       "var notebookContainer = gd.closest('#notebook-container');\n",
       "if (notebookContainer) {{\n",
       "    x.observe(notebookContainer, {childList: true});\n",
       "}}\n",
       "\n",
       "// Listen for the clearing of the current output cell\n",
       "var outputEl = gd.closest('.output');\n",
       "if (outputEl) {{\n",
       "    x.observe(outputEl, {childList: true});\n",
       "}}\n",
       "\n",
       "                        })                };                });            </script>        </div>"
      ]
     },
     "metadata": {},
     "output_type": "display_data"
    }
   ],
   "source": [
    "iplot(choromap)"
   ]
  },
  {
   "cell_type": "code",
   "execution_count": 35,
   "id": "d09880b2",
   "metadata": {},
   "outputs": [],
   "source": [
    "df = pd.read_csv('2011_US_AGRI_Exports')"
   ]
  },
  {
   "cell_type": "code",
   "execution_count": 36,
   "id": "42733d79",
   "metadata": {},
   "outputs": [
    {
     "data": {
      "text/html": [
       "<div>\n",
       "<style scoped>\n",
       "    .dataframe tbody tr th:only-of-type {\n",
       "        vertical-align: middle;\n",
       "    }\n",
       "\n",
       "    .dataframe tbody tr th {\n",
       "        vertical-align: top;\n",
       "    }\n",
       "\n",
       "    .dataframe thead th {\n",
       "        text-align: right;\n",
       "    }\n",
       "</style>\n",
       "<table border=\"1\" class=\"dataframe\">\n",
       "  <thead>\n",
       "    <tr style=\"text-align: right;\">\n",
       "      <th></th>\n",
       "      <th>code</th>\n",
       "      <th>state</th>\n",
       "      <th>category</th>\n",
       "      <th>total exports</th>\n",
       "      <th>beef</th>\n",
       "      <th>pork</th>\n",
       "      <th>poultry</th>\n",
       "      <th>dairy</th>\n",
       "      <th>fruits fresh</th>\n",
       "      <th>fruits proc</th>\n",
       "      <th>total fruits</th>\n",
       "      <th>veggies fresh</th>\n",
       "      <th>veggies proc</th>\n",
       "      <th>total veggies</th>\n",
       "      <th>corn</th>\n",
       "      <th>wheat</th>\n",
       "      <th>cotton</th>\n",
       "      <th>text</th>\n",
       "    </tr>\n",
       "  </thead>\n",
       "  <tbody>\n",
       "    <tr>\n",
       "      <th>0</th>\n",
       "      <td>AL</td>\n",
       "      <td>Alabama</td>\n",
       "      <td>state</td>\n",
       "      <td>1390.63</td>\n",
       "      <td>34.4</td>\n",
       "      <td>10.6</td>\n",
       "      <td>481.0</td>\n",
       "      <td>4.06</td>\n",
       "      <td>8.0</td>\n",
       "      <td>17.1</td>\n",
       "      <td>25.11</td>\n",
       "      <td>5.5</td>\n",
       "      <td>8.9</td>\n",
       "      <td>14.33</td>\n",
       "      <td>34.9</td>\n",
       "      <td>70.0</td>\n",
       "      <td>317.61</td>\n",
       "      <td>Alabama&lt;br&gt;Beef 34.4 Dairy 4.06&lt;br&gt;Fruits 25.1...</td>\n",
       "    </tr>\n",
       "    <tr>\n",
       "      <th>1</th>\n",
       "      <td>AK</td>\n",
       "      <td>Alaska</td>\n",
       "      <td>state</td>\n",
       "      <td>13.31</td>\n",
       "      <td>0.2</td>\n",
       "      <td>0.1</td>\n",
       "      <td>0.0</td>\n",
       "      <td>0.19</td>\n",
       "      <td>0.0</td>\n",
       "      <td>0.0</td>\n",
       "      <td>0.00</td>\n",
       "      <td>0.6</td>\n",
       "      <td>1.0</td>\n",
       "      <td>1.56</td>\n",
       "      <td>0.0</td>\n",
       "      <td>0.0</td>\n",
       "      <td>0.00</td>\n",
       "      <td>Alaska&lt;br&gt;Beef 0.2 Dairy 0.19&lt;br&gt;Fruits 0.0 Ve...</td>\n",
       "    </tr>\n",
       "    <tr>\n",
       "      <th>2</th>\n",
       "      <td>AZ</td>\n",
       "      <td>Arizona</td>\n",
       "      <td>state</td>\n",
       "      <td>1463.17</td>\n",
       "      <td>71.3</td>\n",
       "      <td>17.9</td>\n",
       "      <td>0.0</td>\n",
       "      <td>105.48</td>\n",
       "      <td>19.3</td>\n",
       "      <td>41.0</td>\n",
       "      <td>60.27</td>\n",
       "      <td>147.5</td>\n",
       "      <td>239.4</td>\n",
       "      <td>386.91</td>\n",
       "      <td>7.3</td>\n",
       "      <td>48.7</td>\n",
       "      <td>423.95</td>\n",
       "      <td>Arizona&lt;br&gt;Beef 71.3 Dairy 105.48&lt;br&gt;Fruits 60...</td>\n",
       "    </tr>\n",
       "    <tr>\n",
       "      <th>3</th>\n",
       "      <td>AR</td>\n",
       "      <td>Arkansas</td>\n",
       "      <td>state</td>\n",
       "      <td>3586.02</td>\n",
       "      <td>53.2</td>\n",
       "      <td>29.4</td>\n",
       "      <td>562.9</td>\n",
       "      <td>3.53</td>\n",
       "      <td>2.2</td>\n",
       "      <td>4.7</td>\n",
       "      <td>6.88</td>\n",
       "      <td>4.4</td>\n",
       "      <td>7.1</td>\n",
       "      <td>11.45</td>\n",
       "      <td>69.5</td>\n",
       "      <td>114.5</td>\n",
       "      <td>665.44</td>\n",
       "      <td>Arkansas&lt;br&gt;Beef 53.2 Dairy 3.53&lt;br&gt;Fruits 6.8...</td>\n",
       "    </tr>\n",
       "    <tr>\n",
       "      <th>4</th>\n",
       "      <td>CA</td>\n",
       "      <td>California</td>\n",
       "      <td>state</td>\n",
       "      <td>16472.88</td>\n",
       "      <td>228.7</td>\n",
       "      <td>11.1</td>\n",
       "      <td>225.4</td>\n",
       "      <td>929.95</td>\n",
       "      <td>2791.8</td>\n",
       "      <td>5944.6</td>\n",
       "      <td>8736.40</td>\n",
       "      <td>803.2</td>\n",
       "      <td>1303.5</td>\n",
       "      <td>2106.79</td>\n",
       "      <td>34.6</td>\n",
       "      <td>249.3</td>\n",
       "      <td>1064.95</td>\n",
       "      <td>California&lt;br&gt;Beef 228.7 Dairy 929.95&lt;br&gt;Frui...</td>\n",
       "    </tr>\n",
       "  </tbody>\n",
       "</table>\n",
       "</div>"
      ],
      "text/plain": [
       "  code        state category  total exports   beef  pork  poultry   dairy  \\\n",
       "0   AL      Alabama    state        1390.63   34.4  10.6    481.0    4.06   \n",
       "1   AK       Alaska    state          13.31    0.2   0.1      0.0    0.19   \n",
       "2   AZ      Arizona    state        1463.17   71.3  17.9      0.0  105.48   \n",
       "3   AR     Arkansas    state        3586.02   53.2  29.4    562.9    3.53   \n",
       "4   CA   California    state       16472.88  228.7  11.1    225.4  929.95   \n",
       "\n",
       "   fruits fresh  fruits proc  total fruits  veggies fresh  veggies proc  \\\n",
       "0           8.0         17.1         25.11            5.5           8.9   \n",
       "1           0.0          0.0          0.00            0.6           1.0   \n",
       "2          19.3         41.0         60.27          147.5         239.4   \n",
       "3           2.2          4.7          6.88            4.4           7.1   \n",
       "4        2791.8       5944.6       8736.40          803.2        1303.5   \n",
       "\n",
       "   total veggies  corn  wheat   cotton  \\\n",
       "0          14.33  34.9   70.0   317.61   \n",
       "1           1.56   0.0    0.0     0.00   \n",
       "2         386.91   7.3   48.7   423.95   \n",
       "3          11.45  69.5  114.5   665.44   \n",
       "4        2106.79  34.6  249.3  1064.95   \n",
       "\n",
       "                                                text  \n",
       "0  Alabama<br>Beef 34.4 Dairy 4.06<br>Fruits 25.1...  \n",
       "1  Alaska<br>Beef 0.2 Dairy 0.19<br>Fruits 0.0 Ve...  \n",
       "2  Arizona<br>Beef 71.3 Dairy 105.48<br>Fruits 60...  \n",
       "3  Arkansas<br>Beef 53.2 Dairy 3.53<br>Fruits 6.8...  \n",
       "4   California<br>Beef 228.7 Dairy 929.95<br>Frui...  "
      ]
     },
     "execution_count": 36,
     "metadata": {},
     "output_type": "execute_result"
    }
   ],
   "source": [
    "df.head()"
   ]
  },
  {
   "cell_type": "code",
   "execution_count": 46,
   "id": "0b6ec39d",
   "metadata": {},
   "outputs": [],
   "source": [
    "data = dict(type='choropleth',\n",
    "            colorscale = 'ylorbr',\n",
    "            locations = df['code'],\n",
    "            z = df['total exports'],\n",
    "            locationmode = 'USA-states',\n",
    "            text = df['text'],\n",
    "            marker = dict(line = dict(color = 'rgb(255,255,255)',width = 2)),\n",
    "            colorbar = {'title':\"Millions USD\"}\n",
    "            ) "
   ]
  },
  {
   "cell_type": "code",
   "execution_count": 47,
   "id": "3d07b224",
   "metadata": {},
   "outputs": [],
   "source": [
    "layout = dict(title = '2011 US Agriculture Exports by State',\n",
    "              geo = dict(scope='usa',\n",
    "                         showlakes = True,\n",
    "                         lakecolor = 'rgb(85,173,240)')\n",
    "             )"
   ]
  },
  {
   "cell_type": "code",
   "execution_count": 48,
   "id": "3a80071c",
   "metadata": {},
   "outputs": [],
   "source": [
    "choromap=go.Figure(data = [data],layout=layout)"
   ]
  },
  {
   "cell_type": "code",
   "execution_count": 49,
   "id": "c0b05dfa",
   "metadata": {},
   "outputs": [
    {
     "data": {
      "application/vnd.plotly.v1+json": {
       "config": {
        "linkText": "Export to plot.ly",
        "plotlyServerURL": "https://plot.ly",
        "showLink": false
       },
       "data": [
        {
         "colorbar": {
          "title": {
           "text": "Millions USD"
          }
         },
         "colorscale": [
          [
           0,
           "rgb(255,255,229)"
          ],
          [
           0.125,
           "rgb(255,247,188)"
          ],
          [
           0.25,
           "rgb(254,227,145)"
          ],
          [
           0.375,
           "rgb(254,196,79)"
          ],
          [
           0.5,
           "rgb(254,153,41)"
          ],
          [
           0.625,
           "rgb(236,112,20)"
          ],
          [
           0.75,
           "rgb(204,76,2)"
          ],
          [
           0.875,
           "rgb(153,52,4)"
          ],
          [
           1,
           "rgb(102,37,6)"
          ]
         ],
         "locationmode": "USA-states",
         "locations": [
          "AL",
          "AK",
          "AZ",
          "AR",
          "CA",
          "CO",
          "CT",
          "DE",
          "FL",
          "GA",
          "HI",
          "ID",
          "IL",
          "IN",
          "IA",
          "KS",
          "KY",
          "LA",
          "ME",
          "MD",
          "MA",
          "MI",
          "MN",
          "MS",
          "MO",
          "MT",
          "NE",
          "NV",
          "NH",
          "NJ",
          "NM",
          "NY",
          "NC",
          "ND",
          "OH",
          "OK",
          "OR",
          "PA",
          "RI",
          "SC",
          "SD",
          "TN",
          "TX",
          "UT",
          "VT",
          "VA",
          "WA",
          "WV",
          "WI",
          "WY"
         ],
         "marker": {
          "line": {
           "color": "rgb(255,255,255)",
           "width": 2
          }
         },
         "text": [
          "Alabama<br>Beef 34.4 Dairy 4.06<br>Fruits 25.11 Veggies 14.33<br>Wheat 70.0 Corn 34.9",
          "Alaska<br>Beef 0.2 Dairy 0.19<br>Fruits 0.0 Veggies 1.56<br>Wheat 0.0 Corn 0.0",
          "Arizona<br>Beef 71.3 Dairy 105.48<br>Fruits 60.27 Veggies 386.91<br>Wheat 48.7 Corn 7.3",
          "Arkansas<br>Beef 53.2 Dairy 3.53<br>Fruits 6.88 Veggies 11.45<br>Wheat 114.5 Corn 69.5",
          " California<br>Beef 228.7 Dairy 929.95<br>Fruits 8736.4 Veggies 2106.79<br>Wheat 249.3 Corn 34.6",
          "Colorado<br>Beef 261.4 Dairy 71.94<br>Fruits 17.99 Veggies 118.27<br>Wheat 400.5 Corn 183.2",
          "Connecticut<br>Beef 1.1 Dairy 9.49<br>Fruits 13.1 Veggies 11.16<br>Wheat 0.0 Corn 0.0",
          "Delaware<br>Beef 0.4 Dairy 2.3<br>Fruits 1.53 Veggies 20.03<br>Wheat 22.9 Corn 26.9",
          "Florida<br>Beef 42.6 Dairy 66.31<br>Fruits 1371.36 Veggies 450.86<br>Wheat 1.8 Corn 3.5",
          "Georgia<br>Beef 31.0 Dairy 38.38<br>Fruits 233.51 Veggies 154.77<br>Wheat 65.4 Corn 57.8",
          "Hawaii<br>Beef 4.0 Dairy 1.16<br>Fruits 55.51 Veggies 24.83<br>Wheat 0.0 Corn 0.0",
          "Idaho<br>Beef 119.8 Dairy 294.6<br>Fruits 21.64 Veggies 319.19<br>Wheat 568.2 Corn 24.0",
          "Illinois<br>Beef 53.7 Dairy 45.82<br>Fruits 12.53 Veggies 39.95<br>Wheat 223.8 Corn 2228.5",
          "Indiana<br>Beef 21.9 Dairy 89.7<br>Fruits 12.98 Veggies 37.89<br>Wheat 114.0 Corn 1123.2",
          "Iowa<br>Beef 289.8 Dairy 107.0<br>Fruits 3.24 Veggies 7.1<br>Wheat 3.1 Corn 2529.8",
          "Kansas<br>Beef 659.3 Dairy 65.45<br>Fruits 3.11 Veggies 9.32<br>Wheat 1426.5 Corn 457.3",
          "Kentucky<br>Beef 54.8 Dairy 28.27<br>Fruits 6.6 Veggies 0.0<br>Wheat 149.3 Corn 179.1",
          "Louisiana<br>Beef 19.8 Dairy 6.02<br>Fruits 17.83 Veggies 17.25<br>Wheat 78.7 Corn 91.4",
          "Maine<br>Beef 1.4 Dairy 16.18<br>Fruits 52.01 Veggies 62.9<br>Wheat 0.0 Corn 0.0",
          "Maryland<br>Beef 5.6 Dairy 24.81<br>Fruits 12.9 Veggies 20.43<br>Wheat 55.8 Corn 54.1",
          "Massachusetts<br>Beef 0.6 Dairy 5.81<br>Fruits 80.83 Veggies 21.13<br>Wheat 0.0 Corn 0.0",
          "Michigan<br>Beef 37.7 Dairy 214.82<br>Fruits 257.69 Veggies 189.96<br>Wheat 247.0 Corn 381.5",
          "Minnesota<br>Beef 112.3 Dairy 218.05<br>Fruits 7.91 Veggies 120.37<br>Wheat 538.1 Corn 1264.3",
          "Mississippi<br>Beef 12.8 Dairy 5.45<br>Fruits 17.04 Veggies 27.87<br>Wheat 102.2 Corn 110.0",
          "Missouri<br>Beef 137.2 Dairy 34.26<br>Fruits 13.18 Veggies 17.9<br>Wheat 161.7 Corn 428.8",
          "Montana<br>Beef 105.0 Dairy 6.82<br>Fruits 3.3 Veggies 45.27<br>Wheat 1198.1 Corn 5.4",
          "Nebraska<br>Beef 762.2 Dairy 30.07<br>Fruits 2.16 Veggies 53.5<br>Wheat 292.3 Corn 1735.9",
          "Nevada<br>Beef 21.8 Dairy 16.57<br>Fruits 1.19 Veggies 27.93<br>Wheat 5.4 Corn 0.0",
          "New Hampshire<br>Beef 0.6 Dairy 7.46<br>Fruits 7.98 Veggies 4.5<br>Wheat 0.0 Corn 0.0",
          "New Jersey<br>Beef 0.8 Dairy 3.37<br>Fruits 109.45 Veggies 56.54<br>Wheat 6.7 Corn 10.1",
          "New Mexico<br>Beef 117.2 Dairy 191.01<br>Fruits 101.9 Veggies 43.88<br>Wheat 13.9 Corn 11.2",
          "New York<br>Beef 22.2 Dairy 331.8<br>Fruits 202.56 Veggies 143.37<br>Wheat 29.9 Corn 106.1",
          "North Carolina<br>Beef 24.8 Dairy 24.9<br>Fruits 74.47 Veggies 150.45<br>Wheat 200.3 Corn 92.2",
          "North Dakota<br>Beef 78.5 Dairy 8.14<br>Fruits 0.25 Veggies 130.79<br>Wheat 1664.5 Corn 236.1",
          "Ohio<br>Beef 36.2 Dairy 134.57<br>Fruits 27.21 Veggies 53.53<br>Wheat 207.4 Corn 535.1",
          "Oklahoma<br>Beef 337.6 Dairy 24.35<br>Fruits 9.24 Veggies 8.9<br>Wheat 324.8 Corn 27.5",
          "Oregon<br>Beef 58.8 Dairy 63.66<br>Fruits 315.04 Veggies 126.5<br>Wheat 320.3 Corn 11.7",
          "Pennsylvania<br>Beef 50.9 Dairy 280.87<br>Fruits 89.48 Veggies 38.26<br>Wheat 41.0 Corn 112.1",
          "Rhode Island<br>Beef 0.1 Dairy 0.52<br>Fruits 2.83 Veggies 3.02<br>Wheat 0.0 Corn 0.0",
          "South Carolina<br>Beef 15.2 Dairy 7.62<br>Fruits 53.45 Veggies 42.66<br>Wheat 55.3 Corn 32.1",
          "South Dakota<br>Beef 193.5 Dairy 46.77<br>Fruits 0.8 Veggies 4.06<br>Wheat 704.5 Corn 643.6",
          "Tennessee<br>Beef 51.1 Dairy 21.18<br>Fruits 6.23 Veggies 24.67<br>Wheat 100.0 Corn 88.8",
          "Texas<br>Beef 961.0 Dairy 240.55<br>Fruits 99.9 Veggies 115.23<br>Wheat 309.7 Corn 167.2",
          "Utah<br>Beef 27.9 Dairy 48.6<br>Fruits 12.34 Veggies 6.6<br>Wheat 42.8 Corn 5.3",
          "Vermont<br>Beef 6.2 Dairy 65.98<br>Fruits 8.01 Veggies 4.05<br>Wheat 0.0 Corn 0.0",
          "Virginia<br>Beef 39.5 Dairy 47.85<br>Fruits 36.48 Veggies 27.25<br>Wheat 77.5 Corn 39.5",
          "Washington<br>Beef 59.2 Dairy 154.18<br>Fruits 1738.57 Veggies 363.79<br>Wheat 786.3 Corn 29.5",
          "West Virginia<br>Beef 12.0 Dairy 3.9<br>Fruits 11.54 Veggies 0.0<br>Wheat 1.6 Corn 3.5",
          "Wisconsin<br>Beef 107.3 Dairy 633.6<br>Fruits 133.8 Veggies 148.99<br>Wheat 96.7 Corn 460.5",
          "Wyoming<br>Beef 75.1 Dairy 2.89<br>Fruits 0.17 Veggies 10.23<br>Wheat 20.7 Corn 9.0"
         ],
         "type": "choropleth",
         "z": [
          1390.63,
          13.31,
          1463.17,
          3586.02,
          16472.88,
          1851.33,
          259.62,
          282.19,
          3764.09,
          2860.84,
          401.84,
          2078.89,
          8709.48,
          5050.23,
          11273.76,
          4589.01,
          1889.15,
          1914.23,
          278.37,
          692.75,
          248.65,
          3164.16,
          7192.33,
          2170.8,
          3933.42,
          1718,
          7114.13,
          139.89,
          73.06,
          500.4,
          751.58,
          1488.9,
          3806.05,
          3761.96,
          3979.79,
          1646.41,
          1794.57,
          1969.87,
          31.59,
          929.93,
          3770.19,
          1535.13,
          6648.22,
          453.39,
          180.14,
          1146.48,
          3894.81,
          138.89,
          3090.23,
          349.69
         ]
        }
       ],
       "layout": {
        "geo": {
         "lakecolor": "rgb(85,173,240)",
         "scope": "usa",
         "showlakes": true
        },
        "template": {
         "data": {
          "bar": [
           {
            "error_x": {
             "color": "#2a3f5f"
            },
            "error_y": {
             "color": "#2a3f5f"
            },
            "marker": {
             "line": {
              "color": "#E5ECF6",
              "width": 0.5
             },
             "pattern": {
              "fillmode": "overlay",
              "size": 10,
              "solidity": 0.2
             }
            },
            "type": "bar"
           }
          ],
          "barpolar": [
           {
            "marker": {
             "line": {
              "color": "#E5ECF6",
              "width": 0.5
             },
             "pattern": {
              "fillmode": "overlay",
              "size": 10,
              "solidity": 0.2
             }
            },
            "type": "barpolar"
           }
          ],
          "carpet": [
           {
            "aaxis": {
             "endlinecolor": "#2a3f5f",
             "gridcolor": "white",
             "linecolor": "white",
             "minorgridcolor": "white",
             "startlinecolor": "#2a3f5f"
            },
            "baxis": {
             "endlinecolor": "#2a3f5f",
             "gridcolor": "white",
             "linecolor": "white",
             "minorgridcolor": "white",
             "startlinecolor": "#2a3f5f"
            },
            "type": "carpet"
           }
          ],
          "choropleth": [
           {
            "colorbar": {
             "outlinewidth": 0,
             "ticks": ""
            },
            "type": "choropleth"
           }
          ],
          "contour": [
           {
            "colorbar": {
             "outlinewidth": 0,
             "ticks": ""
            },
            "colorscale": [
             [
              0,
              "#0d0887"
             ],
             [
              0.1111111111111111,
              "#46039f"
             ],
             [
              0.2222222222222222,
              "#7201a8"
             ],
             [
              0.3333333333333333,
              "#9c179e"
             ],
             [
              0.4444444444444444,
              "#bd3786"
             ],
             [
              0.5555555555555556,
              "#d8576b"
             ],
             [
              0.6666666666666666,
              "#ed7953"
             ],
             [
              0.7777777777777778,
              "#fb9f3a"
             ],
             [
              0.8888888888888888,
              "#fdca26"
             ],
             [
              1,
              "#f0f921"
             ]
            ],
            "type": "contour"
           }
          ],
          "contourcarpet": [
           {
            "colorbar": {
             "outlinewidth": 0,
             "ticks": ""
            },
            "type": "contourcarpet"
           }
          ],
          "heatmap": [
           {
            "colorbar": {
             "outlinewidth": 0,
             "ticks": ""
            },
            "colorscale": [
             [
              0,
              "#0d0887"
             ],
             [
              0.1111111111111111,
              "#46039f"
             ],
             [
              0.2222222222222222,
              "#7201a8"
             ],
             [
              0.3333333333333333,
              "#9c179e"
             ],
             [
              0.4444444444444444,
              "#bd3786"
             ],
             [
              0.5555555555555556,
              "#d8576b"
             ],
             [
              0.6666666666666666,
              "#ed7953"
             ],
             [
              0.7777777777777778,
              "#fb9f3a"
             ],
             [
              0.8888888888888888,
              "#fdca26"
             ],
             [
              1,
              "#f0f921"
             ]
            ],
            "type": "heatmap"
           }
          ],
          "heatmapgl": [
           {
            "colorbar": {
             "outlinewidth": 0,
             "ticks": ""
            },
            "colorscale": [
             [
              0,
              "#0d0887"
             ],
             [
              0.1111111111111111,
              "#46039f"
             ],
             [
              0.2222222222222222,
              "#7201a8"
             ],
             [
              0.3333333333333333,
              "#9c179e"
             ],
             [
              0.4444444444444444,
              "#bd3786"
             ],
             [
              0.5555555555555556,
              "#d8576b"
             ],
             [
              0.6666666666666666,
              "#ed7953"
             ],
             [
              0.7777777777777778,
              "#fb9f3a"
             ],
             [
              0.8888888888888888,
              "#fdca26"
             ],
             [
              1,
              "#f0f921"
             ]
            ],
            "type": "heatmapgl"
           }
          ],
          "histogram": [
           {
            "marker": {
             "pattern": {
              "fillmode": "overlay",
              "size": 10,
              "solidity": 0.2
             }
            },
            "type": "histogram"
           }
          ],
          "histogram2d": [
           {
            "colorbar": {
             "outlinewidth": 0,
             "ticks": ""
            },
            "colorscale": [
             [
              0,
              "#0d0887"
             ],
             [
              0.1111111111111111,
              "#46039f"
             ],
             [
              0.2222222222222222,
              "#7201a8"
             ],
             [
              0.3333333333333333,
              "#9c179e"
             ],
             [
              0.4444444444444444,
              "#bd3786"
             ],
             [
              0.5555555555555556,
              "#d8576b"
             ],
             [
              0.6666666666666666,
              "#ed7953"
             ],
             [
              0.7777777777777778,
              "#fb9f3a"
             ],
             [
              0.8888888888888888,
              "#fdca26"
             ],
             [
              1,
              "#f0f921"
             ]
            ],
            "type": "histogram2d"
           }
          ],
          "histogram2dcontour": [
           {
            "colorbar": {
             "outlinewidth": 0,
             "ticks": ""
            },
            "colorscale": [
             [
              0,
              "#0d0887"
             ],
             [
              0.1111111111111111,
              "#46039f"
             ],
             [
              0.2222222222222222,
              "#7201a8"
             ],
             [
              0.3333333333333333,
              "#9c179e"
             ],
             [
              0.4444444444444444,
              "#bd3786"
             ],
             [
              0.5555555555555556,
              "#d8576b"
             ],
             [
              0.6666666666666666,
              "#ed7953"
             ],
             [
              0.7777777777777778,
              "#fb9f3a"
             ],
             [
              0.8888888888888888,
              "#fdca26"
             ],
             [
              1,
              "#f0f921"
             ]
            ],
            "type": "histogram2dcontour"
           }
          ],
          "mesh3d": [
           {
            "colorbar": {
             "outlinewidth": 0,
             "ticks": ""
            },
            "type": "mesh3d"
           }
          ],
          "parcoords": [
           {
            "line": {
             "colorbar": {
              "outlinewidth": 0,
              "ticks": ""
             }
            },
            "type": "parcoords"
           }
          ],
          "pie": [
           {
            "automargin": true,
            "type": "pie"
           }
          ],
          "scatter": [
           {
            "fillpattern": {
             "fillmode": "overlay",
             "size": 10,
             "solidity": 0.2
            },
            "type": "scatter"
           }
          ],
          "scatter3d": [
           {
            "line": {
             "colorbar": {
              "outlinewidth": 0,
              "ticks": ""
             }
            },
            "marker": {
             "colorbar": {
              "outlinewidth": 0,
              "ticks": ""
             }
            },
            "type": "scatter3d"
           }
          ],
          "scattercarpet": [
           {
            "marker": {
             "colorbar": {
              "outlinewidth": 0,
              "ticks": ""
             }
            },
            "type": "scattercarpet"
           }
          ],
          "scattergeo": [
           {
            "marker": {
             "colorbar": {
              "outlinewidth": 0,
              "ticks": ""
             }
            },
            "type": "scattergeo"
           }
          ],
          "scattergl": [
           {
            "marker": {
             "colorbar": {
              "outlinewidth": 0,
              "ticks": ""
             }
            },
            "type": "scattergl"
           }
          ],
          "scattermapbox": [
           {
            "marker": {
             "colorbar": {
              "outlinewidth": 0,
              "ticks": ""
             }
            },
            "type": "scattermapbox"
           }
          ],
          "scatterpolar": [
           {
            "marker": {
             "colorbar": {
              "outlinewidth": 0,
              "ticks": ""
             }
            },
            "type": "scatterpolar"
           }
          ],
          "scatterpolargl": [
           {
            "marker": {
             "colorbar": {
              "outlinewidth": 0,
              "ticks": ""
             }
            },
            "type": "scatterpolargl"
           }
          ],
          "scatterternary": [
           {
            "marker": {
             "colorbar": {
              "outlinewidth": 0,
              "ticks": ""
             }
            },
            "type": "scatterternary"
           }
          ],
          "surface": [
           {
            "colorbar": {
             "outlinewidth": 0,
             "ticks": ""
            },
            "colorscale": [
             [
              0,
              "#0d0887"
             ],
             [
              0.1111111111111111,
              "#46039f"
             ],
             [
              0.2222222222222222,
              "#7201a8"
             ],
             [
              0.3333333333333333,
              "#9c179e"
             ],
             [
              0.4444444444444444,
              "#bd3786"
             ],
             [
              0.5555555555555556,
              "#d8576b"
             ],
             [
              0.6666666666666666,
              "#ed7953"
             ],
             [
              0.7777777777777778,
              "#fb9f3a"
             ],
             [
              0.8888888888888888,
              "#fdca26"
             ],
             [
              1,
              "#f0f921"
             ]
            ],
            "type": "surface"
           }
          ],
          "table": [
           {
            "cells": {
             "fill": {
              "color": "#EBF0F8"
             },
             "line": {
              "color": "white"
             }
            },
            "header": {
             "fill": {
              "color": "#C8D4E3"
             },
             "line": {
              "color": "white"
             }
            },
            "type": "table"
           }
          ]
         },
         "layout": {
          "annotationdefaults": {
           "arrowcolor": "#2a3f5f",
           "arrowhead": 0,
           "arrowwidth": 1
          },
          "autotypenumbers": "strict",
          "coloraxis": {
           "colorbar": {
            "outlinewidth": 0,
            "ticks": ""
           }
          },
          "colorscale": {
           "diverging": [
            [
             0,
             "#8e0152"
            ],
            [
             0.1,
             "#c51b7d"
            ],
            [
             0.2,
             "#de77ae"
            ],
            [
             0.3,
             "#f1b6da"
            ],
            [
             0.4,
             "#fde0ef"
            ],
            [
             0.5,
             "#f7f7f7"
            ],
            [
             0.6,
             "#e6f5d0"
            ],
            [
             0.7,
             "#b8e186"
            ],
            [
             0.8,
             "#7fbc41"
            ],
            [
             0.9,
             "#4d9221"
            ],
            [
             1,
             "#276419"
            ]
           ],
           "sequential": [
            [
             0,
             "#0d0887"
            ],
            [
             0.1111111111111111,
             "#46039f"
            ],
            [
             0.2222222222222222,
             "#7201a8"
            ],
            [
             0.3333333333333333,
             "#9c179e"
            ],
            [
             0.4444444444444444,
             "#bd3786"
            ],
            [
             0.5555555555555556,
             "#d8576b"
            ],
            [
             0.6666666666666666,
             "#ed7953"
            ],
            [
             0.7777777777777778,
             "#fb9f3a"
            ],
            [
             0.8888888888888888,
             "#fdca26"
            ],
            [
             1,
             "#f0f921"
            ]
           ],
           "sequentialminus": [
            [
             0,
             "#0d0887"
            ],
            [
             0.1111111111111111,
             "#46039f"
            ],
            [
             0.2222222222222222,
             "#7201a8"
            ],
            [
             0.3333333333333333,
             "#9c179e"
            ],
            [
             0.4444444444444444,
             "#bd3786"
            ],
            [
             0.5555555555555556,
             "#d8576b"
            ],
            [
             0.6666666666666666,
             "#ed7953"
            ],
            [
             0.7777777777777778,
             "#fb9f3a"
            ],
            [
             0.8888888888888888,
             "#fdca26"
            ],
            [
             1,
             "#f0f921"
            ]
           ]
          },
          "colorway": [
           "#636efa",
           "#EF553B",
           "#00cc96",
           "#ab63fa",
           "#FFA15A",
           "#19d3f3",
           "#FF6692",
           "#B6E880",
           "#FF97FF",
           "#FECB52"
          ],
          "font": {
           "color": "#2a3f5f"
          },
          "geo": {
           "bgcolor": "white",
           "lakecolor": "white",
           "landcolor": "#E5ECF6",
           "showlakes": true,
           "showland": true,
           "subunitcolor": "white"
          },
          "hoverlabel": {
           "align": "left"
          },
          "hovermode": "closest",
          "mapbox": {
           "style": "light"
          },
          "paper_bgcolor": "white",
          "plot_bgcolor": "#E5ECF6",
          "polar": {
           "angularaxis": {
            "gridcolor": "white",
            "linecolor": "white",
            "ticks": ""
           },
           "bgcolor": "#E5ECF6",
           "radialaxis": {
            "gridcolor": "white",
            "linecolor": "white",
            "ticks": ""
           }
          },
          "scene": {
           "xaxis": {
            "backgroundcolor": "#E5ECF6",
            "gridcolor": "white",
            "gridwidth": 2,
            "linecolor": "white",
            "showbackground": true,
            "ticks": "",
            "zerolinecolor": "white"
           },
           "yaxis": {
            "backgroundcolor": "#E5ECF6",
            "gridcolor": "white",
            "gridwidth": 2,
            "linecolor": "white",
            "showbackground": true,
            "ticks": "",
            "zerolinecolor": "white"
           },
           "zaxis": {
            "backgroundcolor": "#E5ECF6",
            "gridcolor": "white",
            "gridwidth": 2,
            "linecolor": "white",
            "showbackground": true,
            "ticks": "",
            "zerolinecolor": "white"
           }
          },
          "shapedefaults": {
           "line": {
            "color": "#2a3f5f"
           }
          },
          "ternary": {
           "aaxis": {
            "gridcolor": "white",
            "linecolor": "white",
            "ticks": ""
           },
           "baxis": {
            "gridcolor": "white",
            "linecolor": "white",
            "ticks": ""
           },
           "bgcolor": "#E5ECF6",
           "caxis": {
            "gridcolor": "white",
            "linecolor": "white",
            "ticks": ""
           }
          },
          "title": {
           "x": 0.05
          },
          "xaxis": {
           "automargin": true,
           "gridcolor": "white",
           "linecolor": "white",
           "ticks": "",
           "title": {
            "standoff": 15
           },
           "zerolinecolor": "white",
           "zerolinewidth": 2
          },
          "yaxis": {
           "automargin": true,
           "gridcolor": "white",
           "linecolor": "white",
           "ticks": "",
           "title": {
            "standoff": 15
           },
           "zerolinecolor": "white",
           "zerolinewidth": 2
          }
         }
        },
        "title": {
         "text": "2011 US Agriculture Exports by State"
        }
       }
      },
      "text/html": [
       "<div>                            <div id=\"7a5878a6-8475-4d30-9437-0983e069ac79\" class=\"plotly-graph-div\" style=\"height:525px; width:100%;\"></div>            <script type=\"text/javascript\">                require([\"plotly\"], function(Plotly) {                    window.PLOTLYENV=window.PLOTLYENV || {};                                    if (document.getElementById(\"7a5878a6-8475-4d30-9437-0983e069ac79\")) {                    Plotly.newPlot(                        \"7a5878a6-8475-4d30-9437-0983e069ac79\",                        [{\"colorbar\":{\"title\":{\"text\":\"Millions USD\"}},\"colorscale\":[[0.0,\"rgb(255,255,229)\"],[0.125,\"rgb(255,247,188)\"],[0.25,\"rgb(254,227,145)\"],[0.375,\"rgb(254,196,79)\"],[0.5,\"rgb(254,153,41)\"],[0.625,\"rgb(236,112,20)\"],[0.75,\"rgb(204,76,2)\"],[0.875,\"rgb(153,52,4)\"],[1.0,\"rgb(102,37,6)\"]],\"locationmode\":\"USA-states\",\"locations\":[\"AL\",\"AK\",\"AZ\",\"AR\",\"CA\",\"CO\",\"CT\",\"DE\",\"FL\",\"GA\",\"HI\",\"ID\",\"IL\",\"IN\",\"IA\",\"KS\",\"KY\",\"LA\",\"ME\",\"MD\",\"MA\",\"MI\",\"MN\",\"MS\",\"MO\",\"MT\",\"NE\",\"NV\",\"NH\",\"NJ\",\"NM\",\"NY\",\"NC\",\"ND\",\"OH\",\"OK\",\"OR\",\"PA\",\"RI\",\"SC\",\"SD\",\"TN\",\"TX\",\"UT\",\"VT\",\"VA\",\"WA\",\"WV\",\"WI\",\"WY\"],\"marker\":{\"line\":{\"color\":\"rgb(255,255,255)\",\"width\":2}},\"text\":[\"Alabama<br>Beef 34.4 Dairy 4.06<br>Fruits 25.11 Veggies 14.33<br>Wheat 70.0 Corn 34.9\",\"Alaska<br>Beef 0.2 Dairy 0.19<br>Fruits 0.0 Veggies 1.56<br>Wheat 0.0 Corn 0.0\",\"Arizona<br>Beef 71.3 Dairy 105.48<br>Fruits 60.27 Veggies 386.91<br>Wheat 48.7 Corn 7.3\",\"Arkansas<br>Beef 53.2 Dairy 3.53<br>Fruits 6.88 Veggies 11.45<br>Wheat 114.5 Corn 69.5\",\" California<br>Beef 228.7 Dairy 929.95<br>Fruits 8736.4 Veggies 2106.79<br>Wheat 249.3 Corn 34.6\",\"Colorado<br>Beef 261.4 Dairy 71.94<br>Fruits 17.99 Veggies 118.27<br>Wheat 400.5 Corn 183.2\",\"Connecticut<br>Beef 1.1 Dairy 9.49<br>Fruits 13.1 Veggies 11.16<br>Wheat 0.0 Corn 0.0\",\"Delaware<br>Beef 0.4 Dairy 2.3<br>Fruits 1.53 Veggies 20.03<br>Wheat 22.9 Corn 26.9\",\"Florida<br>Beef 42.6 Dairy 66.31<br>Fruits 1371.36 Veggies 450.86<br>Wheat 1.8 Corn 3.5\",\"Georgia<br>Beef 31.0 Dairy 38.38<br>Fruits 233.51 Veggies 154.77<br>Wheat 65.4 Corn 57.8\",\"Hawaii<br>Beef 4.0 Dairy 1.16<br>Fruits 55.51 Veggies 24.83<br>Wheat 0.0 Corn 0.0\",\"Idaho<br>Beef 119.8 Dairy 294.6<br>Fruits 21.64 Veggies 319.19<br>Wheat 568.2 Corn 24.0\",\"Illinois<br>Beef 53.7 Dairy 45.82<br>Fruits 12.53 Veggies 39.95<br>Wheat 223.8 Corn 2228.5\",\"Indiana<br>Beef 21.9 Dairy 89.7<br>Fruits 12.98 Veggies 37.89<br>Wheat 114.0 Corn 1123.2\",\"Iowa<br>Beef 289.8 Dairy 107.0<br>Fruits 3.24 Veggies 7.1<br>Wheat 3.1 Corn 2529.8\",\"Kansas<br>Beef 659.3 Dairy 65.45<br>Fruits 3.11 Veggies 9.32<br>Wheat 1426.5 Corn 457.3\",\"Kentucky<br>Beef 54.8 Dairy 28.27<br>Fruits 6.6 Veggies 0.0<br>Wheat 149.3 Corn 179.1\",\"Louisiana<br>Beef 19.8 Dairy 6.02<br>Fruits 17.83 Veggies 17.25<br>Wheat 78.7 Corn 91.4\",\"Maine<br>Beef 1.4 Dairy 16.18<br>Fruits 52.01 Veggies 62.9<br>Wheat 0.0 Corn 0.0\",\"Maryland<br>Beef 5.6 Dairy 24.81<br>Fruits 12.9 Veggies 20.43<br>Wheat 55.8 Corn 54.1\",\"Massachusetts<br>Beef 0.6 Dairy 5.81<br>Fruits 80.83 Veggies 21.13<br>Wheat 0.0 Corn 0.0\",\"Michigan<br>Beef 37.7 Dairy 214.82<br>Fruits 257.69 Veggies 189.96<br>Wheat 247.0 Corn 381.5\",\"Minnesota<br>Beef 112.3 Dairy 218.05<br>Fruits 7.91 Veggies 120.37<br>Wheat 538.1 Corn 1264.3\",\"Mississippi<br>Beef 12.8 Dairy 5.45<br>Fruits 17.04 Veggies 27.87<br>Wheat 102.2 Corn 110.0\",\"Missouri<br>Beef 137.2 Dairy 34.26<br>Fruits 13.18 Veggies 17.9<br>Wheat 161.7 Corn 428.8\",\"Montana<br>Beef 105.0 Dairy 6.82<br>Fruits 3.3 Veggies 45.27<br>Wheat 1198.1 Corn 5.4\",\"Nebraska<br>Beef 762.2 Dairy 30.07<br>Fruits 2.16 Veggies 53.5<br>Wheat 292.3 Corn 1735.9\",\"Nevada<br>Beef 21.8 Dairy 16.57<br>Fruits 1.19 Veggies 27.93<br>Wheat 5.4 Corn 0.0\",\"New Hampshire<br>Beef 0.6 Dairy 7.46<br>Fruits 7.98 Veggies 4.5<br>Wheat 0.0 Corn 0.0\",\"New Jersey<br>Beef 0.8 Dairy 3.37<br>Fruits 109.45 Veggies 56.54<br>Wheat 6.7 Corn 10.1\",\"New Mexico<br>Beef 117.2 Dairy 191.01<br>Fruits 101.9 Veggies 43.88<br>Wheat 13.9 Corn 11.2\",\"New York<br>Beef 22.2 Dairy 331.8<br>Fruits 202.56 Veggies 143.37<br>Wheat 29.9 Corn 106.1\",\"North Carolina<br>Beef 24.8 Dairy 24.9<br>Fruits 74.47 Veggies 150.45<br>Wheat 200.3 Corn 92.2\",\"North Dakota<br>Beef 78.5 Dairy 8.14<br>Fruits 0.25 Veggies 130.79<br>Wheat 1664.5 Corn 236.1\",\"Ohio<br>Beef 36.2 Dairy 134.57<br>Fruits 27.21 Veggies 53.53<br>Wheat 207.4 Corn 535.1\",\"Oklahoma<br>Beef 337.6 Dairy 24.35<br>Fruits 9.24 Veggies 8.9<br>Wheat 324.8 Corn 27.5\",\"Oregon<br>Beef 58.8 Dairy 63.66<br>Fruits 315.04 Veggies 126.5<br>Wheat 320.3 Corn 11.7\",\"Pennsylvania<br>Beef 50.9 Dairy 280.87<br>Fruits 89.48 Veggies 38.26<br>Wheat 41.0 Corn 112.1\",\"Rhode Island<br>Beef 0.1 Dairy 0.52<br>Fruits 2.83 Veggies 3.02<br>Wheat 0.0 Corn 0.0\",\"South Carolina<br>Beef 15.2 Dairy 7.62<br>Fruits 53.45 Veggies 42.66<br>Wheat 55.3 Corn 32.1\",\"South Dakota<br>Beef 193.5 Dairy 46.77<br>Fruits 0.8 Veggies 4.06<br>Wheat 704.5 Corn 643.6\",\"Tennessee<br>Beef 51.1 Dairy 21.18<br>Fruits 6.23 Veggies 24.67<br>Wheat 100.0 Corn 88.8\",\"Texas<br>Beef 961.0 Dairy 240.55<br>Fruits 99.9 Veggies 115.23<br>Wheat 309.7 Corn 167.2\",\"Utah<br>Beef 27.9 Dairy 48.6<br>Fruits 12.34 Veggies 6.6<br>Wheat 42.8 Corn 5.3\",\"Vermont<br>Beef 6.2 Dairy 65.98<br>Fruits 8.01 Veggies 4.05<br>Wheat 0.0 Corn 0.0\",\"Virginia<br>Beef 39.5 Dairy 47.85<br>Fruits 36.48 Veggies 27.25<br>Wheat 77.5 Corn 39.5\",\"Washington<br>Beef 59.2 Dairy 154.18<br>Fruits 1738.57 Veggies 363.79<br>Wheat 786.3 Corn 29.5\",\"West Virginia<br>Beef 12.0 Dairy 3.9<br>Fruits 11.54 Veggies 0.0<br>Wheat 1.6 Corn 3.5\",\"Wisconsin<br>Beef 107.3 Dairy 633.6<br>Fruits 133.8 Veggies 148.99<br>Wheat 96.7 Corn 460.5\",\"Wyoming<br>Beef 75.1 Dairy 2.89<br>Fruits 0.17 Veggies 10.23<br>Wheat 20.7 Corn 9.0\"],\"z\":[1390.63,13.31,1463.17,3586.02,16472.88,1851.33,259.62,282.19,3764.09,2860.84,401.84,2078.89,8709.48,5050.23,11273.76,4589.01,1889.15,1914.23,278.37,692.75,248.65,3164.16,7192.33,2170.8,3933.42,1718.0,7114.13,139.89,73.06,500.4,751.58,1488.9,3806.05,3761.96,3979.79,1646.41,1794.57,1969.87,31.59,929.93,3770.19,1535.13,6648.22,453.39,180.14,1146.48,3894.81,138.89,3090.23,349.69],\"type\":\"choropleth\"}],                        {\"geo\":{\"lakecolor\":\"rgb(85,173,240)\",\"scope\":\"usa\",\"showlakes\":true},\"template\":{\"data\":{\"barpolar\":[{\"marker\":{\"line\":{\"color\":\"#E5ECF6\",\"width\":0.5},\"pattern\":{\"fillmode\":\"overlay\",\"size\":10,\"solidity\":0.2}},\"type\":\"barpolar\"}],\"bar\":[{\"error_x\":{\"color\":\"#2a3f5f\"},\"error_y\":{\"color\":\"#2a3f5f\"},\"marker\":{\"line\":{\"color\":\"#E5ECF6\",\"width\":0.5},\"pattern\":{\"fillmode\":\"overlay\",\"size\":10,\"solidity\":0.2}},\"type\":\"bar\"}],\"carpet\":[{\"aaxis\":{\"endlinecolor\":\"#2a3f5f\",\"gridcolor\":\"white\",\"linecolor\":\"white\",\"minorgridcolor\":\"white\",\"startlinecolor\":\"#2a3f5f\"},\"baxis\":{\"endlinecolor\":\"#2a3f5f\",\"gridcolor\":\"white\",\"linecolor\":\"white\",\"minorgridcolor\":\"white\",\"startlinecolor\":\"#2a3f5f\"},\"type\":\"carpet\"}],\"choropleth\":[{\"colorbar\":{\"outlinewidth\":0,\"ticks\":\"\"},\"type\":\"choropleth\"}],\"contourcarpet\":[{\"colorbar\":{\"outlinewidth\":0,\"ticks\":\"\"},\"type\":\"contourcarpet\"}],\"contour\":[{\"colorbar\":{\"outlinewidth\":0,\"ticks\":\"\"},\"colorscale\":[[0.0,\"#0d0887\"],[0.1111111111111111,\"#46039f\"],[0.2222222222222222,\"#7201a8\"],[0.3333333333333333,\"#9c179e\"],[0.4444444444444444,\"#bd3786\"],[0.5555555555555556,\"#d8576b\"],[0.6666666666666666,\"#ed7953\"],[0.7777777777777778,\"#fb9f3a\"],[0.8888888888888888,\"#fdca26\"],[1.0,\"#f0f921\"]],\"type\":\"contour\"}],\"heatmapgl\":[{\"colorbar\":{\"outlinewidth\":0,\"ticks\":\"\"},\"colorscale\":[[0.0,\"#0d0887\"],[0.1111111111111111,\"#46039f\"],[0.2222222222222222,\"#7201a8\"],[0.3333333333333333,\"#9c179e\"],[0.4444444444444444,\"#bd3786\"],[0.5555555555555556,\"#d8576b\"],[0.6666666666666666,\"#ed7953\"],[0.7777777777777778,\"#fb9f3a\"],[0.8888888888888888,\"#fdca26\"],[1.0,\"#f0f921\"]],\"type\":\"heatmapgl\"}],\"heatmap\":[{\"colorbar\":{\"outlinewidth\":0,\"ticks\":\"\"},\"colorscale\":[[0.0,\"#0d0887\"],[0.1111111111111111,\"#46039f\"],[0.2222222222222222,\"#7201a8\"],[0.3333333333333333,\"#9c179e\"],[0.4444444444444444,\"#bd3786\"],[0.5555555555555556,\"#d8576b\"],[0.6666666666666666,\"#ed7953\"],[0.7777777777777778,\"#fb9f3a\"],[0.8888888888888888,\"#fdca26\"],[1.0,\"#f0f921\"]],\"type\":\"heatmap\"}],\"histogram2dcontour\":[{\"colorbar\":{\"outlinewidth\":0,\"ticks\":\"\"},\"colorscale\":[[0.0,\"#0d0887\"],[0.1111111111111111,\"#46039f\"],[0.2222222222222222,\"#7201a8\"],[0.3333333333333333,\"#9c179e\"],[0.4444444444444444,\"#bd3786\"],[0.5555555555555556,\"#d8576b\"],[0.6666666666666666,\"#ed7953\"],[0.7777777777777778,\"#fb9f3a\"],[0.8888888888888888,\"#fdca26\"],[1.0,\"#f0f921\"]],\"type\":\"histogram2dcontour\"}],\"histogram2d\":[{\"colorbar\":{\"outlinewidth\":0,\"ticks\":\"\"},\"colorscale\":[[0.0,\"#0d0887\"],[0.1111111111111111,\"#46039f\"],[0.2222222222222222,\"#7201a8\"],[0.3333333333333333,\"#9c179e\"],[0.4444444444444444,\"#bd3786\"],[0.5555555555555556,\"#d8576b\"],[0.6666666666666666,\"#ed7953\"],[0.7777777777777778,\"#fb9f3a\"],[0.8888888888888888,\"#fdca26\"],[1.0,\"#f0f921\"]],\"type\":\"histogram2d\"}],\"histogram\":[{\"marker\":{\"pattern\":{\"fillmode\":\"overlay\",\"size\":10,\"solidity\":0.2}},\"type\":\"histogram\"}],\"mesh3d\":[{\"colorbar\":{\"outlinewidth\":0,\"ticks\":\"\"},\"type\":\"mesh3d\"}],\"parcoords\":[{\"line\":{\"colorbar\":{\"outlinewidth\":0,\"ticks\":\"\"}},\"type\":\"parcoords\"}],\"pie\":[{\"automargin\":true,\"type\":\"pie\"}],\"scatter3d\":[{\"line\":{\"colorbar\":{\"outlinewidth\":0,\"ticks\":\"\"}},\"marker\":{\"colorbar\":{\"outlinewidth\":0,\"ticks\":\"\"}},\"type\":\"scatter3d\"}],\"scattercarpet\":[{\"marker\":{\"colorbar\":{\"outlinewidth\":0,\"ticks\":\"\"}},\"type\":\"scattercarpet\"}],\"scattergeo\":[{\"marker\":{\"colorbar\":{\"outlinewidth\":0,\"ticks\":\"\"}},\"type\":\"scattergeo\"}],\"scattergl\":[{\"marker\":{\"colorbar\":{\"outlinewidth\":0,\"ticks\":\"\"}},\"type\":\"scattergl\"}],\"scattermapbox\":[{\"marker\":{\"colorbar\":{\"outlinewidth\":0,\"ticks\":\"\"}},\"type\":\"scattermapbox\"}],\"scatterpolargl\":[{\"marker\":{\"colorbar\":{\"outlinewidth\":0,\"ticks\":\"\"}},\"type\":\"scatterpolargl\"}],\"scatterpolar\":[{\"marker\":{\"colorbar\":{\"outlinewidth\":0,\"ticks\":\"\"}},\"type\":\"scatterpolar\"}],\"scatter\":[{\"fillpattern\":{\"fillmode\":\"overlay\",\"size\":10,\"solidity\":0.2},\"type\":\"scatter\"}],\"scatterternary\":[{\"marker\":{\"colorbar\":{\"outlinewidth\":0,\"ticks\":\"\"}},\"type\":\"scatterternary\"}],\"surface\":[{\"colorbar\":{\"outlinewidth\":0,\"ticks\":\"\"},\"colorscale\":[[0.0,\"#0d0887\"],[0.1111111111111111,\"#46039f\"],[0.2222222222222222,\"#7201a8\"],[0.3333333333333333,\"#9c179e\"],[0.4444444444444444,\"#bd3786\"],[0.5555555555555556,\"#d8576b\"],[0.6666666666666666,\"#ed7953\"],[0.7777777777777778,\"#fb9f3a\"],[0.8888888888888888,\"#fdca26\"],[1.0,\"#f0f921\"]],\"type\":\"surface\"}],\"table\":[{\"cells\":{\"fill\":{\"color\":\"#EBF0F8\"},\"line\":{\"color\":\"white\"}},\"header\":{\"fill\":{\"color\":\"#C8D4E3\"},\"line\":{\"color\":\"white\"}},\"type\":\"table\"}]},\"layout\":{\"annotationdefaults\":{\"arrowcolor\":\"#2a3f5f\",\"arrowhead\":0,\"arrowwidth\":1},\"autotypenumbers\":\"strict\",\"coloraxis\":{\"colorbar\":{\"outlinewidth\":0,\"ticks\":\"\"}},\"colorscale\":{\"diverging\":[[0,\"#8e0152\"],[0.1,\"#c51b7d\"],[0.2,\"#de77ae\"],[0.3,\"#f1b6da\"],[0.4,\"#fde0ef\"],[0.5,\"#f7f7f7\"],[0.6,\"#e6f5d0\"],[0.7,\"#b8e186\"],[0.8,\"#7fbc41\"],[0.9,\"#4d9221\"],[1,\"#276419\"]],\"sequential\":[[0.0,\"#0d0887\"],[0.1111111111111111,\"#46039f\"],[0.2222222222222222,\"#7201a8\"],[0.3333333333333333,\"#9c179e\"],[0.4444444444444444,\"#bd3786\"],[0.5555555555555556,\"#d8576b\"],[0.6666666666666666,\"#ed7953\"],[0.7777777777777778,\"#fb9f3a\"],[0.8888888888888888,\"#fdca26\"],[1.0,\"#f0f921\"]],\"sequentialminus\":[[0.0,\"#0d0887\"],[0.1111111111111111,\"#46039f\"],[0.2222222222222222,\"#7201a8\"],[0.3333333333333333,\"#9c179e\"],[0.4444444444444444,\"#bd3786\"],[0.5555555555555556,\"#d8576b\"],[0.6666666666666666,\"#ed7953\"],[0.7777777777777778,\"#fb9f3a\"],[0.8888888888888888,\"#fdca26\"],[1.0,\"#f0f921\"]]},\"colorway\":[\"#636efa\",\"#EF553B\",\"#00cc96\",\"#ab63fa\",\"#FFA15A\",\"#19d3f3\",\"#FF6692\",\"#B6E880\",\"#FF97FF\",\"#FECB52\"],\"font\":{\"color\":\"#2a3f5f\"},\"geo\":{\"bgcolor\":\"white\",\"lakecolor\":\"white\",\"landcolor\":\"#E5ECF6\",\"showlakes\":true,\"showland\":true,\"subunitcolor\":\"white\"},\"hoverlabel\":{\"align\":\"left\"},\"hovermode\":\"closest\",\"mapbox\":{\"style\":\"light\"},\"paper_bgcolor\":\"white\",\"plot_bgcolor\":\"#E5ECF6\",\"polar\":{\"angularaxis\":{\"gridcolor\":\"white\",\"linecolor\":\"white\",\"ticks\":\"\"},\"bgcolor\":\"#E5ECF6\",\"radialaxis\":{\"gridcolor\":\"white\",\"linecolor\":\"white\",\"ticks\":\"\"}},\"scene\":{\"xaxis\":{\"backgroundcolor\":\"#E5ECF6\",\"gridcolor\":\"white\",\"gridwidth\":2,\"linecolor\":\"white\",\"showbackground\":true,\"ticks\":\"\",\"zerolinecolor\":\"white\"},\"yaxis\":{\"backgroundcolor\":\"#E5ECF6\",\"gridcolor\":\"white\",\"gridwidth\":2,\"linecolor\":\"white\",\"showbackground\":true,\"ticks\":\"\",\"zerolinecolor\":\"white\"},\"zaxis\":{\"backgroundcolor\":\"#E5ECF6\",\"gridcolor\":\"white\",\"gridwidth\":2,\"linecolor\":\"white\",\"showbackground\":true,\"ticks\":\"\",\"zerolinecolor\":\"white\"}},\"shapedefaults\":{\"line\":{\"color\":\"#2a3f5f\"}},\"ternary\":{\"aaxis\":{\"gridcolor\":\"white\",\"linecolor\":\"white\",\"ticks\":\"\"},\"baxis\":{\"gridcolor\":\"white\",\"linecolor\":\"white\",\"ticks\":\"\"},\"bgcolor\":\"#E5ECF6\",\"caxis\":{\"gridcolor\":\"white\",\"linecolor\":\"white\",\"ticks\":\"\"}},\"title\":{\"x\":0.05},\"xaxis\":{\"automargin\":true,\"gridcolor\":\"white\",\"linecolor\":\"white\",\"ticks\":\"\",\"title\":{\"standoff\":15},\"zerolinecolor\":\"white\",\"zerolinewidth\":2},\"yaxis\":{\"automargin\":true,\"gridcolor\":\"white\",\"linecolor\":\"white\",\"ticks\":\"\",\"title\":{\"standoff\":15},\"zerolinecolor\":\"white\",\"zerolinewidth\":2}}},\"title\":{\"text\":\"2011 US Agriculture Exports by State\"}},                        {\"responsive\": true}                    ).then(function(){\n",
       "                            \n",
       "var gd = document.getElementById('7a5878a6-8475-4d30-9437-0983e069ac79');\n",
       "var x = new MutationObserver(function (mutations, observer) {{\n",
       "        var display = window.getComputedStyle(gd).display;\n",
       "        if (!display || display === 'none') {{\n",
       "            console.log([gd, 'removed!']);\n",
       "            Plotly.purge(gd);\n",
       "            observer.disconnect();\n",
       "        }}\n",
       "}});\n",
       "\n",
       "// Listen for the removal of the full notebook cells\n",
       "var notebookContainer = gd.closest('#notebook-container');\n",
       "if (notebookContainer) {{\n",
       "    x.observe(notebookContainer, {childList: true});\n",
       "}}\n",
       "\n",
       "// Listen for the clearing of the current output cell\n",
       "var outputEl = gd.closest('.output');\n",
       "if (outputEl) {{\n",
       "    x.observe(outputEl, {childList: true});\n",
       "}}\n",
       "\n",
       "                        })                };                });            </script>        </div>"
      ]
     },
     "metadata": {},
     "output_type": "display_data"
    }
   ],
   "source": [
    "iplot(choromap)"
   ]
  },
  {
   "cell_type": "code",
   "execution_count": 50,
   "id": "1ed17e8a",
   "metadata": {},
   "outputs": [],
   "source": [
    "df = pd.read_csv('2014_World_GDP')"
   ]
  },
  {
   "cell_type": "code",
   "execution_count": 51,
   "id": "02c1b5d4",
   "metadata": {},
   "outputs": [
    {
     "data": {
      "text/html": [
       "<div>\n",
       "<style scoped>\n",
       "    .dataframe tbody tr th:only-of-type {\n",
       "        vertical-align: middle;\n",
       "    }\n",
       "\n",
       "    .dataframe tbody tr th {\n",
       "        vertical-align: top;\n",
       "    }\n",
       "\n",
       "    .dataframe thead th {\n",
       "        text-align: right;\n",
       "    }\n",
       "</style>\n",
       "<table border=\"1\" class=\"dataframe\">\n",
       "  <thead>\n",
       "    <tr style=\"text-align: right;\">\n",
       "      <th></th>\n",
       "      <th>COUNTRY</th>\n",
       "      <th>GDP (BILLIONS)</th>\n",
       "      <th>CODE</th>\n",
       "    </tr>\n",
       "  </thead>\n",
       "  <tbody>\n",
       "    <tr>\n",
       "      <th>0</th>\n",
       "      <td>Afghanistan</td>\n",
       "      <td>21.71</td>\n",
       "      <td>AFG</td>\n",
       "    </tr>\n",
       "    <tr>\n",
       "      <th>1</th>\n",
       "      <td>Albania</td>\n",
       "      <td>13.40</td>\n",
       "      <td>ALB</td>\n",
       "    </tr>\n",
       "    <tr>\n",
       "      <th>2</th>\n",
       "      <td>Algeria</td>\n",
       "      <td>227.80</td>\n",
       "      <td>DZA</td>\n",
       "    </tr>\n",
       "    <tr>\n",
       "      <th>3</th>\n",
       "      <td>American Samoa</td>\n",
       "      <td>0.75</td>\n",
       "      <td>ASM</td>\n",
       "    </tr>\n",
       "    <tr>\n",
       "      <th>4</th>\n",
       "      <td>Andorra</td>\n",
       "      <td>4.80</td>\n",
       "      <td>AND</td>\n",
       "    </tr>\n",
       "  </tbody>\n",
       "</table>\n",
       "</div>"
      ],
      "text/plain": [
       "          COUNTRY  GDP (BILLIONS) CODE\n",
       "0     Afghanistan           21.71  AFG\n",
       "1         Albania           13.40  ALB\n",
       "2         Algeria          227.80  DZA\n",
       "3  American Samoa            0.75  ASM\n",
       "4         Andorra            4.80  AND"
      ]
     },
     "execution_count": 51,
     "metadata": {},
     "output_type": "execute_result"
    }
   ],
   "source": [
    "df.head()"
   ]
  },
  {
   "cell_type": "code",
   "execution_count": 52,
   "id": "fe449228",
   "metadata": {},
   "outputs": [],
   "source": [
    "data = dict(\n",
    "        type = 'choropleth',\n",
    "        locations = df['CODE'],\n",
    "        z = df['GDP (BILLIONS)'],\n",
    "        text = df['COUNTRY'],\n",
    "        colorbar = {'title' : 'GDP Billions US'},\n",
    "      ) "
   ]
  },
  {
   "cell_type": "code",
   "execution_count": 56,
   "id": "afd861e1",
   "metadata": {},
   "outputs": [],
   "source": [
    "layout = dict(\n",
    "    title = '2014 Global GDP',\n",
    "    geo = dict(\n",
    "        showframe = False,\n",
    "        projection = {'type':'mercator'}\n",
    "    )\n",
    ")"
   ]
  },
  {
   "cell_type": "code",
   "execution_count": 57,
   "id": "9dfbdf6a",
   "metadata": {},
   "outputs": [],
   "source": [
    "choromap3 = go.Figure(data = [data],layout = layout)"
   ]
  },
  {
   "cell_type": "code",
   "execution_count": 58,
   "id": "15448033",
   "metadata": {},
   "outputs": [
    {
     "data": {
      "application/vnd.plotly.v1+json": {
       "config": {
        "linkText": "Export to plot.ly",
        "plotlyServerURL": "https://plot.ly",
        "showLink": false
       },
       "data": [
        {
         "colorbar": {
          "title": {
           "text": "GDP Billions US"
          }
         },
         "locations": [
          "AFG",
          "ALB",
          "DZA",
          "ASM",
          "AND",
          "AGO",
          "AIA",
          "ATG",
          "ARG",
          "ARM",
          "ABW",
          "AUS",
          "AUT",
          "AZE",
          "BHM",
          "BHR",
          "BGD",
          "BRB",
          "BLR",
          "BEL",
          "BLZ",
          "BEN",
          "BMU",
          "BTN",
          "BOL",
          "BIH",
          "BWA",
          "BRA",
          "VGB",
          "BRN",
          "BGR",
          "BFA",
          "MMR",
          "BDI",
          "CPV",
          "KHM",
          "CMR",
          "CAN",
          "CYM",
          "CAF",
          "TCD",
          "CHL",
          "CHN",
          "COL",
          "COM",
          "COD",
          "COG",
          "COK",
          "CRI",
          "CIV",
          "HRV",
          "CUB",
          "CUW",
          "CYP",
          "CZE",
          "DNK",
          "DJI",
          "DMA",
          "DOM",
          "ECU",
          "EGY",
          "SLV",
          "GNQ",
          "ERI",
          "EST",
          "ETH",
          "FLK",
          "FRO",
          "FJI",
          "FIN",
          "FRA",
          "PYF",
          "GAB",
          "GMB",
          "GEO",
          "DEU",
          "GHA",
          "GIB",
          "GRC",
          "GRL",
          "GRD",
          "GUM",
          "GTM",
          "GGY",
          "GNB",
          "GIN",
          "GUY",
          "HTI",
          "HND",
          "HKG",
          "HUN",
          "ISL",
          "IND",
          "IDN",
          "IRN",
          "IRQ",
          "IRL",
          "IMN",
          "ISR",
          "ITA",
          "JAM",
          "JPN",
          "JEY",
          "JOR",
          "KAZ",
          "KEN",
          "KIR",
          "KOR",
          "PRK",
          "KSV",
          "KWT",
          "KGZ",
          "LAO",
          "LVA",
          "LBN",
          "LSO",
          "LBR",
          "LBY",
          "LIE",
          "LTU",
          "LUX",
          "MAC",
          "MKD",
          "MDG",
          "MWI",
          "MYS",
          "MDV",
          "MLI",
          "MLT",
          "MHL",
          "MRT",
          "MUS",
          "MEX",
          "FSM",
          "MDA",
          "MCO",
          "MNG",
          "MNE",
          "MAR",
          "MOZ",
          "NAM",
          "NPL",
          "NLD",
          "NCL",
          "NZL",
          "NIC",
          "NGA",
          "NER",
          "NIU",
          "MNP",
          "NOR",
          "OMN",
          "PAK",
          "PLW",
          "PAN",
          "PNG",
          "PRY",
          "PER",
          "PHL",
          "POL",
          "PRT",
          "PRI",
          "QAT",
          "ROU",
          "RUS",
          "RWA",
          "KNA",
          "LCA",
          "MAF",
          "SPM",
          "VCT",
          "WSM",
          "SMR",
          "STP",
          "SAU",
          "SEN",
          "SRB",
          "SYC",
          "SLE",
          "SGP",
          "SXM",
          "SVK",
          "SVN",
          "SLB",
          "SOM",
          "ZAF",
          "SSD",
          "ESP",
          "LKA",
          "SDN",
          "SUR",
          "SWZ",
          "SWE",
          "CHE",
          "SYR",
          "TWN",
          "TJK",
          "TZA",
          "THA",
          "TLS",
          "TGO",
          "TON",
          "TTO",
          "TUN",
          "TUR",
          "TKM",
          "TUV",
          "UGA",
          "UKR",
          "ARE",
          "GBR",
          "USA",
          "URY",
          "UZB",
          "VUT",
          "VEN",
          "VNM",
          "VGB",
          "WBG",
          "YEM",
          "ZMB",
          "ZWE"
         ],
         "text": [
          "Afghanistan",
          "Albania",
          "Algeria",
          "American Samoa",
          "Andorra",
          "Angola",
          "Anguilla",
          "Antigua and Barbuda",
          "Argentina",
          "Armenia",
          "Aruba",
          "Australia",
          "Austria",
          "Azerbaijan",
          "Bahamas, The",
          "Bahrain",
          "Bangladesh",
          "Barbados",
          "Belarus",
          "Belgium",
          "Belize",
          "Benin",
          "Bermuda",
          "Bhutan",
          "Bolivia",
          "Bosnia and Herzegovina",
          "Botswana",
          "Brazil",
          "British Virgin Islands",
          "Brunei",
          "Bulgaria",
          "Burkina Faso",
          "Burma",
          "Burundi",
          "Cabo Verde",
          "Cambodia",
          "Cameroon",
          "Canada",
          "Cayman Islands",
          "Central African Republic",
          "Chad",
          "Chile",
          "China",
          "Colombia",
          "Comoros",
          "Congo, Democratic Republic of the",
          "Congo, Republic of the",
          "Cook Islands",
          "Costa Rica",
          "Cote d'Ivoire",
          "Croatia",
          "Cuba",
          "Curacao",
          "Cyprus",
          "Czech Republic",
          "Denmark",
          "Djibouti",
          "Dominica",
          "Dominican Republic",
          "Ecuador",
          "Egypt",
          "El Salvador",
          "Equatorial Guinea",
          "Eritrea",
          "Estonia",
          "Ethiopia",
          "Falkland Islands (Islas Malvinas)",
          "Faroe Islands",
          "Fiji",
          "Finland",
          "France",
          "French Polynesia",
          "Gabon",
          "Gambia, The",
          "Georgia",
          "Germany",
          "Ghana",
          "Gibraltar",
          "Greece",
          "Greenland",
          "Grenada",
          "Guam",
          "Guatemala",
          "Guernsey",
          "Guinea-Bissau",
          "Guinea",
          "Guyana",
          "Haiti",
          "Honduras",
          "Hong Kong",
          "Hungary",
          "Iceland",
          "India",
          "Indonesia",
          "Iran",
          "Iraq",
          "Ireland",
          "Isle of Man",
          "Israel",
          "Italy",
          "Jamaica",
          "Japan",
          "Jersey",
          "Jordan",
          "Kazakhstan",
          "Kenya",
          "Kiribati",
          "Korea, North",
          "Korea, South",
          "Kosovo",
          "Kuwait",
          "Kyrgyzstan",
          "Laos",
          "Latvia",
          "Lebanon",
          "Lesotho",
          "Liberia",
          "Libya",
          "Liechtenstein",
          "Lithuania",
          "Luxembourg",
          "Macau",
          "Macedonia",
          "Madagascar",
          "Malawi",
          "Malaysia",
          "Maldives",
          "Mali",
          "Malta",
          "Marshall Islands",
          "Mauritania",
          "Mauritius",
          "Mexico",
          "Micronesia, Federated States of",
          "Moldova",
          "Monaco",
          "Mongolia",
          "Montenegro",
          "Morocco",
          "Mozambique",
          "Namibia",
          "Nepal",
          "Netherlands",
          "New Caledonia",
          "New Zealand",
          "Nicaragua",
          "Nigeria",
          "Niger",
          "Niue",
          "Northern Mariana Islands",
          "Norway",
          "Oman",
          "Pakistan",
          "Palau",
          "Panama",
          "Papua New Guinea",
          "Paraguay",
          "Peru",
          "Philippines",
          "Poland",
          "Portugal",
          "Puerto Rico",
          "Qatar",
          "Romania",
          "Russia",
          "Rwanda",
          "Saint Kitts and Nevis",
          "Saint Lucia",
          "Saint Martin",
          "Saint Pierre and Miquelon",
          "Saint Vincent and the Grenadines",
          "Samoa",
          "San Marino",
          "Sao Tome and Principe",
          "Saudi Arabia",
          "Senegal",
          "Serbia",
          "Seychelles",
          "Sierra Leone",
          "Singapore",
          "Sint Maarten",
          "Slovakia",
          "Slovenia",
          "Solomon Islands",
          "Somalia",
          "South Africa",
          "South Sudan",
          "Spain",
          "Sri Lanka",
          "Sudan",
          "Suriname",
          "Swaziland",
          "Sweden",
          "Switzerland",
          "Syria",
          "Taiwan",
          "Tajikistan",
          "Tanzania",
          "Thailand",
          "Timor-Leste",
          "Togo",
          "Tonga",
          "Trinidad and Tobago",
          "Tunisia",
          "Turkey",
          "Turkmenistan",
          "Tuvalu",
          "Uganda",
          "Ukraine",
          "United Arab Emirates",
          "United Kingdom",
          "United States",
          "Uruguay",
          "Uzbekistan",
          "Vanuatu",
          "Venezuela",
          "Vietnam",
          "Virgin Islands",
          "West Bank",
          "Yemen",
          "Zambia",
          "Zimbabwe"
         ],
         "type": "choropleth",
         "z": [
          21.71,
          13.4,
          227.8,
          0.75,
          4.8,
          131.4,
          0.18,
          1.24,
          536.2,
          10.88,
          2.52,
          1483,
          436.1,
          77.91,
          8.65,
          34.05,
          186.6,
          4.28,
          75.25,
          527.8,
          1.67,
          9.24,
          5.2,
          2.09,
          34.08,
          19.55,
          16.3,
          2244,
          1.1,
          17.43,
          55.08,
          13.38,
          65.29,
          3.04,
          1.98,
          16.9,
          32.16,
          1794,
          2.25,
          1.73,
          15.84,
          264.1,
          10360,
          400.1,
          0.72,
          32.67,
          14.11,
          0.18,
          50.46,
          33.96,
          57.18,
          77.15,
          5.6,
          21.34,
          205.6,
          347.2,
          1.58,
          0.51,
          64.05,
          100.5,
          284.9,
          25.14,
          15.4,
          3.87,
          26.36,
          49.86,
          0.16,
          2.32,
          4.17,
          276.3,
          2902,
          7.15,
          20.68,
          0.92,
          16.13,
          3820,
          35.48,
          1.85,
          246.4,
          2.16,
          0.84,
          4.6,
          58.3,
          2.74,
          1.04,
          6.77,
          3.14,
          8.92,
          19.37,
          292.7,
          129.7,
          16.2,
          2048,
          856.1,
          402.7,
          232.2,
          245.8,
          4.08,
          305,
          2129,
          13.92,
          4770,
          5.77,
          36.55,
          225.6,
          62.72,
          0.16,
          28,
          1410,
          5.99,
          179.3,
          7.65,
          11.71,
          32.82,
          47.5,
          2.46,
          2.07,
          49.34,
          5.11,
          48.72,
          63.93,
          51.68,
          10.92,
          11.19,
          4.41,
          336.9,
          2.41,
          12.04,
          10.57,
          0.18,
          4.29,
          12.72,
          1296,
          0.34,
          7.74,
          6.06,
          11.73,
          4.66,
          112.6,
          16.59,
          13.11,
          19.64,
          880.4,
          11.1,
          201,
          11.85,
          594.3,
          8.29,
          0.01,
          1.23,
          511.6,
          80.54,
          237.5,
          0.65,
          44.69,
          16.1,
          31.3,
          208.2,
          284.6,
          552.2,
          228.2,
          93.52,
          212,
          199,
          2057,
          8,
          0.81,
          1.35,
          0.56,
          0.22,
          0.75,
          0.83,
          1.86,
          0.36,
          777.9,
          15.88,
          42.65,
          1.47,
          5.41,
          307.9,
          304.1,
          99.75,
          49.93,
          1.16,
          2.37,
          341.2,
          11.89,
          1400,
          71.57,
          70.03,
          5.27,
          3.84,
          559.1,
          679,
          64.7,
          529.5,
          9.16,
          36.62,
          373.8,
          4.51,
          4.84,
          0.49,
          29.63,
          49.12,
          813.3,
          43.5,
          0.04,
          26.09,
          134.9,
          416.4,
          2848,
          17420,
          55.6,
          63.08,
          0.82,
          209.2,
          187.8,
          5.08,
          6.64,
          45.45,
          25.61,
          13.74
         ]
        }
       ],
       "layout": {
        "geo": {
         "projection": {
          "type": "mercator"
         },
         "showframe": false
        },
        "template": {
         "data": {
          "bar": [
           {
            "error_x": {
             "color": "#2a3f5f"
            },
            "error_y": {
             "color": "#2a3f5f"
            },
            "marker": {
             "line": {
              "color": "#E5ECF6",
              "width": 0.5
             },
             "pattern": {
              "fillmode": "overlay",
              "size": 10,
              "solidity": 0.2
             }
            },
            "type": "bar"
           }
          ],
          "barpolar": [
           {
            "marker": {
             "line": {
              "color": "#E5ECF6",
              "width": 0.5
             },
             "pattern": {
              "fillmode": "overlay",
              "size": 10,
              "solidity": 0.2
             }
            },
            "type": "barpolar"
           }
          ],
          "carpet": [
           {
            "aaxis": {
             "endlinecolor": "#2a3f5f",
             "gridcolor": "white",
             "linecolor": "white",
             "minorgridcolor": "white",
             "startlinecolor": "#2a3f5f"
            },
            "baxis": {
             "endlinecolor": "#2a3f5f",
             "gridcolor": "white",
             "linecolor": "white",
             "minorgridcolor": "white",
             "startlinecolor": "#2a3f5f"
            },
            "type": "carpet"
           }
          ],
          "choropleth": [
           {
            "colorbar": {
             "outlinewidth": 0,
             "ticks": ""
            },
            "type": "choropleth"
           }
          ],
          "contour": [
           {
            "colorbar": {
             "outlinewidth": 0,
             "ticks": ""
            },
            "colorscale": [
             [
              0,
              "#0d0887"
             ],
             [
              0.1111111111111111,
              "#46039f"
             ],
             [
              0.2222222222222222,
              "#7201a8"
             ],
             [
              0.3333333333333333,
              "#9c179e"
             ],
             [
              0.4444444444444444,
              "#bd3786"
             ],
             [
              0.5555555555555556,
              "#d8576b"
             ],
             [
              0.6666666666666666,
              "#ed7953"
             ],
             [
              0.7777777777777778,
              "#fb9f3a"
             ],
             [
              0.8888888888888888,
              "#fdca26"
             ],
             [
              1,
              "#f0f921"
             ]
            ],
            "type": "contour"
           }
          ],
          "contourcarpet": [
           {
            "colorbar": {
             "outlinewidth": 0,
             "ticks": ""
            },
            "type": "contourcarpet"
           }
          ],
          "heatmap": [
           {
            "colorbar": {
             "outlinewidth": 0,
             "ticks": ""
            },
            "colorscale": [
             [
              0,
              "#0d0887"
             ],
             [
              0.1111111111111111,
              "#46039f"
             ],
             [
              0.2222222222222222,
              "#7201a8"
             ],
             [
              0.3333333333333333,
              "#9c179e"
             ],
             [
              0.4444444444444444,
              "#bd3786"
             ],
             [
              0.5555555555555556,
              "#d8576b"
             ],
             [
              0.6666666666666666,
              "#ed7953"
             ],
             [
              0.7777777777777778,
              "#fb9f3a"
             ],
             [
              0.8888888888888888,
              "#fdca26"
             ],
             [
              1,
              "#f0f921"
             ]
            ],
            "type": "heatmap"
           }
          ],
          "heatmapgl": [
           {
            "colorbar": {
             "outlinewidth": 0,
             "ticks": ""
            },
            "colorscale": [
             [
              0,
              "#0d0887"
             ],
             [
              0.1111111111111111,
              "#46039f"
             ],
             [
              0.2222222222222222,
              "#7201a8"
             ],
             [
              0.3333333333333333,
              "#9c179e"
             ],
             [
              0.4444444444444444,
              "#bd3786"
             ],
             [
              0.5555555555555556,
              "#d8576b"
             ],
             [
              0.6666666666666666,
              "#ed7953"
             ],
             [
              0.7777777777777778,
              "#fb9f3a"
             ],
             [
              0.8888888888888888,
              "#fdca26"
             ],
             [
              1,
              "#f0f921"
             ]
            ],
            "type": "heatmapgl"
           }
          ],
          "histogram": [
           {
            "marker": {
             "pattern": {
              "fillmode": "overlay",
              "size": 10,
              "solidity": 0.2
             }
            },
            "type": "histogram"
           }
          ],
          "histogram2d": [
           {
            "colorbar": {
             "outlinewidth": 0,
             "ticks": ""
            },
            "colorscale": [
             [
              0,
              "#0d0887"
             ],
             [
              0.1111111111111111,
              "#46039f"
             ],
             [
              0.2222222222222222,
              "#7201a8"
             ],
             [
              0.3333333333333333,
              "#9c179e"
             ],
             [
              0.4444444444444444,
              "#bd3786"
             ],
             [
              0.5555555555555556,
              "#d8576b"
             ],
             [
              0.6666666666666666,
              "#ed7953"
             ],
             [
              0.7777777777777778,
              "#fb9f3a"
             ],
             [
              0.8888888888888888,
              "#fdca26"
             ],
             [
              1,
              "#f0f921"
             ]
            ],
            "type": "histogram2d"
           }
          ],
          "histogram2dcontour": [
           {
            "colorbar": {
             "outlinewidth": 0,
             "ticks": ""
            },
            "colorscale": [
             [
              0,
              "#0d0887"
             ],
             [
              0.1111111111111111,
              "#46039f"
             ],
             [
              0.2222222222222222,
              "#7201a8"
             ],
             [
              0.3333333333333333,
              "#9c179e"
             ],
             [
              0.4444444444444444,
              "#bd3786"
             ],
             [
              0.5555555555555556,
              "#d8576b"
             ],
             [
              0.6666666666666666,
              "#ed7953"
             ],
             [
              0.7777777777777778,
              "#fb9f3a"
             ],
             [
              0.8888888888888888,
              "#fdca26"
             ],
             [
              1,
              "#f0f921"
             ]
            ],
            "type": "histogram2dcontour"
           }
          ],
          "mesh3d": [
           {
            "colorbar": {
             "outlinewidth": 0,
             "ticks": ""
            },
            "type": "mesh3d"
           }
          ],
          "parcoords": [
           {
            "line": {
             "colorbar": {
              "outlinewidth": 0,
              "ticks": ""
             }
            },
            "type": "parcoords"
           }
          ],
          "pie": [
           {
            "automargin": true,
            "type": "pie"
           }
          ],
          "scatter": [
           {
            "fillpattern": {
             "fillmode": "overlay",
             "size": 10,
             "solidity": 0.2
            },
            "type": "scatter"
           }
          ],
          "scatter3d": [
           {
            "line": {
             "colorbar": {
              "outlinewidth": 0,
              "ticks": ""
             }
            },
            "marker": {
             "colorbar": {
              "outlinewidth": 0,
              "ticks": ""
             }
            },
            "type": "scatter3d"
           }
          ],
          "scattercarpet": [
           {
            "marker": {
             "colorbar": {
              "outlinewidth": 0,
              "ticks": ""
             }
            },
            "type": "scattercarpet"
           }
          ],
          "scattergeo": [
           {
            "marker": {
             "colorbar": {
              "outlinewidth": 0,
              "ticks": ""
             }
            },
            "type": "scattergeo"
           }
          ],
          "scattergl": [
           {
            "marker": {
             "colorbar": {
              "outlinewidth": 0,
              "ticks": ""
             }
            },
            "type": "scattergl"
           }
          ],
          "scattermapbox": [
           {
            "marker": {
             "colorbar": {
              "outlinewidth": 0,
              "ticks": ""
             }
            },
            "type": "scattermapbox"
           }
          ],
          "scatterpolar": [
           {
            "marker": {
             "colorbar": {
              "outlinewidth": 0,
              "ticks": ""
             }
            },
            "type": "scatterpolar"
           }
          ],
          "scatterpolargl": [
           {
            "marker": {
             "colorbar": {
              "outlinewidth": 0,
              "ticks": ""
             }
            },
            "type": "scatterpolargl"
           }
          ],
          "scatterternary": [
           {
            "marker": {
             "colorbar": {
              "outlinewidth": 0,
              "ticks": ""
             }
            },
            "type": "scatterternary"
           }
          ],
          "surface": [
           {
            "colorbar": {
             "outlinewidth": 0,
             "ticks": ""
            },
            "colorscale": [
             [
              0,
              "#0d0887"
             ],
             [
              0.1111111111111111,
              "#46039f"
             ],
             [
              0.2222222222222222,
              "#7201a8"
             ],
             [
              0.3333333333333333,
              "#9c179e"
             ],
             [
              0.4444444444444444,
              "#bd3786"
             ],
             [
              0.5555555555555556,
              "#d8576b"
             ],
             [
              0.6666666666666666,
              "#ed7953"
             ],
             [
              0.7777777777777778,
              "#fb9f3a"
             ],
             [
              0.8888888888888888,
              "#fdca26"
             ],
             [
              1,
              "#f0f921"
             ]
            ],
            "type": "surface"
           }
          ],
          "table": [
           {
            "cells": {
             "fill": {
              "color": "#EBF0F8"
             },
             "line": {
              "color": "white"
             }
            },
            "header": {
             "fill": {
              "color": "#C8D4E3"
             },
             "line": {
              "color": "white"
             }
            },
            "type": "table"
           }
          ]
         },
         "layout": {
          "annotationdefaults": {
           "arrowcolor": "#2a3f5f",
           "arrowhead": 0,
           "arrowwidth": 1
          },
          "autotypenumbers": "strict",
          "coloraxis": {
           "colorbar": {
            "outlinewidth": 0,
            "ticks": ""
           }
          },
          "colorscale": {
           "diverging": [
            [
             0,
             "#8e0152"
            ],
            [
             0.1,
             "#c51b7d"
            ],
            [
             0.2,
             "#de77ae"
            ],
            [
             0.3,
             "#f1b6da"
            ],
            [
             0.4,
             "#fde0ef"
            ],
            [
             0.5,
             "#f7f7f7"
            ],
            [
             0.6,
             "#e6f5d0"
            ],
            [
             0.7,
             "#b8e186"
            ],
            [
             0.8,
             "#7fbc41"
            ],
            [
             0.9,
             "#4d9221"
            ],
            [
             1,
             "#276419"
            ]
           ],
           "sequential": [
            [
             0,
             "#0d0887"
            ],
            [
             0.1111111111111111,
             "#46039f"
            ],
            [
             0.2222222222222222,
             "#7201a8"
            ],
            [
             0.3333333333333333,
             "#9c179e"
            ],
            [
             0.4444444444444444,
             "#bd3786"
            ],
            [
             0.5555555555555556,
             "#d8576b"
            ],
            [
             0.6666666666666666,
             "#ed7953"
            ],
            [
             0.7777777777777778,
             "#fb9f3a"
            ],
            [
             0.8888888888888888,
             "#fdca26"
            ],
            [
             1,
             "#f0f921"
            ]
           ],
           "sequentialminus": [
            [
             0,
             "#0d0887"
            ],
            [
             0.1111111111111111,
             "#46039f"
            ],
            [
             0.2222222222222222,
             "#7201a8"
            ],
            [
             0.3333333333333333,
             "#9c179e"
            ],
            [
             0.4444444444444444,
             "#bd3786"
            ],
            [
             0.5555555555555556,
             "#d8576b"
            ],
            [
             0.6666666666666666,
             "#ed7953"
            ],
            [
             0.7777777777777778,
             "#fb9f3a"
            ],
            [
             0.8888888888888888,
             "#fdca26"
            ],
            [
             1,
             "#f0f921"
            ]
           ]
          },
          "colorway": [
           "#636efa",
           "#EF553B",
           "#00cc96",
           "#ab63fa",
           "#FFA15A",
           "#19d3f3",
           "#FF6692",
           "#B6E880",
           "#FF97FF",
           "#FECB52"
          ],
          "font": {
           "color": "#2a3f5f"
          },
          "geo": {
           "bgcolor": "white",
           "lakecolor": "white",
           "landcolor": "#E5ECF6",
           "showlakes": true,
           "showland": true,
           "subunitcolor": "white"
          },
          "hoverlabel": {
           "align": "left"
          },
          "hovermode": "closest",
          "mapbox": {
           "style": "light"
          },
          "paper_bgcolor": "white",
          "plot_bgcolor": "#E5ECF6",
          "polar": {
           "angularaxis": {
            "gridcolor": "white",
            "linecolor": "white",
            "ticks": ""
           },
           "bgcolor": "#E5ECF6",
           "radialaxis": {
            "gridcolor": "white",
            "linecolor": "white",
            "ticks": ""
           }
          },
          "scene": {
           "xaxis": {
            "backgroundcolor": "#E5ECF6",
            "gridcolor": "white",
            "gridwidth": 2,
            "linecolor": "white",
            "showbackground": true,
            "ticks": "",
            "zerolinecolor": "white"
           },
           "yaxis": {
            "backgroundcolor": "#E5ECF6",
            "gridcolor": "white",
            "gridwidth": 2,
            "linecolor": "white",
            "showbackground": true,
            "ticks": "",
            "zerolinecolor": "white"
           },
           "zaxis": {
            "backgroundcolor": "#E5ECF6",
            "gridcolor": "white",
            "gridwidth": 2,
            "linecolor": "white",
            "showbackground": true,
            "ticks": "",
            "zerolinecolor": "white"
           }
          },
          "shapedefaults": {
           "line": {
            "color": "#2a3f5f"
           }
          },
          "ternary": {
           "aaxis": {
            "gridcolor": "white",
            "linecolor": "white",
            "ticks": ""
           },
           "baxis": {
            "gridcolor": "white",
            "linecolor": "white",
            "ticks": ""
           },
           "bgcolor": "#E5ECF6",
           "caxis": {
            "gridcolor": "white",
            "linecolor": "white",
            "ticks": ""
           }
          },
          "title": {
           "x": 0.05
          },
          "xaxis": {
           "automargin": true,
           "gridcolor": "white",
           "linecolor": "white",
           "ticks": "",
           "title": {
            "standoff": 15
           },
           "zerolinecolor": "white",
           "zerolinewidth": 2
          },
          "yaxis": {
           "automargin": true,
           "gridcolor": "white",
           "linecolor": "white",
           "ticks": "",
           "title": {
            "standoff": 15
           },
           "zerolinecolor": "white",
           "zerolinewidth": 2
          }
         }
        },
        "title": {
         "text": "2014 Global GDP"
        }
       }
      },
      "text/html": [
       "<div>                            <div id=\"e26c0e09-1fc3-4fe3-9441-dfbd1f4ea15a\" class=\"plotly-graph-div\" style=\"height:525px; width:100%;\"></div>            <script type=\"text/javascript\">                require([\"plotly\"], function(Plotly) {                    window.PLOTLYENV=window.PLOTLYENV || {};                                    if (document.getElementById(\"e26c0e09-1fc3-4fe3-9441-dfbd1f4ea15a\")) {                    Plotly.newPlot(                        \"e26c0e09-1fc3-4fe3-9441-dfbd1f4ea15a\",                        [{\"colorbar\":{\"title\":{\"text\":\"GDP Billions US\"}},\"locations\":[\"AFG\",\"ALB\",\"DZA\",\"ASM\",\"AND\",\"AGO\",\"AIA\",\"ATG\",\"ARG\",\"ARM\",\"ABW\",\"AUS\",\"AUT\",\"AZE\",\"BHM\",\"BHR\",\"BGD\",\"BRB\",\"BLR\",\"BEL\",\"BLZ\",\"BEN\",\"BMU\",\"BTN\",\"BOL\",\"BIH\",\"BWA\",\"BRA\",\"VGB\",\"BRN\",\"BGR\",\"BFA\",\"MMR\",\"BDI\",\"CPV\",\"KHM\",\"CMR\",\"CAN\",\"CYM\",\"CAF\",\"TCD\",\"CHL\",\"CHN\",\"COL\",\"COM\",\"COD\",\"COG\",\"COK\",\"CRI\",\"CIV\",\"HRV\",\"CUB\",\"CUW\",\"CYP\",\"CZE\",\"DNK\",\"DJI\",\"DMA\",\"DOM\",\"ECU\",\"EGY\",\"SLV\",\"GNQ\",\"ERI\",\"EST\",\"ETH\",\"FLK\",\"FRO\",\"FJI\",\"FIN\",\"FRA\",\"PYF\",\"GAB\",\"GMB\",\"GEO\",\"DEU\",\"GHA\",\"GIB\",\"GRC\",\"GRL\",\"GRD\",\"GUM\",\"GTM\",\"GGY\",\"GNB\",\"GIN\",\"GUY\",\"HTI\",\"HND\",\"HKG\",\"HUN\",\"ISL\",\"IND\",\"IDN\",\"IRN\",\"IRQ\",\"IRL\",\"IMN\",\"ISR\",\"ITA\",\"JAM\",\"JPN\",\"JEY\",\"JOR\",\"KAZ\",\"KEN\",\"KIR\",\"KOR\",\"PRK\",\"KSV\",\"KWT\",\"KGZ\",\"LAO\",\"LVA\",\"LBN\",\"LSO\",\"LBR\",\"LBY\",\"LIE\",\"LTU\",\"LUX\",\"MAC\",\"MKD\",\"MDG\",\"MWI\",\"MYS\",\"MDV\",\"MLI\",\"MLT\",\"MHL\",\"MRT\",\"MUS\",\"MEX\",\"FSM\",\"MDA\",\"MCO\",\"MNG\",\"MNE\",\"MAR\",\"MOZ\",\"NAM\",\"NPL\",\"NLD\",\"NCL\",\"NZL\",\"NIC\",\"NGA\",\"NER\",\"NIU\",\"MNP\",\"NOR\",\"OMN\",\"PAK\",\"PLW\",\"PAN\",\"PNG\",\"PRY\",\"PER\",\"PHL\",\"POL\",\"PRT\",\"PRI\",\"QAT\",\"ROU\",\"RUS\",\"RWA\",\"KNA\",\"LCA\",\"MAF\",\"SPM\",\"VCT\",\"WSM\",\"SMR\",\"STP\",\"SAU\",\"SEN\",\"SRB\",\"SYC\",\"SLE\",\"SGP\",\"SXM\",\"SVK\",\"SVN\",\"SLB\",\"SOM\",\"ZAF\",\"SSD\",\"ESP\",\"LKA\",\"SDN\",\"SUR\",\"SWZ\",\"SWE\",\"CHE\",\"SYR\",\"TWN\",\"TJK\",\"TZA\",\"THA\",\"TLS\",\"TGO\",\"TON\",\"TTO\",\"TUN\",\"TUR\",\"TKM\",\"TUV\",\"UGA\",\"UKR\",\"ARE\",\"GBR\",\"USA\",\"URY\",\"UZB\",\"VUT\",\"VEN\",\"VNM\",\"VGB\",\"WBG\",\"YEM\",\"ZMB\",\"ZWE\"],\"text\":[\"Afghanistan\",\"Albania\",\"Algeria\",\"American Samoa\",\"Andorra\",\"Angola\",\"Anguilla\",\"Antigua and Barbuda\",\"Argentina\",\"Armenia\",\"Aruba\",\"Australia\",\"Austria\",\"Azerbaijan\",\"Bahamas, The\",\"Bahrain\",\"Bangladesh\",\"Barbados\",\"Belarus\",\"Belgium\",\"Belize\",\"Benin\",\"Bermuda\",\"Bhutan\",\"Bolivia\",\"Bosnia and Herzegovina\",\"Botswana\",\"Brazil\",\"British Virgin Islands\",\"Brunei\",\"Bulgaria\",\"Burkina Faso\",\"Burma\",\"Burundi\",\"Cabo Verde\",\"Cambodia\",\"Cameroon\",\"Canada\",\"Cayman Islands\",\"Central African Republic\",\"Chad\",\"Chile\",\"China\",\"Colombia\",\"Comoros\",\"Congo, Democratic Republic of the\",\"Congo, Republic of the\",\"Cook Islands\",\"Costa Rica\",\"Cote d'Ivoire\",\"Croatia\",\"Cuba\",\"Curacao\",\"Cyprus\",\"Czech Republic\",\"Denmark\",\"Djibouti\",\"Dominica\",\"Dominican Republic\",\"Ecuador\",\"Egypt\",\"El Salvador\",\"Equatorial Guinea\",\"Eritrea\",\"Estonia\",\"Ethiopia\",\"Falkland Islands (Islas Malvinas)\",\"Faroe Islands\",\"Fiji\",\"Finland\",\"France\",\"French Polynesia\",\"Gabon\",\"Gambia, The\",\"Georgia\",\"Germany\",\"Ghana\",\"Gibraltar\",\"Greece\",\"Greenland\",\"Grenada\",\"Guam\",\"Guatemala\",\"Guernsey\",\"Guinea-Bissau\",\"Guinea\",\"Guyana\",\"Haiti\",\"Honduras\",\"Hong Kong\",\"Hungary\",\"Iceland\",\"India\",\"Indonesia\",\"Iran\",\"Iraq\",\"Ireland\",\"Isle of Man\",\"Israel\",\"Italy\",\"Jamaica\",\"Japan\",\"Jersey\",\"Jordan\",\"Kazakhstan\",\"Kenya\",\"Kiribati\",\"Korea, North\",\"Korea, South\",\"Kosovo\",\"Kuwait\",\"Kyrgyzstan\",\"Laos\",\"Latvia\",\"Lebanon\",\"Lesotho\",\"Liberia\",\"Libya\",\"Liechtenstein\",\"Lithuania\",\"Luxembourg\",\"Macau\",\"Macedonia\",\"Madagascar\",\"Malawi\",\"Malaysia\",\"Maldives\",\"Mali\",\"Malta\",\"Marshall Islands\",\"Mauritania\",\"Mauritius\",\"Mexico\",\"Micronesia, Federated States of\",\"Moldova\",\"Monaco\",\"Mongolia\",\"Montenegro\",\"Morocco\",\"Mozambique\",\"Namibia\",\"Nepal\",\"Netherlands\",\"New Caledonia\",\"New Zealand\",\"Nicaragua\",\"Nigeria\",\"Niger\",\"Niue\",\"Northern Mariana Islands\",\"Norway\",\"Oman\",\"Pakistan\",\"Palau\",\"Panama\",\"Papua New Guinea\",\"Paraguay\",\"Peru\",\"Philippines\",\"Poland\",\"Portugal\",\"Puerto Rico\",\"Qatar\",\"Romania\",\"Russia\",\"Rwanda\",\"Saint Kitts and Nevis\",\"Saint Lucia\",\"Saint Martin\",\"Saint Pierre and Miquelon\",\"Saint Vincent and the Grenadines\",\"Samoa\",\"San Marino\",\"Sao Tome and Principe\",\"Saudi Arabia\",\"Senegal\",\"Serbia\",\"Seychelles\",\"Sierra Leone\",\"Singapore\",\"Sint Maarten\",\"Slovakia\",\"Slovenia\",\"Solomon Islands\",\"Somalia\",\"South Africa\",\"South Sudan\",\"Spain\",\"Sri Lanka\",\"Sudan\",\"Suriname\",\"Swaziland\",\"Sweden\",\"Switzerland\",\"Syria\",\"Taiwan\",\"Tajikistan\",\"Tanzania\",\"Thailand\",\"Timor-Leste\",\"Togo\",\"Tonga\",\"Trinidad and Tobago\",\"Tunisia\",\"Turkey\",\"Turkmenistan\",\"Tuvalu\",\"Uganda\",\"Ukraine\",\"United Arab Emirates\",\"United Kingdom\",\"United States\",\"Uruguay\",\"Uzbekistan\",\"Vanuatu\",\"Venezuela\",\"Vietnam\",\"Virgin Islands\",\"West Bank\",\"Yemen\",\"Zambia\",\"Zimbabwe\"],\"z\":[21.71,13.4,227.8,0.75,4.8,131.4,0.18,1.24,536.2,10.88,2.52,1483.0,436.1,77.91,8.65,34.05,186.6,4.28,75.25,527.8,1.67,9.24,5.2,2.09,34.08,19.55,16.3,2244.0,1.1,17.43,55.08,13.38,65.29,3.04,1.98,16.9,32.16,1794.0,2.25,1.73,15.84,264.1,10360.0,400.1,0.72,32.67,14.11,0.18,50.46,33.96,57.18,77.15,5.6,21.34,205.6,347.2,1.58,0.51,64.05,100.5,284.9,25.14,15.4,3.87,26.36,49.86,0.16,2.32,4.17,276.3,2902.0,7.15,20.68,0.92,16.13,3820.0,35.48,1.85,246.4,2.16,0.84,4.6,58.3,2.74,1.04,6.77,3.14,8.92,19.37,292.7,129.7,16.2,2048.0,856.1,402.7,232.2,245.8,4.08,305.0,2129.0,13.92,4770.0,5.77,36.55,225.6,62.72,0.16,28.0,1410.0,5.99,179.3,7.65,11.71,32.82,47.5,2.46,2.07,49.34,5.11,48.72,63.93,51.68,10.92,11.19,4.41,336.9,2.41,12.04,10.57,0.18,4.29,12.72,1296.0,0.34,7.74,6.06,11.73,4.66,112.6,16.59,13.11,19.64,880.4,11.1,201.0,11.85,594.3,8.29,0.01,1.23,511.6,80.54,237.5,0.65,44.69,16.1,31.3,208.2,284.6,552.2,228.2,93.52,212.0,199.0,2057.0,8.0,0.81,1.35,0.56,0.22,0.75,0.83,1.86,0.36,777.9,15.88,42.65,1.47,5.41,307.9,304.1,99.75,49.93,1.16,2.37,341.2,11.89,1400.0,71.57,70.03,5.27,3.84,559.1,679.0,64.7,529.5,9.16,36.62,373.8,4.51,4.84,0.49,29.63,49.12,813.3,43.5,0.04,26.09,134.9,416.4,2848.0,17420.0,55.6,63.08,0.82,209.2,187.8,5.08,6.64,45.45,25.61,13.74],\"type\":\"choropleth\"}],                        {\"geo\":{\"projection\":{\"type\":\"mercator\"},\"showframe\":false},\"template\":{\"data\":{\"barpolar\":[{\"marker\":{\"line\":{\"color\":\"#E5ECF6\",\"width\":0.5},\"pattern\":{\"fillmode\":\"overlay\",\"size\":10,\"solidity\":0.2}},\"type\":\"barpolar\"}],\"bar\":[{\"error_x\":{\"color\":\"#2a3f5f\"},\"error_y\":{\"color\":\"#2a3f5f\"},\"marker\":{\"line\":{\"color\":\"#E5ECF6\",\"width\":0.5},\"pattern\":{\"fillmode\":\"overlay\",\"size\":10,\"solidity\":0.2}},\"type\":\"bar\"}],\"carpet\":[{\"aaxis\":{\"endlinecolor\":\"#2a3f5f\",\"gridcolor\":\"white\",\"linecolor\":\"white\",\"minorgridcolor\":\"white\",\"startlinecolor\":\"#2a3f5f\"},\"baxis\":{\"endlinecolor\":\"#2a3f5f\",\"gridcolor\":\"white\",\"linecolor\":\"white\",\"minorgridcolor\":\"white\",\"startlinecolor\":\"#2a3f5f\"},\"type\":\"carpet\"}],\"choropleth\":[{\"colorbar\":{\"outlinewidth\":0,\"ticks\":\"\"},\"type\":\"choropleth\"}],\"contourcarpet\":[{\"colorbar\":{\"outlinewidth\":0,\"ticks\":\"\"},\"type\":\"contourcarpet\"}],\"contour\":[{\"colorbar\":{\"outlinewidth\":0,\"ticks\":\"\"},\"colorscale\":[[0.0,\"#0d0887\"],[0.1111111111111111,\"#46039f\"],[0.2222222222222222,\"#7201a8\"],[0.3333333333333333,\"#9c179e\"],[0.4444444444444444,\"#bd3786\"],[0.5555555555555556,\"#d8576b\"],[0.6666666666666666,\"#ed7953\"],[0.7777777777777778,\"#fb9f3a\"],[0.8888888888888888,\"#fdca26\"],[1.0,\"#f0f921\"]],\"type\":\"contour\"}],\"heatmapgl\":[{\"colorbar\":{\"outlinewidth\":0,\"ticks\":\"\"},\"colorscale\":[[0.0,\"#0d0887\"],[0.1111111111111111,\"#46039f\"],[0.2222222222222222,\"#7201a8\"],[0.3333333333333333,\"#9c179e\"],[0.4444444444444444,\"#bd3786\"],[0.5555555555555556,\"#d8576b\"],[0.6666666666666666,\"#ed7953\"],[0.7777777777777778,\"#fb9f3a\"],[0.8888888888888888,\"#fdca26\"],[1.0,\"#f0f921\"]],\"type\":\"heatmapgl\"}],\"heatmap\":[{\"colorbar\":{\"outlinewidth\":0,\"ticks\":\"\"},\"colorscale\":[[0.0,\"#0d0887\"],[0.1111111111111111,\"#46039f\"],[0.2222222222222222,\"#7201a8\"],[0.3333333333333333,\"#9c179e\"],[0.4444444444444444,\"#bd3786\"],[0.5555555555555556,\"#d8576b\"],[0.6666666666666666,\"#ed7953\"],[0.7777777777777778,\"#fb9f3a\"],[0.8888888888888888,\"#fdca26\"],[1.0,\"#f0f921\"]],\"type\":\"heatmap\"}],\"histogram2dcontour\":[{\"colorbar\":{\"outlinewidth\":0,\"ticks\":\"\"},\"colorscale\":[[0.0,\"#0d0887\"],[0.1111111111111111,\"#46039f\"],[0.2222222222222222,\"#7201a8\"],[0.3333333333333333,\"#9c179e\"],[0.4444444444444444,\"#bd3786\"],[0.5555555555555556,\"#d8576b\"],[0.6666666666666666,\"#ed7953\"],[0.7777777777777778,\"#fb9f3a\"],[0.8888888888888888,\"#fdca26\"],[1.0,\"#f0f921\"]],\"type\":\"histogram2dcontour\"}],\"histogram2d\":[{\"colorbar\":{\"outlinewidth\":0,\"ticks\":\"\"},\"colorscale\":[[0.0,\"#0d0887\"],[0.1111111111111111,\"#46039f\"],[0.2222222222222222,\"#7201a8\"],[0.3333333333333333,\"#9c179e\"],[0.4444444444444444,\"#bd3786\"],[0.5555555555555556,\"#d8576b\"],[0.6666666666666666,\"#ed7953\"],[0.7777777777777778,\"#fb9f3a\"],[0.8888888888888888,\"#fdca26\"],[1.0,\"#f0f921\"]],\"type\":\"histogram2d\"}],\"histogram\":[{\"marker\":{\"pattern\":{\"fillmode\":\"overlay\",\"size\":10,\"solidity\":0.2}},\"type\":\"histogram\"}],\"mesh3d\":[{\"colorbar\":{\"outlinewidth\":0,\"ticks\":\"\"},\"type\":\"mesh3d\"}],\"parcoords\":[{\"line\":{\"colorbar\":{\"outlinewidth\":0,\"ticks\":\"\"}},\"type\":\"parcoords\"}],\"pie\":[{\"automargin\":true,\"type\":\"pie\"}],\"scatter3d\":[{\"line\":{\"colorbar\":{\"outlinewidth\":0,\"ticks\":\"\"}},\"marker\":{\"colorbar\":{\"outlinewidth\":0,\"ticks\":\"\"}},\"type\":\"scatter3d\"}],\"scattercarpet\":[{\"marker\":{\"colorbar\":{\"outlinewidth\":0,\"ticks\":\"\"}},\"type\":\"scattercarpet\"}],\"scattergeo\":[{\"marker\":{\"colorbar\":{\"outlinewidth\":0,\"ticks\":\"\"}},\"type\":\"scattergeo\"}],\"scattergl\":[{\"marker\":{\"colorbar\":{\"outlinewidth\":0,\"ticks\":\"\"}},\"type\":\"scattergl\"}],\"scattermapbox\":[{\"marker\":{\"colorbar\":{\"outlinewidth\":0,\"ticks\":\"\"}},\"type\":\"scattermapbox\"}],\"scatterpolargl\":[{\"marker\":{\"colorbar\":{\"outlinewidth\":0,\"ticks\":\"\"}},\"type\":\"scatterpolargl\"}],\"scatterpolar\":[{\"marker\":{\"colorbar\":{\"outlinewidth\":0,\"ticks\":\"\"}},\"type\":\"scatterpolar\"}],\"scatter\":[{\"fillpattern\":{\"fillmode\":\"overlay\",\"size\":10,\"solidity\":0.2},\"type\":\"scatter\"}],\"scatterternary\":[{\"marker\":{\"colorbar\":{\"outlinewidth\":0,\"ticks\":\"\"}},\"type\":\"scatterternary\"}],\"surface\":[{\"colorbar\":{\"outlinewidth\":0,\"ticks\":\"\"},\"colorscale\":[[0.0,\"#0d0887\"],[0.1111111111111111,\"#46039f\"],[0.2222222222222222,\"#7201a8\"],[0.3333333333333333,\"#9c179e\"],[0.4444444444444444,\"#bd3786\"],[0.5555555555555556,\"#d8576b\"],[0.6666666666666666,\"#ed7953\"],[0.7777777777777778,\"#fb9f3a\"],[0.8888888888888888,\"#fdca26\"],[1.0,\"#f0f921\"]],\"type\":\"surface\"}],\"table\":[{\"cells\":{\"fill\":{\"color\":\"#EBF0F8\"},\"line\":{\"color\":\"white\"}},\"header\":{\"fill\":{\"color\":\"#C8D4E3\"},\"line\":{\"color\":\"white\"}},\"type\":\"table\"}]},\"layout\":{\"annotationdefaults\":{\"arrowcolor\":\"#2a3f5f\",\"arrowhead\":0,\"arrowwidth\":1},\"autotypenumbers\":\"strict\",\"coloraxis\":{\"colorbar\":{\"outlinewidth\":0,\"ticks\":\"\"}},\"colorscale\":{\"diverging\":[[0,\"#8e0152\"],[0.1,\"#c51b7d\"],[0.2,\"#de77ae\"],[0.3,\"#f1b6da\"],[0.4,\"#fde0ef\"],[0.5,\"#f7f7f7\"],[0.6,\"#e6f5d0\"],[0.7,\"#b8e186\"],[0.8,\"#7fbc41\"],[0.9,\"#4d9221\"],[1,\"#276419\"]],\"sequential\":[[0.0,\"#0d0887\"],[0.1111111111111111,\"#46039f\"],[0.2222222222222222,\"#7201a8\"],[0.3333333333333333,\"#9c179e\"],[0.4444444444444444,\"#bd3786\"],[0.5555555555555556,\"#d8576b\"],[0.6666666666666666,\"#ed7953\"],[0.7777777777777778,\"#fb9f3a\"],[0.8888888888888888,\"#fdca26\"],[1.0,\"#f0f921\"]],\"sequentialminus\":[[0.0,\"#0d0887\"],[0.1111111111111111,\"#46039f\"],[0.2222222222222222,\"#7201a8\"],[0.3333333333333333,\"#9c179e\"],[0.4444444444444444,\"#bd3786\"],[0.5555555555555556,\"#d8576b\"],[0.6666666666666666,\"#ed7953\"],[0.7777777777777778,\"#fb9f3a\"],[0.8888888888888888,\"#fdca26\"],[1.0,\"#f0f921\"]]},\"colorway\":[\"#636efa\",\"#EF553B\",\"#00cc96\",\"#ab63fa\",\"#FFA15A\",\"#19d3f3\",\"#FF6692\",\"#B6E880\",\"#FF97FF\",\"#FECB52\"],\"font\":{\"color\":\"#2a3f5f\"},\"geo\":{\"bgcolor\":\"white\",\"lakecolor\":\"white\",\"landcolor\":\"#E5ECF6\",\"showlakes\":true,\"showland\":true,\"subunitcolor\":\"white\"},\"hoverlabel\":{\"align\":\"left\"},\"hovermode\":\"closest\",\"mapbox\":{\"style\":\"light\"},\"paper_bgcolor\":\"white\",\"plot_bgcolor\":\"#E5ECF6\",\"polar\":{\"angularaxis\":{\"gridcolor\":\"white\",\"linecolor\":\"white\",\"ticks\":\"\"},\"bgcolor\":\"#E5ECF6\",\"radialaxis\":{\"gridcolor\":\"white\",\"linecolor\":\"white\",\"ticks\":\"\"}},\"scene\":{\"xaxis\":{\"backgroundcolor\":\"#E5ECF6\",\"gridcolor\":\"white\",\"gridwidth\":2,\"linecolor\":\"white\",\"showbackground\":true,\"ticks\":\"\",\"zerolinecolor\":\"white\"},\"yaxis\":{\"backgroundcolor\":\"#E5ECF6\",\"gridcolor\":\"white\",\"gridwidth\":2,\"linecolor\":\"white\",\"showbackground\":true,\"ticks\":\"\",\"zerolinecolor\":\"white\"},\"zaxis\":{\"backgroundcolor\":\"#E5ECF6\",\"gridcolor\":\"white\",\"gridwidth\":2,\"linecolor\":\"white\",\"showbackground\":true,\"ticks\":\"\",\"zerolinecolor\":\"white\"}},\"shapedefaults\":{\"line\":{\"color\":\"#2a3f5f\"}},\"ternary\":{\"aaxis\":{\"gridcolor\":\"white\",\"linecolor\":\"white\",\"ticks\":\"\"},\"baxis\":{\"gridcolor\":\"white\",\"linecolor\":\"white\",\"ticks\":\"\"},\"bgcolor\":\"#E5ECF6\",\"caxis\":{\"gridcolor\":\"white\",\"linecolor\":\"white\",\"ticks\":\"\"}},\"title\":{\"x\":0.05},\"xaxis\":{\"automargin\":true,\"gridcolor\":\"white\",\"linecolor\":\"white\",\"ticks\":\"\",\"title\":{\"standoff\":15},\"zerolinecolor\":\"white\",\"zerolinewidth\":2},\"yaxis\":{\"automargin\":true,\"gridcolor\":\"white\",\"linecolor\":\"white\",\"ticks\":\"\",\"title\":{\"standoff\":15},\"zerolinecolor\":\"white\",\"zerolinewidth\":2}}},\"title\":{\"text\":\"2014 Global GDP\"}},                        {\"responsive\": true}                    ).then(function(){\n",
       "                            \n",
       "var gd = document.getElementById('e26c0e09-1fc3-4fe3-9441-dfbd1f4ea15a');\n",
       "var x = new MutationObserver(function (mutations, observer) {{\n",
       "        var display = window.getComputedStyle(gd).display;\n",
       "        if (!display || display === 'none') {{\n",
       "            console.log([gd, 'removed!']);\n",
       "            Plotly.purge(gd);\n",
       "            observer.disconnect();\n",
       "        }}\n",
       "}});\n",
       "\n",
       "// Listen for the removal of the full notebook cells\n",
       "var notebookContainer = gd.closest('#notebook-container');\n",
       "if (notebookContainer) {{\n",
       "    x.observe(notebookContainer, {childList: true});\n",
       "}}\n",
       "\n",
       "// Listen for the clearing of the current output cell\n",
       "var outputEl = gd.closest('.output');\n",
       "if (outputEl) {{\n",
       "    x.observe(outputEl, {childList: true});\n",
       "}}\n",
       "\n",
       "                        })                };                });            </script>        </div>"
      ]
     },
     "metadata": {},
     "output_type": "display_data"
    }
   ],
   "source": [
    "iplot(choromap3)"
   ]
  },
  {
   "cell_type": "code",
   "execution_count": null,
   "id": "92a210e1",
   "metadata": {},
   "outputs": [],
   "source": []
  }
 ],
 "metadata": {
  "kernelspec": {
   "display_name": "Python 3 (ipykernel)",
   "language": "python",
   "name": "python3"
  },
  "language_info": {
   "codemirror_mode": {
    "name": "ipython",
    "version": 3
   },
   "file_extension": ".py",
   "mimetype": "text/x-python",
   "name": "python",
   "nbconvert_exporter": "python",
   "pygments_lexer": "ipython3",
   "version": "3.8.10"
  }
 },
 "nbformat": 4,
 "nbformat_minor": 5
}
